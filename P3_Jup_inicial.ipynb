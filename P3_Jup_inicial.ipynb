{
 "cells": [
  {
   "cell_type": "code",
   "execution_count": 6,
   "metadata": {},
   "outputs": [],
   "source": [
    "import pandas as pd\n",
    "import ast\n",
    "from pprint import pprint"
   ]
  },
  {
   "cell_type": "code",
   "execution_count": 7,
   "metadata": {},
   "outputs": [
    {
     "name": "stderr",
     "output_type": "stream",
     "text": [
      "C:\\Users\\ana clara\\Anaconda3\\lib\\site-packages\\IPython\\core\\interactiveshell.py:3020: DtypeWarning: Columns (10) have mixed types. Specify dtype option on import or set low_memory=False.\n",
      "  interactivity=interactivity, compiler=compiler, result=result)\n"
     ]
    },
    {
     "data": {
      "text/html": [
       "<div>\n",
       "<style scoped>\n",
       "    .dataframe tbody tr th:only-of-type {\n",
       "        vertical-align: middle;\n",
       "    }\n",
       "\n",
       "    .dataframe tbody tr th {\n",
       "        vertical-align: top;\n",
       "    }\n",
       "\n",
       "    .dataframe thead th {\n",
       "        text-align: right;\n",
       "    }\n",
       "</style>\n",
       "<table border=\"1\" class=\"dataframe\">\n",
       "  <thead>\n",
       "    <tr style=\"text-align: right;\">\n",
       "      <th></th>\n",
       "      <th>cast</th>\n",
       "      <th>crew</th>\n",
       "      <th>id</th>\n",
       "    </tr>\n",
       "  </thead>\n",
       "  <tbody>\n",
       "    <tr>\n",
       "      <th>0</th>\n",
       "      <td>[{'cast_id': 14, 'character': 'Woody (voice)',...</td>\n",
       "      <td>[{'credit_id': '52fe4284c3a36847f8024f49', 'de...</td>\n",
       "      <td>862</td>\n",
       "    </tr>\n",
       "    <tr>\n",
       "      <th>1</th>\n",
       "      <td>[{'cast_id': 1, 'character': 'Alan Parrish', '...</td>\n",
       "      <td>[{'credit_id': '52fe44bfc3a36847f80a7cd1', 'de...</td>\n",
       "      <td>8844</td>\n",
       "    </tr>\n",
       "    <tr>\n",
       "      <th>2</th>\n",
       "      <td>[{'cast_id': 2, 'character': 'Max Goldman', 'c...</td>\n",
       "      <td>[{'credit_id': '52fe466a9251416c75077a89', 'de...</td>\n",
       "      <td>15602</td>\n",
       "    </tr>\n",
       "    <tr>\n",
       "      <th>3</th>\n",
       "      <td>[{'cast_id': 1, 'character': \"Savannah 'Vannah...</td>\n",
       "      <td>[{'credit_id': '52fe44779251416c91011acb', 'de...</td>\n",
       "      <td>31357</td>\n",
       "    </tr>\n",
       "    <tr>\n",
       "      <th>4</th>\n",
       "      <td>[{'cast_id': 1, 'character': 'George Banks', '...</td>\n",
       "      <td>[{'credit_id': '52fe44959251416c75039ed7', 'de...</td>\n",
       "      <td>11862</td>\n",
       "    </tr>\n",
       "  </tbody>\n",
       "</table>\n",
       "</div>"
      ],
      "text/plain": [
       "                                                cast  \\\n",
       "0  [{'cast_id': 14, 'character': 'Woody (voice)',...   \n",
       "1  [{'cast_id': 1, 'character': 'Alan Parrish', '...   \n",
       "2  [{'cast_id': 2, 'character': 'Max Goldman', 'c...   \n",
       "3  [{'cast_id': 1, 'character': \"Savannah 'Vannah...   \n",
       "4  [{'cast_id': 1, 'character': 'George Banks', '...   \n",
       "\n",
       "                                                crew     id  \n",
       "0  [{'credit_id': '52fe4284c3a36847f8024f49', 'de...    862  \n",
       "1  [{'credit_id': '52fe44bfc3a36847f80a7cd1', 'de...   8844  \n",
       "2  [{'credit_id': '52fe466a9251416c75077a89', 'de...  15602  \n",
       "3  [{'credit_id': '52fe44779251416c91011acb', 'de...  31357  \n",
       "4  [{'credit_id': '52fe44959251416c75039ed7', 'de...  11862  "
      ]
     },
     "execution_count": 7,
     "metadata": {},
     "output_type": "execute_result"
    }
   ],
   "source": [
    "df = pd.read_csv(\"movies_metadata.csv\")\n",
    "df2 = pd.read_csv(\"credits.csv\")\n",
    "df2.head()"
   ]
  },
  {
   "cell_type": "code",
   "execution_count": 8,
   "metadata": {},
   "outputs": [
    {
     "data": {
      "text/plain": [
       "Bess Flowers         241\n",
       "Christopher Lee      148\n",
       "John Wayne           125\n",
       "Samuel L. Jackson    123\n",
       "Michael Caine        110\n",
       "Name: 0, dtype: int64"
      ]
     },
     "execution_count": 8,
     "metadata": {},
     "output_type": "execute_result"
    }
   ],
   "source": [
    "atores = []\n",
    "for e in range(0,len(df2[\"cast\"])):\n",
    "    data_dict = ast.literal_eval(df2[\"cast\"][e])\n",
    "    for palavras in data_dict:\n",
    "        atores.append(palavras['name'])\n",
    "#atores\n",
    "df_atores = pd.DataFrame(atores)\n",
    "#df_atores.head()\n",
    "df_atores[0].value_counts().head()\n",
    "\n",
    "        "
   ]
  },
  {
   "cell_type": "code",
   "execution_count": 9,
   "metadata": {
    "scrolled": false
   },
   "outputs": [],
   "source": [
    "#pprint(data_dict)"
   ]
  },
  {
   "cell_type": "code",
   "execution_count": 10,
   "metadata": {},
   "outputs": [
    {
     "ename": "IndexError",
     "evalue": "list index out of range",
     "output_type": "error",
     "traceback": [
      "\u001b[1;31m---------------------------------------------------------------------------\u001b[0m",
      "\u001b[1;31mIndexError\u001b[0m                                Traceback (most recent call last)",
      "\u001b[1;32m<ipython-input-10-f3d5eee3efb3>\u001b[0m in \u001b[0;36m<module>\u001b[1;34m\u001b[0m\n\u001b[1;32m----> 1\u001b[1;33m \u001b[0mdata_dict\u001b[0m\u001b[1;33m[\u001b[0m\u001b[1;36m1\u001b[0m\u001b[1;33m]\u001b[0m\u001b[1;33m[\u001b[0m\u001b[1;34m'name'\u001b[0m\u001b[1;33m]\u001b[0m\u001b[1;33m\u001b[0m\u001b[1;33m\u001b[0m\u001b[0m\n\u001b[0m",
      "\u001b[1;31mIndexError\u001b[0m: list index out of range"
     ]
    }
   ],
   "source": [
    "data_dict[1]['name']"
   ]
  },
  {
   "cell_type": "code",
   "execution_count": 12,
   "metadata": {},
   "outputs": [
    {
     "data": {
      "text/plain": [
       "0                          Toy Story\n",
       "1                            Jumanji\n",
       "2                   Grumpier Old Men\n",
       "3                  Waiting to Exhale\n",
       "4        Father of the Bride Part II\n",
       "5                               Heat\n",
       "6                            Sabrina\n",
       "7                       Tom and Huck\n",
       "8                       Sudden Death\n",
       "9                          GoldenEye\n",
       "10            The American President\n",
       "11       Dracula: Dead and Loving It\n",
       "12                             Balto\n",
       "13                             Nixon\n",
       "14                  Cutthroat Island\n",
       "15                            Casino\n",
       "16             Sense and Sensibility\n",
       "17                        Four Rooms\n",
       "18    Ace Ventura: When Nature Calls\n",
       "19                       Money Train\n",
       "Name: original_title, dtype: object"
      ]
     },
     "execution_count": 12,
     "metadata": {},
     "output_type": "execute_result"
    }
   ],
   "source": [
    "df['original_title'].head(20)"
   ]
  },
  {
   "cell_type": "code",
   "execution_count": 13,
   "metadata": {},
   "outputs": [],
   "source": [
    "df_en = df[df['original_language'] == 'en']"
   ]
  },
  {
   "cell_type": "code",
   "execution_count": 14,
   "metadata": {},
   "outputs": [
    {
     "data": {
      "text/plain": [
       "Hamlet                           8\n",
       "Alice in Wonderland              8\n",
       "A Christmas Carol                7\n",
       "Cinderella                       7\n",
       "The Three Musketeers             7\n",
       "Frankenstein                     6\n",
       "Macbeth                          6\n",
       "Treasure Island                  6\n",
       "King Lear                        6\n",
       "Wuthering Heights                6\n",
       "Jane Eyre                        6\n",
       "The Hound of the Baskervilles    6\n",
       "Les Misérables                   5\n",
       "Great Expectations               5\n",
       "Heidi                            5\n",
       "Emma                             5\n",
       "Peter Pan                        5\n",
       "Beauty and the Beast             5\n",
       "Carrie                           4\n",
       "Life                             4\n",
       "Name: original_title, dtype: int64"
      ]
     },
     "execution_count": 14,
     "metadata": {},
     "output_type": "execute_result"
    }
   ],
   "source": [
    "df_en['original_title'].value_counts().head(20)"
   ]
  },
  {
   "cell_type": "code",
   "execution_count": 23,
   "metadata": {},
   "outputs": [
    {
     "data": {
      "text/plain": [
       "The Watch                                           1\n",
       "Michael Che Matters                                 1\n",
       "Voice of the Whistler                               1\n",
       "Neighbours                                          1\n",
       "The Great Impostor                                  1\n",
       "Walter                                              1\n",
       "Go Now                                              1\n",
       "The Princess of Nebraska                            1\n",
       "The Black Castle                                    1\n",
       "Who Killed Aunt Maggie?                             1\n",
       "An Open Secret                                      1\n",
       "Stranger on the Third Floor                         1\n",
       "The Man Who Knew Infinity                           1\n",
       "Oasis                                               1\n",
       "Dr. Dolittle 3                                      1\n",
       "Седьмой спутник                                     1\n",
       "Hard                                                1\n",
       "Ali Wong: Baby Cobra                                1\n",
       "Carlos                                              1\n",
       "Max Keeble's Big Move                               1\n",
       "Enough                                              1\n",
       "Mo                                                  1\n",
       "Kyuketsu dokuro-sen                                 1\n",
       "Dear Zachary: A Letter to a Son About His Father    1\n",
       "Barbershop                                          1\n",
       "Sweet Surrender                                     1\n",
       "Curtain                                             1\n",
       "Pajama Party                                        1\n",
       "Mosquinha                                           1\n",
       "Seven Angry Men                                     1\n",
       "                                                   ..\n",
       "Rock School                                         1\n",
       "Category 7: The End of the World                    1\n",
       "The Midnight Man                                    1\n",
       "Better Things                                       1\n",
       "Sydney White                                        1\n",
       "Cell Count                                          1\n",
       "Foul Play                                           1\n",
       "The Amityville Asylum                               1\n",
       "Winterhawk                                          1\n",
       "Feel The Noise                                      1\n",
       "Take a Hard Ride                                    1\n",
       "The Hire: Star                                      1\n",
       "Columbo - Ransom for a Dead Man                     1\n",
       "Peeping Tom                                         1\n",
       "Kentucky Kernels                                    1\n",
       "View From A Blue Moon                               1\n",
       "He Never Died                                       1\n",
       "Blood and Chocolate                                 1\n",
       "The Whispering Shadow                               1\n",
       "Nikki Glaser: Perfect                               1\n",
       "Linsanity                                           1\n",
       "Mimesis                                             1\n",
       "Mutants                                             1\n",
       "The Angry Silence                                   1\n",
       "Project: Shadowchaser                               1\n",
       "The Era of Vampires                                 1\n",
       "Husbands                                            1\n",
       "The People Against O'Hara                           1\n",
       "Out of Bounds                                       1\n",
       "Mask Maker                                          1\n",
       "Name: 0, Length: 30493, dtype: int64"
      ]
     },
     "execution_count": 23,
     "metadata": {},
     "output_type": "execute_result"
    }
   ],
   "source": [
    "df_list = df_en['original_title'].values.tolist()\n",
    "repetidos = list(set(df_list))\n",
    "df_repetidos = pd.DataFrame(repetidos)\n",
    "df_repetidos[0].value_counts()"
   ]
  },
  {
   "cell_type": "code",
   "execution_count": null,
   "metadata": {},
   "outputs": [],
   "source": [
    "df_bi = df[df['revenue'] > 1000000000]\n",
    "df_bi.sort_values(by='revenue').tail()"
   ]
  },
  {
   "cell_type": "code",
   "execution_count": null,
   "metadata": {},
   "outputs": [],
   "source": [
    "#df_en.sort_values(by='revenue')"
   ]
  },
  {
   "cell_type": "code",
   "execution_count": null,
   "metadata": {},
   "outputs": [],
   "source": [
    "#df[df['id'] == '141971'].head()"
   ]
  },
  {
   "cell_type": "code",
   "execution_count": null,
   "metadata": {},
   "outputs": [],
   "source": [
    "#df.sort_values(by='id').head()"
   ]
  },
  {
   "cell_type": "code",
   "execution_count": null,
   "metadata": {},
   "outputs": [],
   "source": [
    "from sklearn.preprocessing import OneHotEncoder"
   ]
  },
  {
   "cell_type": "code",
   "execution_count": null,
   "metadata": {},
   "outputs": [],
   "source": [
    "encoder = OneHotEncoder()"
   ]
  },
  {
   "cell_type": "code",
   "execution_count": 41,
   "metadata": {},
   "outputs": [],
   "source": [
    "#df"
   ]
  },
  {
   "cell_type": "code",
   "execution_count": null,
   "metadata": {},
   "outputs": [],
   "source": []
  }
 ],
 "metadata": {
  "kernelspec": {
   "display_name": "Python 3",
   "language": "python",
   "name": "python3"
  },
  "language_info": {
   "codemirror_mode": {
    "name": "ipython",
    "version": 3
   },
   "file_extension": ".py",
   "mimetype": "text/x-python",
   "name": "python",
   "nbconvert_exporter": "python",
   "pygments_lexer": "ipython3",
   "version": "3.7.1"
  }
 },
 "nbformat": 4,
 "nbformat_minor": 2
}
