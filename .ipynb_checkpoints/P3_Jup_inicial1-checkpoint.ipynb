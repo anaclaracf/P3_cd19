{
 "cells": [
  {
   "cell_type": "markdown",
   "metadata": {},
   "source": [
    "## Imports"
   ]
  },
  {
   "cell_type": "code",
   "execution_count": 1,
   "metadata": {},
   "outputs": [],
   "source": [
    "import pandas as pd\n",
    "import ast\n",
    "from pprint import pprint\n",
    "from sklearn.ensemble import RandomForestClassifier\n",
    "import numpy as np\n",
    "from sklearn.datasets import load_digits\n",
    "digits = load_digits()"
   ]
  },
  {
   "cell_type": "code",
   "execution_count": 2,
   "metadata": {},
   "outputs": [
    {
     "data": {
      "text/plain": [
       "['DESCR', 'data', 'images', 'target', 'target_names']"
      ]
     },
     "execution_count": 2,
     "metadata": {},
     "output_type": "execute_result"
    }
   ],
   "source": [
    "dir(digits)"
   ]
  },
  {
   "cell_type": "markdown",
   "metadata": {},
   "source": [
    "## Lendo arquivos"
   ]
  },
  {
   "cell_type": "code",
   "execution_count": 3,
   "metadata": {
    "scrolled": true
   },
   "outputs": [
    {
     "name": "stderr",
     "output_type": "stream",
     "text": [
      "C:\\Users\\ana clara\\Anaconda3\\lib\\site-packages\\IPython\\core\\interactiveshell.py:3020: DtypeWarning: Columns (10) have mixed types. Specify dtype option on import or set low_memory=False.\n",
      "  interactivity=interactivity, compiler=compiler, result=result)\n"
     ]
    },
    {
     "data": {
      "text/html": [
       "<div>\n",
       "<style scoped>\n",
       "    .dataframe tbody tr th:only-of-type {\n",
       "        vertical-align: middle;\n",
       "    }\n",
       "\n",
       "    .dataframe tbody tr th {\n",
       "        vertical-align: top;\n",
       "    }\n",
       "\n",
       "    .dataframe thead th {\n",
       "        text-align: right;\n",
       "    }\n",
       "</style>\n",
       "<table border=\"1\" class=\"dataframe\">\n",
       "  <thead>\n",
       "    <tr style=\"text-align: right;\">\n",
       "      <th></th>\n",
       "      <th>cast</th>\n",
       "      <th>crew</th>\n",
       "      <th>id</th>\n",
       "    </tr>\n",
       "  </thead>\n",
       "  <tbody>\n",
       "    <tr>\n",
       "      <th>0</th>\n",
       "      <td>[{'cast_id': 14, 'character': 'Woody (voice)',...</td>\n",
       "      <td>[{'credit_id': '52fe4284c3a36847f8024f49', 'de...</td>\n",
       "      <td>862</td>\n",
       "    </tr>\n",
       "    <tr>\n",
       "      <th>1</th>\n",
       "      <td>[{'cast_id': 1, 'character': 'Alan Parrish', '...</td>\n",
       "      <td>[{'credit_id': '52fe44bfc3a36847f80a7cd1', 'de...</td>\n",
       "      <td>8844</td>\n",
       "    </tr>\n",
       "    <tr>\n",
       "      <th>2</th>\n",
       "      <td>[{'cast_id': 2, 'character': 'Max Goldman', 'c...</td>\n",
       "      <td>[{'credit_id': '52fe466a9251416c75077a89', 'de...</td>\n",
       "      <td>15602</td>\n",
       "    </tr>\n",
       "    <tr>\n",
       "      <th>3</th>\n",
       "      <td>[{'cast_id': 1, 'character': \"Savannah 'Vannah...</td>\n",
       "      <td>[{'credit_id': '52fe44779251416c91011acb', 'de...</td>\n",
       "      <td>31357</td>\n",
       "    </tr>\n",
       "    <tr>\n",
       "      <th>4</th>\n",
       "      <td>[{'cast_id': 1, 'character': 'George Banks', '...</td>\n",
       "      <td>[{'credit_id': '52fe44959251416c75039ed7', 'de...</td>\n",
       "      <td>11862</td>\n",
       "    </tr>\n",
       "  </tbody>\n",
       "</table>\n",
       "</div>"
      ],
      "text/plain": [
       "                                                cast  \\\n",
       "0  [{'cast_id': 14, 'character': 'Woody (voice)',...   \n",
       "1  [{'cast_id': 1, 'character': 'Alan Parrish', '...   \n",
       "2  [{'cast_id': 2, 'character': 'Max Goldman', 'c...   \n",
       "3  [{'cast_id': 1, 'character': \"Savannah 'Vannah...   \n",
       "4  [{'cast_id': 1, 'character': 'George Banks', '...   \n",
       "\n",
       "                                                crew     id  \n",
       "0  [{'credit_id': '52fe4284c3a36847f8024f49', 'de...    862  \n",
       "1  [{'credit_id': '52fe44bfc3a36847f80a7cd1', 'de...   8844  \n",
       "2  [{'credit_id': '52fe466a9251416c75077a89', 'de...  15602  \n",
       "3  [{'credit_id': '52fe44779251416c91011acb', 'de...  31357  \n",
       "4  [{'credit_id': '52fe44959251416c75039ed7', 'de...  11862  "
      ]
     },
     "execution_count": 3,
     "metadata": {},
     "output_type": "execute_result"
    }
   ],
   "source": [
    "df = pd.read_csv(\"movies_metadata.csv\")\n",
    "df2 = pd.read_csv(\"credits.csv\")\n",
    "df2.head()"
   ]
  },
  {
   "cell_type": "markdown",
   "metadata": {},
   "source": [
    "## Atores e filmes"
   ]
  },
  {
   "cell_type": "markdown",
   "metadata": {},
   "source": [
    "Nesta etapa da análise, extraímos os nomes dos atores de cada um dos filmes. Dessa forma, foi possível criar um dicionário relacionando as duas variáveis, em que a chave corresponde ao nome do ator, e o valor dessa chave é o número de filmes em que cada ator atuou."
   ]
  },
  {
   "cell_type": "code",
   "execution_count": 4,
   "metadata": {},
   "outputs": [],
   "source": [
    "from collections import defaultdict\n",
    "atores = defaultdict(int)\n",
    "for e in df2.index:\n",
    "    data_dict = ast.literal_eval(df2[\"cast\"][e])\n",
    "    for palavras in data_dict:\n",
    "        nome = palavras['name']\n",
    "        atores[nome] += 1\n",
    "#atores"
   ]
  },
  {
   "cell_type": "markdown",
   "metadata": {},
   "source": [
    "### Transformando o dicionário em DataFrame:"
   ]
  },
  {
   "cell_type": "code",
   "execution_count": 5,
   "metadata": {},
   "outputs": [],
   "source": [
    "ser_atores = pd.Series(atores)"
   ]
  },
  {
   "cell_type": "markdown",
   "metadata": {},
   "source": [
    "Para visualizar de maneira mais ordenada e clara os dados do DataFrame, selecionamos a parcela de 0.1% de atores com mais produções no cinema. Dessa forma, atingimos todos com mais de 28 aparições:"
   ]
  },
  {
   "cell_type": "code",
   "execution_count": 6,
   "metadata": {},
   "outputs": [],
   "source": [
    "ser_atores = ser_atores[ser_atores > 28].sort_values(ascending=False)"
   ]
  },
  {
   "cell_type": "markdown",
   "metadata": {},
   "source": [
    "Para utilizar os dados do DataFrame acima no método da Random Tree, foi necessário transformar as informações nele em um outro DataFrame com solução binária.\n",
    "\n",
    "Nesta nova tabela, cada linha representa cada um dos filmes contidos no database, e cada coluna representa os atores selecionados previamente:"
   ]
  },
  {
   "cell_type": "code",
   "execution_count": 7,
   "metadata": {},
   "outputs": [],
   "source": [
    "df_filmes_atores = pd.DataFrame(index=df2.index, columns=ser_atores.index, dtype=np.uint8)\n",
    "for e in df2.index:\n",
    "    data_dict = ast.literal_eval(df2[\"cast\"][e])\n",
    "    for palavras in data_dict:\n",
    "        nome = palavras['name']\n",
    "        if nome in df_filmes_atores.columns:\n",
    "            df_filmes_atores[nome][e] = 1\n",
    "#atores"
   ]
  },
  {
   "cell_type": "code",
   "execution_count": 32,
   "metadata": {},
   "outputs": [
    {
     "data": {
      "text/html": [
       "<div>\n",
       "<style scoped>\n",
       "    .dataframe tbody tr th:only-of-type {\n",
       "        vertical-align: middle;\n",
       "    }\n",
       "\n",
       "    .dataframe tbody tr th {\n",
       "        vertical-align: top;\n",
       "    }\n",
       "\n",
       "    .dataframe thead th {\n",
       "        text-align: right;\n",
       "    }\n",
       "</style>\n",
       "<table border=\"1\" class=\"dataframe\">\n",
       "  <thead>\n",
       "    <tr style=\"text-align: right;\">\n",
       "      <th></th>\n",
       "      <th>Bess Flowers</th>\n",
       "      <th>Christopher Lee</th>\n",
       "      <th>John Wayne</th>\n",
       "      <th>Samuel L. Jackson</th>\n",
       "      <th>Gérard Depardieu</th>\n",
       "      <th>Michael Caine</th>\n",
       "      <th>John Carradine</th>\n",
       "      <th>Donald Sutherland</th>\n",
       "      <th>Jackie Chan</th>\n",
       "      <th>Frank Welker</th>\n",
       "      <th>...</th>\n",
       "      <th>Syd Saylor</th>\n",
       "      <th>George Raft</th>\n",
       "      <th>Quentin Tarantino</th>\n",
       "      <th>Paul Winfield</th>\n",
       "      <th>Emilio Estevez</th>\n",
       "      <th>Chow Yun-fat</th>\n",
       "      <th>Chazz Palminteri</th>\n",
       "      <th>Carmen Electra</th>\n",
       "      <th>Olaf Hytten</th>\n",
       "      <th>Walter Gotell</th>\n",
       "    </tr>\n",
       "  </thead>\n",
       "  <tbody>\n",
       "    <tr>\n",
       "      <th>0</th>\n",
       "      <td>0.0</td>\n",
       "      <td>0.0</td>\n",
       "      <td>0.0</td>\n",
       "      <td>0.0</td>\n",
       "      <td>0.0</td>\n",
       "      <td>0.0</td>\n",
       "      <td>0.0</td>\n",
       "      <td>0.0</td>\n",
       "      <td>0.0</td>\n",
       "      <td>0.0</td>\n",
       "      <td>...</td>\n",
       "      <td>0.0</td>\n",
       "      <td>0.0</td>\n",
       "      <td>0.0</td>\n",
       "      <td>0.0</td>\n",
       "      <td>0.0</td>\n",
       "      <td>0.0</td>\n",
       "      <td>0.0</td>\n",
       "      <td>0.0</td>\n",
       "      <td>0.0</td>\n",
       "      <td>0.0</td>\n",
       "    </tr>\n",
       "    <tr>\n",
       "      <th>1</th>\n",
       "      <td>0.0</td>\n",
       "      <td>0.0</td>\n",
       "      <td>0.0</td>\n",
       "      <td>0.0</td>\n",
       "      <td>0.0</td>\n",
       "      <td>0.0</td>\n",
       "      <td>0.0</td>\n",
       "      <td>0.0</td>\n",
       "      <td>0.0</td>\n",
       "      <td>0.0</td>\n",
       "      <td>...</td>\n",
       "      <td>0.0</td>\n",
       "      <td>0.0</td>\n",
       "      <td>0.0</td>\n",
       "      <td>0.0</td>\n",
       "      <td>0.0</td>\n",
       "      <td>0.0</td>\n",
       "      <td>0.0</td>\n",
       "      <td>0.0</td>\n",
       "      <td>0.0</td>\n",
       "      <td>0.0</td>\n",
       "    </tr>\n",
       "    <tr>\n",
       "      <th>2</th>\n",
       "      <td>0.0</td>\n",
       "      <td>0.0</td>\n",
       "      <td>0.0</td>\n",
       "      <td>0.0</td>\n",
       "      <td>0.0</td>\n",
       "      <td>0.0</td>\n",
       "      <td>0.0</td>\n",
       "      <td>0.0</td>\n",
       "      <td>0.0</td>\n",
       "      <td>0.0</td>\n",
       "      <td>...</td>\n",
       "      <td>0.0</td>\n",
       "      <td>0.0</td>\n",
       "      <td>0.0</td>\n",
       "      <td>0.0</td>\n",
       "      <td>0.0</td>\n",
       "      <td>0.0</td>\n",
       "      <td>0.0</td>\n",
       "      <td>0.0</td>\n",
       "      <td>0.0</td>\n",
       "      <td>0.0</td>\n",
       "    </tr>\n",
       "    <tr>\n",
       "      <th>3</th>\n",
       "      <td>0.0</td>\n",
       "      <td>0.0</td>\n",
       "      <td>0.0</td>\n",
       "      <td>0.0</td>\n",
       "      <td>0.0</td>\n",
       "      <td>0.0</td>\n",
       "      <td>0.0</td>\n",
       "      <td>0.0</td>\n",
       "      <td>0.0</td>\n",
       "      <td>0.0</td>\n",
       "      <td>...</td>\n",
       "      <td>0.0</td>\n",
       "      <td>0.0</td>\n",
       "      <td>0.0</td>\n",
       "      <td>0.0</td>\n",
       "      <td>0.0</td>\n",
       "      <td>0.0</td>\n",
       "      <td>0.0</td>\n",
       "      <td>0.0</td>\n",
       "      <td>0.0</td>\n",
       "      <td>0.0</td>\n",
       "    </tr>\n",
       "    <tr>\n",
       "      <th>4</th>\n",
       "      <td>0.0</td>\n",
       "      <td>0.0</td>\n",
       "      <td>0.0</td>\n",
       "      <td>0.0</td>\n",
       "      <td>0.0</td>\n",
       "      <td>0.0</td>\n",
       "      <td>0.0</td>\n",
       "      <td>0.0</td>\n",
       "      <td>0.0</td>\n",
       "      <td>0.0</td>\n",
       "      <td>...</td>\n",
       "      <td>0.0</td>\n",
       "      <td>0.0</td>\n",
       "      <td>0.0</td>\n",
       "      <td>0.0</td>\n",
       "      <td>0.0</td>\n",
       "      <td>0.0</td>\n",
       "      <td>0.0</td>\n",
       "      <td>0.0</td>\n",
       "      <td>0.0</td>\n",
       "      <td>0.0</td>\n",
       "    </tr>\n",
       "  </tbody>\n",
       "</table>\n",
       "<p>5 rows × 1891 columns</p>\n",
       "</div>"
      ],
      "text/plain": [
       "   Bess Flowers  Christopher Lee  John Wayne  Samuel L. Jackson  \\\n",
       "0           0.0              0.0         0.0                0.0   \n",
       "1           0.0              0.0         0.0                0.0   \n",
       "2           0.0              0.0         0.0                0.0   \n",
       "3           0.0              0.0         0.0                0.0   \n",
       "4           0.0              0.0         0.0                0.0   \n",
       "\n",
       "   Gérard Depardieu  Michael Caine  John Carradine  Donald Sutherland  \\\n",
       "0               0.0            0.0             0.0                0.0   \n",
       "1               0.0            0.0             0.0                0.0   \n",
       "2               0.0            0.0             0.0                0.0   \n",
       "3               0.0            0.0             0.0                0.0   \n",
       "4               0.0            0.0             0.0                0.0   \n",
       "\n",
       "   Jackie Chan  Frank Welker      ...        Syd Saylor  George Raft  \\\n",
       "0          0.0           0.0      ...               0.0          0.0   \n",
       "1          0.0           0.0      ...               0.0          0.0   \n",
       "2          0.0           0.0      ...               0.0          0.0   \n",
       "3          0.0           0.0      ...               0.0          0.0   \n",
       "4          0.0           0.0      ...               0.0          0.0   \n",
       "\n",
       "   Quentin Tarantino  Paul Winfield  Emilio Estevez  Chow Yun-fat  \\\n",
       "0                0.0            0.0             0.0           0.0   \n",
       "1                0.0            0.0             0.0           0.0   \n",
       "2                0.0            0.0             0.0           0.0   \n",
       "3                0.0            0.0             0.0           0.0   \n",
       "4                0.0            0.0             0.0           0.0   \n",
       "\n",
       "   Chazz Palminteri  Carmen Electra  Olaf Hytten  Walter Gotell  \n",
       "0               0.0             0.0          0.0            0.0  \n",
       "1               0.0             0.0          0.0            0.0  \n",
       "2               0.0             0.0          0.0            0.0  \n",
       "3               0.0             0.0          0.0            0.0  \n",
       "4               0.0             0.0          0.0            0.0  \n",
       "\n",
       "[5 rows x 1891 columns]"
      ]
     },
     "execution_count": 32,
     "metadata": {},
     "output_type": "execute_result"
    }
   ],
   "source": [
    "df_filmes_atores[df_filmes_atores != 1] = 0\n",
    "df_filmes_atores.head()"
   ]
  },
  {
   "cell_type": "markdown",
   "metadata": {},
   "source": [
    "##### Nota-se que neste DataFrame, a grande maioria dos dígitos é 0, o que representa o óbvio, os atores apareceram em poucos filmes em relação ao total estudado"
   ]
  },
  {
   "cell_type": "code",
   "execution_count": 9,
   "metadata": {
    "scrolled": false
   },
   "outputs": [],
   "source": [
    "#pprint(data_dict)"
   ]
  },
  {
   "cell_type": "code",
   "execution_count": 10,
   "metadata": {},
   "outputs": [],
   "source": [
    "# data_dict[1]['name']"
   ]
  },
  {
   "cell_type": "code",
   "execution_count": 11,
   "metadata": {},
   "outputs": [
    {
     "data": {
      "text/plain": [
       "1    43373\n",
       "Name: original_title, dtype: int64"
      ]
     },
     "execution_count": 11,
     "metadata": {},
     "output_type": "execute_result"
    }
   ],
   "source": [
    "df.drop_duplicates(subset =\"original_title\", \n",
    "                     keep = 'first', inplace = True) \n",
    "df[\"original_title\"].value_counts().value_counts()\n"
   ]
  },
  {
   "cell_type": "code",
   "execution_count": 12,
   "metadata": {},
   "outputs": [],
   "source": [
    "df['bilhao'] = df.revenue > 1e9"
   ]
  },
  {
   "cell_type": "markdown",
   "metadata": {},
   "source": [
    "#### Código para limpeza de certas variáveis tais como: revenue, budget, produtora e gênero:"
   ]
  },
  {
   "cell_type": "code",
   "execution_count": 33,
   "metadata": {},
   "outputs": [],
   "source": [
    "df_0 = df[df['revenue'] > 0]\n",
    "df_budget = df_0[df_0['budget'] != '0']\n",
    "df_clean = df_budget[df_budget['production_companies'] != '[]']\n",
    "df_super_clean = df_clean[df_clean['genres'] != '[]']"
   ]
  },
  {
   "cell_type": "code",
   "execution_count": 14,
   "metadata": {
    "scrolled": false
   },
   "outputs": [
    {
     "name": "stderr",
     "output_type": "stream",
     "text": [
      "C:\\Users\\ana clara\\Anaconda3\\lib\\site-packages\\ipykernel_launcher.py:2: SettingWithCopyWarning: \n",
      "A value is trying to be set on a copy of a slice from a DataFrame.\n",
      "Try using .loc[row_indexer,col_indexer] = value instead\n",
      "\n",
      "See the caveats in the documentation: http://pandas.pydata.org/pandas-docs/stable/indexing.html#indexing-view-versus-copy\n",
      "  \n"
     ]
    },
    {
     "data": {
      "text/html": [
       "<div>\n",
       "<style scoped>\n",
       "    .dataframe tbody tr th:only-of-type {\n",
       "        vertical-align: middle;\n",
       "    }\n",
       "\n",
       "    .dataframe tbody tr th {\n",
       "        vertical-align: top;\n",
       "    }\n",
       "\n",
       "    .dataframe thead th {\n",
       "        text-align: right;\n",
       "    }\n",
       "</style>\n",
       "<table border=\"1\" class=\"dataframe\">\n",
       "  <thead>\n",
       "    <tr style=\"text-align: right;\">\n",
       "      <th></th>\n",
       "      <th>id</th>\n",
       "      <th>genres</th>\n",
       "      <th>budget</th>\n",
       "      <th>revenue</th>\n",
       "      <th>production_companies</th>\n",
       "    </tr>\n",
       "  </thead>\n",
       "  <tbody>\n",
       "    <tr>\n",
       "      <th>0</th>\n",
       "      <td>862</td>\n",
       "      <td>[{'id': 16, 'name': 'Animation'}, {'id': 35, '...</td>\n",
       "      <td>30000000.0</td>\n",
       "      <td>373554033.0</td>\n",
       "      <td>[{'name': 'Pixar Animation Studios', 'id': 3}]</td>\n",
       "    </tr>\n",
       "    <tr>\n",
       "      <th>1</th>\n",
       "      <td>8844</td>\n",
       "      <td>[{'id': 12, 'name': 'Adventure'}, {'id': 14, '...</td>\n",
       "      <td>65000000.0</td>\n",
       "      <td>262797249.0</td>\n",
       "      <td>[{'name': 'TriStar Pictures', 'id': 559}, {'na...</td>\n",
       "    </tr>\n",
       "    <tr>\n",
       "      <th>3</th>\n",
       "      <td>31357</td>\n",
       "      <td>[{'id': 35, 'name': 'Comedy'}, {'id': 18, 'nam...</td>\n",
       "      <td>16000000.0</td>\n",
       "      <td>81452156.0</td>\n",
       "      <td>[{'name': 'Twentieth Century Fox Film Corporat...</td>\n",
       "    </tr>\n",
       "    <tr>\n",
       "      <th>5</th>\n",
       "      <td>949</td>\n",
       "      <td>[{'id': 28, 'name': 'Action'}, {'id': 80, 'nam...</td>\n",
       "      <td>60000000.0</td>\n",
       "      <td>187436818.0</td>\n",
       "      <td>[{'name': 'Regency Enterprises', 'id': 508}, {...</td>\n",
       "    </tr>\n",
       "    <tr>\n",
       "      <th>8</th>\n",
       "      <td>9091</td>\n",
       "      <td>[{'id': 28, 'name': 'Action'}, {'id': 12, 'nam...</td>\n",
       "      <td>35000000.0</td>\n",
       "      <td>64350171.0</td>\n",
       "      <td>[{'name': 'Universal Pictures', 'id': 33}, {'n...</td>\n",
       "    </tr>\n",
       "  </tbody>\n",
       "</table>\n",
       "</div>"
      ],
      "text/plain": [
       "      id                                             genres      budget  \\\n",
       "0    862  [{'id': 16, 'name': 'Animation'}, {'id': 35, '...  30000000.0   \n",
       "1   8844  [{'id': 12, 'name': 'Adventure'}, {'id': 14, '...  65000000.0   \n",
       "3  31357  [{'id': 35, 'name': 'Comedy'}, {'id': 18, 'nam...  16000000.0   \n",
       "5    949  [{'id': 28, 'name': 'Action'}, {'id': 80, 'nam...  60000000.0   \n",
       "8   9091  [{'id': 28, 'name': 'Action'}, {'id': 12, 'nam...  35000000.0   \n",
       "\n",
       "       revenue                               production_companies  \n",
       "0  373554033.0     [{'name': 'Pixar Animation Studios', 'id': 3}]  \n",
       "1  262797249.0  [{'name': 'TriStar Pictures', 'id': 559}, {'na...  \n",
       "3   81452156.0  [{'name': 'Twentieth Century Fox Film Corporat...  \n",
       "5  187436818.0  [{'name': 'Regency Enterprises', 'id': 508}, {...  \n",
       "8   64350171.0  [{'name': 'Universal Pictures', 'id': 33}, {'n...  "
      ]
     },
     "execution_count": 14,
     "metadata": {},
     "output_type": "execute_result"
    }
   ],
   "source": [
    "df_mega_clean = df_super_clean[[\"id\",\"genres\",\"budget\",\"revenue\",\"production_companies\"]]\n",
    "df_mega_clean['budget'] = df_mega_clean['budget'].astype(float)\n",
    "df_mega_clean.head()"
   ]
  },
  {
   "cell_type": "code",
   "execution_count": 15,
   "metadata": {},
   "outputs": [],
   "source": [
    "milhao = []\n",
    "# df_dinheiro = df_mega_clean[df_mega_clean['revenue'] > 1.5e8]\n",
    "for dinheiro in df_mega_clean.revenue:\n",
    "    if dinheiro > 1.5e8:\n",
    "        milhao.append(1)\n",
    "    else:\n",
    "        milhao.append(0)"
   ]
  },
  {
   "cell_type": "code",
   "execution_count": 35,
   "metadata": {
    "scrolled": true
   },
   "outputs": [
    {
     "data": {
      "text/html": [
       "<div>\n",
       "<style scoped>\n",
       "    .dataframe tbody tr th:only-of-type {\n",
       "        vertical-align: middle;\n",
       "    }\n",
       "\n",
       "    .dataframe tbody tr th {\n",
       "        vertical-align: top;\n",
       "    }\n",
       "\n",
       "    .dataframe thead th {\n",
       "        text-align: right;\n",
       "    }\n",
       "</style>\n",
       "<table border=\"1\" class=\"dataframe\">\n",
       "  <thead>\n",
       "    <tr style=\"text-align: right;\">\n",
       "      <th></th>\n",
       "      <th>id</th>\n",
       "      <th>genres</th>\n",
       "      <th>budget</th>\n",
       "      <th>revenue</th>\n",
       "      <th>production_companies</th>\n",
       "      <th>Fez ou não 150 mi</th>\n",
       "    </tr>\n",
       "  </thead>\n",
       "  <tbody>\n",
       "    <tr>\n",
       "      <th>0</th>\n",
       "      <td>862</td>\n",
       "      <td>[{'id': 16, 'name': 'Animation'}, {'id': 35, '...</td>\n",
       "      <td>30000000.0</td>\n",
       "      <td>373554033.0</td>\n",
       "      <td>[{'name': 'Pixar Animation Studios', 'id': 3}]</td>\n",
       "      <td>1</td>\n",
       "    </tr>\n",
       "    <tr>\n",
       "      <th>1</th>\n",
       "      <td>8844</td>\n",
       "      <td>[{'id': 12, 'name': 'Adventure'}, {'id': 14, '...</td>\n",
       "      <td>65000000.0</td>\n",
       "      <td>262797249.0</td>\n",
       "      <td>[{'name': 'TriStar Pictures', 'id': 559}, {'na...</td>\n",
       "      <td>1</td>\n",
       "    </tr>\n",
       "    <tr>\n",
       "      <th>3</th>\n",
       "      <td>31357</td>\n",
       "      <td>[{'id': 35, 'name': 'Comedy'}, {'id': 18, 'nam...</td>\n",
       "      <td>16000000.0</td>\n",
       "      <td>81452156.0</td>\n",
       "      <td>[{'name': 'Twentieth Century Fox Film Corporat...</td>\n",
       "      <td>0</td>\n",
       "    </tr>\n",
       "    <tr>\n",
       "      <th>5</th>\n",
       "      <td>949</td>\n",
       "      <td>[{'id': 28, 'name': 'Action'}, {'id': 80, 'nam...</td>\n",
       "      <td>60000000.0</td>\n",
       "      <td>187436818.0</td>\n",
       "      <td>[{'name': 'Regency Enterprises', 'id': 508}, {...</td>\n",
       "      <td>1</td>\n",
       "    </tr>\n",
       "    <tr>\n",
       "      <th>8</th>\n",
       "      <td>9091</td>\n",
       "      <td>[{'id': 28, 'name': 'Action'}, {'id': 12, 'nam...</td>\n",
       "      <td>35000000.0</td>\n",
       "      <td>64350171.0</td>\n",
       "      <td>[{'name': 'Universal Pictures', 'id': 33}, {'n...</td>\n",
       "      <td>0</td>\n",
       "    </tr>\n",
       "  </tbody>\n",
       "</table>\n",
       "</div>"
      ],
      "text/plain": [
       "      id                                             genres      budget  \\\n",
       "0    862  [{'id': 16, 'name': 'Animation'}, {'id': 35, '...  30000000.0   \n",
       "1   8844  [{'id': 12, 'name': 'Adventure'}, {'id': 14, '...  65000000.0   \n",
       "3  31357  [{'id': 35, 'name': 'Comedy'}, {'id': 18, 'nam...  16000000.0   \n",
       "5    949  [{'id': 28, 'name': 'Action'}, {'id': 80, 'nam...  60000000.0   \n",
       "8   9091  [{'id': 28, 'name': 'Action'}, {'id': 12, 'nam...  35000000.0   \n",
       "\n",
       "       revenue                               production_companies  \\\n",
       "0  373554033.0     [{'name': 'Pixar Animation Studios', 'id': 3}]   \n",
       "1  262797249.0  [{'name': 'TriStar Pictures', 'id': 559}, {'na...   \n",
       "3   81452156.0  [{'name': 'Twentieth Century Fox Film Corporat...   \n",
       "5  187436818.0  [{'name': 'Regency Enterprises', 'id': 508}, {...   \n",
       "8   64350171.0  [{'name': 'Universal Pictures', 'id': 33}, {'n...   \n",
       "\n",
       "   Fez ou não 150 mi  \n",
       "0                  1  \n",
       "1                  1  \n",
       "3                  0  \n",
       "5                  1  \n",
       "8                  0  "
      ]
     },
     "execution_count": 35,
     "metadata": {},
     "output_type": "execute_result"
    }
   ],
   "source": [
    "df_mega_clean['Fez ou não 150 mi'] = milhao\n",
    "df_mega_clean.head()"
   ]
  },
  {
   "cell_type": "code",
   "execution_count": null,
   "metadata": {},
   "outputs": [],
   "source": []
  },
  {
   "cell_type": "markdown",
   "metadata": {},
   "source": [
    "### Selecionando os atores a partir dos filmes filtrados do df_mega_clean"
   ]
  },
  {
   "cell_type": "code",
   "execution_count": 16,
   "metadata": {
    "scrolled": true
   },
   "outputs": [],
   "source": [
    "lista_teste = []\n",
    "for numero in df_filmes_atores.index:\n",
    "    if numero not in df_mega_clean.id:\n",
    "        lista_teste.append(numero)\n",
    "        \n",
    "atores_certos = df_filmes_atores.drop(lista_teste, axis=0)"
   ]
  },
  {
   "cell_type": "markdown",
   "metadata": {},
   "source": [
    "No dataframe acima, foi selecionado os atores que participam dos filmes filtrados no Dataframe \"mega_clean\" fazendo com que agora podemos observar quais atores participaram dos filmes relevantes "
   ]
  },
  {
   "cell_type": "code",
   "execution_count": 34,
   "metadata": {},
   "outputs": [
    {
     "data": {
      "text/html": [
       "<div>\n",
       "<style scoped>\n",
       "    .dataframe tbody tr th:only-of-type {\n",
       "        vertical-align: middle;\n",
       "    }\n",
       "\n",
       "    .dataframe tbody tr th {\n",
       "        vertical-align: top;\n",
       "    }\n",
       "\n",
       "    .dataframe thead th {\n",
       "        text-align: right;\n",
       "    }\n",
       "</style>\n",
       "<table border=\"1\" class=\"dataframe\">\n",
       "  <thead>\n",
       "    <tr style=\"text-align: right;\">\n",
       "      <th></th>\n",
       "      <th>Bess Flowers</th>\n",
       "      <th>Christopher Lee</th>\n",
       "      <th>John Wayne</th>\n",
       "      <th>Samuel L. Jackson</th>\n",
       "      <th>Gérard Depardieu</th>\n",
       "      <th>Michael Caine</th>\n",
       "      <th>John Carradine</th>\n",
       "      <th>Donald Sutherland</th>\n",
       "      <th>Jackie Chan</th>\n",
       "      <th>Frank Welker</th>\n",
       "      <th>...</th>\n",
       "      <th>George Raft</th>\n",
       "      <th>Quentin Tarantino</th>\n",
       "      <th>Paul Winfield</th>\n",
       "      <th>Emilio Estevez</th>\n",
       "      <th>Chow Yun-fat</th>\n",
       "      <th>Chazz Palminteri</th>\n",
       "      <th>Carmen Electra</th>\n",
       "      <th>Olaf Hytten</th>\n",
       "      <th>Walter Gotell</th>\n",
       "      <th>Fez ou não 150 mi</th>\n",
       "    </tr>\n",
       "  </thead>\n",
       "  <tbody>\n",
       "    <tr>\n",
       "      <th>0</th>\n",
       "      <td>0.0</td>\n",
       "      <td>0.0</td>\n",
       "      <td>0.0</td>\n",
       "      <td>0.0</td>\n",
       "      <td>0.0</td>\n",
       "      <td>0.0</td>\n",
       "      <td>0.0</td>\n",
       "      <td>0.0</td>\n",
       "      <td>0.0</td>\n",
       "      <td>0.0</td>\n",
       "      <td>...</td>\n",
       "      <td>0.0</td>\n",
       "      <td>0.0</td>\n",
       "      <td>0.0</td>\n",
       "      <td>0.0</td>\n",
       "      <td>0.0</td>\n",
       "      <td>0.0</td>\n",
       "      <td>0.0</td>\n",
       "      <td>0.0</td>\n",
       "      <td>0.0</td>\n",
       "      <td>1</td>\n",
       "    </tr>\n",
       "    <tr>\n",
       "      <th>1</th>\n",
       "      <td>0.0</td>\n",
       "      <td>0.0</td>\n",
       "      <td>0.0</td>\n",
       "      <td>0.0</td>\n",
       "      <td>0.0</td>\n",
       "      <td>0.0</td>\n",
       "      <td>0.0</td>\n",
       "      <td>0.0</td>\n",
       "      <td>0.0</td>\n",
       "      <td>0.0</td>\n",
       "      <td>...</td>\n",
       "      <td>0.0</td>\n",
       "      <td>0.0</td>\n",
       "      <td>0.0</td>\n",
       "      <td>0.0</td>\n",
       "      <td>0.0</td>\n",
       "      <td>0.0</td>\n",
       "      <td>0.0</td>\n",
       "      <td>0.0</td>\n",
       "      <td>0.0</td>\n",
       "      <td>1</td>\n",
       "    </tr>\n",
       "    <tr>\n",
       "      <th>3</th>\n",
       "      <td>0.0</td>\n",
       "      <td>0.0</td>\n",
       "      <td>0.0</td>\n",
       "      <td>0.0</td>\n",
       "      <td>0.0</td>\n",
       "      <td>0.0</td>\n",
       "      <td>0.0</td>\n",
       "      <td>0.0</td>\n",
       "      <td>0.0</td>\n",
       "      <td>0.0</td>\n",
       "      <td>...</td>\n",
       "      <td>0.0</td>\n",
       "      <td>0.0</td>\n",
       "      <td>0.0</td>\n",
       "      <td>0.0</td>\n",
       "      <td>0.0</td>\n",
       "      <td>0.0</td>\n",
       "      <td>0.0</td>\n",
       "      <td>0.0</td>\n",
       "      <td>0.0</td>\n",
       "      <td>0</td>\n",
       "    </tr>\n",
       "    <tr>\n",
       "      <th>5</th>\n",
       "      <td>0.0</td>\n",
       "      <td>0.0</td>\n",
       "      <td>0.0</td>\n",
       "      <td>0.0</td>\n",
       "      <td>0.0</td>\n",
       "      <td>0.0</td>\n",
       "      <td>0.0</td>\n",
       "      <td>0.0</td>\n",
       "      <td>0.0</td>\n",
       "      <td>0.0</td>\n",
       "      <td>...</td>\n",
       "      <td>0.0</td>\n",
       "      <td>0.0</td>\n",
       "      <td>0.0</td>\n",
       "      <td>0.0</td>\n",
       "      <td>0.0</td>\n",
       "      <td>0.0</td>\n",
       "      <td>0.0</td>\n",
       "      <td>0.0</td>\n",
       "      <td>0.0</td>\n",
       "      <td>1</td>\n",
       "    </tr>\n",
       "    <tr>\n",
       "      <th>8</th>\n",
       "      <td>0.0</td>\n",
       "      <td>0.0</td>\n",
       "      <td>0.0</td>\n",
       "      <td>0.0</td>\n",
       "      <td>0.0</td>\n",
       "      <td>0.0</td>\n",
       "      <td>0.0</td>\n",
       "      <td>0.0</td>\n",
       "      <td>0.0</td>\n",
       "      <td>0.0</td>\n",
       "      <td>...</td>\n",
       "      <td>0.0</td>\n",
       "      <td>0.0</td>\n",
       "      <td>0.0</td>\n",
       "      <td>0.0</td>\n",
       "      <td>0.0</td>\n",
       "      <td>0.0</td>\n",
       "      <td>0.0</td>\n",
       "      <td>0.0</td>\n",
       "      <td>0.0</td>\n",
       "      <td>0</td>\n",
       "    </tr>\n",
       "  </tbody>\n",
       "</table>\n",
       "<p>5 rows × 1892 columns</p>\n",
       "</div>"
      ],
      "text/plain": [
       "   Bess Flowers  Christopher Lee  John Wayne  Samuel L. Jackson  \\\n",
       "0           0.0              0.0         0.0                0.0   \n",
       "1           0.0              0.0         0.0                0.0   \n",
       "3           0.0              0.0         0.0                0.0   \n",
       "5           0.0              0.0         0.0                0.0   \n",
       "8           0.0              0.0         0.0                0.0   \n",
       "\n",
       "   Gérard Depardieu  Michael Caine  John Carradine  Donald Sutherland  \\\n",
       "0               0.0            0.0             0.0                0.0   \n",
       "1               0.0            0.0             0.0                0.0   \n",
       "3               0.0            0.0             0.0                0.0   \n",
       "5               0.0            0.0             0.0                0.0   \n",
       "8               0.0            0.0             0.0                0.0   \n",
       "\n",
       "   Jackie Chan  Frank Welker        ...          George Raft  \\\n",
       "0          0.0           0.0        ...                  0.0   \n",
       "1          0.0           0.0        ...                  0.0   \n",
       "3          0.0           0.0        ...                  0.0   \n",
       "5          0.0           0.0        ...                  0.0   \n",
       "8          0.0           0.0        ...                  0.0   \n",
       "\n",
       "   Quentin Tarantino  Paul Winfield  Emilio Estevez  Chow Yun-fat  \\\n",
       "0                0.0            0.0             0.0           0.0   \n",
       "1                0.0            0.0             0.0           0.0   \n",
       "3                0.0            0.0             0.0           0.0   \n",
       "5                0.0            0.0             0.0           0.0   \n",
       "8                0.0            0.0             0.0           0.0   \n",
       "\n",
       "   Chazz Palminteri  Carmen Electra  Olaf Hytten  Walter Gotell  \\\n",
       "0               0.0             0.0          0.0            0.0   \n",
       "1               0.0             0.0          0.0            0.0   \n",
       "3               0.0             0.0          0.0            0.0   \n",
       "5               0.0             0.0          0.0            0.0   \n",
       "8               0.0             0.0          0.0            0.0   \n",
       "\n",
       "   Fez ou não 150 mi  \n",
       "0                  1  \n",
       "1                  1  \n",
       "3                  0  \n",
       "5                  1  \n",
       "8                  0  \n",
       "\n",
       "[5 rows x 1892 columns]"
      ]
     },
     "execution_count": 34,
     "metadata": {},
     "output_type": "execute_result"
    }
   ],
   "source": [
    "atores_certos['Fez ou não 150 mi'] = milhao\n",
    "atores_certos.head()"
   ]
  },
  {
   "cell_type": "code",
   "execution_count": 42,
   "metadata": {},
   "outputs": [],
   "source": [
    "sim_ou_nao = atores_certos['Fez ou não 150 mi']\n",
    "y = df_mega_clean['Fez ou não 150 mi']"
   ]
  },
  {
   "cell_type": "markdown",
   "metadata": {},
   "source": [
    "### Testando a relação do ator com a bilheteria do filme"
   ]
  },
  {
   "cell_type": "code",
   "execution_count": 19,
   "metadata": {},
   "outputs": [],
   "source": [
    "from sklearn.model_selection import train_test_split\n",
    "X_train, X_test, Y_train, Y_test = train_test_split(atores_certos.drop(['Fez ou não 150 mi'],axis='columns'),sim_ou_nao,test_size = 0.3)"
   ]
  },
  {
   "cell_type": "code",
   "execution_count": 20,
   "metadata": {},
   "outputs": [
    {
     "data": {
      "text/plain": [
       "1472"
      ]
     },
     "execution_count": 20,
     "metadata": {},
     "output_type": "execute_result"
    }
   ],
   "source": [
    "len(X_test)"
   ]
  },
  {
   "cell_type": "code",
   "execution_count": 21,
   "metadata": {},
   "outputs": [
    {
     "data": {
      "text/plain": [
       "RandomForestClassifier(bootstrap=True, class_weight=None, criterion='gini',\n",
       "            max_depth=None, max_features='auto', max_leaf_nodes=None,\n",
       "            min_impurity_decrease=0.0, min_impurity_split=None,\n",
       "            min_samples_leaf=1, min_samples_split=2,\n",
       "            min_weight_fraction_leaf=0.0, n_estimators=40, n_jobs=None,\n",
       "            oob_score=False, random_state=None, verbose=0,\n",
       "            warm_start=False)"
      ]
     },
     "execution_count": 21,
     "metadata": {},
     "output_type": "execute_result"
    }
   ],
   "source": [
    "from sklearn.ensemble import RandomForestClassifier\n",
    "model = RandomForestClassifier(n_estimators = 40)\n",
    "model.fit(X_train,Y_train)"
   ]
  },
  {
   "cell_type": "code",
   "execution_count": 22,
   "metadata": {},
   "outputs": [
    {
     "data": {
      "text/plain": [
       "0.8070652173913043"
      ]
     },
     "execution_count": 22,
     "metadata": {},
     "output_type": "execute_result"
    }
   ],
   "source": [
    "model.score(X_test,Y_test)"
   ]
  },
  {
   "cell_type": "markdown",
   "metadata": {},
   "source": [
    "A partir dessa análise é visível que os atores não influenciam o filme passar ou não dos 150 milhoes de bilheteria"
   ]
  },
  {
   "cell_type": "markdown",
   "metadata": {},
   "source": [
    "#### Gráfico de barras relacionando cada gênero com o seu número de filmes"
   ]
  },
  {
   "cell_type": "code",
   "execution_count": 96,
   "metadata": {
    "scrolled": false
   },
   "outputs": [
    {
     "data": {
      "text/plain": [
       "Drama              2354\n",
       "Comedy             1710\n",
       "Thriller           1369\n",
       "Action             1293\n",
       "Romance             920\n",
       "Adventure           883\n",
       "Crime               800\n",
       "Science Fiction     586\n",
       "Horror              524\n",
       "Family              486\n",
       "Fantasy             471\n",
       "Mystery             415\n",
       "Animation           276\n",
       "History             222\n",
       "War                 195\n",
       "Music               176\n",
       "Western              80\n",
       "Documentary          45\n",
       "Foreign              22\n",
       "TV Movie              1\n",
       "Name: 0, dtype: int64"
      ]
     },
     "execution_count": 96,
     "metadata": {},
     "output_type": "execute_result"
    }
   ],
   "source": [
    "generos = []\n",
    "for e in df_mega_clean.index:\n",
    "    data_dict = ast.literal_eval(df_mega_clean[\"genres\"][e])\n",
    "    for palavras in data_dict:\n",
    "        generos.append(palavras['name'])\n",
    "\n",
    "df_generos = pd.DataFrame(generos)\n",
    "df_generos\n",
    "geneross = df_generos[0].value_counts()\n",
    "geneross\n",
    "#geneross.plot(kind='bar')\n"
   ]
  },
  {
   "cell_type": "markdown",
   "metadata": {},
   "source": [
    "### Relação genero com a bilheteria"
   ]
  },
  {
   "cell_type": "code",
   "execution_count": 97,
   "metadata": {},
   "outputs": [],
   "source": [
    "revenues_por_categoria = {}\n",
    "categorias = [\n",
    "    'Drama', 'Comedy', 'Thriller',\n",
    "    'Action','Romance','Adventure','Crime','Science Fiction',\n",
    "    'Horror','Family','Fantasy','Mystery','Animation','History',\n",
    "    \"War\",'Music','Western','Documentary','Foreign','TV Movie'\n",
    "]\n",
    "\n",
    "for c in categorias:\n",
    "    revenues_por_categoria[c] = []\n",
    "\n",
    "for e in df_mega_clean.index:\n",
    "    data_dict = ast.literal_eval(df_mega_clean[\"genres\"][e])\n",
    "    for palavras in data_dict:\n",
    "        cat = palavras[\"name\"]\n",
    "        #print(cat)\n",
    "        if cat in revenues_por_categoria:\n",
    "            revenues_por_categoria[cat].append(df_mega_clean['revenue'][e])\n",
    "            \n",
    "for k in revenues_por_categoria:\n",
    "    revenues_por_categoria[k] = (np.array(revenues_por_categoria[k]))"
   ]
  },
  {
   "cell_type": "code",
   "execution_count": 79,
   "metadata": {},
   "outputs": [
    {
     "data": {
      "image/png": "[encoded data removed]",
      "text/plain": [
       "<Figure size 1152x576 with 1 Axes>"
      ]
     },
     "metadata": {
      "needs_background": "light"
     },
     "output_type": "display_data"
    }
   ],
   "source": [
    "%matplotlib inline\n",
    "import matplotlib.pyplot as plt\n",
    "fig = plt.figure(figsize=(16,8))\n",
    "ax = fig.add_subplot(111)\n",
    "ax.boxplot(revenues_por_categoria.values(), showfliers=False)\n",
    "ax.set_xticklabels(revenues_por_categoria.keys(), rotation='vertical');\n",
    "#plt.yscale('log')\n",
    "plt.show()\n"
   ]
  },
  {
   "cell_type": "code",
   "execution_count": 67,
   "metadata": {},
   "outputs": [
    {
     "data": {
      "text/plain": [
       "defaultdict(int,\n",
       "            {'Animation': 276,\n",
       "             'Comedy': 1710,\n",
       "             'Family': 486,\n",
       "             'Adventure': 883,\n",
       "             'Fantasy': 471,\n",
       "             'Drama': 2354,\n",
       "             'Romance': 920,\n",
       "             'Action': 1293,\n",
       "             'Crime': 800,\n",
       "             'Thriller': 1369,\n",
       "             'History': 222,\n",
       "             'Science Fiction': 586,\n",
       "             'Mystery': 415,\n",
       "             'Horror': 524,\n",
       "             'War': 195,\n",
       "             'Foreign': 22,\n",
       "             'Documentary': 45,\n",
       "             'Western': 80,\n",
       "             'Music': 176,\n",
       "             'TV Movie': 1})"
      ]
     },
     "execution_count": 67,
     "metadata": {},
     "output_type": "execute_result"
    }
   ],
   "source": [
    "categorias2 = defaultdict(int)\n",
    "for e in df_mega_clean.index:\n",
    "    data_dict = ast.literal_eval(df_mega_clean[\"genres\"][e])\n",
    "    for palavras in data_dict:\n",
    "        tipo = palavras['name']\n",
    "        categorias2[tipo] += 1\n",
    "categorias2"
   ]
  },
  {
   "cell_type": "code",
   "execution_count": 68,
   "metadata": {},
   "outputs": [],
   "source": [
    "ser_categorias = pd.Series(categorias2)"
   ]
  },
  {
   "cell_type": "code",
   "execution_count": 69,
   "metadata": {},
   "outputs": [],
   "source": [
    "df_filmes_categorias = pd.DataFrame(index=df_mega_clean.index, columns=ser_categorias.index, dtype=np.uint8)\n",
    "for e in df_mega_clean.index:\n",
    "    data_dict = ast.literal_eval(df_mega_clean[\"genres\"][e])\n",
    "    #print(data_dict)\n",
    "    for palavras in data_dict:\n",
    "        tipo = palavras['name']\n",
    "        #print(tipo)\n",
    "        if tipo in df_filmes_categorias.columns:\n",
    "             df_filmes_categorias[tipo][e] = 1\n"
   ]
  },
  {
   "cell_type": "code",
   "execution_count": 70,
   "metadata": {},
   "outputs": [
    {
     "data": {
      "text/html": [
       "<div>\n",
       "<style scoped>\n",
       "    .dataframe tbody tr th:only-of-type {\n",
       "        vertical-align: middle;\n",
       "    }\n",
       "\n",
       "    .dataframe tbody tr th {\n",
       "        vertical-align: top;\n",
       "    }\n",
       "\n",
       "    .dataframe thead th {\n",
       "        text-align: right;\n",
       "    }\n",
       "</style>\n",
       "<table border=\"1\" class=\"dataframe\">\n",
       "  <thead>\n",
       "    <tr style=\"text-align: right;\">\n",
       "      <th></th>\n",
       "      <th>Animation</th>\n",
       "      <th>Comedy</th>\n",
       "      <th>Family</th>\n",
       "      <th>Adventure</th>\n",
       "      <th>Fantasy</th>\n",
       "      <th>Drama</th>\n",
       "      <th>Romance</th>\n",
       "      <th>Action</th>\n",
       "      <th>Crime</th>\n",
       "      <th>Thriller</th>\n",
       "      <th>History</th>\n",
       "      <th>Science Fiction</th>\n",
       "      <th>Mystery</th>\n",
       "      <th>Horror</th>\n",
       "      <th>War</th>\n",
       "      <th>Foreign</th>\n",
       "      <th>Documentary</th>\n",
       "      <th>Western</th>\n",
       "      <th>Music</th>\n",
       "      <th>TV Movie</th>\n",
       "    </tr>\n",
       "  </thead>\n",
       "  <tbody>\n",
       "    <tr>\n",
       "      <th>0</th>\n",
       "      <td>1.0</td>\n",
       "      <td>1.0</td>\n",
       "      <td>1.0</td>\n",
       "      <td>0.0</td>\n",
       "      <td>0.0</td>\n",
       "      <td>0.0</td>\n",
       "      <td>0.0</td>\n",
       "      <td>0.0</td>\n",
       "      <td>0.0</td>\n",
       "      <td>0.0</td>\n",
       "      <td>0.0</td>\n",
       "      <td>0.0</td>\n",
       "      <td>0.0</td>\n",
       "      <td>0.0</td>\n",
       "      <td>0.0</td>\n",
       "      <td>0.0</td>\n",
       "      <td>0.0</td>\n",
       "      <td>0.0</td>\n",
       "      <td>0.0</td>\n",
       "      <td>0.0</td>\n",
       "    </tr>\n",
       "    <tr>\n",
       "      <th>1</th>\n",
       "      <td>0.0</td>\n",
       "      <td>0.0</td>\n",
       "      <td>1.0</td>\n",
       "      <td>1.0</td>\n",
       "      <td>1.0</td>\n",
       "      <td>0.0</td>\n",
       "      <td>0.0</td>\n",
       "      <td>0.0</td>\n",
       "      <td>0.0</td>\n",
       "      <td>0.0</td>\n",
       "      <td>0.0</td>\n",
       "      <td>0.0</td>\n",
       "      <td>0.0</td>\n",
       "      <td>0.0</td>\n",
       "      <td>0.0</td>\n",
       "      <td>0.0</td>\n",
       "      <td>0.0</td>\n",
       "      <td>0.0</td>\n",
       "      <td>0.0</td>\n",
       "      <td>0.0</td>\n",
       "    </tr>\n",
       "    <tr>\n",
       "      <th>3</th>\n",
       "      <td>0.0</td>\n",
       "      <td>1.0</td>\n",
       "      <td>0.0</td>\n",
       "      <td>0.0</td>\n",
       "      <td>0.0</td>\n",
       "      <td>1.0</td>\n",
       "      <td>1.0</td>\n",
       "      <td>0.0</td>\n",
       "      <td>0.0</td>\n",
       "      <td>0.0</td>\n",
       "      <td>0.0</td>\n",
       "      <td>0.0</td>\n",
       "      <td>0.0</td>\n",
       "      <td>0.0</td>\n",
       "      <td>0.0</td>\n",
       "      <td>0.0</td>\n",
       "      <td>0.0</td>\n",
       "      <td>0.0</td>\n",
       "      <td>0.0</td>\n",
       "      <td>0.0</td>\n",
       "    </tr>\n",
       "    <tr>\n",
       "      <th>5</th>\n",
       "      <td>0.0</td>\n",
       "      <td>0.0</td>\n",
       "      <td>0.0</td>\n",
       "      <td>0.0</td>\n",
       "      <td>0.0</td>\n",
       "      <td>1.0</td>\n",
       "      <td>0.0</td>\n",
       "      <td>1.0</td>\n",
       "      <td>1.0</td>\n",
       "      <td>1.0</td>\n",
       "      <td>0.0</td>\n",
       "      <td>0.0</td>\n",
       "      <td>0.0</td>\n",
       "      <td>0.0</td>\n",
       "      <td>0.0</td>\n",
       "      <td>0.0</td>\n",
       "      <td>0.0</td>\n",
       "      <td>0.0</td>\n",
       "      <td>0.0</td>\n",
       "      <td>0.0</td>\n",
       "    </tr>\n",
       "    <tr>\n",
       "      <th>8</th>\n",
       "      <td>0.0</td>\n",
       "      <td>0.0</td>\n",
       "      <td>0.0</td>\n",
       "      <td>1.0</td>\n",
       "      <td>0.0</td>\n",
       "      <td>0.0</td>\n",
       "      <td>0.0</td>\n",
       "      <td>1.0</td>\n",
       "      <td>0.0</td>\n",
       "      <td>1.0</td>\n",
       "      <td>0.0</td>\n",
       "      <td>0.0</td>\n",
       "      <td>0.0</td>\n",
       "      <td>0.0</td>\n",
       "      <td>0.0</td>\n",
       "      <td>0.0</td>\n",
       "      <td>0.0</td>\n",
       "      <td>0.0</td>\n",
       "      <td>0.0</td>\n",
       "      <td>0.0</td>\n",
       "    </tr>\n",
       "  </tbody>\n",
       "</table>\n",
       "</div>"
      ],
      "text/plain": [
       "   Animation  Comedy  Family  Adventure  Fantasy  Drama  Romance  Action  \\\n",
       "0        1.0     1.0     1.0        0.0      0.0    0.0      0.0     0.0   \n",
       "1        0.0     0.0     1.0        1.0      1.0    0.0      0.0     0.0   \n",
       "3        0.0     1.0     0.0        0.0      0.0    1.0      1.0     0.0   \n",
       "5        0.0     0.0     0.0        0.0      0.0    1.0      0.0     1.0   \n",
       "8        0.0     0.0     0.0        1.0      0.0    0.0      0.0     1.0   \n",
       "\n",
       "   Crime  Thriller  History  Science Fiction  Mystery  Horror  War  Foreign  \\\n",
       "0    0.0       0.0      0.0              0.0      0.0     0.0  0.0      0.0   \n",
       "1    0.0       0.0      0.0              0.0      0.0     0.0  0.0      0.0   \n",
       "3    0.0       0.0      0.0              0.0      0.0     0.0  0.0      0.0   \n",
       "5    1.0       1.0      0.0              0.0      0.0     0.0  0.0      0.0   \n",
       "8    0.0       1.0      0.0              0.0      0.0     0.0  0.0      0.0   \n",
       "\n",
       "   Documentary  Western  Music  TV Movie  \n",
       "0          0.0      0.0    0.0       0.0  \n",
       "1          0.0      0.0    0.0       0.0  \n",
       "3          0.0      0.0    0.0       0.0  \n",
       "5          0.0      0.0    0.0       0.0  \n",
       "8          0.0      0.0    0.0       0.0  "
      ]
     },
     "execution_count": 70,
     "metadata": {},
     "output_type": "execute_result"
    }
   ],
   "source": [
    "df_filmes_categorias[df_filmes_categorias != 1] = 0\n",
    "df_filmes_categorias.head()"
   ]
  },
  {
   "cell_type": "markdown",
   "metadata": {},
   "source": [
    "#### Gráfico de barras com cada produtora com o número de filmes produzidos por ela:"
   ]
  },
  {
   "cell_type": "code",
   "execution_count": 105,
   "metadata": {},
   "outputs": [
    {
     "data": {
      "text/plain": [
       "<matplotlib.axes._subplots.AxesSubplot at 0x29fb7312828>"
      ]
     },
     "execution_count": 105,
     "metadata": {},
     "output_type": "execute_result"
    },
    {
     "data": {
      "image/png": "[encoded data removed]",
      "text/plain": [
       "<Figure size 432x288 with 1 Axes>"
      ]
     },
     "metadata": {
      "needs_background": "light"
     },
     "output_type": "display_data"
    }
   ],
   "source": [
    "produtoras = []\n",
    "for e in df_mega_clean.index:\n",
    "    data_dict = ast.literal_eval(df_mega_clean[\"production_companies\"][e])\n",
    "   # print(data_dict)\n",
    "    for palavras in data_dict:\n",
    "        produtoras.append(palavras['name'])\n",
    "\n",
    "df_produtoras = pd.DataFrame(produtoras)\n",
    "df_produtoras\n",
    "produtorass = df_produtoras[0].value_counts().head(30)\n",
    "produtorass\n",
    "produtorass.plot(kind='bar')"
   ]
  },
  {
   "cell_type": "markdown",
   "metadata": {},
   "source": [
    "### Relação produtora com a bilheteria"
   ]
  },
  {
   "cell_type": "code",
   "execution_count": 117,
   "metadata": {},
   "outputs": [],
   "source": [
    "revenues_por_produtora = {}\n",
    "produtoras = [\n",
    "    'Warner Bros.','Universal Pictures','Paramount Pictures','Twentieth Century Fox Film Corporation','Columbia Pictures',\n",
    "    'New Line Cinema','Metro-Goldwyn-Mayer (MGM)','Touchstone Pictures','Walt Disney Pictures','Columbia Pictures Corporation',\n",
    "    'Relativity Media','United Artists','Miramax Films','TriStar Pictures','Canal+','Village Roadshow Pictures','DreamWorks SKG',\n",
    "    'Regency Enterprises','Lionsgate','Amblin Entertainment','Summit Entertainment','Dune Entertainment','Fox Searchlight Pictures',\n",
    "    'Dimension Films','Working Title Films','Fox 2000 Pictures','StudioCanal','Silver Pictures','Hollywood Pictures',\n",
    "    'The Weinstein Company'\n",
    "]\n",
    "\n",
    "for p in produtoras:\n",
    "    revenues_por_produtora[p] = []\n",
    "\n",
    "for f in df_mega_clean.index:\n",
    "    data_dict = ast.literal_eval(df_mega_clean[\"production_companies\"][f])\n",
    "    #print(data_dict)\n",
    "    for palavras in data_dict:\n",
    "        #print(palavras)\n",
    "        prod = palavras[\"name\"]\n",
    "        if prod in revenues_por_produtora:\n",
    "            revenues_por_produtora[prod].append(df_mega_clean['revenue'][f])\n",
    "        \n",
    "            \n",
    "#revenues_por_produtora\n",
    "            \n",
    "for k in revenues_por_produtora:\n",
    "    revenues_por_produtora[k] = (np.array(revenues_por_produtora[k]))"
   ]
  },
  {
   "cell_type": "code",
   "execution_count": 118,
   "metadata": {},
   "outputs": [
    {
     "data": {
      "image/png": "[encoded data removed]",
      "text/plain": [
       "<Figure size 1152x576 with 1 Axes>"
      ]
     },
     "metadata": {
      "needs_background": "light"
     },
     "output_type": "display_data"
    }
   ],
   "source": [
    "%matplotlib inline\n",
    "import matplotlib.pyplot as plt\n",
    "fig = plt.figure(figsize=(16,8))\n",
    "ax = fig.add_subplot(111)\n",
    "ax.boxplot(revenues_por_produtora.values(), showfliers=False)\n",
    "ax.set_xticklabels(revenues_por_produtora.keys(), rotation='vertical');\n",
    "#plt.yscale('log')\n",
    "plt.show()"
   ]
  },
  {
   "cell_type": "markdown",
   "metadata": {},
   "source": [
    "### Plotando o Histograma das variáveis budget e revenue:"
   ]
  },
  {
   "cell_type": "markdown",
   "metadata": {},
   "source": [
    "#### Budget:"
   ]
  },
  {
   "cell_type": "code",
   "execution_count": 29,
   "metadata": {
    "scrolled": true
   },
   "outputs": [
    {
     "data": {
      "text/plain": [
       "<matplotlib.axes._subplots.AxesSubplot at 0x29f847a1358>"
      ]
     },
     "execution_count": 29,
     "metadata": {},
     "output_type": "execute_result"
    },
    {
     "data": {
      "image/png": "[encoded data removed]",
      "text/plain": [
       "<Figure size 432x288 with 1 Axes>"
      ]
     },
     "metadata": {
      "needs_background": "light"
     },
     "output_type": "display_data"
    }
   ],
   "source": [
    "df_mega_clean.budget.plot.hist(density = False)"
   ]
  },
  {
   "cell_type": "markdown",
   "metadata": {},
   "source": [
    "#### Revenue:"
   ]
  },
  {
   "cell_type": "code",
   "execution_count": 30,
   "metadata": {},
   "outputs": [
    {
     "data": {
      "text/plain": [
       "<matplotlib.axes._subplots.AxesSubplot at 0x29f84979048>"
      ]
     },
     "execution_count": 30,
     "metadata": {},
     "output_type": "execute_result"
    },
    {
     "data": {
      "image/png": "[encoded data removed]",
      "text/plain": [
       "<Figure size 432x288 with 1 Axes>"
      ]
     },
     "metadata": {
      "needs_background": "light"
     },
     "output_type": "display_data"
    }
   ],
   "source": [
    "df_mega_clean.revenue.plot.hist(density = False)"
   ]
  },
  {
   "cell_type": "markdown",
   "metadata": {},
   "source": [
    "### Juntando as duas variáveis num gráfico de dispersão:"
   ]
  },
  {
   "cell_type": "markdown",
   "metadata": {},
   "source": [
    "#### Gráfico de dispersão juntando o orcçamento e a arrecadação dos filmes:"
   ]
  },
  {
   "cell_type": "code",
   "execution_count": 31,
   "metadata": {},
   "outputs": [
    {
     "data": {
      "text/plain": [
       "<matplotlib.axes._subplots.AxesSubplot at 0x29f849beda0>"
      ]
     },
     "execution_count": 31,
     "metadata": {},
     "output_type": "execute_result"
    },
    {
     "data": {
      "image/png": "[encoded data removed]",
      "text/plain": [
       "<Figure size 432x288 with 1 Axes>"
      ]
     },
     "metadata": {
      "needs_background": "light"
     },
     "output_type": "display_data"
    }
   ],
   "source": [
    "df_mega_clean.plot.scatter(x=\"budget\", y = \"revenue\",  logx=True)"
   ]
  },
  {
   "cell_type": "markdown",
   "metadata": {},
   "source": [
    "# Random Forest"
   ]
  },
  {
   "cell_type": "raw",
   "metadata": {},
   "source": [
    "from sklearn.ensemble import RandomForestClassifier\n",
    "\n",
    "Atividade: Tente escrever você mesmo o código de criação, treinamento e teste do modelo.\n",
    "model = RandomForestClassifier(n_estimators=100)\n",
    "model.fit(X_train, y_train)\n",
    "y_pred = model.predict(X_test)\n",
    "print('Acurácia: {}'.format(accuracy_score(y_test, y_pred)))"
   ]
  },
  {
   "cell_type": "markdown",
   "metadata": {},
   "source": [
    "# One Hot Encoder"
   ]
  },
  {
   "cell_type": "raw",
   "metadata": {},
   "source": [
    "from sklearn.preprocessing import OneHotEncoder\n",
    "encoder = OneHotEncoder()"
   ]
  }
 ],
 "metadata": {
  "kernelspec": {
   "display_name": "Python 3",
   "language": "python",
   "name": "python3"
  },
  "language_info": {
   "codemirror_mode": {
    "name": "ipython",
    "version": 3
   },
   "file_extension": ".py",
   "mimetype": "text/x-python",
   "name": "python",
   "nbconvert_exporter": "python",
   "pygments_lexer": "ipython3",
   "version": "3.7.1"
  }
 },
 "nbformat": 4,
 "nbformat_minor": 2
}
