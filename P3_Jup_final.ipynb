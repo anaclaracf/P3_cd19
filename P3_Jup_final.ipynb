{
 "cells": [
  {
   "cell_type": "markdown",
   "metadata": {},
   "source": [
    "# Projeto 3 de Ciência dos Dados\n",
    "\n",
    "### Integrantes:\n",
    "\n",
    "\n",
    "Ana Clara Carneiro\n",
    "\n",
    "João Pedro Varella\n",
    "\n",
    "João Guilherme Almeida"
   ]
  },
  {
   "cell_type": "markdown",
   "metadata": {},
   "source": [
    "## Imports"
   ]
  },
  {
   "cell_type": "code",
   "execution_count": 1,
   "metadata": {},
   "outputs": [],
   "source": [
    "import pandas as pd\n",
    "import ast\n",
    "from pprint import pprint\n",
    "import matplotlib.pyplot as plt\n",
    "from sklearn.ensemble import RandomForestClassifier\n",
    "from sklearn.linear_model import LogisticRegression \n",
    "from sklearn.svm import SVC\n",
    "from sklearn.metrics import accuracy_score\n",
    "from sklearn.model_selection import train_test_split \n",
    "import numpy as np\n",
    "from sklearn.datasets import load_digits\n",
    "digits = load_digits()"
   ]
  },
  {
   "cell_type": "markdown",
   "metadata": {},
   "source": [
    "___\n",
    "\n",
    "## Contextualização"
   ]
  },
  {
   "cell_type": "markdown",
   "metadata": {},
   "source": [
    "### Pergunta:"
   ]
  },
  {
   "cell_type": "markdown",
   "metadata": {},
   "source": [
    "\n",
    "A pergunta principal que será respondida no projeto é como diversos fatores influenciam na bilheteria de um filme. Como forma de estudo, estipularemos uma meta de bilheteria no decorrer das análises."
   ]
  },
  {
   "cell_type": "markdown",
   "metadata": {},
   "source": [
    "Sabe-se que anualmente, centenas de filmes entram em cartaz pelos diversos países do mundo. Dentre eles, a grande maioria não atinge altos valores de bilheteria. Por meio desse estudo, será possível compreender o que majoritariamente influencia se um filme será um sucesso ou se será um fracasso de bilheteria com as análises das diversas variáveis do Dataset. Dessa forma, torna-se possível compreender quais as melhores maneiras de se investir numa produção de cinema, a fim de maximizar o ganho em bilheteria. Esse estudo, enfim, possibilita a grandes produtoras compreender a melhor maneira de atingir altos valores de box office. Essas questões serão abordadas no andamento do projeto, para que, no fim, possamos responder à pergunta inicial."
   ]
  },
  {
   "cell_type": "markdown",
   "metadata": {},
   "source": [
    "### Sobre o Dataset:"
   ]
  },
  {
   "cell_type": "markdown",
   "metadata": {},
   "source": [
    "O Dataset utilizado, entitulado \"The Movies Dataset\", extraído do Kaggle, reúne diversas informações sobre mais de 45 mil filmes. Dentre essas, pode-se citar: atores, diretores, produtores, orçamento, bilheteria, gênero, popularidade, faixa etária, etc. \n",
    "\n",
    "No entanto, filtrou-se algumas variáveis julgadas como mais relevantes para o intuito do estudo. Dessa forma, certas categorias foram dispensadas para o andamento das análises."
   ]
  },
  {
   "cell_type": "markdown",
   "metadata": {},
   "source": [
    "O Dataset escolhido está disponível no link abaixo:"
   ]
  },
  {
   "cell_type": "markdown",
   "metadata": {},
   "source": [
    "https://www.kaggle.com/rounakbanik/the-movies-dataset"
   ]
  },
  {
   "cell_type": "markdown",
   "metadata": {},
   "source": [
    "### Método utilizado:"
   ]
  },
  {
   "cell_type": "markdown",
   "metadata": {},
   "source": [
    "Para a realização do projeto foram utilizados os seguintes métodos de classificação: Random Forest, Regressão Logística e Máquina de Vetores de Suporte; para que fosse possível, ao final do experimento, comparar os resultados obtidos e identificar qual destes gera uma melhor acurácia."
   ]
  },
  {
   "cell_type": "markdown",
   "metadata": {},
   "source": [
    "O primeiro modelo a ser explicado será o de classificação do Random Forest. Este utiliza as variáveis de entrada do nosso Dataset, devolvendo, ao fim, uma variável de saída binária (no caso do nosso projeto, se o filme atinge ou não a meta estipulada). A forma pela qual esse método realiza essa análise é: Inicialmente, recebe um filme qualquer e verifica se este possui uma primeira variável de entrada (Tomemos a presença do ator Tom Hanks como exemplo) e em seguida, checa alguma outra variável de entrada (filme ser ou não de ação) e assim por diante, de forma que cada \"árvore\" devolverá uma variável binária para se o filme atingiria a meta, baseado nas respostas das variáveis de entrada. Após analisar todas as árvores, o Random Forest devolve uma saída também na forma binária, se o filme conseguiria ou não bater a marca estabelecida, baseado nas respostas finais de cada árvore. Ao final, é gerada a precisão do modelo, o que torna possível definir se ele é realmente eficiente."
   ]
  },
  {
   "cell_type": "markdown",
   "metadata": {},
   "source": [
    "O próximo modelo utilizado no estudo foi a Máquina de Vetores de Suporte. Este, assim como o método citado anteriormente, utiliza as variáveis de entrada selecionadas no DataSet para obter uma variável de saída binária no final de sua análise. Entretanto, os artifícos utilizados para realizar a classificação são divergentes. Este possuiu um algoritmo capaz de analisar os dados fornecidos e realizar uma série de suposições, as quais são utilizadas para definir os vetores suportes. Tais vetores são responsáveis por direcionar uma 'linha' extremamente precisa, a qual separa os dados em categorias. Dessa forma, a partir da técnica mencionada anteriormente, é possível classificar com maior exatidão e, com isso, obter uma maior acurácia.\n"
   ]
  },
  {
   "cell_type": "markdown",
   "metadata": {},
   "source": [
    "E, por fim, o último modelo utilizado no projeto foi o de Regressão Logística. Esse método usufriu das variáveis de entrada para realizar sua análise e, com isso, estipular uma resposta binária, sendo ela se o filme atingirá ou não a meta estabelecida. Assim, a técnica utilizada para realizar esse estudo é baseada no método da máxima verossimilhança, o qual, por meio dos dados fornecidos, calcula os betas responsáveis por gerar uma combinação maximizada com o menor erro possível. Após isso, esses betas são utilizados para desenhar uma curva em S (característica da regressão logística), a qual é responsável por dividir os dados em diferentes categorias e, por meio disso, realizar uma classificação precisa."
   ]
  },
  {
   "cell_type": "markdown",
   "metadata": {},
   "source": [
    "## Lendo arquivos"
   ]
  },
  {
   "cell_type": "code",
   "execution_count": 3,
   "metadata": {
    "scrolled": true
   },
   "outputs": [
    {
     "name": "stderr",
     "output_type": "stream",
     "text": [
      "C:\\Users\\anacl\\Anaconda3\\lib\\site-packages\\IPython\\core\\interactiveshell.py:3058: DtypeWarning: Columns (10) have mixed types. Specify dtype option on import or set low_memory=False.\n",
      "  interactivity=interactivity, compiler=compiler, result=result)\n"
     ]
    }
   ],
   "source": [
    "df = pd.read_csv(\"movies_metadata.csv\")\n",
    "df2 = pd.read_csv(\"credits.csv\")"
   ]
  },
  {
   "cell_type": "markdown",
   "metadata": {},
   "source": [
    "## Limpeza do DataFrame \"Meta Data\""
   ]
  },
  {
   "cell_type": "markdown",
   "metadata": {},
   "source": [
    "### Retirada dos JSONs"
   ]
  },
  {
   "cell_type": "markdown",
   "metadata": {},
   "source": [
    "No dataset utilizado, algumas variáveis estavam codificadas na forma de JSON. Para acessá-las, foi necessário extrair as informações e transformá-las em um dicionário. Nesta etapa da análise, extraímos os nomes dos atores de cada um dos filmes. Dessa forma, foi possível criar um dicionário relacionando duas variáveis, em que a chave corresponde ao nome do ator, e o valor dessa chave é o número de filmes em que cada ator atuou."
   ]
  },
  {
   "cell_type": "code",
   "execution_count": 4,
   "metadata": {},
   "outputs": [],
   "source": [
    "from collections import defaultdict\n",
    "atores = defaultdict(int)\n",
    "for e in df2.index:\n",
    "    data_dict = ast.literal_eval(df2[\"cast\"][e])\n",
    "    for palavras in data_dict:\n",
    "        nome = palavras['name']\n",
    "        \n",
    "        atores[nome] += 1"
   ]
  },
  {
   "cell_type": "markdown",
   "metadata": {},
   "source": [
    "### Código para limpeza de certas variáveis tais como: revenue, budget, produtora e gênero:"
   ]
  },
  {
   "cell_type": "code",
   "execution_count": 5,
   "metadata": {},
   "outputs": [],
   "source": [
    "df_0 = df[df['revenue'] > 0]\n",
    "df_budget = df_0[df_0['budget'] != '0']\n",
    "df_clean = df_budget[df_budget['production_companies'] != '[]']\n",
    "df_super_clean = df_clean[df_clean['genres'] != '[]']"
   ]
  },
  {
   "cell_type": "code",
   "execution_count": 6,
   "metadata": {},
   "outputs": [
    {
     "name": "stderr",
     "output_type": "stream",
     "text": [
      "C:\\Users\\anacl\\Anaconda3\\lib\\site-packages\\ipykernel_launcher.py:2: SettingWithCopyWarning: \n",
      "A value is trying to be set on a copy of a slice from a DataFrame.\n",
      "Try using .loc[row_indexer,col_indexer] = value instead\n",
      "\n",
      "See the caveats in the documentation: http://pandas.pydata.org/pandas-docs/stable/user_guide/indexing.html#returning-a-view-versus-a-copy\n",
      "  \n"
     ]
    },
    {
     "data": {
      "text/html": [
       "<div>\n",
       "<style scoped>\n",
       "    .dataframe tbody tr th:only-of-type {\n",
       "        vertical-align: middle;\n",
       "    }\n",
       "\n",
       "    .dataframe tbody tr th {\n",
       "        vertical-align: top;\n",
       "    }\n",
       "\n",
       "    .dataframe thead th {\n",
       "        text-align: right;\n",
       "    }\n",
       "</style>\n",
       "<table border=\"1\" class=\"dataframe\">\n",
       "  <thead>\n",
       "    <tr style=\"text-align: right;\">\n",
       "      <th></th>\n",
       "      <th>id</th>\n",
       "      <th>genres</th>\n",
       "      <th>budget</th>\n",
       "      <th>revenue</th>\n",
       "      <th>production_companies</th>\n",
       "    </tr>\n",
       "  </thead>\n",
       "  <tbody>\n",
       "    <tr>\n",
       "      <td>0</td>\n",
       "      <td>862</td>\n",
       "      <td>[{'id': 16, 'name': 'Animation'}, {'id': 35, '...</td>\n",
       "      <td>30000000.0</td>\n",
       "      <td>373554033.0</td>\n",
       "      <td>[{'name': 'Pixar Animation Studios', 'id': 3}]</td>\n",
       "    </tr>\n",
       "    <tr>\n",
       "      <td>1</td>\n",
       "      <td>8844</td>\n",
       "      <td>[{'id': 12, 'name': 'Adventure'}, {'id': 14, '...</td>\n",
       "      <td>65000000.0</td>\n",
       "      <td>262797249.0</td>\n",
       "      <td>[{'name': 'TriStar Pictures', 'id': 559}, {'na...</td>\n",
       "    </tr>\n",
       "    <tr>\n",
       "      <td>3</td>\n",
       "      <td>31357</td>\n",
       "      <td>[{'id': 35, 'name': 'Comedy'}, {'id': 18, 'nam...</td>\n",
       "      <td>16000000.0</td>\n",
       "      <td>81452156.0</td>\n",
       "      <td>[{'name': 'Twentieth Century Fox Film Corporat...</td>\n",
       "    </tr>\n",
       "    <tr>\n",
       "      <td>5</td>\n",
       "      <td>949</td>\n",
       "      <td>[{'id': 28, 'name': 'Action'}, {'id': 80, 'nam...</td>\n",
       "      <td>60000000.0</td>\n",
       "      <td>187436818.0</td>\n",
       "      <td>[{'name': 'Regency Enterprises', 'id': 508}, {...</td>\n",
       "    </tr>\n",
       "    <tr>\n",
       "      <td>8</td>\n",
       "      <td>9091</td>\n",
       "      <td>[{'id': 28, 'name': 'Action'}, {'id': 12, 'nam...</td>\n",
       "      <td>35000000.0</td>\n",
       "      <td>64350171.0</td>\n",
       "      <td>[{'name': 'Universal Pictures', 'id': 33}, {'n...</td>\n",
       "    </tr>\n",
       "  </tbody>\n",
       "</table>\n",
       "</div>"
      ],
      "text/plain": [
       "      id                                             genres      budget  \\\n",
       "0    862  [{'id': 16, 'name': 'Animation'}, {'id': 35, '...  30000000.0   \n",
       "1   8844  [{'id': 12, 'name': 'Adventure'}, {'id': 14, '...  65000000.0   \n",
       "3  31357  [{'id': 35, 'name': 'Comedy'}, {'id': 18, 'nam...  16000000.0   \n",
       "5    949  [{'id': 28, 'name': 'Action'}, {'id': 80, 'nam...  60000000.0   \n",
       "8   9091  [{'id': 28, 'name': 'Action'}, {'id': 12, 'nam...  35000000.0   \n",
       "\n",
       "       revenue                               production_companies  \n",
       "0  373554033.0     [{'name': 'Pixar Animation Studios', 'id': 3}]  \n",
       "1  262797249.0  [{'name': 'TriStar Pictures', 'id': 559}, {'na...  \n",
       "3   81452156.0  [{'name': 'Twentieth Century Fox Film Corporat...  \n",
       "5  187436818.0  [{'name': 'Regency Enterprises', 'id': 508}, {...  \n",
       "8   64350171.0  [{'name': 'Universal Pictures', 'id': 33}, {'n...  "
      ]
     },
     "execution_count": 6,
     "metadata": {},
     "output_type": "execute_result"
    }
   ],
   "source": [
    "df_mega_clean = df_super_clean[[\"id\",\"genres\",\"budget\",\"revenue\",\"production_companies\"]]\n",
    "df_mega_clean['budget'] = df_mega_clean['budget'].astype(float)\n",
    "df_mega_clean.head()"
   ]
  },
  {
   "cell_type": "markdown",
   "metadata": {},
   "source": [
    "---"
   ]
  },
  {
   "cell_type": "markdown",
   "metadata": {},
   "source": [
    "## Análise Exploratória"
   ]
  },
  {
   "cell_type": "markdown",
   "metadata": {},
   "source": [
    "Primeiramente foram analisadas as variáveis mais simplórias do DataFrame. Dessa forma, foram plotados histogramas que relacionam a frequência absoluta das variáveis Budget e Revenue."
   ]
  },
  {
   "cell_type": "markdown",
   "metadata": {},
   "source": [
    "### Histograma da variável budget"
   ]
  },
  {
   "cell_type": "code",
   "execution_count": 7,
   "metadata": {},
   "outputs": [
    {
     "data": {
      "image/png": "[encoded data removed]",
      "text/plain": [
       "<Figure size 432x288 with 1 Axes>"
      ]
     },
     "metadata": {
      "needs_background": "light"
     },
     "output_type": "display_data"
    }
   ],
   "source": [
    "df_mega_clean.budget.plot.hist(density = False)\n",
    "plt.title('Budget')\n",
    "plt.show()"
   ]
  },
  {
   "cell_type": "markdown",
   "metadata": {},
   "source": [
    "##### Pode-se observar pelo histograma acima que dentre os filmes disponibilizados no Dataset, a esmagadora maioria possui um baixo orçamento. Este fato explicita que os grandes filmes orçamentários representam somente uma pequena fatia de todos os filmes produzidos"
   ]
  },
  {
   "cell_type": "markdown",
   "metadata": {},
   "source": [
    "----"
   ]
  },
  {
   "cell_type": "markdown",
   "metadata": {},
   "source": [
    "### Histograma da variável revenue"
   ]
  },
  {
   "cell_type": "code",
   "execution_count": 8,
   "metadata": {},
   "outputs": [
    {
     "data": {
      "image/png": "[encoded data removed]",
      "text/plain": [
       "<Figure size 432x288 with 1 Axes>"
      ]
     },
     "metadata": {
      "needs_background": "light"
     },
     "output_type": "display_data"
    }
   ],
   "source": [
    "df_mega_clean.revenue.plot.hist(density = False)\n",
    "plt.title('Revenue')\n",
    "plt.show()"
   ]
  },
  {
   "cell_type": "markdown",
   "metadata": {},
   "source": [
    "##### Neste segundo histograma, que relaciona a bilheteria dos filmes, nota-se que, novamente, a esmagadora minoria atingiu altos valores nesse quesito. Isto demonstra que dentre todos os filmes anualmente chegam aos cinemas, poucos deles atingem um grande sucesso"
   ]
  },
  {
   "cell_type": "markdown",
   "metadata": {},
   "source": [
    "----"
   ]
  },
  {
   "cell_type": "markdown",
   "metadata": {},
   "source": [
    "### Gráfico de dispersão das variáveis budget e revenue"
   ]
  },
  {
   "cell_type": "markdown",
   "metadata": {},
   "source": [
    "##### Neste gráfico de dispersão, foram relacionadas as duas variáveis acima, de modo que fosse possível constatar a relação entre filmes com alto orçamento e filmes com alta bilheteria."
   ]
  },
  {
   "cell_type": "code",
   "execution_count": 9,
   "metadata": {},
   "outputs": [
    {
     "data": {
      "image/png": "[encoded data removed]",
      "text/plain": [
       "<Figure size 432x288 with 1 Axes>"
      ]
     },
     "metadata": {
      "needs_background": "light"
     },
     "output_type": "display_data"
    }
   ],
   "source": [
    "df_mega_clean.plot.scatter(x=\"budget\", y = \"revenue\")\n",
    "plt.title('Budget x Revenue')\n",
    "plt.show()"
   ]
  },
  {
   "cell_type": "markdown",
   "metadata": {},
   "source": [
    "---"
   ]
  },
  {
   "cell_type": "markdown",
   "metadata": {},
   "source": [
    "### Gráficos de barras - Gêneros"
   ]
  },
  {
   "cell_type": "markdown",
   "metadata": {},
   "source": [
    "A fim de disponibilizar os mais diversos filmes do Dataset relacionando-os por seus gêneros, criou-se um gráfico de barras em que cada coluna representa cada gênero presente nos dados. Dessa forma, pode-se concluir que os filmes de drama foram os mais presentes no Dataset escolhido, seguido pelos de comédia e de suspense, como pode ser observado no gráfico abaixo:"
   ]
  },
  {
   "cell_type": "code",
   "execution_count": 10,
   "metadata": {},
   "outputs": [
    {
     "data": {
      "text/plain": [
       "<matplotlib.axes._subplots.AxesSubplot at 0x1f698d7b048>"
      ]
     },
     "execution_count": 10,
     "metadata": {},
     "output_type": "execute_result"
    },
    {
     "data": {
      "image/png": "[encoded data removed]",
      "text/plain": [
       "<Figure size 432x288 with 1 Axes>"
      ]
     },
     "metadata": {
      "needs_background": "light"
     },
     "output_type": "display_data"
    }
   ],
   "source": [
    "generos = []\n",
    "for e in df_mega_clean.index:\n",
    "    data_dict = ast.literal_eval(df_mega_clean[\"genres\"][e])\n",
    "    for palavras in data_dict:\n",
    "        generos.append(palavras['name'])\n",
    "\n",
    "df_generos = pd.DataFrame(generos)\n",
    "df_generos\n",
    "geneross = df_generos[0].value_counts()\n",
    "geneross\n",
    "geneross.plot(kind='bar')"
   ]
  },
  {
   "cell_type": "markdown",
   "metadata": {},
   "source": [
    "---"
   ]
  },
  {
   "cell_type": "markdown",
   "metadata": {},
   "source": [
    "### Box Plot - Gêneros x Revenue"
   ]
  },
  {
   "cell_type": "markdown",
   "metadata": {},
   "source": [
    "No entanto, para tornar mais visual a análise dos filmes por categoria relacionando com revenue, criou-se um box plot para cada uma delas. Para tal, foi necessário percorrer o dataset original e extrair o valor de bilheteria referente a cada filme; e, por fim, relacionar com cada categoria"
   ]
  },
  {
   "cell_type": "code",
   "execution_count": 11,
   "metadata": {},
   "outputs": [],
   "source": [
    "revenues_por_categoria = {}\n",
    "categorias = [\n",
    "    'Drama', 'Comedy', 'Thriller',\n",
    "    'Action','Romance','Adventure','Crime','Science Fiction',\n",
    "    'Horror','Family','Fantasy','Mystery','Animation','History',\n",
    "    \"War\",'Music','Western','Documentary','Foreign','TV Movie'\n",
    "]\n",
    "\n",
    "for c in categorias:\n",
    "    revenues_por_categoria[c] = []\n",
    "\n",
    "for e in df_mega_clean.index:\n",
    "    data_dict = ast.literal_eval(df_mega_clean[\"genres\"][e])\n",
    "    for palavras in data_dict:\n",
    "        cat = palavras[\"name\"]\n",
    "        if cat in revenues_por_categoria:\n",
    "            revenues_por_categoria[cat].append(df_mega_clean['revenue'][e])\n",
    "            \n",
    "for k in revenues_por_categoria:\n",
    "    revenues_por_categoria[k] = (np.array(revenues_por_categoria[k]))"
   ]
  },
  {
   "cell_type": "markdown",
   "metadata": {},
   "source": [
    "Vale ressaltar que para a elaboração dos gráficos abaixo, foi necessário excluir os outliers de cada categoria, pois se estes fossem mantidos, impossibilitariam a visualização dos quartis e da média dos box plots, devido à grande disparidade de valores"
   ]
  },
  {
   "cell_type": "code",
   "execution_count": 12,
   "metadata": {
    "scrolled": false
   },
   "outputs": [
    {
     "data": {
      "image/png": "[encoded data removed]",
      "text/plain": [
       "<Figure size 1152x576 with 1 Axes>"
      ]
     },
     "metadata": {
      "needs_background": "light"
     },
     "output_type": "display_data"
    }
   ],
   "source": [
    "%matplotlib inline\n",
    "import matplotlib.pyplot as plt\n",
    "fig = plt.figure(figsize=(16,8))\n",
    "ax = fig.add_subplot(111)\n",
    "ax.boxplot(revenues_por_categoria.values(), showfliers=False)\n",
    "ax.set_xticklabels(revenues_por_categoria.keys(), rotation='vertical');\n",
    "plt.show()"
   ]
  },
  {
   "cell_type": "markdown",
   "metadata": {},
   "source": [
    "##### A partir da análise dos dados, é possível constatar que os filmes do gênero de animação possuem a maior média de arrecadação entre os gêneros do cinema. E, por outro lado, os filmes estrangeiros são os que possuem a menor média de bilheteria"
   ]
  },
  {
   "cell_type": "markdown",
   "metadata": {},
   "source": [
    "---"
   ]
  },
  {
   "cell_type": "markdown",
   "metadata": {},
   "source": [
    "### Gráficos de Barras - Produtoras"
   ]
  },
  {
   "cell_type": "markdown",
   "metadata": {},
   "source": [
    "Analogamente ao que foi feito para os gêneros, montou-se um gráfico de barras para que fosse possível observar quais produtoras mais realizaram filmes dentre as disponiblizadas pelo dataset."
   ]
  },
  {
   "cell_type": "code",
   "execution_count": 13,
   "metadata": {},
   "outputs": [
    {
     "data": {
      "text/plain": [
       "<matplotlib.axes._subplots.AxesSubplot at 0x1f69979b9c8>"
      ]
     },
     "execution_count": 13,
     "metadata": {},
     "output_type": "execute_result"
    },
    {
     "data": {
      "image/png": "[encoded data removed]",
      "text/plain": [
       "<Figure size 432x288 with 1 Axes>"
      ]
     },
     "metadata": {
      "needs_background": "light"
     },
     "output_type": "display_data"
    }
   ],
   "source": [
    "produtoras = []\n",
    "for e in df_mega_clean.index:\n",
    "    data_dict = ast.literal_eval(df_mega_clean[\"production_companies\"][e])\n",
    "    for palavras in data_dict:\n",
    "        produtoras.append(palavras['name'])\n",
    "\n",
    "df_produtoras = pd.DataFrame(produtoras)\n",
    "df_produtoras\n",
    "produtorass = df_produtoras[0].value_counts().head(30)\n",
    "produtorass\n",
    "produtorass.plot(kind='bar')"
   ]
  },
  {
   "cell_type": "markdown",
   "metadata": {},
   "source": [
    "### Box Plot - Produtoras x Revenue"
   ]
  },
  {
   "cell_type": "code",
   "execution_count": 14,
   "metadata": {},
   "outputs": [],
   "source": [
    "revenues_por_produtora = {}\n",
    "produtoras = [\n",
    "    'Warner Bros.','Universal Pictures','Paramount Pictures','Twentieth Century Fox Film Corporation','Columbia Pictures',\n",
    "    'New Line Cinema','Metro-Goldwyn-Mayer (MGM)','Touchstone Pictures','Walt Disney Pictures','Columbia Pictures Corporation',\n",
    "    'Relativity Media','United Artists','Miramax Films','TriStar Pictures','Canal+','Village Roadshow Pictures','DreamWorks SKG',\n",
    "    'Regency Enterprises','Lionsgate','Amblin Entertainment','Summit Entertainment','Dune Entertainment','Fox Searchlight Pictures',\n",
    "    'Dimension Films','Working Title Films','Fox 2000 Pictures','StudioCanal','Silver Pictures','Hollywood Pictures',\n",
    "    'The Weinstein Company'\n",
    "]\n",
    "\n",
    "for p in produtoras:\n",
    "    revenues_por_produtora[p] = []\n",
    "\n",
    "for f in df_mega_clean.index:\n",
    "    data_dict = ast.literal_eval(df_mega_clean[\"production_companies\"][f])\n",
    "    for palavras in data_dict:\n",
    "        prod = palavras[\"name\"]\n",
    "        if prod in revenues_por_produtora:\n",
    "            revenues_por_produtora[prod].append(df_mega_clean['revenue'][f])\n",
    "        \n",
    "            \n",
    "for k in revenues_por_produtora:\n",
    "    revenues_por_produtora[k] = (np.array(revenues_por_produtora[k]))"
   ]
  },
  {
   "cell_type": "markdown",
   "metadata": {},
   "source": [
    "Assim como foi feito para a série de box plots anterior, foi necessário retirar os dados dos outliers para que se tornasse possível observar os pontos importantes dos gráficos, tais como quartis e a média dos dados."
   ]
  },
  {
   "cell_type": "code",
   "execution_count": 15,
   "metadata": {},
   "outputs": [
    {
     "data": {
      "image/png": "[encoded data removed]",
      "text/plain": [
       "<Figure size 1152x576 with 1 Axes>"
      ]
     },
     "metadata": {
      "needs_background": "light"
     },
     "output_type": "display_data"
    }
   ],
   "source": [
    "%matplotlib inline\n",
    "import matplotlib.pyplot as plt\n",
    "fig = plt.figure(figsize=(16,8))\n",
    "ax = fig.add_subplot(111)\n",
    "ax.boxplot(revenues_por_produtora.values(), showfliers=False)\n",
    "ax.set_xticklabels(revenues_por_produtora.keys(), rotation='vertical');\n",
    "plt.show()"
   ]
  },
  {
   "cell_type": "markdown",
   "metadata": {},
   "source": [
    "##### Dentre as produtoras presentes no Dataset, as duas de maior média de arrecadação são, respectivamente, Amblin Entertainment (responsável pela produção de diversos filmes da Universal Studios) e a Walt Disney Pictures. Por outro lado, a MGM aparentou demonstrar a menor média de bilheteria."
   ]
  },
  {
   "cell_type": "markdown",
   "metadata": {},
   "source": [
    "## Limpeza do DataFrame \"Credits\""
   ]
  },
  {
   "cell_type": "code",
   "execution_count": 16,
   "metadata": {},
   "outputs": [
    {
     "data": {
      "text/plain": [
       "Tom Hanks        72\n",
       "Tim Allen        29\n",
       "Don Rickles      29\n",
       "Jim Varney       20\n",
       "Wallace Shawn    75\n",
       "dtype: int64"
      ]
     },
     "execution_count": 16,
     "metadata": {},
     "output_type": "execute_result"
    }
   ],
   "source": [
    "ser_atores = pd.Series(atores)\n",
    "ser_atores.head()"
   ]
  },
  {
   "cell_type": "markdown",
   "metadata": {},
   "source": [
    "Para visualizar de maneira mais ordenada e clara os dados do DataFrame, foi selecionada a parcela de 0.1% de atores com mais produções no cinema. Dessa forma, atingiu-se todos com mais de 28 aparições:"
   ]
  },
  {
   "cell_type": "code",
   "execution_count": 17,
   "metadata": {},
   "outputs": [],
   "source": [
    "ser_atores = ser_atores[ser_atores > 28].sort_values(ascending=False)"
   ]
  },
  {
   "cell_type": "markdown",
   "metadata": {},
   "source": [
    "Para utilizar os dados do DataFrame acima no método do Random Forest, foi necessário transformar suas informações em um outro DataFrame com solução binária (0 ou 1).\n",
    "\n",
    "Neste novo, cada linha representa cada um dos filmes contidos no database inicial e cada coluna representa os atores selecionados previamente:"
   ]
  },
  {
   "cell_type": "code",
   "execution_count": 18,
   "metadata": {},
   "outputs": [],
   "source": [
    "df_filmes_atores = pd.DataFrame(index=df2.index, columns=ser_atores.index, dtype=np.uint8)\n",
    "for e in df2.index:\n",
    "    data_dict = ast.literal_eval(df2[\"cast\"][e])\n",
    "    for palavras in data_dict:\n",
    "        nome = palavras['name']\n",
    "        if nome in df_filmes_atores.columns:\n",
    "            df_filmes_atores[nome][e] = 1"
   ]
  },
  {
   "cell_type": "code",
   "execution_count": 19,
   "metadata": {},
   "outputs": [
    {
     "data": {
      "text/html": [
       "<div>\n",
       "<style scoped>\n",
       "    .dataframe tbody tr th:only-of-type {\n",
       "        vertical-align: middle;\n",
       "    }\n",
       "\n",
       "    .dataframe tbody tr th {\n",
       "        vertical-align: top;\n",
       "    }\n",
       "\n",
       "    .dataframe thead th {\n",
       "        text-align: right;\n",
       "    }\n",
       "</style>\n",
       "<table border=\"1\" class=\"dataframe\">\n",
       "  <thead>\n",
       "    <tr style=\"text-align: right;\">\n",
       "      <th></th>\n",
       "      <th>Bess Flowers</th>\n",
       "      <th>Christopher Lee</th>\n",
       "      <th>John Wayne</th>\n",
       "      <th>Samuel L. Jackson</th>\n",
       "      <th>Gérard Depardieu</th>\n",
       "      <th>Michael Caine</th>\n",
       "      <th>John Carradine</th>\n",
       "      <th>Donald Sutherland</th>\n",
       "      <th>Jackie Chan</th>\n",
       "      <th>Frank Welker</th>\n",
       "      <th>...</th>\n",
       "      <th>Syd Saylor</th>\n",
       "      <th>George Raft</th>\n",
       "      <th>Quentin Tarantino</th>\n",
       "      <th>Paul Winfield</th>\n",
       "      <th>Emilio Estevez</th>\n",
       "      <th>Chow Yun-fat</th>\n",
       "      <th>Chazz Palminteri</th>\n",
       "      <th>Carmen Electra</th>\n",
       "      <th>Olaf Hytten</th>\n",
       "      <th>Walter Gotell</th>\n",
       "    </tr>\n",
       "  </thead>\n",
       "  <tbody>\n",
       "    <tr>\n",
       "      <td>0</td>\n",
       "      <td>0.0</td>\n",
       "      <td>0.0</td>\n",
       "      <td>0.0</td>\n",
       "      <td>0.0</td>\n",
       "      <td>0.0</td>\n",
       "      <td>0.0</td>\n",
       "      <td>0.0</td>\n",
       "      <td>0.0</td>\n",
       "      <td>0.0</td>\n",
       "      <td>0.0</td>\n",
       "      <td>...</td>\n",
       "      <td>0.0</td>\n",
       "      <td>0.0</td>\n",
       "      <td>0.0</td>\n",
       "      <td>0.0</td>\n",
       "      <td>0.0</td>\n",
       "      <td>0.0</td>\n",
       "      <td>0.0</td>\n",
       "      <td>0.0</td>\n",
       "      <td>0.0</td>\n",
       "      <td>0.0</td>\n",
       "    </tr>\n",
       "    <tr>\n",
       "      <td>1</td>\n",
       "      <td>0.0</td>\n",
       "      <td>0.0</td>\n",
       "      <td>0.0</td>\n",
       "      <td>0.0</td>\n",
       "      <td>0.0</td>\n",
       "      <td>0.0</td>\n",
       "      <td>0.0</td>\n",
       "      <td>0.0</td>\n",
       "      <td>0.0</td>\n",
       "      <td>0.0</td>\n",
       "      <td>...</td>\n",
       "      <td>0.0</td>\n",
       "      <td>0.0</td>\n",
       "      <td>0.0</td>\n",
       "      <td>0.0</td>\n",
       "      <td>0.0</td>\n",
       "      <td>0.0</td>\n",
       "      <td>0.0</td>\n",
       "      <td>0.0</td>\n",
       "      <td>0.0</td>\n",
       "      <td>0.0</td>\n",
       "    </tr>\n",
       "    <tr>\n",
       "      <td>2</td>\n",
       "      <td>0.0</td>\n",
       "      <td>0.0</td>\n",
       "      <td>0.0</td>\n",
       "      <td>0.0</td>\n",
       "      <td>0.0</td>\n",
       "      <td>0.0</td>\n",
       "      <td>0.0</td>\n",
       "      <td>0.0</td>\n",
       "      <td>0.0</td>\n",
       "      <td>0.0</td>\n",
       "      <td>...</td>\n",
       "      <td>0.0</td>\n",
       "      <td>0.0</td>\n",
       "      <td>0.0</td>\n",
       "      <td>0.0</td>\n",
       "      <td>0.0</td>\n",
       "      <td>0.0</td>\n",
       "      <td>0.0</td>\n",
       "      <td>0.0</td>\n",
       "      <td>0.0</td>\n",
       "      <td>0.0</td>\n",
       "    </tr>\n",
       "    <tr>\n",
       "      <td>3</td>\n",
       "      <td>0.0</td>\n",
       "      <td>0.0</td>\n",
       "      <td>0.0</td>\n",
       "      <td>0.0</td>\n",
       "      <td>0.0</td>\n",
       "      <td>0.0</td>\n",
       "      <td>0.0</td>\n",
       "      <td>0.0</td>\n",
       "      <td>0.0</td>\n",
       "      <td>0.0</td>\n",
       "      <td>...</td>\n",
       "      <td>0.0</td>\n",
       "      <td>0.0</td>\n",
       "      <td>0.0</td>\n",
       "      <td>0.0</td>\n",
       "      <td>0.0</td>\n",
       "      <td>0.0</td>\n",
       "      <td>0.0</td>\n",
       "      <td>0.0</td>\n",
       "      <td>0.0</td>\n",
       "      <td>0.0</td>\n",
       "    </tr>\n",
       "    <tr>\n",
       "      <td>4</td>\n",
       "      <td>0.0</td>\n",
       "      <td>0.0</td>\n",
       "      <td>0.0</td>\n",
       "      <td>0.0</td>\n",
       "      <td>0.0</td>\n",
       "      <td>0.0</td>\n",
       "      <td>0.0</td>\n",
       "      <td>0.0</td>\n",
       "      <td>0.0</td>\n",
       "      <td>0.0</td>\n",
       "      <td>...</td>\n",
       "      <td>0.0</td>\n",
       "      <td>0.0</td>\n",
       "      <td>0.0</td>\n",
       "      <td>0.0</td>\n",
       "      <td>0.0</td>\n",
       "      <td>0.0</td>\n",
       "      <td>0.0</td>\n",
       "      <td>0.0</td>\n",
       "      <td>0.0</td>\n",
       "      <td>0.0</td>\n",
       "    </tr>\n",
       "  </tbody>\n",
       "</table>\n",
       "<p>5 rows × 1891 columns</p>\n",
       "</div>"
      ],
      "text/plain": [
       "   Bess Flowers  Christopher Lee  John Wayne  Samuel L. Jackson  \\\n",
       "0           0.0              0.0         0.0                0.0   \n",
       "1           0.0              0.0         0.0                0.0   \n",
       "2           0.0              0.0         0.0                0.0   \n",
       "3           0.0              0.0         0.0                0.0   \n",
       "4           0.0              0.0         0.0                0.0   \n",
       "\n",
       "   Gérard Depardieu  Michael Caine  John Carradine  Donald Sutherland  \\\n",
       "0               0.0            0.0             0.0                0.0   \n",
       "1               0.0            0.0             0.0                0.0   \n",
       "2               0.0            0.0             0.0                0.0   \n",
       "3               0.0            0.0             0.0                0.0   \n",
       "4               0.0            0.0             0.0                0.0   \n",
       "\n",
       "   Jackie Chan  Frank Welker  ...  Syd Saylor  George Raft  Quentin Tarantino  \\\n",
       "0          0.0           0.0  ...         0.0          0.0                0.0   \n",
       "1          0.0           0.0  ...         0.0          0.0                0.0   \n",
       "2          0.0           0.0  ...         0.0          0.0                0.0   \n",
       "3          0.0           0.0  ...         0.0          0.0                0.0   \n",
       "4          0.0           0.0  ...         0.0          0.0                0.0   \n",
       "\n",
       "   Paul Winfield  Emilio Estevez  Chow Yun-fat  Chazz Palminteri  \\\n",
       "0            0.0             0.0           0.0               0.0   \n",
       "1            0.0             0.0           0.0               0.0   \n",
       "2            0.0             0.0           0.0               0.0   \n",
       "3            0.0             0.0           0.0               0.0   \n",
       "4            0.0             0.0           0.0               0.0   \n",
       "\n",
       "   Carmen Electra  Olaf Hytten  Walter Gotell  \n",
       "0             0.0          0.0            0.0  \n",
       "1             0.0          0.0            0.0  \n",
       "2             0.0          0.0            0.0  \n",
       "3             0.0          0.0            0.0  \n",
       "4             0.0          0.0            0.0  \n",
       "\n",
       "[5 rows x 1891 columns]"
      ]
     },
     "execution_count": 19,
     "metadata": {},
     "output_type": "execute_result"
    }
   ],
   "source": [
    "df_filmes_atores[df_filmes_atores != 1] = 0\n",
    "df_filmes_atores.head()"
   ]
  },
  {
   "cell_type": "markdown",
   "metadata": {},
   "source": [
    "Nota-se que neste DataFrame, a grande maioria dos dígitos é 0, o que representa o óbvio, os atores apareceram em poucos filmes em relação ao total estudado"
   ]
  },
  {
   "cell_type": "code",
   "execution_count": 20,
   "metadata": {},
   "outputs": [
    {
     "data": {
      "text/plain": [
       "1    43373\n",
       "Name: original_title, dtype: int64"
      ]
     },
     "execution_count": 20,
     "metadata": {},
     "output_type": "execute_result"
    }
   ],
   "source": [
    "df.drop_duplicates(subset =\"original_title\", \n",
    "                     keep = 'first', inplace = True) \n",
    "df[\"original_title\"].value_counts().value_counts()"
   ]
  },
  {
   "cell_type": "code",
   "execution_count": 21,
   "metadata": {},
   "outputs": [],
   "source": [
    "df['bilhao'] = df.revenue > 1e9"
   ]
  },
  {
   "cell_type": "markdown",
   "metadata": {},
   "source": [
    "## Limpeza das variáveis de entrada tais como: revenue, budget, produtora e gênero:"
   ]
  },
  {
   "cell_type": "code",
   "execution_count": 22,
   "metadata": {},
   "outputs": [],
   "source": [
    "df_0 = df[df['revenue'] > 0]\n",
    "df_budget = df_0[df_0['budget'] != '0']\n",
    "df_clean = df_budget[df_budget['production_companies'] != '[]']\n",
    "df_super_clean = df_clean[df_clean['genres'] != '[]']"
   ]
  },
  {
   "cell_type": "code",
   "execution_count": 23,
   "metadata": {
    "scrolled": false
   },
   "outputs": [
    {
     "name": "stderr",
     "output_type": "stream",
     "text": [
      "C:\\Users\\anacl\\Anaconda3\\lib\\site-packages\\ipykernel_launcher.py:2: SettingWithCopyWarning: \n",
      "A value is trying to be set on a copy of a slice from a DataFrame.\n",
      "Try using .loc[row_indexer,col_indexer] = value instead\n",
      "\n",
      "See the caveats in the documentation: http://pandas.pydata.org/pandas-docs/stable/user_guide/indexing.html#returning-a-view-versus-a-copy\n",
      "  \n"
     ]
    }
   ],
   "source": [
    "df_mega_clean = df_super_clean[[\"id\",\"genres\",\"budget\",\"revenue\",\"production_companies\"]]\n",
    "df_mega_clean['budget'] = df_mega_clean['budget'].astype(float)"
   ]
  },
  {
   "cell_type": "code",
   "execution_count": 24,
   "metadata": {},
   "outputs": [
    {
     "data": {
      "text/plain": [
       "129924654.00000012"
      ]
     },
     "execution_count": 24,
     "metadata": {},
     "output_type": "execute_result"
    }
   ],
   "source": [
    "df_mega_clean.revenue.quantile(0.8)"
   ]
  },
  {
   "cell_type": "markdown",
   "metadata": {},
   "source": [
    "Na célula acima, verificou-se que o valor que corta os 20% das maiores bilheterias é 129 milhões de dólares. Dessa forma, definimos que o valor que seria usado no modelo como meta de bilheteria para os filmes seria 150 milhões de dólares."
   ]
  },
  {
   "cell_type": "code",
   "execution_count": 25,
   "metadata": {},
   "outputs": [],
   "source": [
    "milhao = []\n",
    "for dinheiro in df_mega_clean.revenue:\n",
    "    if dinheiro > 1.5e8:\n",
    "        milhao.append(1)\n",
    "    else:\n",
    "        milhao.append(0)"
   ]
  },
  {
   "cell_type": "markdown",
   "metadata": {},
   "source": [
    "Após definir a meta do modelo, percorremos todos os filmes e adicionamos uma nova coluna ao nosso dataframe original, a qual indica se cada filme atingiu a meta estipulada."
   ]
  },
  {
   "cell_type": "code",
   "execution_count": 26,
   "metadata": {
    "scrolled": true
   },
   "outputs": [
    {
     "name": "stderr",
     "output_type": "stream",
     "text": [
      "C:\\Users\\anacl\\Anaconda3\\lib\\site-packages\\ipykernel_launcher.py:1: SettingWithCopyWarning: \n",
      "A value is trying to be set on a copy of a slice from a DataFrame.\n",
      "Try using .loc[row_indexer,col_indexer] = value instead\n",
      "\n",
      "See the caveats in the documentation: http://pandas.pydata.org/pandas-docs/stable/user_guide/indexing.html#returning-a-view-versus-a-copy\n",
      "  \"\"\"Entry point for launching an IPython kernel.\n"
     ]
    },
    {
     "data": {
      "text/html": [
       "<div>\n",
       "<style scoped>\n",
       "    .dataframe tbody tr th:only-of-type {\n",
       "        vertical-align: middle;\n",
       "    }\n",
       "\n",
       "    .dataframe tbody tr th {\n",
       "        vertical-align: top;\n",
       "    }\n",
       "\n",
       "    .dataframe thead th {\n",
       "        text-align: right;\n",
       "    }\n",
       "</style>\n",
       "<table border=\"1\" class=\"dataframe\">\n",
       "  <thead>\n",
       "    <tr style=\"text-align: right;\">\n",
       "      <th></th>\n",
       "      <th>id</th>\n",
       "      <th>genres</th>\n",
       "      <th>budget</th>\n",
       "      <th>revenue</th>\n",
       "      <th>production_companies</th>\n",
       "      <th>Fez ou não 150 mi</th>\n",
       "    </tr>\n",
       "  </thead>\n",
       "  <tbody>\n",
       "    <tr>\n",
       "      <td>0</td>\n",
       "      <td>862</td>\n",
       "      <td>[{'id': 16, 'name': 'Animation'}, {'id': 35, '...</td>\n",
       "      <td>30000000.0</td>\n",
       "      <td>373554033.0</td>\n",
       "      <td>[{'name': 'Pixar Animation Studios', 'id': 3}]</td>\n",
       "      <td>1</td>\n",
       "    </tr>\n",
       "    <tr>\n",
       "      <td>1</td>\n",
       "      <td>8844</td>\n",
       "      <td>[{'id': 12, 'name': 'Adventure'}, {'id': 14, '...</td>\n",
       "      <td>65000000.0</td>\n",
       "      <td>262797249.0</td>\n",
       "      <td>[{'name': 'TriStar Pictures', 'id': 559}, {'na...</td>\n",
       "      <td>1</td>\n",
       "    </tr>\n",
       "    <tr>\n",
       "      <td>3</td>\n",
       "      <td>31357</td>\n",
       "      <td>[{'id': 35, 'name': 'Comedy'}, {'id': 18, 'nam...</td>\n",
       "      <td>16000000.0</td>\n",
       "      <td>81452156.0</td>\n",
       "      <td>[{'name': 'Twentieth Century Fox Film Corporat...</td>\n",
       "      <td>0</td>\n",
       "    </tr>\n",
       "    <tr>\n",
       "      <td>5</td>\n",
       "      <td>949</td>\n",
       "      <td>[{'id': 28, 'name': 'Action'}, {'id': 80, 'nam...</td>\n",
       "      <td>60000000.0</td>\n",
       "      <td>187436818.0</td>\n",
       "      <td>[{'name': 'Regency Enterprises', 'id': 508}, {...</td>\n",
       "      <td>1</td>\n",
       "    </tr>\n",
       "    <tr>\n",
       "      <td>8</td>\n",
       "      <td>9091</td>\n",
       "      <td>[{'id': 28, 'name': 'Action'}, {'id': 12, 'nam...</td>\n",
       "      <td>35000000.0</td>\n",
       "      <td>64350171.0</td>\n",
       "      <td>[{'name': 'Universal Pictures', 'id': 33}, {'n...</td>\n",
       "      <td>0</td>\n",
       "    </tr>\n",
       "  </tbody>\n",
       "</table>\n",
       "</div>"
      ],
      "text/plain": [
       "      id                                             genres      budget  \\\n",
       "0    862  [{'id': 16, 'name': 'Animation'}, {'id': 35, '...  30000000.0   \n",
       "1   8844  [{'id': 12, 'name': 'Adventure'}, {'id': 14, '...  65000000.0   \n",
       "3  31357  [{'id': 35, 'name': 'Comedy'}, {'id': 18, 'nam...  16000000.0   \n",
       "5    949  [{'id': 28, 'name': 'Action'}, {'id': 80, 'nam...  60000000.0   \n",
       "8   9091  [{'id': 28, 'name': 'Action'}, {'id': 12, 'nam...  35000000.0   \n",
       "\n",
       "       revenue                               production_companies  \\\n",
       "0  373554033.0     [{'name': 'Pixar Animation Studios', 'id': 3}]   \n",
       "1  262797249.0  [{'name': 'TriStar Pictures', 'id': 559}, {'na...   \n",
       "3   81452156.0  [{'name': 'Twentieth Century Fox Film Corporat...   \n",
       "5  187436818.0  [{'name': 'Regency Enterprises', 'id': 508}, {...   \n",
       "8   64350171.0  [{'name': 'Universal Pictures', 'id': 33}, {'n...   \n",
       "\n",
       "   Fez ou não 150 mi  \n",
       "0                  1  \n",
       "1                  1  \n",
       "3                  0  \n",
       "5                  1  \n",
       "8                  0  "
      ]
     },
     "execution_count": 26,
     "metadata": {},
     "output_type": "execute_result"
    }
   ],
   "source": [
    "df_mega_clean['Fez ou não 150 mi'] = milhao\n",
    "df_mega_clean.head()"
   ]
  },
  {
   "cell_type": "markdown",
   "metadata": {},
   "source": [
    "### Filtrando os atores por meio da limpeza estabelecida no DataFrame \"MetaData\""
   ]
  },
  {
   "cell_type": "code",
   "execution_count": 27,
   "metadata": {
    "scrolled": true
   },
   "outputs": [],
   "source": [
    "lista_teste = []\n",
    "for numero in df_filmes_atores.index:\n",
    "    if numero not in df_mega_clean.id:\n",
    "        lista_teste.append(numero)\n",
    "        \n",
    "atores_certos = df_filmes_atores.drop(lista_teste, axis=0)"
   ]
  },
  {
   "cell_type": "markdown",
   "metadata": {},
   "source": [
    "No dataframe acima, foram selecionados os atores que participam dos filmes filtrados no Dataframe \"mega_clean\". Portanto, tornou-se possível analisar quais atores participaram dos filmes relevantes. "
   ]
  },
  {
   "cell_type": "code",
   "execution_count": 28,
   "metadata": {},
   "outputs": [
    {
     "data": {
      "text/html": [
       "<div>\n",
       "<style scoped>\n",
       "    .dataframe tbody tr th:only-of-type {\n",
       "        vertical-align: middle;\n",
       "    }\n",
       "\n",
       "    .dataframe tbody tr th {\n",
       "        vertical-align: top;\n",
       "    }\n",
       "\n",
       "    .dataframe thead th {\n",
       "        text-align: right;\n",
       "    }\n",
       "</style>\n",
       "<table border=\"1\" class=\"dataframe\">\n",
       "  <thead>\n",
       "    <tr style=\"text-align: right;\">\n",
       "      <th></th>\n",
       "      <th>Bess Flowers</th>\n",
       "      <th>Christopher Lee</th>\n",
       "      <th>John Wayne</th>\n",
       "      <th>Samuel L. Jackson</th>\n",
       "      <th>Gérard Depardieu</th>\n",
       "      <th>Michael Caine</th>\n",
       "      <th>John Carradine</th>\n",
       "      <th>Donald Sutherland</th>\n",
       "      <th>Jackie Chan</th>\n",
       "      <th>Frank Welker</th>\n",
       "      <th>...</th>\n",
       "      <th>George Raft</th>\n",
       "      <th>Quentin Tarantino</th>\n",
       "      <th>Paul Winfield</th>\n",
       "      <th>Emilio Estevez</th>\n",
       "      <th>Chow Yun-fat</th>\n",
       "      <th>Chazz Palminteri</th>\n",
       "      <th>Carmen Electra</th>\n",
       "      <th>Olaf Hytten</th>\n",
       "      <th>Walter Gotell</th>\n",
       "      <th>Fez ou não 150 mi</th>\n",
       "    </tr>\n",
       "  </thead>\n",
       "  <tbody>\n",
       "    <tr>\n",
       "      <td>0</td>\n",
       "      <td>0.0</td>\n",
       "      <td>0.0</td>\n",
       "      <td>0.0</td>\n",
       "      <td>0.0</td>\n",
       "      <td>0.0</td>\n",
       "      <td>0.0</td>\n",
       "      <td>0.0</td>\n",
       "      <td>0.0</td>\n",
       "      <td>0.0</td>\n",
       "      <td>0.0</td>\n",
       "      <td>...</td>\n",
       "      <td>0.0</td>\n",
       "      <td>0.0</td>\n",
       "      <td>0.0</td>\n",
       "      <td>0.0</td>\n",
       "      <td>0.0</td>\n",
       "      <td>0.0</td>\n",
       "      <td>0.0</td>\n",
       "      <td>0.0</td>\n",
       "      <td>0.0</td>\n",
       "      <td>1</td>\n",
       "    </tr>\n",
       "    <tr>\n",
       "      <td>1</td>\n",
       "      <td>0.0</td>\n",
       "      <td>0.0</td>\n",
       "      <td>0.0</td>\n",
       "      <td>0.0</td>\n",
       "      <td>0.0</td>\n",
       "      <td>0.0</td>\n",
       "      <td>0.0</td>\n",
       "      <td>0.0</td>\n",
       "      <td>0.0</td>\n",
       "      <td>0.0</td>\n",
       "      <td>...</td>\n",
       "      <td>0.0</td>\n",
       "      <td>0.0</td>\n",
       "      <td>0.0</td>\n",
       "      <td>0.0</td>\n",
       "      <td>0.0</td>\n",
       "      <td>0.0</td>\n",
       "      <td>0.0</td>\n",
       "      <td>0.0</td>\n",
       "      <td>0.0</td>\n",
       "      <td>1</td>\n",
       "    </tr>\n",
       "    <tr>\n",
       "      <td>3</td>\n",
       "      <td>0.0</td>\n",
       "      <td>0.0</td>\n",
       "      <td>0.0</td>\n",
       "      <td>0.0</td>\n",
       "      <td>0.0</td>\n",
       "      <td>0.0</td>\n",
       "      <td>0.0</td>\n",
       "      <td>0.0</td>\n",
       "      <td>0.0</td>\n",
       "      <td>0.0</td>\n",
       "      <td>...</td>\n",
       "      <td>0.0</td>\n",
       "      <td>0.0</td>\n",
       "      <td>0.0</td>\n",
       "      <td>0.0</td>\n",
       "      <td>0.0</td>\n",
       "      <td>0.0</td>\n",
       "      <td>0.0</td>\n",
       "      <td>0.0</td>\n",
       "      <td>0.0</td>\n",
       "      <td>0</td>\n",
       "    </tr>\n",
       "    <tr>\n",
       "      <td>5</td>\n",
       "      <td>0.0</td>\n",
       "      <td>0.0</td>\n",
       "      <td>0.0</td>\n",
       "      <td>0.0</td>\n",
       "      <td>0.0</td>\n",
       "      <td>0.0</td>\n",
       "      <td>0.0</td>\n",
       "      <td>0.0</td>\n",
       "      <td>0.0</td>\n",
       "      <td>0.0</td>\n",
       "      <td>...</td>\n",
       "      <td>0.0</td>\n",
       "      <td>0.0</td>\n",
       "      <td>0.0</td>\n",
       "      <td>0.0</td>\n",
       "      <td>0.0</td>\n",
       "      <td>0.0</td>\n",
       "      <td>0.0</td>\n",
       "      <td>0.0</td>\n",
       "      <td>0.0</td>\n",
       "      <td>1</td>\n",
       "    </tr>\n",
       "    <tr>\n",
       "      <td>8</td>\n",
       "      <td>0.0</td>\n",
       "      <td>0.0</td>\n",
       "      <td>0.0</td>\n",
       "      <td>0.0</td>\n",
       "      <td>0.0</td>\n",
       "      <td>0.0</td>\n",
       "      <td>0.0</td>\n",
       "      <td>0.0</td>\n",
       "      <td>0.0</td>\n",
       "      <td>0.0</td>\n",
       "      <td>...</td>\n",
       "      <td>0.0</td>\n",
       "      <td>0.0</td>\n",
       "      <td>0.0</td>\n",
       "      <td>0.0</td>\n",
       "      <td>0.0</td>\n",
       "      <td>0.0</td>\n",
       "      <td>0.0</td>\n",
       "      <td>0.0</td>\n",
       "      <td>0.0</td>\n",
       "      <td>0</td>\n",
       "    </tr>\n",
       "  </tbody>\n",
       "</table>\n",
       "<p>5 rows × 1892 columns</p>\n",
       "</div>"
      ],
      "text/plain": [
       "   Bess Flowers  Christopher Lee  John Wayne  Samuel L. Jackson  \\\n",
       "0           0.0              0.0         0.0                0.0   \n",
       "1           0.0              0.0         0.0                0.0   \n",
       "3           0.0              0.0         0.0                0.0   \n",
       "5           0.0              0.0         0.0                0.0   \n",
       "8           0.0              0.0         0.0                0.0   \n",
       "\n",
       "   Gérard Depardieu  Michael Caine  John Carradine  Donald Sutherland  \\\n",
       "0               0.0            0.0             0.0                0.0   \n",
       "1               0.0            0.0             0.0                0.0   \n",
       "3               0.0            0.0             0.0                0.0   \n",
       "5               0.0            0.0             0.0                0.0   \n",
       "8               0.0            0.0             0.0                0.0   \n",
       "\n",
       "   Jackie Chan  Frank Welker  ...  George Raft  Quentin Tarantino  \\\n",
       "0          0.0           0.0  ...          0.0                0.0   \n",
       "1          0.0           0.0  ...          0.0                0.0   \n",
       "3          0.0           0.0  ...          0.0                0.0   \n",
       "5          0.0           0.0  ...          0.0                0.0   \n",
       "8          0.0           0.0  ...          0.0                0.0   \n",
       "\n",
       "   Paul Winfield  Emilio Estevez  Chow Yun-fat  Chazz Palminteri  \\\n",
       "0            0.0             0.0           0.0               0.0   \n",
       "1            0.0             0.0           0.0               0.0   \n",
       "3            0.0             0.0           0.0               0.0   \n",
       "5            0.0             0.0           0.0               0.0   \n",
       "8            0.0             0.0           0.0               0.0   \n",
       "\n",
       "   Carmen Electra  Olaf Hytten  Walter Gotell  Fez ou não 150 mi  \n",
       "0             0.0          0.0            0.0                  1  \n",
       "1             0.0          0.0            0.0                  1  \n",
       "3             0.0          0.0            0.0                  0  \n",
       "5             0.0          0.0            0.0                  1  \n",
       "8             0.0          0.0            0.0                  0  \n",
       "\n",
       "[5 rows x 1892 columns]"
      ]
     },
     "execution_count": 28,
     "metadata": {},
     "output_type": "execute_result"
    }
   ],
   "source": [
    "atores_certos['Fez ou não 150 mi'] = milhao\n",
    "atores_certos.head()"
   ]
  },
  {
   "cell_type": "code",
   "execution_count": 29,
   "metadata": {},
   "outputs": [],
   "source": [
    "sim_ou_nao = atores_certos['Fez ou não 150 mi']\n",
    "y = df_mega_clean['Fez ou não 150 mi']"
   ]
  },
  {
   "cell_type": "markdown",
   "metadata": {},
   "source": [
    "---\n",
    "\n",
    "# Randon Forest "
   ]
  },
  {
   "cell_type": "markdown",
   "metadata": {},
   "source": [
    "Usufruindo-se do modelo Randon Forest com os Dataframes \"binários\", foi possível analisar de que forma as diversas features do Database impactam na bilheteria dos filmes. E, ao fim, verificar quais são mais impactantes. "
   ]
  },
  {
   "cell_type": "markdown",
   "metadata": {},
   "source": [
    "## Influência dos atores na bilheteria"
   ]
  },
  {
   "cell_type": "code",
   "execution_count": 30,
   "metadata": {},
   "outputs": [],
   "source": [
    "from sklearn.model_selection import train_test_split\n",
    "X_train, X_test, Y_train, Y_test = train_test_split(atores_certos.drop(['Fez ou não 150 mi'],axis='columns'),sim_ou_nao,test_size = 0.3)"
   ]
  },
  {
   "cell_type": "code",
   "execution_count": 31,
   "metadata": {},
   "outputs": [
    {
     "data": {
      "text/plain": [
       "RandomForestClassifier(bootstrap=True, class_weight=None, criterion='gini',\n",
       "                       max_depth=None, max_features='auto', max_leaf_nodes=None,\n",
       "                       min_impurity_decrease=0.0, min_impurity_split=None,\n",
       "                       min_samples_leaf=1, min_samples_split=2,\n",
       "                       min_weight_fraction_leaf=0.0, n_estimators=40,\n",
       "                       n_jobs=None, oob_score=False, random_state=None,\n",
       "                       verbose=0, warm_start=False)"
      ]
     },
     "execution_count": 31,
     "metadata": {},
     "output_type": "execute_result"
    }
   ],
   "source": [
    "from sklearn.ensemble import RandomForestClassifier\n",
    "model = RandomForestClassifier(n_estimators = 40)\n",
    "model.fit(X_train,Y_train)"
   ]
  },
  {
   "cell_type": "code",
   "execution_count": 32,
   "metadata": {},
   "outputs": [
    {
     "data": {
      "text/plain": [
       "0.7921195652173914"
      ]
     },
     "execution_count": 32,
     "metadata": {},
     "output_type": "execute_result"
    }
   ],
   "source": [
    "model.score(X_test,Y_test)"
   ]
  },
  {
   "cell_type": "markdown",
   "metadata": {},
   "source": [
    "Dado que a acurácia obtida foi de aproximadamente 80%, é plausível afirmar que se utilizando apenas dos atores, o classificador não é confiável o suficiente para determinar se um filme passará ou não a marca estipulada de 150 milhões de doláres. Isso se dá pelo fato de que apenas 20% dos filmes do Dataset sejam capazes de ultrapassar tal meta. Ou seja, um classifcador que julga que nenhum filme atingirá os 150 milhões de dólares é quase tão preciso quanto o que foi obtido acima. Dessa forma, ambos poderiam ser definidos como classificadores ruins."
   ]
  },
  {
   "cell_type": "markdown",
   "metadata": {},
   "source": [
    "## Influência das categorias na bilheteria "
   ]
  },
  {
   "cell_type": "code",
   "execution_count": 33,
   "metadata": {},
   "outputs": [],
   "source": [
    "categorias2 = defaultdict(int)\n",
    "for e in df_mega_clean.index:\n",
    "    data_dict = ast.literal_eval(df_mega_clean[\"genres\"][e])\n",
    "    for palavras in data_dict:\n",
    "        tipo = palavras['name']\n",
    "        categorias2[tipo] += 1"
   ]
  },
  {
   "cell_type": "code",
   "execution_count": 34,
   "metadata": {},
   "outputs": [],
   "source": [
    "ser_categorias = pd.Series(categorias2)"
   ]
  },
  {
   "cell_type": "code",
   "execution_count": 35,
   "metadata": {},
   "outputs": [],
   "source": [
    "df_filmes_categorias = pd.DataFrame(index=df_mega_clean.index, columns=ser_categorias.index, dtype=np.uint8)\n",
    "for e in df_mega_clean.index:\n",
    "    data_dict = ast.literal_eval(df_mega_clean[\"genres\"][e])\n",
    "    #print(data_dict)\n",
    "    for palavras in data_dict:\n",
    "        tipo = palavras['name']\n",
    "        #print(tipo)\n",
    "        if tipo in df_filmes_categorias.columns:\n",
    "             df_filmes_categorias[tipo][e] = 1\n"
   ]
  },
  {
   "cell_type": "code",
   "execution_count": 36,
   "metadata": {
    "scrolled": true
   },
   "outputs": [
    {
     "data": {
      "text/html": [
       "<div>\n",
       "<style scoped>\n",
       "    .dataframe tbody tr th:only-of-type {\n",
       "        vertical-align: middle;\n",
       "    }\n",
       "\n",
       "    .dataframe tbody tr th {\n",
       "        vertical-align: top;\n",
       "    }\n",
       "\n",
       "    .dataframe thead th {\n",
       "        text-align: right;\n",
       "    }\n",
       "</style>\n",
       "<table border=\"1\" class=\"dataframe\">\n",
       "  <thead>\n",
       "    <tr style=\"text-align: right;\">\n",
       "      <th></th>\n",
       "      <th>Animation</th>\n",
       "      <th>Comedy</th>\n",
       "      <th>Family</th>\n",
       "      <th>Adventure</th>\n",
       "      <th>Fantasy</th>\n",
       "      <th>Drama</th>\n",
       "      <th>Romance</th>\n",
       "      <th>Action</th>\n",
       "      <th>Crime</th>\n",
       "      <th>Thriller</th>\n",
       "      <th>History</th>\n",
       "      <th>Science Fiction</th>\n",
       "      <th>Mystery</th>\n",
       "      <th>Horror</th>\n",
       "      <th>War</th>\n",
       "      <th>Foreign</th>\n",
       "      <th>Documentary</th>\n",
       "      <th>Western</th>\n",
       "      <th>Music</th>\n",
       "      <th>TV Movie</th>\n",
       "    </tr>\n",
       "  </thead>\n",
       "  <tbody>\n",
       "    <tr>\n",
       "      <td>0</td>\n",
       "      <td>1.0</td>\n",
       "      <td>1.0</td>\n",
       "      <td>1.0</td>\n",
       "      <td>0.0</td>\n",
       "      <td>0.0</td>\n",
       "      <td>0.0</td>\n",
       "      <td>0.0</td>\n",
       "      <td>0.0</td>\n",
       "      <td>0.0</td>\n",
       "      <td>0.0</td>\n",
       "      <td>0.0</td>\n",
       "      <td>0.0</td>\n",
       "      <td>0.0</td>\n",
       "      <td>0.0</td>\n",
       "      <td>0.0</td>\n",
       "      <td>0.0</td>\n",
       "      <td>0.0</td>\n",
       "      <td>0.0</td>\n",
       "      <td>0.0</td>\n",
       "      <td>0.0</td>\n",
       "    </tr>\n",
       "    <tr>\n",
       "      <td>1</td>\n",
       "      <td>0.0</td>\n",
       "      <td>0.0</td>\n",
       "      <td>1.0</td>\n",
       "      <td>1.0</td>\n",
       "      <td>1.0</td>\n",
       "      <td>0.0</td>\n",
       "      <td>0.0</td>\n",
       "      <td>0.0</td>\n",
       "      <td>0.0</td>\n",
       "      <td>0.0</td>\n",
       "      <td>0.0</td>\n",
       "      <td>0.0</td>\n",
       "      <td>0.0</td>\n",
       "      <td>0.0</td>\n",
       "      <td>0.0</td>\n",
       "      <td>0.0</td>\n",
       "      <td>0.0</td>\n",
       "      <td>0.0</td>\n",
       "      <td>0.0</td>\n",
       "      <td>0.0</td>\n",
       "    </tr>\n",
       "    <tr>\n",
       "      <td>3</td>\n",
       "      <td>0.0</td>\n",
       "      <td>1.0</td>\n",
       "      <td>0.0</td>\n",
       "      <td>0.0</td>\n",
       "      <td>0.0</td>\n",
       "      <td>1.0</td>\n",
       "      <td>1.0</td>\n",
       "      <td>0.0</td>\n",
       "      <td>0.0</td>\n",
       "      <td>0.0</td>\n",
       "      <td>0.0</td>\n",
       "      <td>0.0</td>\n",
       "      <td>0.0</td>\n",
       "      <td>0.0</td>\n",
       "      <td>0.0</td>\n",
       "      <td>0.0</td>\n",
       "      <td>0.0</td>\n",
       "      <td>0.0</td>\n",
       "      <td>0.0</td>\n",
       "      <td>0.0</td>\n",
       "    </tr>\n",
       "    <tr>\n",
       "      <td>5</td>\n",
       "      <td>0.0</td>\n",
       "      <td>0.0</td>\n",
       "      <td>0.0</td>\n",
       "      <td>0.0</td>\n",
       "      <td>0.0</td>\n",
       "      <td>1.0</td>\n",
       "      <td>0.0</td>\n",
       "      <td>1.0</td>\n",
       "      <td>1.0</td>\n",
       "      <td>1.0</td>\n",
       "      <td>0.0</td>\n",
       "      <td>0.0</td>\n",
       "      <td>0.0</td>\n",
       "      <td>0.0</td>\n",
       "      <td>0.0</td>\n",
       "      <td>0.0</td>\n",
       "      <td>0.0</td>\n",
       "      <td>0.0</td>\n",
       "      <td>0.0</td>\n",
       "      <td>0.0</td>\n",
       "    </tr>\n",
       "    <tr>\n",
       "      <td>8</td>\n",
       "      <td>0.0</td>\n",
       "      <td>0.0</td>\n",
       "      <td>0.0</td>\n",
       "      <td>1.0</td>\n",
       "      <td>0.0</td>\n",
       "      <td>0.0</td>\n",
       "      <td>0.0</td>\n",
       "      <td>1.0</td>\n",
       "      <td>0.0</td>\n",
       "      <td>1.0</td>\n",
       "      <td>0.0</td>\n",
       "      <td>0.0</td>\n",
       "      <td>0.0</td>\n",
       "      <td>0.0</td>\n",
       "      <td>0.0</td>\n",
       "      <td>0.0</td>\n",
       "      <td>0.0</td>\n",
       "      <td>0.0</td>\n",
       "      <td>0.0</td>\n",
       "      <td>0.0</td>\n",
       "    </tr>\n",
       "  </tbody>\n",
       "</table>\n",
       "</div>"
      ],
      "text/plain": [
       "   Animation  Comedy  Family  Adventure  Fantasy  Drama  Romance  Action  \\\n",
       "0        1.0     1.0     1.0        0.0      0.0    0.0      0.0     0.0   \n",
       "1        0.0     0.0     1.0        1.0      1.0    0.0      0.0     0.0   \n",
       "3        0.0     1.0     0.0        0.0      0.0    1.0      1.0     0.0   \n",
       "5        0.0     0.0     0.0        0.0      0.0    1.0      0.0     1.0   \n",
       "8        0.0     0.0     0.0        1.0      0.0    0.0      0.0     1.0   \n",
       "\n",
       "   Crime  Thriller  History  Science Fiction  Mystery  Horror  War  Foreign  \\\n",
       "0    0.0       0.0      0.0              0.0      0.0     0.0  0.0      0.0   \n",
       "1    0.0       0.0      0.0              0.0      0.0     0.0  0.0      0.0   \n",
       "3    0.0       0.0      0.0              0.0      0.0     0.0  0.0      0.0   \n",
       "5    1.0       1.0      0.0              0.0      0.0     0.0  0.0      0.0   \n",
       "8    0.0       1.0      0.0              0.0      0.0     0.0  0.0      0.0   \n",
       "\n",
       "   Documentary  Western  Music  TV Movie  \n",
       "0          0.0      0.0    0.0       0.0  \n",
       "1          0.0      0.0    0.0       0.0  \n",
       "3          0.0      0.0    0.0       0.0  \n",
       "5          0.0      0.0    0.0       0.0  \n",
       "8          0.0      0.0    0.0       0.0  "
      ]
     },
     "execution_count": 36,
     "metadata": {},
     "output_type": "execute_result"
    }
   ],
   "source": [
    "df_filmes_categorias[df_filmes_categorias != 1] = 0\n",
    "df_filmes_categorias.head()"
   ]
  },
  {
   "cell_type": "code",
   "execution_count": 37,
   "metadata": {},
   "outputs": [
    {
     "data": {
      "text/plain": [
       "RandomForestClassifier(bootstrap=True, class_weight=None, criterion='gini',\n",
       "                       max_depth=None, max_features='auto', max_leaf_nodes=None,\n",
       "                       min_impurity_decrease=0.0, min_impurity_split=None,\n",
       "                       min_samples_leaf=1, min_samples_split=2,\n",
       "                       min_weight_fraction_leaf=0.0, n_estimators=40,\n",
       "                       n_jobs=None, oob_score=False, random_state=None,\n",
       "                       verbose=0, warm_start=False)"
      ]
     },
     "execution_count": 37,
     "metadata": {},
     "output_type": "execute_result"
    }
   ],
   "source": [
    "X2_train, X2_test, Y2_train, Y2_test = train_test_split(df_filmes_categorias,sim_ou_nao,test_size = 0.3)\n",
    "\n",
    "model = RandomForestClassifier(n_estimators = 40)\n",
    "model.fit(X2_train,Y2_train)"
   ]
  },
  {
   "cell_type": "code",
   "execution_count": 38,
   "metadata": {},
   "outputs": [
    {
     "data": {
      "text/plain": [
       "0.8335597826086957"
      ]
     },
     "execution_count": 38,
     "metadata": {},
     "output_type": "execute_result"
    }
   ],
   "source": [
    "model.score(X2_test,Y2_test)"
   ]
  },
  {
   "cell_type": "markdown",
   "metadata": {},
   "source": [
    "Pela mesma justificativa, pode-se concluir que, utilizando-se apenas do gênero dos filmes, o classificador não é capaz de determinar se um filme fará ou não os 150 milhões de dólares na bilheteria. Isso se dá pelo fato de que a acurácia do classificador utilizando somente \"gêneros\" como variável de entrada resultou, também, em aproximadamente 80%. A diferença do primeiro para o segundo classificador é que a acurácia deste foi levemente maior. Ou seja, indicando que o gênero dos filmes é mais relevante para determinar se um filme atingirá maiores valores de bilheteria em comparação com os atores participantes."
   ]
  },
  {
   "cell_type": "markdown",
   "metadata": {},
   "source": [
    "## Influência das produtoras na bilheteria"
   ]
  },
  {
   "cell_type": "code",
   "execution_count": 39,
   "metadata": {},
   "outputs": [],
   "source": [
    "prod2 = defaultdict(int)\n",
    "for e in df_mega_clean.index:\n",
    "    data_dict = ast.literal_eval(df_mega_clean['production_companies'][e])\n",
    "    for palavras in data_dict:\n",
    "        produ = palavras['name']\n",
    "        prod2[produ] += 1"
   ]
  },
  {
   "cell_type": "code",
   "execution_count": 40,
   "metadata": {},
   "outputs": [],
   "source": [
    "ser_produtora = pd.Series(prod2)"
   ]
  },
  {
   "cell_type": "code",
   "execution_count": 41,
   "metadata": {},
   "outputs": [],
   "source": [
    "df_filmes_produtoras = pd.DataFrame(index=df_mega_clean.index, columns=ser_produtora.index, dtype=np.uint8)\n",
    "for e in df_mega_clean.index:\n",
    "    data_dict = ast.literal_eval(df_mega_clean[\"production_companies\"][e])\n",
    "    #print(data_dict)\n",
    "    for palavras in data_dict:\n",
    "        produ = palavras['name']\n",
    "        #print(tipo)\n",
    "        if produ in df_filmes_produtoras.columns:\n",
    "             df_filmes_produtoras[produ][e] = 1\n"
   ]
  },
  {
   "cell_type": "code",
   "execution_count": 42,
   "metadata": {
    "scrolled": true
   },
   "outputs": [
    {
     "data": {
      "text/html": [
       "<div>\n",
       "<style scoped>\n",
       "    .dataframe tbody tr th:only-of-type {\n",
       "        vertical-align: middle;\n",
       "    }\n",
       "\n",
       "    .dataframe tbody tr th {\n",
       "        vertical-align: top;\n",
       "    }\n",
       "\n",
       "    .dataframe thead th {\n",
       "        text-align: right;\n",
       "    }\n",
       "</style>\n",
       "<table border=\"1\" class=\"dataframe\">\n",
       "  <thead>\n",
       "    <tr style=\"text-align: right;\">\n",
       "      <th></th>\n",
       "      <th>Pixar Animation Studios</th>\n",
       "      <th>TriStar Pictures</th>\n",
       "      <th>Teitler Film</th>\n",
       "      <th>Interscope Communications</th>\n",
       "      <th>Twentieth Century Fox Film Corporation</th>\n",
       "      <th>Regency Enterprises</th>\n",
       "      <th>Forward Pass</th>\n",
       "      <th>Warner Bros.</th>\n",
       "      <th>Universal Pictures</th>\n",
       "      <th>Imperial Entertainment</th>\n",
       "      <th>...</th>\n",
       "      <th>Rumble Entertainment</th>\n",
       "      <th>Hollywood Storm</th>\n",
       "      <th>Czar Pictures</th>\n",
       "      <th>S Pictures</th>\n",
       "      <th>Corner Work</th>\n",
       "      <th>Closed on Mondays Entertainment</th>\n",
       "      <th>Star Thrower Entertainment</th>\n",
       "      <th>Acacia Filmed Entertainment</th>\n",
       "      <th>Кинокомпания «Lunapark»</th>\n",
       "      <th>Инвада фильм</th>\n",
       "    </tr>\n",
       "  </thead>\n",
       "  <tbody>\n",
       "    <tr>\n",
       "      <td>0</td>\n",
       "      <td>1.0</td>\n",
       "      <td>0.0</td>\n",
       "      <td>0.0</td>\n",
       "      <td>0.0</td>\n",
       "      <td>0.0</td>\n",
       "      <td>0.0</td>\n",
       "      <td>0.0</td>\n",
       "      <td>0.0</td>\n",
       "      <td>0.0</td>\n",
       "      <td>0.0</td>\n",
       "      <td>...</td>\n",
       "      <td>0.0</td>\n",
       "      <td>0.0</td>\n",
       "      <td>0.0</td>\n",
       "      <td>0.0</td>\n",
       "      <td>0.0</td>\n",
       "      <td>0.0</td>\n",
       "      <td>0.0</td>\n",
       "      <td>0.0</td>\n",
       "      <td>0.0</td>\n",
       "      <td>0.0</td>\n",
       "    </tr>\n",
       "    <tr>\n",
       "      <td>1</td>\n",
       "      <td>0.0</td>\n",
       "      <td>1.0</td>\n",
       "      <td>1.0</td>\n",
       "      <td>1.0</td>\n",
       "      <td>0.0</td>\n",
       "      <td>0.0</td>\n",
       "      <td>0.0</td>\n",
       "      <td>0.0</td>\n",
       "      <td>0.0</td>\n",
       "      <td>0.0</td>\n",
       "      <td>...</td>\n",
       "      <td>0.0</td>\n",
       "      <td>0.0</td>\n",
       "      <td>0.0</td>\n",
       "      <td>0.0</td>\n",
       "      <td>0.0</td>\n",
       "      <td>0.0</td>\n",
       "      <td>0.0</td>\n",
       "      <td>0.0</td>\n",
       "      <td>0.0</td>\n",
       "      <td>0.0</td>\n",
       "    </tr>\n",
       "    <tr>\n",
       "      <td>3</td>\n",
       "      <td>0.0</td>\n",
       "      <td>0.0</td>\n",
       "      <td>0.0</td>\n",
       "      <td>0.0</td>\n",
       "      <td>1.0</td>\n",
       "      <td>0.0</td>\n",
       "      <td>0.0</td>\n",
       "      <td>0.0</td>\n",
       "      <td>0.0</td>\n",
       "      <td>0.0</td>\n",
       "      <td>...</td>\n",
       "      <td>0.0</td>\n",
       "      <td>0.0</td>\n",
       "      <td>0.0</td>\n",
       "      <td>0.0</td>\n",
       "      <td>0.0</td>\n",
       "      <td>0.0</td>\n",
       "      <td>0.0</td>\n",
       "      <td>0.0</td>\n",
       "      <td>0.0</td>\n",
       "      <td>0.0</td>\n",
       "    </tr>\n",
       "    <tr>\n",
       "      <td>5</td>\n",
       "      <td>0.0</td>\n",
       "      <td>0.0</td>\n",
       "      <td>0.0</td>\n",
       "      <td>0.0</td>\n",
       "      <td>0.0</td>\n",
       "      <td>1.0</td>\n",
       "      <td>1.0</td>\n",
       "      <td>1.0</td>\n",
       "      <td>0.0</td>\n",
       "      <td>0.0</td>\n",
       "      <td>...</td>\n",
       "      <td>0.0</td>\n",
       "      <td>0.0</td>\n",
       "      <td>0.0</td>\n",
       "      <td>0.0</td>\n",
       "      <td>0.0</td>\n",
       "      <td>0.0</td>\n",
       "      <td>0.0</td>\n",
       "      <td>0.0</td>\n",
       "      <td>0.0</td>\n",
       "      <td>0.0</td>\n",
       "    </tr>\n",
       "    <tr>\n",
       "      <td>8</td>\n",
       "      <td>0.0</td>\n",
       "      <td>0.0</td>\n",
       "      <td>0.0</td>\n",
       "      <td>0.0</td>\n",
       "      <td>0.0</td>\n",
       "      <td>0.0</td>\n",
       "      <td>0.0</td>\n",
       "      <td>0.0</td>\n",
       "      <td>1.0</td>\n",
       "      <td>1.0</td>\n",
       "      <td>...</td>\n",
       "      <td>0.0</td>\n",
       "      <td>0.0</td>\n",
       "      <td>0.0</td>\n",
       "      <td>0.0</td>\n",
       "      <td>0.0</td>\n",
       "      <td>0.0</td>\n",
       "      <td>0.0</td>\n",
       "      <td>0.0</td>\n",
       "      <td>0.0</td>\n",
       "      <td>0.0</td>\n",
       "    </tr>\n",
       "  </tbody>\n",
       "</table>\n",
       "<p>5 rows × 5223 columns</p>\n",
       "</div>"
      ],
      "text/plain": [
       "   Pixar Animation Studios  TriStar Pictures  Teitler Film  \\\n",
       "0                      1.0               0.0           0.0   \n",
       "1                      0.0               1.0           1.0   \n",
       "3                      0.0               0.0           0.0   \n",
       "5                      0.0               0.0           0.0   \n",
       "8                      0.0               0.0           0.0   \n",
       "\n",
       "   Interscope Communications  Twentieth Century Fox Film Corporation  \\\n",
       "0                        0.0                                     0.0   \n",
       "1                        1.0                                     0.0   \n",
       "3                        0.0                                     1.0   \n",
       "5                        0.0                                     0.0   \n",
       "8                        0.0                                     0.0   \n",
       "\n",
       "   Regency Enterprises  Forward Pass  Warner Bros.  Universal Pictures  \\\n",
       "0                  0.0           0.0           0.0                 0.0   \n",
       "1                  0.0           0.0           0.0                 0.0   \n",
       "3                  0.0           0.0           0.0                 0.0   \n",
       "5                  1.0           1.0           1.0                 0.0   \n",
       "8                  0.0           0.0           0.0                 1.0   \n",
       "\n",
       "   Imperial Entertainment  ...  Rumble Entertainment  Hollywood Storm  \\\n",
       "0                     0.0  ...                   0.0              0.0   \n",
       "1                     0.0  ...                   0.0              0.0   \n",
       "3                     0.0  ...                   0.0              0.0   \n",
       "5                     0.0  ...                   0.0              0.0   \n",
       "8                     1.0  ...                   0.0              0.0   \n",
       "\n",
       "   Czar Pictures  S Pictures  Corner Work  Closed on Mondays Entertainment  \\\n",
       "0            0.0         0.0          0.0                              0.0   \n",
       "1            0.0         0.0          0.0                              0.0   \n",
       "3            0.0         0.0          0.0                              0.0   \n",
       "5            0.0         0.0          0.0                              0.0   \n",
       "8            0.0         0.0          0.0                              0.0   \n",
       "\n",
       "   Star Thrower Entertainment  Acacia Filmed Entertainment  \\\n",
       "0                         0.0                          0.0   \n",
       "1                         0.0                          0.0   \n",
       "3                         0.0                          0.0   \n",
       "5                         0.0                          0.0   \n",
       "8                         0.0                          0.0   \n",
       "\n",
       "   Кинокомпания «Lunapark»  Инвада фильм  \n",
       "0                      0.0           0.0  \n",
       "1                      0.0           0.0  \n",
       "3                      0.0           0.0  \n",
       "5                      0.0           0.0  \n",
       "8                      0.0           0.0  \n",
       "\n",
       "[5 rows x 5223 columns]"
      ]
     },
     "execution_count": 42,
     "metadata": {},
     "output_type": "execute_result"
    }
   ],
   "source": [
    "df_filmes_produtoras[df_filmes_produtoras != 1] = 0\n",
    "df_filmes_produtoras.head()"
   ]
  },
  {
   "cell_type": "code",
   "execution_count": 43,
   "metadata": {
    "scrolled": true
   },
   "outputs": [
    {
     "data": {
      "text/plain": [
       "RandomForestClassifier(bootstrap=True, class_weight=None, criterion='gini',\n",
       "                       max_depth=None, max_features='auto', max_leaf_nodes=None,\n",
       "                       min_impurity_decrease=0.0, min_impurity_split=None,\n",
       "                       min_samples_leaf=1, min_samples_split=2,\n",
       "                       min_weight_fraction_leaf=0.0, n_estimators=40,\n",
       "                       n_jobs=None, oob_score=False, random_state=None,\n",
       "                       verbose=0, warm_start=False)"
      ]
     },
     "execution_count": 43,
     "metadata": {},
     "output_type": "execute_result"
    }
   ],
   "source": [
    "X3_train, X3_test, Y3_train, Y3_test = train_test_split(df_filmes_produtoras,sim_ou_nao,test_size = 0.3)\n",
    "\n",
    "model = RandomForestClassifier(n_estimators = 40)\n",
    "model.fit(X3_train,Y3_train)"
   ]
  },
  {
   "cell_type": "code",
   "execution_count": 44,
   "metadata": {},
   "outputs": [
    {
     "data": {
      "text/plain": [
       "0.8505434782608695"
      ]
     },
     "execution_count": 44,
     "metadata": {},
     "output_type": "execute_result"
    }
   ],
   "source": [
    "model.score(X3_test,Y3_test)"
   ]
  },
  {
   "cell_type": "markdown",
   "metadata": {},
   "source": [
    "Novamente, realizando o Random Forest somente com uma variável de entrada (produtores de filme, desta vez), nota-se que o classificador não obteve uma grande acurácia. Isso pode ser explicado pelos mesmos argumentos expressos anteriormente. Como a precisão resultou em aproxidamente 85%, esse classificador é tão certeiro quanto afirmar que nenhum filme atingirá a meta estipulada (pois somente 20% dos filmes realmente atingiram). De qualquer forma, pode-se concluir que, dentre as estudadas, a questão da produtora é a variável mais impactante na bilheteria do filme, pois esse classificador foi o que apresentou maior acurácia dentre os três."
   ]
  },
  {
   "cell_type": "markdown",
   "metadata": {},
   "source": [
    "## Influência do orçamento na bilheteria"
   ]
  },
  {
   "cell_type": "code",
   "execution_count": 45,
   "metadata": {},
   "outputs": [
    {
     "data": {
      "text/html": [
       "<div>\n",
       "<style scoped>\n",
       "    .dataframe tbody tr th:only-of-type {\n",
       "        vertical-align: middle;\n",
       "    }\n",
       "\n",
       "    .dataframe tbody tr th {\n",
       "        vertical-align: top;\n",
       "    }\n",
       "\n",
       "    .dataframe thead th {\n",
       "        text-align: right;\n",
       "    }\n",
       "</style>\n",
       "<table border=\"1\" class=\"dataframe\">\n",
       "  <thead>\n",
       "    <tr style=\"text-align: right;\">\n",
       "      <th></th>\n",
       "      <th>budget</th>\n",
       "    </tr>\n",
       "  </thead>\n",
       "  <tbody>\n",
       "    <tr>\n",
       "      <td>0</td>\n",
       "      <td>30000000.0</td>\n",
       "    </tr>\n",
       "    <tr>\n",
       "      <td>1</td>\n",
       "      <td>65000000.0</td>\n",
       "    </tr>\n",
       "    <tr>\n",
       "      <td>3</td>\n",
       "      <td>16000000.0</td>\n",
       "    </tr>\n",
       "    <tr>\n",
       "      <td>5</td>\n",
       "      <td>60000000.0</td>\n",
       "    </tr>\n",
       "    <tr>\n",
       "      <td>8</td>\n",
       "      <td>35000000.0</td>\n",
       "    </tr>\n",
       "  </tbody>\n",
       "</table>\n",
       "</div>"
      ],
      "text/plain": [
       "       budget\n",
       "0  30000000.0\n",
       "1  65000000.0\n",
       "3  16000000.0\n",
       "5  60000000.0\n",
       "8  35000000.0"
      ]
     },
     "execution_count": 45,
     "metadata": {},
     "output_type": "execute_result"
    }
   ],
   "source": [
    "df_Bud = pd.DataFrame(df_mega_clean.budget)\n",
    "df_Bud.head()"
   ]
  },
  {
   "cell_type": "code",
   "execution_count": 46,
   "metadata": {},
   "outputs": [
    {
     "data": {
      "text/plain": [
       "RandomForestClassifier(bootstrap=True, class_weight=None, criterion='gini',\n",
       "                       max_depth=None, max_features='auto', max_leaf_nodes=None,\n",
       "                       min_impurity_decrease=0.0, min_impurity_split=None,\n",
       "                       min_samples_leaf=1, min_samples_split=2,\n",
       "                       min_weight_fraction_leaf=0.0, n_estimators=60,\n",
       "                       n_jobs=None, oob_score=False, random_state=None,\n",
       "                       verbose=0, warm_start=False)"
      ]
     },
     "execution_count": 46,
     "metadata": {},
     "output_type": "execute_result"
    }
   ],
   "source": [
    "X5_train, X5_test, Y5_train, Y5_test = train_test_split(df_Bud,sim_ou_nao,test_size = 0.3)\n",
    "\n",
    "model = RandomForestClassifier(n_estimators = 60)\n",
    "model.fit(X5_train,Y5_train)"
   ]
  },
  {
   "cell_type": "code",
   "execution_count": 47,
   "metadata": {},
   "outputs": [
    {
     "data": {
      "text/plain": [
       "0.8648097826086957"
      ]
     },
     "execution_count": 47,
     "metadata": {},
     "output_type": "execute_result"
    }
   ],
   "source": [
    "model.score(X5_test,Y5_test)"
   ]
  },
  {
   "cell_type": "markdown",
   "metadata": {},
   "source": [
    "Por fim, o classificador que utiliza como entrada a variável \"orçamento\" também não pode ser avaliado como um bom classificador, pois este apresenta uma acurácia de aproximadamente 87%, sendo esse valor, novamente próximo à 80%. No entanto, esse classificador indica que a variável \"orçamento\" é a mais relevante dentre todas as demais, devido ao fato de que este apresentou a maior acurácia dentre todos os anteriores."
   ]
  },
  {
   "cell_type": "markdown",
   "metadata": {},
   "source": [
    "# Resultados finais para comparação"
   ]
  },
  {
   "cell_type": "markdown",
   "metadata": {},
   "source": [
    "## Random Forest"
   ]
  },
  {
   "cell_type": "code",
   "execution_count": 48,
   "metadata": {
    "scrolled": true
   },
   "outputs": [],
   "source": [
    "df_forest = pd.concat([\n",
    "    df_filmes_categorias,\n",
    "    atores_certos.drop(['Fez ou não 150 mi'],axis='columns'),\n",
    "    df_filmes_produtoras,\n",
    "    df_mega_clean.budget,\n",
    "\n",
    "], axis=1)"
   ]
  },
  {
   "cell_type": "code",
   "execution_count": 49,
   "metadata": {},
   "outputs": [
    {
     "data": {
      "text/plain": [
       "RandomForestClassifier(bootstrap=True, class_weight=None, criterion='gini',\n",
       "                       max_depth=None, max_features='auto', max_leaf_nodes=None,\n",
       "                       min_impurity_decrease=0.0, min_impurity_split=None,\n",
       "                       min_samples_leaf=1, min_samples_split=2,\n",
       "                       min_weight_fraction_leaf=0.0, n_estimators=60,\n",
       "                       n_jobs=None, oob_score=False, random_state=None,\n",
       "                       verbose=0, warm_start=False)"
      ]
     },
     "execution_count": 49,
     "metadata": {},
     "output_type": "execute_result"
    }
   ],
   "source": [
    "X4_train, X4_test, Y4_train, Y4_test = train_test_split(df_forest,sim_ou_nao,test_size = 0.3)\n",
    "\n",
    "model = RandomForestClassifier(n_estimators = 60)\n",
    "model.fit(X4_train,Y4_train)"
   ]
  },
  {
   "cell_type": "code",
   "execution_count": 50,
   "metadata": {},
   "outputs": [
    {
     "data": {
      "text/plain": [
       "0.8811141304347826"
      ]
     },
     "execution_count": 50,
     "metadata": {},
     "output_type": "execute_result"
    }
   ],
   "source": [
    "model.score(X4_test,Y4_test)"
   ]
  },
  {
   "cell_type": "markdown",
   "metadata": {},
   "source": []
  },
  {
   "cell_type": "code",
   "execution_count": 51,
   "metadata": {
    "scrolled": true
   },
   "outputs": [
    {
     "data": {
      "text/plain": [
       "[(0.15205040643651482, 'budget'),\n",
       " (0.014785213131156104, 'Adventure'),\n",
       " (0.012488801978401111, 'Drama'),\n",
       " (0.008865416893855954, 'Action'),\n",
       " (0.007452361073994652, 'Fantasy'),\n",
       " (0.00654275869513327, 'Family'),\n",
       " (0.006000050055516223, 'Amblin Entertainment'),\n",
       " (0.005679157230959931, 'Comedy'),\n",
       " (0.005175797197041419, 'Animation'),\n",
       " (0.005042507632207272, 'Thriller'),\n",
       " (0.004977767375611129, 'Legendary Pictures'),\n",
       " (0.004578992923341202, 'DreamWorks Animation'),\n",
       " (0.004570692947775364, 'Walt Disney Pictures'),\n",
       " (0.00436933756452287, 'Romance'),\n",
       " (0.004204436555113889, 'Science Fiction'),\n",
       " (0.0038031877550067737, 'Paramount Pictures'),\n",
       " (0.003758676391776724, 'Marvel Studios'),\n",
       " (0.003691387219389689, 'Warner Bros.'),\n",
       " (0.00358770670011199, 'Universal Pictures'),\n",
       " (0.0034720807460468114, 'Crime'),\n",
       " (0.003362253338605523, 'Sunswept Entertainment'),\n",
       " (0.0031448857599358287, 'Tom Hanks'),\n",
       " (0.0031343922060904595, 'Horror'),\n",
       " (0.0028408103750756706, 'Cameron Diaz'),\n",
       " (0.002774593648802593, 'Pixar Animation Studios'),\n",
       " (0.0027745649806082432, 'Centropolis Entertainment'),\n",
       " (0.0027240962140829103, 'Rob Schneider'),\n",
       " (0.0026389604311614417, 'Eon Productions'),\n",
       " (0.002616358250390006, 'Mystery'),\n",
       " (0.0025852461547256635, 'Columbia Pictures'),\n",
       " (0.0025345060882389302, 'Jerry Bruckheimer Films'),\n",
       " (0.0025027774365646246, 'Twentieth Century Fox Film Corporation'),\n",
       " (0.0024717143971210265, 'RatPac-Dune Entertainment'),\n",
       " (0.0024683242894661533, 'Julia Roberts'),\n",
       " (0.002397835512309316, 'Dune Entertainment'),\n",
       " (0.002302531072527546, 'Tom Cruise'),\n",
       " (0.002284429352320414, 'Eddie Murphy'),\n",
       " (0.0021597022775487274, 'Evergreen Media Group'),\n",
       " (0.002117982799396783, 'Stan Lee'),\n",
       " (0.0021169103537449882, 'Will Smith'),\n",
       " (0.002086887084749371, 'Revolution Sun Studios'),\n",
       " (0.002026595766550919, 'Walt Disney Animation Studios'),\n",
       " (0.002008427246257821, 'John Ratzenberger'),\n",
       " (0.001968336400363524, 'Kennedy/Marshall Company, The'),\n",
       " (0.0019577329526261826, 'TSG Entertainment'),\n",
       " (0.0018606968938808196, 'Pacific Data Images (PDI)'),\n",
       " (0.0018307360746356296, 'Twentieth Century Fox Animation'),\n",
       " (0.0017932808321074747, 'Bob Gunton'),\n",
       " (0.001767544206498746, 'Bad Hat Harry Productions'),\n",
       " (0.00176734055437981, 'Philip Ettington'),\n",
       " (0.0017594236706394396, 'Will Arnett'),\n",
       " (0.0017558787485619746, 'Original Film'),\n",
       " (0.0017296241282785778, 'Sandra Bullock'),\n",
       " (0.0017150970021374279, 'Nicole Kidman'),\n",
       " (0.0016995764188959166, 'Touchstone Pictures'),\n",
       " (0.0016712670371356023, 'Timothy Spall'),\n",
       " (0.0016624383471839361, 'Mel Gibson'),\n",
       " (0.001639725630188726, 'History'),\n",
       " (0.0016308542051881568, 'New Line Cinema'),\n",
       " (0.0016165511748660144, 'Temple Hill Entertainment'),\n",
       " (0.001583587850850848, 'Bad Robot'),\n",
       " (0.0015734846076686136, 'Marvel Enterprises'),\n",
       " (0.0015655680211519342, 'Ben Stiller'),\n",
       " (0.0015438575416376317, 'Blue Sky Studios'),\n",
       " (0.0015400090263778057, 'DreamWorks SKG'),\n",
       " (0.0015353569151943878, 'Enlight Pictures'),\n",
       " (0.0015055837040988806, 'Rick Overton'),\n",
       " (0.0015012086639517182, 'Music'),\n",
       " (0.0014954775274298947, 'Relativity Media'),\n",
       " (0.0014883069536735022, 'Tiger Aspect Productions'),\n",
       " (0.0014872842068630833, 'Donald Sutherland'),\n",
       " (0.001458367381843753, 'Julie Walters'),\n",
       " (0.00144595664095499, 'Roger Moore'),\n",
       " (0.0014405442517155913, 'Walt Disney Feature Animation'),\n",
       " (0.0014242428537894996, 'Parkes/MacDonald Productions'),\n",
       " (0.0014104375565820108, 'Sylvester Stallone'),\n",
       " (0.0014095748847271416, 'Michael J. Fox'),\n",
       " (0.0013917827425485015, 'Ted Levine'),\n",
       " (0.0013898617976170202, 'Village Roadshow Pictures'),\n",
       " (0.0013879392145956795, 'Robert Stigwood Organization (RSO)'),\n",
       " (0.0013787079448836876, 'Ingenious Film Partners'),\n",
       " (0.0013619189447955434, 'Studio Babelsberg'),\n",
       " (0.0013060361679445075, 'James Earl Jones'),\n",
       " (0.0013024898507999394, 'Anna Faris'),\n",
       " (0.0012908693243616639, 'War'),\n",
       " (0.0012810487595859245, 'Kathy Najimy'),\n",
       " (0.0012761002356950317, '1492 Pictures'),\n",
       " (0.0012711303986901233, 'Illumination Entertainment'),\n",
       " (0.0012689137561196313, 'Frank Whaley'),\n",
       " (0.0012680421047919304, 'Chris Rock'),\n",
       " (0.0012670877321503274, 'Rimfire Films'),\n",
       " (0.0012080781332012111, 'Summit Entertainment'),\n",
       " (0.0011977668064439419, 'Colin Firth'),\n",
       " (0.0011937614671480772, 'Geoffrey Keen'),\n",
       " (0.0011869412847342199, 'Reliance Entertainment'),\n",
       " (0.0011792727053654077, 'Hugo Weaving'),\n",
       " (0.0011765307050262677, 'Jon Favreau'),\n",
       " (0.001173549100755226, 'Perfect World Pictures (Beijing)'),\n",
       " (0.001173467271186255, 'Bonnie Hunt'),\n",
       " (0.0011716570636770062, 'Harrison Ford'),\n",
       " (0.0011633475144568188, 'Owen Wilson'),\n",
       " (0.0011490239848240122, 'John Michael Higgins'),\n",
       " (0.0011360817137588467, 'Overbrook Entertainment'),\n",
       " (0.0011189708626383676, 'Gary Oldman'),\n",
       " (0.0010932306945447, 'Robin Williams'),\n",
       " (0.0010838049123223284, 'Philip Baker Hall'),\n",
       " (0.0010830808676424118, 'Marjorie Bennett'),\n",
       " (0.0010763513665233637, 'TriStar Pictures'),\n",
       " (0.0010685349101315588, 'Nathan Lane'),\n",
       " (0.0010684466374673881, 'Victor Garber'),\n",
       " (0.0010630804148600605, 'Walter Gotell'),\n",
       " (0.0010628696467321836, 'Cillian Murphy'),\n",
       " (0.0010627419411838805, 'Liam Neeson'),\n",
       " (0.001052823051568509, 'Happy Madison Productions'),\n",
       " (0.0010520996541587841, 'Mandarin Films Distribution Co.'),\n",
       " (0.0010490015167586664, 'Channing Tatum'),\n",
       " (0.0010465802796640273, 'Kevin McNally'),\n",
       " (0.0010431203053548818, 'Solana Films'),\n",
       " (0.001042936109409965, 'Escape Artists'),\n",
       " (0.0010426769420619772, 'Eddie Murphy Productions'),\n",
       " (0.0010401431744530487, 'Chernin Entertainment'),\n",
       " (0.001032423092488889, 'Heyday Films'),\n",
       " (0.001031889780632737, 'Columbia Pictures Corporation'),\n",
       " (0.0010308536281096851, 'Sony Pictures Animation'),\n",
       " (0.0010237145981636315, 'Ian McKellen'),\n",
       " (0.0010217553124358758, 'Stephen Root'),\n",
       " (0.0010193927608666956, \"Catherine O'Hara\"),\n",
       " (0.0010148560235546797, 'Practical Pictures'),\n",
       " (0.0010147641923529205, 'Tom Wilkinson'),\n",
       " (0.0010122573369177516, 'Chris Cooper'),\n",
       " (0.001010874216175655, 'Casey Affleck'),\n",
       " (0.0010102765869118909, 'Daniel Craig'),\n",
       " (0.0010092427856315735, 'Rogue Marble'),\n",
       " (0.001008286657796741, 'Vestron Pictures'),\n",
       " (0.0010002992980285238, 'Glenn Morshower'),\n",
       " (0.0009981866120024553, 'Steve Carell'),\n",
       " (0.0009925870591925246, 'Ray Winstone'),\n",
       " (0.0009888605507896487, 'Metro-Goldwyn-Mayer (MGM)'),\n",
       " (0.000981764896244827, 'Kathy Bates'),\n",
       " (0.0009813023583275682, 'Iron Horse Entertainment (II)'),\n",
       " (0.0009811106665122446, 'Woody Harrelson'),\n",
       " (0.0009798066740316087, 'Silver Pictures'),\n",
       " (0.000978255341688137, 'Thunder Road Pictures'),\n",
       " (0.0009753739595112105, 'Brad Pitt'),\n",
       " (0.0009724570067277091, 'Atlas Entertainment'),\n",
       " (0.0009581724656809111, 'Regency Enterprises'),\n",
       " (0.0009478387792669887, 'Simon Callow'),\n",
       " (0.0009391902479027236, 'Jim Cummings'),\n",
       " (0.0009388628401860863, 'Anthony Hopkins'),\n",
       " (0.0009351390209700599, 'John Travolta'),\n",
       " (0.0009327707079315382, 'Working Title Films'),\n",
       " (0.0009280990923468002, 'Keanu Reeves'),\n",
       " (0.0009277809678437982, 'Tribeca Productions'),\n",
       " (0.0009215175232641456, 'Jim Carrey'),\n",
       " (0.0009194735039355052, 'Patrick Dempsey'),\n",
       " (0.0009168197066484094, 'TF1'),\n",
       " (0.0009149106864380512, 'Hasbro Studios'),\n",
       " (0.0009140538627779468, 'William Atherton'),\n",
       " (0.0009116413986071547, 'Studio Ghibli'),\n",
       " (0.0009016354953937064, 'Robert Shaw'),\n",
       " (0.0008972654293581695, 'Steve Buscemi'),\n",
       " (0.0008928754921952723, 'Irrfan Khan'),\n",
       " (0.0008879067427648213, 'David Wenham'),\n",
       " (0.0008875178822038769, 'WingNut Films'),\n",
       " (0.0008853824438966884, 'Scott Free Productions'),\n",
       " (0.0008844964303448018, 'Sam Neill'),\n",
       " (0.0008834225828373124, 'Silver Screen Partners IV'),\n",
       " (0.0008755196381102726, 'Richard Schiff'),\n",
       " (0.000869930808108219, 'Big Screen Productions'),\n",
       " (0.0008691496178902871, 'Molly Shannon'),\n",
       " (0.0008647319880691443, 'Wendy Crewson'),\n",
       " (0.0008623605248375396, 'Kristen Wiig'),\n",
       " (0.0008617511229202846, 'Vince Vaughn'),\n",
       " (0.0008573774943862912, 'Fox 2000 Pictures'),\n",
       " (0.000855530551907203, 'The Kennedy/Marshall Company'),\n",
       " (0.0008539573410787129, 'Blinding Edge Pictures'),\n",
       " (0.0008524032846996922, 'Jess Harnell'),\n",
       " (0.0008516715267415186, 'Will Wright'),\n",
       " (0.0008386766618489118, 'Baltimore Pictures'),\n",
       " (0.0008323136102807233, 'Carolco Pictures'),\n",
       " (0.0008308294559065583, 'Sean Connery'),\n",
       " (0.0008294064756796214, 'Cruel and Unusual Films'),\n",
       " (0.0008260599069390451, 'Judi Dench'),\n",
       " (0.000825276535491018, 'Kathryn Hahn'),\n",
       " (0.0008147743503071832, 'Don Simpson/Jerry Bruckheimer Films'),\n",
       " (0.0008140333489912022, 'Paul Giamatti'),\n",
       " (0.0008057908722389391, 'John Goodman'),\n",
       " (0.000803981347839492, 'Adam Sandler'),\n",
       " (0.0008020812915098309, 'Kristin Scott Thomas'),\n",
       " (0.0008008698149448993, 'Stellan Skarsgård'),\n",
       " (0.0007985715735986897, 'Parkes+MacDonald Image Nation'),\n",
       " (0.0007961860424384827, 'Rupert Everett'),\n",
       " (0.0007955570390228249, 'Misher Films'),\n",
       " (0.0007935592294646378, 'Matt Frewer'),\n",
       " (0.000779393828546642, 'Ingenious Media'),\n",
       " (0.0007723096487868547, 'Color Force'),\n",
       " (0.0007692777574744736, 'Malpaso Productions'),\n",
       " (0.0007683874225651559, 'Meryl Streep'),\n",
       " (0.0007677826999140702, 'Angelina Jolie'),\n",
       " (0.0007647969099913366, 'Simon Pegg'),\n",
       " (0.0007634804282627108, 'Keith David'),\n",
       " (0.0007614687276384726, 'ImageMovers'),\n",
       " (0.0007592510553103228, 'United Artists'),\n",
       " (0.0007578824437374758, 'Mosaic Media Group'),\n",
       " (0.0007578345076310557, 'Michael Douglas'),\n",
       " (0.0007557494517532515, 'Beijing New Picture Film Co. Ltd.'),\n",
       " (0.0007497683959008351, 'Ving Rhames'),\n",
       " (0.0007485342421915186, 'Wintergreen Productions'),\n",
       " (0.0007463038085980769, 'Dark Horse Entertainment'),\n",
       " (0.0007448344062760594, 'Left Tackle Pictures'),\n",
       " (0.0007447493246741866, 'Queen Latifah'),\n",
       " (0.000743242465588659, 'DumbDumb'),\n",
       " (0.0007416003419834886, 'Beijing Enlight Pictures'),\n",
       " (0.0007405167960704467, 'Benjamin Bratt'),\n",
       " (0.000737825060888174, 'Redwave Films'),\n",
       " (0.0007351472204206279, 'Catherine Deneuve'),\n",
       " (0.0007335165462557743, 'Eric Roberts'),\n",
       " (0.0007334647594550732, 'Lionsgate'),\n",
       " (0.0007329821962653352, 'Gary Sanchez Productions'),\n",
       " (0.0007283717934788707, 'Maya Rudolph'),\n",
       " (0.0007279323411789148, 'Parallel Zide'),\n",
       " (0.0007245509560519439, 'Anne Archer'),\n",
       " (0.0007233136630082117, 'Matthew McConaughey'),\n",
       " (0.0007221789666880832, 'John Cleese'),\n",
       " (0.0007188809016307785, 'QC Entertainment'),\n",
       " (0.0007163804791285411, 'Cuba Gooding Jr.'),\n",
       " (0.0007153884554576357, 'Ian McShane'),\n",
       " (0.0007138929518323501, 'Jack Black'),\n",
       " (0.0007106490174343398, 'Walt Disney Productions'),\n",
       " (0.0007082958478074909, 'Star Thrower Entertainment'),\n",
       " (0.0007079120109532186, 'Eva Mendes'),\n",
       " (0.0007073405193835984, 'Monarchy Enterprises B.V.'),\n",
       " (0.0007062364027088171, 'James Franco'),\n",
       " (0.0007056994275179676, 'Jack Nicholson'),\n",
       " (0.00070516083761228, 'Samuel L. Jackson'),\n",
       " (0.0007040231231727716, 'Helena Bonham Carter'),\n",
       " (0.0007024666013804466, 'Bluegrass Films'),\n",
       " (0.000702293950930487, 'Konrad Pictures'),\n",
       " (0.0007014867570395577, 'Sean Bean'),\n",
       " (0.0007001848073124273, 'Steve White Entertainment'),\n",
       " (0.0006988908431011232, 'Di Bonaventura Pictures'),\n",
       " (0.0006987750057075394, 'Celador Films'),\n",
       " (0.0006978516447608041, 'Danny McBride'),\n",
       " (0.0006912879219275111, 'Home Box Office (HBO)'),\n",
       " (0.0006890289195674753, 'The Safran Company'),\n",
       " (0.0006887433670806437, 'Dean Norris'),\n",
       " (0.0006874078355882581, 'Gene Hackman'),\n",
       " (0.0006870178504766587, 'Colm Feore'),\n",
       " (0.0006839988743441571, 'Adam Scott'),\n",
       " (0.00068320516244308, 'Oasis Films'),\n",
       " (0.0006793729808466858, 'Blumhouse Productions'),\n",
       " (0.000679358187349568, 'Demi Moore'),\n",
       " (0.0006789800557951389, 'Anthony Wong'),\n",
       " (0.0006776642406053176, 'Tim Burton Productions'),\n",
       " (0.0006772513824449425, 'Acacia Filmed Entertainment'),\n",
       " (0.0006771111458263762, 'Charlize Theron'),\n",
       " (0.000676639089528247, 'Antonio Banderas'),\n",
       " (0.000674164510550423, 'Dickhouse Productions'),\n",
       " (0.0006738836643935644, 'Stephen Fry'),\n",
       " (0.0006704976908404405, 'EMI Films'),\n",
       " (0.0006686858292391634, 'Ernie Hudson'),\n",
       " (0.0006651477718577545, 'Morgan Freeman'),\n",
       " (0.0006645497512467078, 'Sharon Stone'),\n",
       " (0.0006639808747083237, 'Cynthia Nixon'),\n",
       " (0.0006631850864064298, 'Minnie Driver'),\n",
       " (0.0006624233948774431, 'Ben Affleck'),\n",
       " (0.0006616787224757863, 'Charles Napier'),\n",
       " (0.0006616313026388138, 'Waverly Films'),\n",
       " (0.0006615102693365829, 'Nick Nolte'),\n",
       " (0.000661422362076218, 'Steve Zahn'),\n",
       " (0.0006581538386613988, 'Billy Connolly'),\n",
       " (0.0006560459225641421, 'Rob Riggle'),\n",
       " (0.0006521485300930286, 'Adam Goldberg'),\n",
       " (0.0006500430040219344, 'Sean Astin'),\n",
       " (0.0006411184798587276, 'Wild West Picture Show Productions'),\n",
       " (0.0006392777137459899, 'Terrence Howard'),\n",
       " (0.0006385154509441781, 'Alan Tudyk'),\n",
       " (0.0006385120702990431, 'John Lithgow'),\n",
       " (0.000638166473973787, 'Channel Four Films'),\n",
       " (0.0006371472028300501, 'Roth Films'),\n",
       " (0.0006349517805092458, 'Tommy Lee Jones'),\n",
       " (0.0006343599229853221, 'John Heard'),\n",
       " (0.0006336458679311492, 'Kerner Entertainment Company'),\n",
       " (0.000632376422347521, 'Bobby Cannavale'),\n",
       " (0.0006321532070762329, 'Western'),\n",
       " (0.0006312054009905599, 'Screen Gems'),\n",
       " (0.0006307581700560676, 'Christopher Lee'),\n",
       " (0.0006257949494021779, 'Electric City Entertainment'),\n",
       " (0.0006252447944935956, 'Arka Media Works'),\n",
       " (0.0006237050729586124, 'Mike Zoss Productions'),\n",
       " (0.0006165917997873927, 'Robert Downey Jr.'),\n",
       " (0.0006165859092226045, 'Ben Kingsley'),\n",
       " (0.0006147325911644935, 'James Gleason'),\n",
       " (0.0006137373339377423, 'New Regency Pictures'),\n",
       " (0.0006113287700009535, 'Huayi Brothers Pictures'),\n",
       " (0.0006109283918399682, 'Michael Fassbender'),\n",
       " (0.0006108864574599416, 'Jennifer Garner'),\n",
       " (0.000610546521785536, 'Eddie Marsan'),\n",
       " (0.0006099263830956079, 'Mila Kunis'),\n",
       " (0.0006080277843937748, 'Willem Dafoe'),\n",
       " (0.0006077356524566963, 'Mutual Film Company'),\n",
       " (0.0006073478054856681, 'Syncopy'),\n",
       " (0.000606599914844413, 'One Race Productions'),\n",
       " (0.0006047842354792477, 'Jon Lovitz'),\n",
       " (0.0006039192189398341, 'Jason Bateman'),\n",
       " (0.0006025369710691404, 'Billy Gilbert'),\n",
       " (0.0006013066217046681, 'Zach Galifianakis'),\n",
       " (0.0005997231276758745, 'Crispin Glover'),\n",
       " (0.0005964729020553007, 'Dan Hedaya'),\n",
       " (0.0005959703290223696, 'Tony Curran'),\n",
       " (0.0005954198677391612, 'GK Films'),\n",
       " (0.0005933963564325345, 'Seth Rogen'),\n",
       " (0.0005906070237697022, 'Alan Cumming'),\n",
       " (0.0005903436137747692, 'James Caan'),\n",
       " (0.0005901706797551765, 'Levantine Films'),\n",
       " (0.0005865816407633035, 'Miriam Margolyes'),\n",
       " (0.0005836398749786339, 'J.K. Simmons'),\n",
       " (0.0005836299404658632, 'Billy Crudup'),\n",
       " (0.0005833530084490257, 'Whoopi Goldberg'),\n",
       " (0.0005824419494701649, 'James Cromwell'),\n",
       " (0.0005823591928942488, 'Natalie Portman'),\n",
       " (0.0005821996432701405, 'Will Ferrell'),\n",
       " (0.0005802482302326406, 'Steve Martin'),\n",
       " (0.0005794208743120818, 'Pierce Brosnan'),\n",
       " (0.0005791379731679574, 'Max von Sydow'),\n",
       " (0.0005786136108374906, '21 Laps Entertainment'),\n",
       " (0.0005783827972754072, 'Denzel Washington'),\n",
       " (0.0005772832443406611, 'Bruce Willis'),\n",
       " (0.000573400589404757, 'Imagine Entertainment'),\n",
       " (0.0005717825009800606, 'William Fichtner'),\n",
       " (0.0005711970704036183, 'Don Cheadle'),\n",
       " (0.0005704717648001387, 'Sony Pictures Entertainment (SPE)'),\n",
       " (0.0005704415516423645, 'Kevin Bacon'),\n",
       " (0.0005701646341441421, 'Monkeypaw Productions'),\n",
       " (0.0005695553816509988, 'Edko Films'),\n",
       " (0.00056926625104904, 'MPH Entertainment Productions'),\n",
       " (0.0005648542445131297, 'Lois Smith'),\n",
       " (0.0005647924209491972, 'Zero Gravity Management'),\n",
       " (0.0005647623906272338, 'Beth Grant'),\n",
       " (0.0005636903317024868, 'Laurence Fishburne'),\n",
       " (0.0005624861651855639, 'Henry Thomas'),\n",
       " (0.0005622093546984525, 'Brad Grey Pictures'),\n",
       " (0.0005615586769407095, 'Miramax Films'),\n",
       " (0.0005592523226578171, 'Matt Damon'),\n",
       " (0.00055799869051025, 'Gold/Miller Productions'),\n",
       " (0.0005578010986167352, 'Moving Picture Company (MPC)'),\n",
       " (0.0005564184326270623, 'Reiner / Greisman Productions'),\n",
       " (0.0005563133331396518, 'Kevin Costner'),\n",
       " (0.0005543258029809146, '22 & Indiana Pictures'),\n",
       " (0.0005533733359639961, 'Mark Hamill'),\n",
       " (0.0005527051826620592, 'Brendan Gleeson'),\n",
       " (0.0005524762430770091, 'Bruce Greenwood'),\n",
       " (0.0005524064016027059, 'Scott Rudin Productions'),\n",
       " (0.0005522824070800962, 'Geoffrey Rush'),\n",
       " (0.0005518750566799747, 'Joe Pantoliano'),\n",
       " (0.0005516591055727354, 'David Bradley'),\n",
       " (0.0005505091968375323, 'Luciana Paluzzi'),\n",
       " (0.000548346761229076, 'John Hawkes'),\n",
       " (0.0005475457886861147, 'Bill Cobbs'),\n",
       " (0.0005460365376151556, 'Jamie Kennedy'),\n",
       " (0.0005460129629521911, 'BillBlock Media'),\n",
       " (0.0005442240899186548, 'Anton Capital Entertainment (ACE)'),\n",
       " (0.0005436745782192392, 'Paul Bettany'),\n",
       " (0.0005417339028066401, 'Tiger Moth Productions'),\n",
       " (0.0005413514333812586, 'Evolution Entertainment'),\n",
       " (0.0005393866468113673, 'Jet Li'),\n",
       " (0.0005389081547012418, 'Michael Rooker'),\n",
       " (0.0005387871297068862, 'Peter Coyote'),\n",
       " (0.0005379696944846367, 'Jamie Foxx'),\n",
       " (0.0005377191339211543, 'Bernard Lee'),\n",
       " (0.0005374107562946728, 'Bedford Falls Productions'),\n",
       " (0.0005363745831671181, 'Phoenix Pictures'),\n",
       " (0.000535741419869521, 'Joan Blondell'),\n",
       " (0.0005356459227841703, 'Tom Kenny'),\n",
       " (0.0005354399322630324, 'Angela Bassett'),\n",
       " (0.0005346947576943694, 'Dee Wallace'),\n",
       " (0.0005330821793447119, 'Leslie Mann'),\n",
       " (0.000532285711371308, 'Monica Bellucci'),\n",
       " (0.0005307128382025869, 'Ralph Fiennes'),\n",
       " (0.000529258297665609, 'Bagdasarian Productions'),\n",
       " (0.0005288105731510131, 'Gary Grubbs'),\n",
       " (0.0005275392344409974, 'Michelle Monaghan'),\n",
       " (0.0005264761393863874, 'Bradley Cooper'),\n",
       " (0.0005260823808297388, 'Delroy Lindo'),\n",
       " (0.0005256260426738317, 'Hey Eddie'),\n",
       " (0.0005250341312062954, 'Albert Finney'),\n",
       " (0.0005240053468427525, 'Vin Diesel'),\n",
       " (0.000523216306650854, 'Harris Yulin'),\n",
       " (0.0005231835398989328, 'Reese Witherspoon'),\n",
       " (0.000522986225601807, 'Marlon Brando'),\n",
       " (0.0005227002475303517, 'Canal+'),\n",
       " (0.0005222441165283815, 'Claire Du Brey'),\n",
       " (0.0005218240490782949, 'Be Gentlemen Limited Partnership'),\n",
       " (0.0005215103706639912, 'Tobin Bell'),\n",
       " (0.0005205848511942425, 'Lightstorm Entertainment'),\n",
       " (0.0005191368487493039, 'Josh Brolin'),\n",
       " (0.0005189185320619257, 'De Line Pictures'),\n",
       " (0.0005169546305353289, 'Jon Voight'),\n",
       " (0.0005168302007482373, 'Caravan Pictures'),\n",
       " (0.0005160755320715164, 'Wildwood Enterprises'),\n",
       " (0.0005153746899762117, 'Seann William Scott'),\n",
       " (0.0005151095460989639, 'Great American Films Limited Partnership'),\n",
       " (0.0005141085556749837, 'Mitsubishi'),\n",
       " (0.0005140349726857363, 'Sally Kirkland'),\n",
       " (0.0005137151755480545, 'Icon Productions'),\n",
       " (0.0005135183883419016, 'Jim Broadbent'),\n",
       " (0.0005131788943446688, 'Warner Bros. Pictures'),\n",
       " (0.0005126148449505745, 'Octavia Spencer'),\n",
       " (0.0005109824114254355, 'David Koechner'),\n",
       " (0.0005105972003841562, 'Edward Furlong'),\n",
       " (0.000510550013305994, 'Principato-Young Entertainment'),\n",
       " (0.0005104233473652984, 'Anil Kapoor'),\n",
       " (0.0005098627241758748, 'China Film Group'),\n",
       " (0.00050953917343067, 'John Rhys-Davies'),\n",
       " (0.0005093128752906511, 'Jerry Weintraub Productions'),\n",
       " (0.0005081411285338829, 'Paul Guilfoyle'),\n",
       " (0.0005076171903305299, 'Lucasfilm'),\n",
       " (0.0005075351258606317, 'Dwayne Johnson'),\n",
       " (0.0005060562695379854, 'Hugh Jackman'),\n",
       " (0.0005059626793311914, 'NPV Entertainment'),\n",
       " (0.00050507795049595, 'Phil LaMarr'),\n",
       " (0.0005028885749718075, 'Mykelti Williamson'),\n",
       " (0.0005011416464021036, 'Frances Fisher'),\n",
       " (0.0005008991186876262, 'Kristy Swanson'),\n",
       " (0.0005006101153144926, 'Disruption Entertainment'),\n",
       " (0.0005005708992264964, 'Dentsu'),\n",
       " (0.0005002341323465724, 'Chaocorp'),\n",
       " (0.0004992370540084392, 'Zucker/Netter Productions'),\n",
       " (0.0004991715015727485, 'Stuber Productions'),\n",
       " (0.000499108200798168, 'Arnold Schwarzenegger'),\n",
       " (0.0004963951144070684, 'Davis Entertainment'),\n",
       " (0.0004959012622939501, 'Intermedia'),\n",
       " (0.0004948506518456281, 'Joe Spinell'),\n",
       " (0.000493835492576788, 'DC Entertainment'),\n",
       " (0.0004931422425522735, 'Gracie Films'),\n",
       " (0.000492428419896342, 'Cube Vision'),\n",
       " (0.000492259712602852, 'Plan B Entertainment'),\n",
       " (0.0004909116727829101, 'Ellen Burstyn'),\n",
       " (0.0004908531476127787, 'Tim Curry'),\n",
       " (0.0004903154471125256, 'Davis Films'),\n",
       " (0.0004883639672135725, 'Spyglass Entertainment'),\n",
       " (0.00048751137661837455, 'China Film Co-Production Corporation'),\n",
       " (0.0004870756941830978, 'Keira Knightley'),\n",
       " (0.0004859044562620346, 'Mark Ruffalo'),\n",
       " (0.0004856154731258279, 'DC Comics'),\n",
       " (0.00048558524070960586, 'Christopher Walken'),\n",
       " (0.00048433878813406003, 'Hoya Productions'),\n",
       " (0.0004840924867273311, 'Seth Green'),\n",
       " (0.00048391776245522027, 'Jude Law'),\n",
       " (0.0004825716637733405, 'Liev Schreiber'),\n",
       " (0.0004822173156170605, 'M6 Films'),\n",
       " (0.0004817271525474518, 'Cliff Curtis'),\n",
       " (0.0004801128520768667, 'Richard Jenkins'),\n",
       " (0.000479775086777061, 'Donal Logue'),\n",
       " (0.00047973515166218613, 'Tim Robbins'),\n",
       " (0.0004793016393666499, 'Danny Glover'),\n",
       " (0.00047824914817908205, 'Chris Messina'),\n",
       " (0.0004778834795285411, 'Grive Productions'),\n",
       " (0.0004777027669259469, 'Olivia Wilde'),\n",
       " (0.0004775682891786088, 'Richard Dreyfuss'),\n",
       " (0.0004770505766593104, 'Orlando Bloom'),\n",
       " (0.0004769264672035187, 'Kopelson Entertainment'),\n",
       " (0.00047632556871734296, 'Joe Don Baker'),\n",
       " (0.0004755614486814587, 'Mace Neufeld Productions'),\n",
       " (0.0004750629637130757, 'Glenn Close'),\n",
       " (0.00047487106736702214, 'Robert Redford'),\n",
       " (0.0004746697627304831, 'Ardustry Entertainment'),\n",
       " (0.00047304221415110556, 'Woodcote'),\n",
       " (0.00047215858977456277, 'Castle Rock Entertainment'),\n",
       " (0.0004720573092606257, 'Tilda Swinton'),\n",
       " (0.0004707447109333127, 'Michael Peña'),\n",
       " (0.0004706208226030573, 'MMC Independent'),\n",
       " (0.0004704903788542572, 'Zoe Saldana'),\n",
       " (0.0004698258548145336, 'Stanley Tucci'),\n",
       " (0.000469291751864438, 'Jason Statham'),\n",
       " (0.00046921112221048563, 'WCG Entertainment Productions'),\n",
       " (0.00046796819649999106, 'Dan Aykroyd'),\n",
       " (0.00046782918439199235, 'Chris Mulkey'),\n",
       " (0.0004671779670423793, 'Impact Pictures'),\n",
       " (0.0004671120140650318, 'Jane Lynch'),\n",
       " (0.0004664391448423969, 'Clifton James'),\n",
       " (0.00046553540135645355, 'Darren Star Productions'),\n",
       " (0.00046516726450219684, 'Ralph Bellamy'),\n",
       " (0.00046505074910054364, 'Billy Zane'),\n",
       " (0.0004642516436977296, 'StudioCanal'),\n",
       " (0.0004626843388451411, 'Epsilon Motion Pictures'),\n",
       " (0.0004625118820374684, 'Rob Corddry'),\n",
       " (0.0004616284800029811, 'Marion Cotillard'),\n",
       " (0.0004610532514845655, 'Andy Serkis'),\n",
       " (0.00045975702630995095, 'Dustin Hoffman'),\n",
       " (0.0004592854458366666, 'Olive Bridge Entertainment'),\n",
       " (0.0004591343055582764, 'BenderSpink'),\n",
       " (0.00045900524066475685, 'Fellah Pictures'),\n",
       " (0.0004589525622436476, 'Cedric the Entertainer'),\n",
       " (0.0004586831256959719, 'Jean Rochefort'),\n",
       " (0.00045756656017181726, 'David Cross'),\n",
       " (0.00045690327917280655, 'Edgar Kennedy'),\n",
       " (0.00045612216145382117, 'Sikelia Productions'),\n",
       " (0.00045562888798795527, 'Bryan Cranston'),\n",
       " (0.00045489741543469295, 'Andie MacDowell'),\n",
       " (0.00045410824997028026, 'Michael Caine'),\n",
       " (0.0004539654791012444, 'Katherine Heigl'),\n",
       " (0.00045253335421506063, 'Gerard Butler'),\n",
       " (0.0004516532318899513, 'Brownstone Productions'),\n",
       " (0.0004499690795309245, 'Richard Attenborough'),\n",
       " (0.00044923637352305856, 'Kirsten Dunst'),\n",
       " (0.00044914059044448524, 'Matt Walsh'),\n",
       " (0.00044868166569894967, 'FilmNation Entertainment'),\n",
       " (0.00044814804865110625, 'Ian Holm'),\n",
       " (0.0004471650695024334, 'Contrafilm'),\n",
       " (0.00044705961046347716, 'Gordon Liu Chia-Hui'),\n",
       " (0.00044633006910552967, 'Michael Rapaport'),\n",
       " (0.00044621298010006895, 'TIK Films'),\n",
       " (0.00044588459573543404, 'warner bross Turkey'),\n",
       " (0.00044507780261825343, 'Oliver Platt'),\n",
       " (0.000444807751100712, 'Dominic West'),\n",
       " (0.00044384453307967186, 'Skydance Media'),\n",
       " (0.0004436777219809131, 'China Film Co.'),\n",
       " (0.00044257370785466706, 'Julianne Moore'),\n",
       " (0.0004421005147236882, 'Daniel Stern'),\n",
       " (0.000441540942185154, 'Sigourney Weaver'),\n",
       " (0.00044121820341533254, 'Kevin Pollak'),\n",
       " (0.0004410313091934764, 'Christopher Lloyd'),\n",
       " (0.0004409933392103697, 'Bill Pullman'),\n",
       " (0.00044012703073266637, 'Alec Baldwin'),\n",
       " (0.0004399045333111079, 'The Weinstein Company'),\n",
       " (0.00043934455399042974, 'Zanuck Company, The'),\n",
       " (0.000437865654435976, 'John Malkovich'),\n",
       " (0.0004376979621568226, 'Cate Blanchett'),\n",
       " (0.00043726140836480805, 'Aardman Animations'),\n",
       " (0.0004372433028515913, 'Scholastic Entertainment'),\n",
       " (0.00043596737027247885, 'Jürgen Prochnow'),\n",
       " (0.000435909509111964, 'Kristen Stewart'),\n",
       " (0.0004356500711320764, 'Jeremy Irons'),\n",
       " (0.0004354111362749999, 'Josh Lucas'),\n",
       " (0.0004349564883511077, 'Alan Rickman'),\n",
       " (0.00043464377790378546, 'Tara Reid'),\n",
       " (0.0004333098902254157, 'Hugh Grant'),\n",
       " (0.00043102841041484617, 'Jesse Eisenberg'),\n",
       " (0.0004309121512829709, 'Ciarán Hinds'),\n",
       " (0.00043049719606312885, 'Taurus Film'),\n",
       " (0.000429704848522758, 'Sterling Hayden'),\n",
       " (0.0004288341007113893, 'Chiwetel Ejiofor'),\n",
       " (0.0004270300810633846, 'David Strathairn'),\n",
       " (0.00042658067213610786, 'Hank Azaria'),\n",
       " (0.00042466844965608993, 'Robert De Niro'),\n",
       " (0.0004230183503478885, 'Patricia Clarkson'),\n",
       " (0.0004218482716621256, 'James Gandolfini'),\n",
       " (0.00042173296818395024, 'Robert Carlyle'),\n",
       " (0.0004207588903420177, 'Cruise/Wagner Productions'),\n",
       " (0.0004202871624019467, 'Laura Dern'),\n",
       " (0.0004202421879410789, 'Patrick Swayze'),\n",
       " (0.0004196050625534837, 'David Spade'),\n",
       " (0.0004193912116717921, 'Craig T. Nelson'),\n",
       " (0.00041897687810860373, 'Captivate Entertainment'),\n",
       " (0.00041879404672920433, 'Management Company Entertainment Group (MCEG)'),\n",
       " (0.0004183035067489881, 'M. Emmet Walsh'),\n",
       " (0.00041710793346968946, 'Spring Creek Productions'),\n",
       " (0.0004165023469780702, 'Hope Davis'),\n",
       " (0.0004159573457559991, 'Greg Kinnear'),\n",
       " (0.0004155533688046523, 'Fuji Television Network'),\n",
       " (0.00041501241511995705, 'Natasha Lyonne'),\n",
       " (0.000414840429050305, 'Elizabeth Peña'),\n",
       " (0.00041346647156619286, 'TF1 Films Production'),\n",
       " (0.00041339123900360823, 'Alfran Productions'),\n",
       " (0.0004132863902179915, 'JHF Productions'),\n",
       " (0.00041267728491467315, \"Donners' Company\"),\n",
       " (0.0004120578551288667, 'Hypnotic'),\n",
       " (0.00041120347590309814, 'Anton Yelchin'),\n",
       " (0.00041087884696694476, 'Allison Janney'),\n",
       " (0.0004108073341625171, 'Babieka'),\n",
       " (0.000409880490406197, 'Colm Meaney'),\n",
       " (0.0004095499414635649, 'Morgan Creek Productions'),\n",
       " (0.00040943207623333246, 'Newman/Tooley Films'),\n",
       " (0.000409259763948373, 'Red Granite Pictures'),\n",
       " (0.00040846123482640056, 'Sissy Spacek'),\n",
       " (0.00040722960249571467, 'Red Wagon Entertainment'),\n",
       " (0.0004071376719061497, 'Matthew Broderick'),\n",
       " (0.000406619107500498, 'James Le Gros'),\n",
       " (0.00040538053787311535, 'Marvel Entertainment'),\n",
       " (0.00040485061424321266, 'Christina Ricci'),\n",
       " (0.00040476748195110516, 'K/O Camera Toys'),\n",
       " (0.0004035343113350778, 'Producers Circle'),\n",
       " (0.00040094439656387254, 'Rovio Entertainment'),\n",
       " (0.0004007880158517456, 'Isabelle Huppert'),\n",
       " (0.00040029085641136536, 'Sterling Holloway'),\n",
       " (0.00040020384165099555, 'Pariah Entertainment Group'),\n",
       " (0.0003996687949748395, 'Mad Hatter Entertainment'),\n",
       " (0.00039690947859961136, 'Wendy Finerman Productions'),\n",
       " (0.00039666158171648344, 'Elizabeth Banks'),\n",
       " (0.0003963107237377882, 'Buena Vista'),\n",
       " (0.0003960556790390818, 'Stereo D'),\n",
       " (0.0003951522837477953, 'Burt Young'),\n",
       " (0.00039515080099083354, 'Shirley Knight'),\n",
       " (0.0003935376109661384, 'Jason Flemyng'),\n",
       " (0.00039295879971121516, 'Ontario Film Development Corporation'),\n",
       " (0.00039229147163863436, 'Iguana Producciones'),\n",
       " (0.00039150448235445123, 'Hanna-Barbera Productions'),\n",
       " (0.00039095121519371984, 'Candice Bergen'),\n",
       " (0.0003905583556568718, 'Jason Alexander'),\n",
       " (0.00039043967721126246, 'Elias Koteas'),\n",
       " (0.00039013538201712134, 'Bill Nunn'),\n",
       " (0.0003889552531879159, 'Flynn Picture Company'),\n",
       " (0.00038872822384375557, 'Franchise Pictures'),\n",
       " (0.00038864235158079716, 'Halle Berry'),\n",
       " (0.0003885913014629804, 'Drew Barrymore'),\n",
       " (0.00038838780981461204, 'NeoReel'),\n",
       " (0.00038813440378244985, 'Joss Ackland'),\n",
       " (0.00038789506294105154, 'Richard Gere'),\n",
       " (0.0003878152096791907, 'Pat Hingle'),\n",
       " (0.000387263119747109, 'Christian Slater'),\n",
       " (0.0003871304491566279, 'Frank Oz'),\n",
       " (0.00038639158929838167, 'Russell Crowe'),\n",
       " (0.00038608181560260426, 'Johnny Depp'),\n",
       " (0.0003858934129601689, 'Mark Boone Junior'),\n",
       " (0.00038335145851822646, 'Jessica Alba'),\n",
       " (0.00038330863369946645, 'Corey Burton'),\n",
       " (0.0003829574463209082, 'Heyday films'),\n",
       " (0.00038289578833749724, 'Deutsche Filmförderfonds (DFFF)'),\n",
       " (0.00038077534274926606, 'Victoires Productions'),\n",
       " (0.00038048443075730114, 'Stephen Lang'),\n",
       " (0.00037981424329487846, 'Frankie Faison'),\n",
       " (0.0003794677138611687, 'Kurtzman/Orci'),\n",
       " (0.000379269772769145, 'Rachel Weisz'),\n",
       " (0.0003792283478472001, 'Ed Harris'),\n",
       " (0.00037819694565745975, 'Parker Posey'),\n",
       " (0.00037742235983831554, 'A Band Apart'),\n",
       " (0.0003770380188517629, 'Renée Zellweger'),\n",
       " (0.00037653710919380653, 'Clint Eastwood'),\n",
       " (0.0003763001815563223, 'Elijah Wood'),\n",
       " (0.0003762161459037408,\n",
       "  'Kumar Mobiliengesellschaft mbH & Co. Projekt Nr. 1 KG'),\n",
       " (0.00037588822057257816, 'Zide-Perry Productions'),\n",
       " (0.0003758709458690657, 'Dean Jones'),\n",
       " (0.00037577360479493926, 'John Turturro'),\n",
       " (0.0003753993423005282, 'Rod Steiger'),\n",
       " (0.00037533746453614696, 'B24'),\n",
       " (0.00037406223132049345, 'Prana Animation Studios'),\n",
       " (0.00037405166371648756, 'Strike Entertainment'),\n",
       " (0.00037384445134588587, 'Jean Reno'),\n",
       " (0.0003736511658424407, 'Christine Baranski'),\n",
       " (0.00037363581834253207, 'Stephen Tobolowsky'),\n",
       " (0.0003733261981691968, 'Nicolas Cage'),\n",
       " (0.0003732303846337492, 'Synthesis Entertainment'),\n",
       " (0.0003730512851322909, 'Lochlyn Munro'),\n",
       " (0.00037283367853992936, 'Cruel & Unusual Films'),\n",
       " (0.0003724712537943421, 'Michael Gough'),\n",
       " (0.00037161269803405916, 'Grosvenor Park Productions'),\n",
       " (0.00037149310830339623, 'Gemma Jones'),\n",
       " (0.00037126865461509337, 'Jennifer Connelly'),\n",
       " (0.0003710298872868231, 'Joaquin Phoenix'),\n",
       " (0.0003704863771436228, 'Juliette Lewis'),\n",
       " (0.00036947395006382784, 'Ned Beatty'),\n",
       " (0.0003694016805595965, 'Obelisk Productions'),\n",
       " (0.0003692485259127906, 'Jim Belushi'),\n",
       " (0.0003686617451761492, 'Indelible Productions'),\n",
       " (0.0003684623155189915, 'Josef Sommer'),\n",
       " (0.0003669388994920681, 'Clint Howard'),\n",
       " (0.00036653042393787087, 'Revolution Studios'),\n",
       " (0.00036583290263567526, 'Radiant Productions'),\n",
       " (0.000365444476948372, 'Mark Gordon Productions'),\n",
       " (0.00036370117348470134, 'Bazmark Films'),\n",
       " (0.0003636817809432001, 'Mystery Clock Cinema'),\n",
       " (0.0003636430312939429, 'Bill Nighy'),\n",
       " (0.00036238321868298413, 'Jackie Chan'),\n",
       " (0.00036230037453829374, 'Charlton Heston'),\n",
       " (0.00036192989724688674, 'Tim Guinee'),\n",
       " (0.0003617869967982903, 'Liveplanet'),\n",
       " (0.00036088748448618116, 'Fox Searchlight Pictures'),\n",
       " (0.0003597122187531611, 'Roger Corman'),\n",
       " (0.00035950493352661264, 'Aaron Eckhart'),\n",
       " (0.00035840868850737226, 'Catfish Productions'),\n",
       " (0.00035805983926716405, 'Debbie Reynolds'),\n",
       " (0.0003578527444928564, 'Lance Henriksen'),\n",
       " (0.00035719729848797594, 'Grindstone Entertainment Group'),\n",
       " (0.0003571379835498196, 'Karen Black'),\n",
       " (0.00035685694744425387, 'Lili Taylor'),\n",
       " (0.00035663011858089026, 'Elle Fanning'),\n",
       " (0.00035658220126994427, 'Nimar Studios'),\n",
       " (0.00035656867197967967, 'Slap Happy Productions (II)'),\n",
       " (0.0003559783364306494, 'James Hong'),\n",
       " (0.0003558609924777365, 'Denis Leary'),\n",
       " (0.00035521343240850814, 'Treat Williams'),\n",
       " (0.00035516258582695803, 'Broken Chair Flickz'),\n",
       " (0.0003548579021975071, 'Film Export A.G.'),\n",
       " (0.0003545521266764924, 'Boy of the Year'),\n",
       " (0.0003543372019940383, 'Tim Allen'),\n",
       " (0.0003536817210082364, 'Rance Howard'),\n",
       " (0.00035353369489246866, 'Overbrook Films'),\n",
       " (0.0003534258776516735, 'Extension 765'),\n",
       " (0.00035341862948203733, 'Richard Roundtree'),\n",
       " (0.0003534157927795982, 'Davis-Films'),\n",
       " (0.0003531073795674101, 'John Cho'),\n",
       " (0.0003525936911014065, 'James Woods'),\n",
       " (0.0003523650121176201, 'Mary Steenburgen'),\n",
       " (0.00035230262141994233, 'Virtual Studios'),\n",
       " (0.00035218231800073754, 'Zadan / Meron Productions'),\n",
       " (0.0003518725893553827, 'David Ogden Stiers'),\n",
       " (0.0003509089021972672, 'Warner Animation Group'),\n",
       " (0.0003508569851094096, \"Denis O'Hare\"),\n",
       " (0.0003499646889342034, 'Juno Pix'),\n",
       " (0.00034956745640876696, 'Justin Long'),\n",
       " (0.00034826399568478334, 'Robert Loggia'),\n",
       " (0.0003478971994908347, 'Pit Bull Productions'),\n",
       " (0.0003475968177855056, 'Lee J. Cobb'),\n",
       " (0.000347525468743876, 'Eugene Levy'),\n",
       " (0.0003474990893729464, 'Peter Gallagher'),\n",
       " (0.0003472762627390862, 'Forest Whitaker'),\n",
       " (0.00034722168345908483, 'Tom Hardy'),\n",
       " (0.0003471365529510388, 'Gary Cole'),\n",
       " (0.00034706190653445077, 'Sarah Silverman'),\n",
       " (0.0003465068464283798, 'Gotham Group'),\n",
       " (0.00034640884604508564, 'Michael Keaton'),\n",
       " (0.00034640467130439155, 'Michael Parks'),\n",
       " (0.0003460946470210952, 'Jennifer Aniston'),\n",
       " (0.00034552523222482515, 'Nancy Tenenbaum Films'),\n",
       " (0.00034514524312033825, 'Apatow Productions'),\n",
       " (0.00034509032175563325, 'Leonardo DiCaprio'),\n",
       " (0.00034484136652443247, 'Two Ton Films'),\n",
       " (0.00034475802844181143, 'Ewan McGregor'),\n",
       " (0.00034463007234398905, 'Burgess Meredith'),\n",
       " (0.00034460663432558155, 'Bruce McGill'),\n",
       " (0.00034421948418691164, 'Digital Domain'),\n",
       " (0.0003440017741197327, 'Dimension Films'),\n",
       " (0.0003439610881785332, 'Media Rights Capital (MRC)'),\n",
       " (0.0003438013223107571, 'Connie Nielsen'),\n",
       " (0.00034218940387475017, 'Wes Bentley'),\n",
       " (0.00034136409042467174, 'Kate Winslet'),\n",
       " (0.00034133269512404233, 'John Diehl'),\n",
       " (0.0003409144689549501, 'Imelda Staunton'),\n",
       " (0.0003408754572724831, 'Chris Penn'),\n",
       " (0.0003404536651939627, 'Danjaq'),\n",
       " (0.00034027228449320663, 'Vivica A. Fox'),\n",
       " (0.00033960731048513686, 'Skylark Productions'),\n",
       " (0.00033927262369462134, 'Aggregate Films'),\n",
       " (0.00033874601686014155, 'Kim Basinger'),\n",
       " (0.00033829626164260437, 'Patton Oswalt'),\n",
       " (0.0003368642803911901, 'Celia Weston'),\n",
       " (0.0003365647350902088, 'Frank Welker'),\n",
       " (0.00033649571608476014, 'François Cluzet'),\n",
       " (0.0003351757959733649, 'Ed Asner'),\n",
       " (0.0003347938721519143, 'Hughes Entertainment'),\n",
       " (0.0003344228913058113, 'Wigram Productions'),\n",
       " (0.00033270902723247896, 'Tig Productions'),\n",
       " (0.0003323224965151282, 'Luke Wilson'),\n",
       " (0.0003313033546171934, 'Danny DeVito'),\n",
       " (0.00033080981074784066, 'Taleswapper'),\n",
       " (0.000330309128906073, 'Lacey Chabert'),\n",
       " (0.00032939225520621957, 'Chow Yun-fat'),\n",
       " (0.00032936854700446486, 'Famke Janssen'),\n",
       " (0.0003293216376304546, 'Huahua Media'),\n",
       " (0.0003289008632991792, 'Marton Csokas'),\n",
       " (0.00032822178279347215, 'Tohokushinsha Film Corporation'),\n",
       " (0.0003281866954010974, 'Lakeshore Entertainment'),\n",
       " (0.0003278820843344013, 'Living Films'),\n",
       " (0.000326932655149797, 'Metropolitan Filmexport'),\n",
       " (0.000326699007270879, 'Matt Dillon'),\n",
       " (0.0003266275827401438, 'Philip Bosco'),\n",
       " (0.00032633705501582447, 'Til Schweiger'),\n",
       " (0.0003262107504453125, 'Nu Image Films'),\n",
       " (0.00032475059536786195, 'Heather Graham'),\n",
       " (0.0003244475888946453, 'Eli Wallach'),\n",
       " (0.00032438630957561603, 'Alan Arkin'),\n",
       " (0.00032436444409397454, 'William Devane'),\n",
       " (0.00032397182327629647, 'Film Rites'),\n",
       " (0.0003232710082774579, 'James Rebhorn'),\n",
       " (0.0003228817844545768, 'River Road Entertainment'),\n",
       " (0.0003226733766465319, 'Mark Wahlberg'),\n",
       " (0.00032159605860059, \"Mel's Cite du Cinema\"),\n",
       " (0.00032122621029966606, 'Soho VFX'),\n",
       " (0.0003200872622811423, 'Jeff Goldblum'),\n",
       " (0.00031951846920142985, 'Michael Kenneth Williams'),\n",
       " (0.00031944430061466055, 'Polygram Filmed Entertainment'),\n",
       " (0.0003189144705527713, 'Major Studio Partners'),\n",
       " (0.00031846483123223015, 'Mark Strong'),\n",
       " (0.00031837173246235836, 'The Yomiuri Shimbun'),\n",
       " (0.00031818249696688, 'Jeffrey Tambor'),\n",
       " (0.00031800815287285933, 'Milla Jovovich'),\n",
       " (0.00031759789673257006, 'Lloyd Kaufman'),\n",
       " (0.00031742661854738545, 'Meg Ryan'),\n",
       " (0.00031714286138987736, 'Will Forte'),\n",
       " (0.0003170647900274808, 'Barry Pepper'),\n",
       " (0.0003170612689865818, 'Guy Pearce'),\n",
       " (0.00031686261298009366, 'Giancarlo Giannini'),\n",
       " (0.00031664263001101136, 'Delphi Films'),\n",
       " (0.00031600791856127027, 'Brian Cox'),\n",
       " (0.000315479817316695, 'Maggie Gyllenhaal'),\n",
       " (0.0003152423360167894, 'Idris Elba'),\n",
       " (0.0003147216033077468, 'Tony Todd'),\n",
       " (0.0003140140596289901, 'Moroni Olsen'),\n",
       " (0.0003130888415240116, 'Dovemead Films'),\n",
       " (0.0003128546941662529, 'Gaumont'),\n",
       " (0.00031274151762300425, 'Melissa Leo'),\n",
       " (0.0003120335217473616, 'Red Om Films'),\n",
       " (0.0003118605872096169, 'Maggie Smith'),\n",
       " (0.0003118522467389727, 'Gold Circle Films'),\n",
       " (0.0003117446869714619, 'Viggo Mortensen'),\n",
       " (0.00031134388482533074, 'Nickelodeon Movies'),\n",
       " (0.0003110042746057161, 'Alcon Entertainment'),\n",
       " (0.0003105642910498937, 'Constantin Film'),\n",
       " (0.0003103631621612525, 'Initial Entertainment Group (IEG)'),\n",
       " (0.0003083679082236796, 'Walden Media'),\n",
       " (0.00030813580566556103, 'Edie McClurg'),\n",
       " (0.0003081012864408157, 'Frank Sinatra'),\n",
       " (0.0003079447973436276, 'PolyGram Filmed Entertainment'),\n",
       " (0.00030777014968544326, 'Don Rickles'),\n",
       " (0.0003077003154245476, 'Sarah Jessica Parker'),\n",
       " (0.0003074180033774254, 'Anne Heche'),\n",
       " (0.0003073396495436416, 'Frank Langella'),\n",
       " (0.0003061736008161325, 'Matt Craven'),\n",
       " (0.0003061539052699666, 'Prana Studios'),\n",
       " (0.0003049689656885375, 'Punch Productions'),\n",
       " (0.00030490364502571825, 'John Mills'),\n",
       " (0.00030481517027485666, 'John Leguizamo'),\n",
       " (0.00030441158166645977, 'Carrie-Anne Moss'),\n",
       " (0.00030421651812768795, 'Luis Guzmán'),\n",
       " (0.000303895383492977, 'Toho-Towa'),\n",
       " (0.000303721104989253, 'Margo Martindale'),\n",
       " (0.00030347835938461466, 'Rene Auberjonois'),\n",
       " (0.00030274483792265804, 'James Russo'),\n",
       " (0.0003021239236918611, 'Vittorio Gassman'),\n",
       " (0.0003019700131259012, 'Alphaville Films'),\n",
       " (0.00030159212138027394, 'Cary Elwes'),\n",
       " (0.00030143903163986767, 'Fuzzy Door Productions'),\n",
       " (0.000301374059547181,\n",
       "  'Global Entertainment Productions GmbH & Company Medien KG'),\n",
       " (0.00030118309972596995, 'Rade Serbedzija'),\n",
       " (0.0003010047183097996, 'Jun Kunimura'),\n",
       " (0.0003006584310082898, 'Shintarô Katsu'),\n",
       " (0.0003004774368262435, 'Robert Simonds Productions'),\n",
       " (0.00030030580794478503, 'Beacon Communications'),\n",
       " (0.000298979027459356, 'Bob Balaban'),\n",
       " (0.00029882047166462824, 'M.C. Gainey'),\n",
       " (0.0002977143581762246, 'Frances McDormand'),\n",
       " (0.00029747738827920364, 'Kelly Macdonald'),\n",
       " (0.0002974761473186915, 'Jon Gries'),\n",
       " (0.00029716367596237497, 'Christian Bale'),\n",
       " (0.0002970876939087306, 'George Lopez'),\n",
       " (0.00029699233105091893, 'C. Thomas Howell'),\n",
       " (0.00029598484376370263, 'Sam Rockwell'),\n",
       " (0.0002959002180821119, 'James Fox'),\n",
       " (0.0002956776549675833, 'M6'),\n",
       " (0.00029563625435120226, 'Vincent Schiavelli'),\n",
       " (0.0002955074398260236, 'Smokehouse Pictures'),\n",
       " (0.0002945298763435401, 'EuropaCorp'),\n",
       " (0.00029447073173785885, 'Littlestar'),\n",
       " (0.0002944238564350562, 'James Remar'),\n",
       " (0.0002943272682714083, 'Richard Griffiths'),\n",
       " (0.00029428413204640627, 'Hofflund/Polone'),\n",
       " (0.0002936630918138615, 'Andy Dick'),\n",
       " (0.00029353122099444294, 'Bradley Whitford'),\n",
       " (0.00029339721018586566, 'Billy Dee Williams'),\n",
       " (0.0002933398301706241, 'Robert Duvall'),\n",
       " (0.00029313201219372177, 'Ray Liotta'),\n",
       " (0.00029249142184876396, 'Saturn Films'),\n",
       " (0.0002920165551872492, 'Shinework Media'),\n",
       " (0.00029194707199705337, 'Steven Seagal'),\n",
       " (0.0002917778967652729, 'Michael Gambon'),\n",
       " (0.00029171593494335316, 'Ian Abercrombie'),\n",
       " (0.0002916169153896787, 'Ann Dowd'),\n",
       " (0.0002911436049046321, 'Dylan Baker'),\n",
       " (0.00029093930092052704, 'Sammo Hung'),\n",
       " (0.00029081738345634775, 'Weed Road Pictures'),\n",
       " (0.0002907248332914141, 'Kevin Spacey'),\n",
       " (0.0002895516520912707, 'Clea DuVall'),\n",
       " (0.0002893684606864023, 'Many Rivers Productions'),\n",
       " (0.0002892232387009438, 'Julia Phillips and Michael Phillips Productions'),\n",
       " (0.00028846935673497757, 'Laurence Mark Productions'),\n",
       " (0.0002877411296899393, 'Scott Glenn'),\n",
       " (0.00028746618931708057, 'Jennifer Jason Leigh'),\n",
       " (0.00028727160792294237, 'Uma Thurman'),\n",
       " (0.00028714540574343173, 'James Brolin'),\n",
       " (0.0002870162054876276, 'Art In Motion'),\n",
       " (0.0002869910787949648, 'Vertigo Entertainment'),\n",
       " (0.0002868781147993492, 'Fried Films'),\n",
       " (0.000286545693193787, 'Sean Penn'),\n",
       " (0.0002861999173638429, 'Stephen Rea'),\n",
       " (0.0002860664190616628, 'Eve Arden'),\n",
       " (0.00028599479404962046, 'Participant Media'),\n",
       " (0.0002858598797931843, 'Peter Dinklage'),\n",
       " (0.0002856091571852888, 'Sam Elliott'),\n",
       " (0.0002851480848655785, 'Marc Platt Productions'),\n",
       " (0.00028405562984762275, 'Kevin Dunn'),\n",
       " (0.00028391444949907806, 'Jake Gyllenhaal'),\n",
       " (0.00028388768875599134, 'MTV Films'),\n",
       " (0.00028349531829639405, 'Kyra Sedgwick'),\n",
       " (0.0002832910962901935, 'International Traders'),\n",
       " (0.0002825766756180639, 'Kasdan Pictures'),\n",
       " (0.00028246970124918614, 'Gwyneth Paltrow'),\n",
       " (0.000281860375222883, 'Smart Entertainment'),\n",
       " (0.0002817532286096445, 'Room 101'),\n",
       " (0.00028174659772180807, 'Black Rhino Productions'),\n",
       " (0.00028164730140145284, 'Jason Isaacs'),\n",
       " (0.00028108971789426724, 'Terence Stamp'),\n",
       " (0.00028087632529322893, 'Rainforest Films'),\n",
       " (0.00028082153571548516, 'Everyman Pictures'),\n",
       " (0.00028056528379850925, 'Mirage Enterprises'),\n",
       " (0.00028024193112637953, 'Televisió de Catalunya (TV3)'),\n",
       " (0.00027985476080146594, 'K/O Paper Products'),\n",
       " (0.0002795829483448576, 'Al Pacino'),\n",
       " (0.000279467906217417, 'Type A Films'),\n",
       " (0.00027938008414242255, 'Paul Rudd'),\n",
       " (0.00027870289017770355, 'Joan Collins'),\n",
       " (0.00027791182610412016, 'Film4'),\n",
       " (0.0002767864243652286, 'Common'),\n",
       " (0.0002767648523525952, 'Mad Chance Productions'),\n",
       " (0.0002764905609754237, 'Michael Murphy'),\n",
       " (0.0002759643908340423, 'Vanessa Redgrave'),\n",
       " (0.00027595550939036977, 'Mickey Rooney'),\n",
       " (0.00027571384727382507, 'Zookeeper Productions'),\n",
       " (0.00027556378018038063, 'F. Murray Abraham'),\n",
       " (0.0002748345834259136, 'John C. Reilly'),\n",
       " (0.0002740541648743415, 'Kevin Corrigan'),\n",
       " (0.00027397418129704445, 'Bill Hader'),\n",
       " (0.00027371990183237013, 'Orion Pictures'),\n",
       " (0.000273244510645799, 'TaliaFilm II Productions'),\n",
       " (0.00027303135392887245, 'George Segal'),\n",
       " (0.0002718710549310832, 'Steve Coogan'),\n",
       " (0.00027154507854358254, 'Tracey Walter'),\n",
       " (0.0002710952037371628, 'Alessandro Nivola'),\n",
       " (0.00027044321280851965, 'Judge Reinhold'),\n",
       " (0.0002703999225529264, 'Peninsula Films'),\n",
       " (0.00027004717769339655, 'Jeffrey Jones'),\n",
       " (0.00027004635352362397, 'Ossie Davis'),\n",
       " (0.0002697311340670299, 'Mary Kay Place'),\n",
       " (0.0002696264175975846, 'Michael Byrne'),\n",
       " (0.0002693720201710631, 'Dermot Mulroney'),\n",
       " (0.0002691985118764242, 'Tom Selleck'),\n",
       " (0.0002690655756471348, 'Groucho II Film Partnership'),\n",
       " (0.0002690254122124671, 'Samuel Goldwyn Films'),\n",
       " (0.00026850965673751187, 'Brendan Fraser'),\n",
       " (0.0002683884228808329, 'John Hurt'),\n",
       " (0.0002683435661264233, 'Golden Harvest Company'),\n",
       " (0.0002670079140024425, 'Goldmann Pictures'),\n",
       " (0.00026680591295360855, 'Rose Byrne'),\n",
       " (0.00026675748291342426, 'Saban Brands'),\n",
       " (0.0002656803412260051, 'Melanie Lynskey'),\n",
       " (0.0002654368427998329, '33andOut Productions'),\n",
       " (0.0002652412373293609, 'Taihe Entertainment'),\n",
       " (0.0002651221201973682, 'Robert Patrick'),\n",
       " (0.00026503527079112585, 'Jim Carter'),\n",
       " (0.0002646676562914057, 'Martin Sheen'),\n",
       " (0.0002641450316406558, 'Amitabh Bachchan'),\n",
       " (0.0002634302591565908, 'Starz Animation'),\n",
       " (0.00026196695947974113, 'Jean-Claude Van Damme'),\n",
       " (0.0002610309795865158, 'Vincent Newman Entertainment'),\n",
       " (0.0002609808762634099, 'Brion James'),\n",
       " (0.000260563252496626, 'Motion Picture JOTA Produktions'),\n",
       " (0.00026053525768841986, 'Linovo Productions GmbH & Co. KG'),\n",
       " (0.00026036827569428866, 'Momentum Pictures'),\n",
       " (0.00026036628457816945, 'Matthew Lillard'),\n",
       " (0.00025924356750303164, 'Denise Richards'),\n",
       " (0.00025852042815263714, 'Jeffrey Wright'),\n",
       " (0.0002583686513589321, 'Holly Hunter'),\n",
       " (0.00025686443902788055, 'David Thewlis'),\n",
       " (0.0002567788937548791, 'Radar Pictures'),\n",
       " (0.00025654442870320324, 'Tony Shalhoub'),\n",
       " (0.0002564615582872474, 'Alcor Films'),\n",
       " (0.0002562776105455295, 'Brian Grazer/Scott Rudin Productions'),\n",
       " (0.00025604368080577446, 'Fred Armisen'),\n",
       " (0.0002557802400250094, 'Kanzaman'),\n",
       " (0.00025571580621178185, 'Anthony Anderson'),\n",
       " (0.0002555659407608483, 'Farrell/Minoff'),\n",
       " (0.0002551769667234673, 'Anne Hathaway'),\n",
       " (0.0002550879376871492, 'Thomas Lennon'),\n",
       " (0.0002542985841359846, 'Bridget Fonda'),\n",
       " (0.00025373317367060716, 'Olivier Gourmet'),\n",
       " (0.0002535476233516258, 'Ashley Judd'),\n",
       " (0.0002534374428294121, 'Mandalay Pictures'),\n",
       " (0.00025335528371998634, 'Andy García'),\n",
       " (0.00025333847770382716, 'Aamir Khan Productions'),\n",
       " (0.0002531411972349867, 'Michael De Luca Productions'),\n",
       " (0.00025274999497214534, 'Zanuck/Brown Productions'),\n",
       " (0.0002525648281789246, 'Richard Riehle'),\n",
       " (0.0002524799788390474, 'Gabriel Byrne'),\n",
       " (0.0002524305297242083, 'Burt Reynolds'),\n",
       " (0.0002523433542087013, 'LStar Capital'),\n",
       " (0.0002505688884159619, 'Jennifer Lopez'),\n",
       " (0.0002504208770421143, 'Jane Seymour'),\n",
       " (0.0002499526298709006, 'Playtone'),\n",
       " (0.0002499289518038361, 'Gary Busey'),\n",
       " (0.0002497098718701934, 'Mike Starr'),\n",
       " (0.0002495148283101333, 'JD Productions'),\n",
       " (0.00024928983131771554, 'Joel Edgerton'),\n",
       " (0.0002488216689391737, 'Anjelica Huston'),\n",
       " (0.0002484679998182927, 'Robbie Coltrane'),\n",
       " (0.0002484160317330196, 'Pip Torrens'),\n",
       " (0.0002471772716727147, 'Charlie Sheen'),\n",
       " (0.00024690812886829456, 'Peter Boyle'),\n",
       " (0.00024688047228913645, 'Pete Postlethwaite'),\n",
       " (0.0002467319675210662, 'Charlotte Rampling'),\n",
       " (0.00024584146339990456, 'Beau Bridges'),\n",
       " (0.0002456370076490344, \"Eric's Boy\"),\n",
       " (0.0002455355525111562, 'Craig Sheffer'),\n",
       " (0.0002452314770754246, 'Lions Gate Films'),\n",
       " (0.00024451592083016873, 'Michael Shannon'),\n",
       " (0.00024448967384783725, 'Janeane Garofalo'),\n",
       " (0.00024440558669605475, 'd-rights'),\n",
       " (0.0002442821803253039, 'Jason Lee'),\n",
       " (0.00024389568150014375, 'Hugh Bonneville'),\n",
       " (0.00024359875089194035, 'Bert Remsen'),\n",
       " (0.0002429589028820758, 'Anthony Edwards'),\n",
       " ...]"
      ]
     },
     "execution_count": 51,
     "metadata": {},
     "output_type": "execute_result"
    }
   ],
   "source": [
    "sorted(list(zip(model.feature_importances_, X4_test.columns)), reverse=True)"
   ]
  },
  {
   "cell_type": "code",
   "execution_count": 52,
   "metadata": {},
   "outputs": [
    {
     "data": {
      "text/plain": [
       "array([0.0051758 , 0.00567916, 0.00654276, ..., 0.        , 0.        ,\n",
       "       0.15205041])"
      ]
     },
     "execution_count": 52,
     "metadata": {},
     "output_type": "execute_result"
    }
   ],
   "source": [
    "model.feature_importances_"
   ]
  },
  {
   "cell_type": "markdown",
   "metadata": {},
   "source": [
    "###### Na célula acima, é possível observar quais variáveis apresentaram uma maior importância para determinar uma alta ou baixa bilheteria de filme."
   ]
  },
  {
   "cell_type": "markdown",
   "metadata": {},
   "source": [
    "---"
   ]
  },
  {
   "cell_type": "markdown",
   "metadata": {},
   "source": [
    "Abaixo, realizou-se a mesma técnica com outros dois métodos. Dessa forma, é possível comparar a acurácia obtida no classificador por "
   ]
  },
  {
   "cell_type": "markdown",
   "metadata": {},
   "source": [
    "## Regressão Logística"
   ]
  },
  {
   "cell_type": "code",
   "execution_count": 53,
   "metadata": {},
   "outputs": [
    {
     "name": "stderr",
     "output_type": "stream",
     "text": [
      "C:\\Users\\anacl\\Anaconda3\\lib\\site-packages\\sklearn\\linear_model\\logistic.py:432: FutureWarning: Default solver will be changed to 'lbfgs' in 0.22. Specify a solver to silence this warning.\n",
      "  FutureWarning)\n"
     ]
    },
    {
     "name": "stdout",
     "output_type": "stream",
     "text": [
      "0.8301630434782609\n"
     ]
    }
   ],
   "source": [
    "model = LogisticRegression()\n",
    "model.fit(X4_train,Y4_train)\n",
    "Ypred = model.predict(X4_test)\n",
    "print(accuracy_score(Y4_test,Ypred))"
   ]
  },
  {
   "cell_type": "markdown",
   "metadata": {},
   "source": [
    "## Máquina de vetores de suporte"
   ]
  },
  {
   "cell_type": "code",
   "execution_count": 54,
   "metadata": {},
   "outputs": [
    {
     "name": "stderr",
     "output_type": "stream",
     "text": [
      "C:\\Users\\anacl\\Anaconda3\\lib\\site-packages\\sklearn\\svm\\base.py:193: FutureWarning: The default value of gamma will change from 'auto' to 'scale' in version 0.22 to account better for unscaled features. Set gamma explicitly to 'auto' or 'scale' to avoid this warning.\n",
      "  \"avoid this warning.\", FutureWarning)\n"
     ]
    },
    {
     "name": "stdout",
     "output_type": "stream",
     "text": [
      "0.8695652173913043\n"
     ]
    }
   ],
   "source": [
    "model = SVC()\n",
    "model.fit(X4_train,Y4_train)\n",
    "Ypred = model.predict(X4_test)\n",
    "print(accuracy_score(Y4_test,Ypred))"
   ]
  },
  {
   "cell_type": "markdown",
   "metadata": {},
   "source": [
    "# Conclusão"
   ]
  },
  {
   "cell_type": "markdown",
   "metadata": {},
   "source": [
    "A partir de toda a análise, pode-se concluir que durante o projeto, não foi possível criar um classificador capaz de definir com exatidão se um filme atingirá ou não a marca de 150 milhões de dólares. Pode-se afirmar isso pois até mesmo quando o classificador reagrupou todas as variáveis utilizadas (atores, produtoras, orçamento e gêneros de filme), ele não foi capaz de determinar se um filme arrecadaria o valor estipulado, dado que sua acurácia foi inferior a 90% em todos classificadores. O fato da precisão ser inferior a 90% indica que o classificador não é confiável o suficiente devido ao fato de que apenas 20% dos filmes do nosso dataset atingiram os 150 milhões de dólares. Assim, um classificador que julgasse que nenhum filme atingiria esse valor teria uma acurácia de 80%. O classificador desenvolvido no projeto, no entanto, é capaz de prever corretamente 10% a mais em relação ao citado anteriormente."
   ]
  },
  {
   "cell_type": "markdown",
   "metadata": {},
   "source": [
    "Não é possível afirmar quais fatores podem aprimorar nosso classificador. No entanto, pode-se deduzir que ao adicionar novas variáveis, o classificador obteria uma maior precisão e confiabilidade, já que este seria capaz de reagrupar mais informações capazes de afirmar se um filme conseguiria ou não ultrapassar a marca dos 150 milhões de dólares. Essas features poderiam ser, por exemplo, \"faixa etária\", \"período no qual o filme foi lançado\", entre outras."
   ]
  },
  {
   "cell_type": "markdown",
   "metadata": {},
   "source": [
    "Nota-se também que no modelo de Random Forest, a variável mais importante para determinar se um filme conseguiria superar ou não a marca definida é o orçamento. Afinal, ao realizar o feature importance, nota-se que esta possuia a maior relevância mediante as outras analisadas. Além disso, observou-se que dentre os classificadores que relacionaram apenas uma variável de entrada, aquele que relacionou o orçamento apresentou uma maior acurácia."
   ]
  },
  {
   "cell_type": "markdown",
   "metadata": {},
   "source": [
    "Por fim, vale ressaltar que a diferença da precisão entre os diferentes métodos de classificação ocorre devido ao fato de que cada um desses métodos considera diferentes estratégias para definir a importância de cada variável. Pode-se estipular, portanto, que o método de Random Forest foi o que teve maior acurácia, pois este foi capaz de definir de melhor forma quais eram as features mais relevantes para julgar se um filme conseguiria atingir a meta. Por outro lado, o método de Regressão Logística obteve uma menor acurácia pois não foi capaz de definir corretamente as melhores e mais importantes features para classificar os filmes."
   ]
  }
 ],
 "metadata": {
  "kernelspec": {
   "display_name": "Python 3",
   "language": "python",
   "name": "python3"
  },
  "language_info": {
   "codemirror_mode": {
    "name": "ipython",
    "version": 3
   },
   "file_extension": ".py",
   "mimetype": "text/x-python",
   "name": "python",
   "nbconvert_exporter": "python",
   "pygments_lexer": "ipython3",
   "version": "3.7.4"
  }
 },
 "nbformat": 4,
 "nbformat_minor": 2
}
