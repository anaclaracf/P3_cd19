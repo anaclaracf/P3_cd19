{
 "cells": [
  {
   "cell_type": "markdown",
   "metadata": {},
   "source": [
    "# Projeto 3 de Ciência dos Dados\n",
    "\n",
    "Integrantes:\n",
    "\n",
    "Ana Clara\n",
    "João Pedro Varella\n",
    "João Guilherme"
   ]
  },
  {
   "cell_type": "markdown",
   "metadata": {},
   "source": [
    "## Imports"
   ]
  },
  {
   "cell_type": "code",
   "execution_count": 1,
   "metadata": {},
   "outputs": [],
   "source": [
    "import pandas as pd\n",
    "import matplotlib.pyplot as plt\n",
    "import ast\n",
    "from pprint import pprint\n",
    "from sklearn.ensemble import RandomForestClassifier\n",
    "import numpy as np\n",
    "from sklearn.datasets import load_digits\n",
    "digits = load_digits()"
   ]
  },
  {
   "cell_type": "markdown",
   "metadata": {},
   "source": [
    "___\n",
    "\n",
    "## Contextualização"
   ]
  },
  {
   "cell_type": "markdown",
   "metadata": {},
   "source": [
    "### Pergunta:"
   ]
  },
  {
   "cell_type": "markdown",
   "metadata": {},
   "source": [
    "A pergunta principal que será respondida no projeto é como diversos fatores influenciam na bilheteria de um filme. Como forma de estudo, estipularemos uma meta de bilheteria no decorrer das análises."
   ]
  },
  {
   "cell_type": "markdown",
   "metadata": {},
   "source": [
    "Sabe-se que anualmente, centenas de filmes entram em cartaz pelos diversos países do mundo. Dentre eles, a grande maioria não atinge altos valores de bilheteria. Por meio desse estudo, será possível compreender o que majoritariamente influencia se um filme será um sucesso ou se será um fracasso de bilheteria com as análises das diversas variáveis do Dataset. Essas questões serão abordadas no andamento do projeto, para que, no fim, possamos responder à pergunta inicial."
   ]
  },
  {
   "cell_type": "markdown",
   "metadata": {},
   "source": [
    "### Sobre o Dataset:"
   ]
  },
  {
   "cell_type": "markdown",
   "metadata": {},
   "source": [
    "O Dataset utilizado, entitulado \"The Movies Dataset\", extraído do Kaggle, reúne diversas informações sobre mais de 45 mil filmes. Dentre essas, pode-se citar: atores, diretores, produtores, orçamento, bilheteria, gênero, popularidade, faixa etária, etc. \n",
    "\n",
    "No entanto, filtrou-se algumas variáveis julgadas como mais relevantes para o intuito do estudo. Dessa forma, certas categorias foram dispensadas para o andamento das análises."
   ]
  },
  {
   "cell_type": "markdown",
   "metadata": {},
   "source": [
    "O Dataset escolhido está disponível no link abaixo:"
   ]
  },
  {
   "cell_type": "markdown",
   "metadata": {},
   "source": [
    "https://www.kaggle.com/rounakbanik/the-movies-dataset"
   ]
  },
  {
   "cell_type": "markdown",
   "metadata": {},
   "source": [
    "### Método utilizado:"
   ]
  },
  {
   "cell_type": "markdown",
   "metadata": {},
   "source": [
    "Para a realização do projeto utilizaremos do método de classificação do Random Forest. Afinal, o modelo se utilizará das variáveis de entrada do nosso Dataset, devolvendo, ao fim, uma variável de saída binária (no caso do nosso projeto, se o filme atinge ou não a meta estipulada). A forma pela qual esse método realiza essa análise é: Inicialmente, recebe um filme qualquer e verifica se o dado filme possui uma primeira variável de entrada (Tomemos a presença do ator Tom Hanks como exemplo) e em seguida, checa alguma outra variável de entrada (filme ser ou não de ação) e assim por diante, de forma que cada \"árvore\" devolverá uma variável binária para o filme atingir a meta, baseado nas respostas das variáveis de entrada. Ao fim da análise de todas as árvores, o Random Forest devolve uma variável de saída também na forma binária, se o filme conseguirá ou não bater a marca estabelecida, baseado nas respostas finais de cada árvore."
   ]
  },
  {
   "cell_type": "markdown",
   "metadata": {},
   "source": [
    "## Lendo arquivos"
   ]
  },
  {
   "cell_type": "code",
   "execution_count": 2,
   "metadata": {
    "scrolled": true
   },
   "outputs": [
    {
     "name": "stderr",
     "output_type": "stream",
     "text": [
      "/Users/varella/anaconda3/lib/python3.7/site-packages/IPython/core/interactiveshell.py:3020: DtypeWarning: Columns (10) have mixed types. Specify dtype option on import or set low_memory=False.\n",
      "  interactivity=interactivity, compiler=compiler, result=result)\n"
     ]
    }
   ],
   "source": [
    "df = pd.read_csv(\"movies_metadata.csv\")\n",
    "df2 = pd.read_csv(\"credits.csv\")"
   ]
  },
  {
   "cell_type": "markdown",
   "metadata": {},
   "source": [
    "## Limpeza do DataFrame \"Meta Data\""
   ]
  },
  {
   "cell_type": "markdown",
   "metadata": {},
   "source": [
    "### Retirada dos JSONs"
   ]
  },
  {
   "cell_type": "markdown",
   "metadata": {},
   "source": [
    "No dataset utilizado, algumas variáveis estavam codificadas na forma de JSON. Para acessá-las, foi necessário extrair as informações e transformá-las em um dicionário. Nesta etapa da análise, extraímos os nomes dos atores de cada um dos filmes. Dessa forma, foi possível criar um dicionário relacionando duas variáveis, em que a chave corresponde ao nome do ator, e o valor dessa chave é o número de filmes em que cada ator atuou."
   ]
  },
  {
   "cell_type": "code",
   "execution_count": 3,
   "metadata": {},
   "outputs": [],
   "source": [
    "from collections import defaultdict\n",
    "atores = defaultdict(int)\n",
    "for e in df2.index:\n",
    "    data_dict = ast.literal_eval(df2[\"cast\"][e])\n",
    "    for palavras in data_dict:\n",
    "        nome = palavras['name']\n",
    "        \n",
    "        atores[nome] += 1"
   ]
  },
  {
   "cell_type": "markdown",
   "metadata": {},
   "source": [
    "### Código para limpeza de certas variáveis tais como: revenue, budget, produtora e gênero:"
   ]
  },
  {
   "cell_type": "code",
   "execution_count": 4,
   "metadata": {},
   "outputs": [],
   "source": [
    "df_0 = df[df['revenue'] > 0]\n",
    "df_budget = df_0[df_0['budget'] != '0']\n",
    "df_clean = df_budget[df_budget['production_companies'] != '[]']\n",
    "df_super_clean = df_clean[df_clean['genres'] != '[]']"
   ]
  },
  {
   "cell_type": "code",
   "execution_count": 5,
   "metadata": {},
   "outputs": [
    {
     "name": "stderr",
     "output_type": "stream",
     "text": [
      "/Users/varella/anaconda3/lib/python3.7/site-packages/ipykernel_launcher.py:2: SettingWithCopyWarning: \n",
      "A value is trying to be set on a copy of a slice from a DataFrame.\n",
      "Try using .loc[row_indexer,col_indexer] = value instead\n",
      "\n",
      "See the caveats in the documentation: http://pandas.pydata.org/pandas-docs/stable/indexing.html#indexing-view-versus-copy\n",
      "  \n"
     ]
    },
    {
     "data": {
      "text/html": [
       "<div>\n",
       "<style scoped>\n",
       "    .dataframe tbody tr th:only-of-type {\n",
       "        vertical-align: middle;\n",
       "    }\n",
       "\n",
       "    .dataframe tbody tr th {\n",
       "        vertical-align: top;\n",
       "    }\n",
       "\n",
       "    .dataframe thead th {\n",
       "        text-align: right;\n",
       "    }\n",
       "</style>\n",
       "<table border=\"1\" class=\"dataframe\">\n",
       "  <thead>\n",
       "    <tr style=\"text-align: right;\">\n",
       "      <th></th>\n",
       "      <th>id</th>\n",
       "      <th>genres</th>\n",
       "      <th>budget</th>\n",
       "      <th>revenue</th>\n",
       "      <th>production_companies</th>\n",
       "    </tr>\n",
       "  </thead>\n",
       "  <tbody>\n",
       "    <tr>\n",
       "      <th>0</th>\n",
       "      <td>862</td>\n",
       "      <td>[{'id': 16, 'name': 'Animation'}, {'id': 35, '...</td>\n",
       "      <td>30000000.0</td>\n",
       "      <td>373554033.0</td>\n",
       "      <td>[{'name': 'Pixar Animation Studios', 'id': 3}]</td>\n",
       "    </tr>\n",
       "    <tr>\n",
       "      <th>1</th>\n",
       "      <td>8844</td>\n",
       "      <td>[{'id': 12, 'name': 'Adventure'}, {'id': 14, '...</td>\n",
       "      <td>65000000.0</td>\n",
       "      <td>262797249.0</td>\n",
       "      <td>[{'name': 'TriStar Pictures', 'id': 559}, {'na...</td>\n",
       "    </tr>\n",
       "    <tr>\n",
       "      <th>3</th>\n",
       "      <td>31357</td>\n",
       "      <td>[{'id': 35, 'name': 'Comedy'}, {'id': 18, 'nam...</td>\n",
       "      <td>16000000.0</td>\n",
       "      <td>81452156.0</td>\n",
       "      <td>[{'name': 'Twentieth Century Fox Film Corporat...</td>\n",
       "    </tr>\n",
       "    <tr>\n",
       "      <th>5</th>\n",
       "      <td>949</td>\n",
       "      <td>[{'id': 28, 'name': 'Action'}, {'id': 80, 'nam...</td>\n",
       "      <td>60000000.0</td>\n",
       "      <td>187436818.0</td>\n",
       "      <td>[{'name': 'Regency Enterprises', 'id': 508}, {...</td>\n",
       "    </tr>\n",
       "    <tr>\n",
       "      <th>8</th>\n",
       "      <td>9091</td>\n",
       "      <td>[{'id': 28, 'name': 'Action'}, {'id': 12, 'nam...</td>\n",
       "      <td>35000000.0</td>\n",
       "      <td>64350171.0</td>\n",
       "      <td>[{'name': 'Universal Pictures', 'id': 33}, {'n...</td>\n",
       "    </tr>\n",
       "  </tbody>\n",
       "</table>\n",
       "</div>"
      ],
      "text/plain": [
       "      id                                             genres      budget  \\\n",
       "0    862  [{'id': 16, 'name': 'Animation'}, {'id': 35, '...  30000000.0   \n",
       "1   8844  [{'id': 12, 'name': 'Adventure'}, {'id': 14, '...  65000000.0   \n",
       "3  31357  [{'id': 35, 'name': 'Comedy'}, {'id': 18, 'nam...  16000000.0   \n",
       "5    949  [{'id': 28, 'name': 'Action'}, {'id': 80, 'nam...  60000000.0   \n",
       "8   9091  [{'id': 28, 'name': 'Action'}, {'id': 12, 'nam...  35000000.0   \n",
       "\n",
       "       revenue                               production_companies  \n",
       "0  373554033.0     [{'name': 'Pixar Animation Studios', 'id': 3}]  \n",
       "1  262797249.0  [{'name': 'TriStar Pictures', 'id': 559}, {'na...  \n",
       "3   81452156.0  [{'name': 'Twentieth Century Fox Film Corporat...  \n",
       "5  187436818.0  [{'name': 'Regency Enterprises', 'id': 508}, {...  \n",
       "8   64350171.0  [{'name': 'Universal Pictures', 'id': 33}, {'n...  "
      ]
     },
     "execution_count": 5,
     "metadata": {},
     "output_type": "execute_result"
    }
   ],
   "source": [
    "df_mega_clean = df_super_clean[[\"id\",\"genres\",\"budget\",\"revenue\",\"production_companies\"]]\n",
    "df_mega_clean['budget'] = df_mega_clean['budget'].astype(float)\n",
    "df_mega_clean.head()"
   ]
  },
  {
   "cell_type": "markdown",
   "metadata": {},
   "source": [
    "## Análise Exploratória"
   ]
  },
  {
   "cell_type": "markdown",
   "metadata": {},
   "source": [
    "Primeiramente foram analisadas as variáveis mais simplórias do DataFrame. Dessa forma, foram plotados histogramas que relacionam a frequência absoluta das variáveis Budget e Revenue."
   ]
  },
  {
   "cell_type": "code",
   "execution_count": 6,
   "metadata": {},
   "outputs": [
    {
     "data": {
      "text/plain": [
       "20000000.0    0.035199\n",
       "25000000.0    0.033660\n",
       "15000000.0    0.032506\n",
       "30000000.0    0.030198\n",
       "10000000.0    0.027890\n",
       "Name: budget, dtype: float64"
      ]
     },
     "execution_count": 6,
     "metadata": {},
     "output_type": "execute_result"
    }
   ],
   "source": [
    "df_mega_clean['budget'].value_counts(normalize= True).head()"
   ]
  },
  {
   "cell_type": "code",
   "execution_count": 7,
   "metadata": {},
   "outputs": [
    {
     "data": {
      "text/plain": [
       "12000000.0    0.003078\n",
       "2000000.0     0.002885\n",
       "10000000.0    0.002693\n",
       "11000000.0    0.002500\n",
       "6000000.0     0.002116\n",
       "Name: revenue, dtype: float64"
      ]
     },
     "execution_count": 7,
     "metadata": {},
     "output_type": "execute_result"
    }
   ],
   "source": [
    "df_mega_clean['revenue'].value_counts(normalize= True).head()"
   ]
  },
  {
   "cell_type": "markdown",
   "metadata": {},
   "source": [
    "### Histograma da variável budget"
   ]
  },
  {
   "cell_type": "code",
   "execution_count": 8,
   "metadata": {},
   "outputs": [
    {
     "data": {
      "image/png": "[encoded data removed]",
      "text/plain": [
       "<Figure size 432x288 with 1 Axes>"
      ]
     },
     "metadata": {
      "needs_background": "light"
     },
     "output_type": "display_data"
    }
   ],
   "source": [
    "df_mega_clean.budget.plot.hist(density = False)\n",
    "plt.title('Budget')\n",
    "plt.show()"
   ]
  },
  {
   "cell_type": "markdown",
   "metadata": {},
   "source": [
    "Por meio desse gráfico é possível observar que em geral, a maioria dos filmes possuem um baixo orçamento"
   ]
  },
  {
   "cell_type": "markdown",
   "metadata": {},
   "source": [
    "### Histograma da variável revenue"
   ]
  },
  {
   "cell_type": "code",
   "execution_count": 9,
   "metadata": {},
   "outputs": [
    {
     "data": {
      "image/png": "[encoded data removed]",
      "text/plain": [
       "<Figure size 432x288 with 1 Axes>"
      ]
     },
     "metadata": {
      "needs_background": "light"
     },
     "output_type": "display_data"
    }
   ],
   "source": [
    "df_mega_clean.revenue.plot.hist(density = False)\n",
    "plt.title('Revenue')\n",
    "plt.show()"
   ]
  },
  {
   "cell_type": "markdown",
   "metadata": {},
   "source": [
    "Por meio "
   ]
  },
  {
   "cell_type": "markdown",
   "metadata": {},
   "source": [
    "### Gráfico de dispersão das variáveis budget e revenue"
   ]
  },
  {
   "cell_type": "markdown",
   "metadata": {},
   "source": [
    "Neste gráfico de dispersão, foram relacionadas as duas variáveis acima, de modo que fosse possível constatar a relação entre filmes com alto orçamento e filmes com alta bilheteria."
   ]
  },
  {
   "cell_type": "code",
   "execution_count": 10,
   "metadata": {},
   "outputs": [
    {
     "data": {
      "image/png": "[encoded data removed]",
      "text/plain": [
       "<Figure size 432x288 with 1 Axes>"
      ]
     },
     "metadata": {
      "needs_background": "light"
     },
     "output_type": "display_data"
    }
   ],
   "source": [
    "df_mega_clean.plot.scatter(x=\"budget\", y = \"revenue\")\n",
    "plt.title('Budget x Revenue')\n",
    "plt.show()"
   ]
  },
  {
   "cell_type": "code",
   "execution_count": 11,
   "metadata": {},
   "outputs": [
    {
     "data": {
      "image/png": "[encoded data removed]",
      "text/plain": [
       "<Figure size 432x288 with 1 Axes>"
      ]
     },
     "metadata": {
      "needs_background": "light"
     },
     "output_type": "display_data"
    }
   ],
   "source": [
    "generos = []\n",
    "for e in df_mega_clean.index:\n",
    "    data_dict = ast.literal_eval(df_mega_clean[\"genres\"][e])\n",
    "    for palavras in data_dict:\n",
    "        generos.append(palavras['name'])\n",
    "\n",
    "df_generos = pd.DataFrame(generos)\n",
    "df_generos\n",
    "geneross = df_generos[0].value_counts()\n",
    "geneross\n",
    "geneross.plot(kind='bar')\n",
    "plt.title('Quantidade de filmes produzidos por gêneros')\n",
    "plt.show()"
   ]
  },
  {
   "cell_type": "code",
   "execution_count": 12,
   "metadata": {},
   "outputs": [],
   "source": [
    "revenues_por_categoria = {}\n",
    "categorias = [\n",
    "    'Drama', 'Comedy', 'Thriller',\n",
    "    'Action','Romance','Adventure','Crime','Science Fiction',\n",
    "    'Horror','Family','Fantasy','Mystery','Animation','History',\n",
    "    \"War\",'Music','Western','Documentary','Foreign','TV Movie'\n",
    "]\n",
    "\n",
    "for c in categorias:\n",
    "    revenues_por_categoria[c] = []\n",
    "\n",
    "for e in df_mega_clean.index:\n",
    "    data_dict = ast.literal_eval(df_mega_clean[\"genres\"][e])\n",
    "    for palavras in data_dict:\n",
    "        cat = palavras[\"name\"]\n",
    "        #print(cat)\n",
    "        if cat in revenues_por_categoria:\n",
    "            revenues_por_categoria[cat].append(df_mega_clean['revenue'][e])\n",
    "            \n",
    "for k in revenues_por_categoria:\n",
    "    revenues_por_categoria[k] = (np.array(revenues_por_categoria[k]))"
   ]
  },
  {
   "cell_type": "code",
   "execution_count": 13,
   "metadata": {
    "scrolled": false
   },
   "outputs": [
    {
     "data": {
      "image/png": "[encoded data removed]",
      "text/plain": [
       "<Figure size 1152x576 with 1 Axes>"
      ]
     },
     "metadata": {
      "needs_background": "light"
     },
     "output_type": "display_data"
    }
   ],
   "source": [
    "%matplotlib inline\n",
    "import matplotlib.pyplot as plt\n",
    "fig = plt.figure(figsize=(16,8))\n",
    "ax = fig.add_subplot(111)\n",
    "ax.boxplot(revenues_por_categoria.values(), showfliers=False)\n",
    "ax.set_xticklabels(revenues_por_categoria.keys(), rotation='vertical');\n",
    "#plt.yscale('log')\n",
    "plt.show()"
   ]
  },
  {
   "cell_type": "code",
   "execution_count": 14,
   "metadata": {},
   "outputs": [
    {
     "data": {
      "text/plain": [
       "<matplotlib.axes._subplots.AxesSubplot at 0x1a29e27320>"
      ]
     },
     "execution_count": 14,
     "metadata": {},
     "output_type": "execute_result"
    },
    {
     "data": {
      "image/png": "[encoded data removed]",
      "text/plain": [
       "<Figure size 432x288 with 1 Axes>"
      ]
     },
     "metadata": {
      "needs_background": "light"
     },
     "output_type": "display_data"
    }
   ],
   "source": [
    "produtoras = []\n",
    "for e in df_mega_clean.index:\n",
    "    data_dict = ast.literal_eval(df_mega_clean[\"production_companies\"][e])\n",
    "   # print(data_dict)\n",
    "    for palavras in data_dict:\n",
    "        produtoras.append(palavras['name'])\n",
    "\n",
    "df_produtoras = pd.DataFrame(produtoras)\n",
    "df_produtoras\n",
    "produtorass = df_produtoras[0].value_counts().head(30)\n",
    "produtorass\n",
    "produtorass.plot(kind='bar')"
   ]
  },
  {
   "cell_type": "code",
   "execution_count": 15,
   "metadata": {},
   "outputs": [],
   "source": [
    "revenues_por_produtora = {}\n",
    "produtoras = [\n",
    "    'Warner Bros.','Universal Pictures','Paramount Pictures','Twentieth Century Fox Film Corporation','Columbia Pictures',\n",
    "    'New Line Cinema','Metro-Goldwyn-Mayer (MGM)','Touchstone Pictures','Walt Disney Pictures','Columbia Pictures Corporation',\n",
    "    'Relativity Media','United Artists','Miramax Films','TriStar Pictures','Canal+','Village Roadshow Pictures','DreamWorks SKG',\n",
    "    'Regency Enterprises','Lionsgate','Amblin Entertainment','Summit Entertainment','Dune Entertainment','Fox Searchlight Pictures',\n",
    "    'Dimension Films','Working Title Films','Fox 2000 Pictures','StudioCanal','Silver Pictures','Hollywood Pictures',\n",
    "    'The Weinstein Company'\n",
    "]\n",
    "\n",
    "for p in produtoras:\n",
    "    revenues_por_produtora[p] = []\n",
    "\n",
    "for f in df_mega_clean.index:\n",
    "    data_dict = ast.literal_eval(df_mega_clean[\"production_companies\"][f])\n",
    "    #print(data_dict)\n",
    "    for palavras in data_dict:\n",
    "        #print(palavras)\n",
    "        prod = palavras[\"name\"]\n",
    "        if prod in revenues_por_produtora:\n",
    "            revenues_por_produtora[prod].append(df_mega_clean['revenue'][f])\n",
    "        \n",
    "            \n",
    "#revenues_por_produtora\n",
    "            \n",
    "for k in revenues_por_produtora:\n",
    "    revenues_por_produtora[k] = (np.array(revenues_por_produtora[k]))"
   ]
  },
  {
   "cell_type": "code",
   "execution_count": 16,
   "metadata": {},
   "outputs": [
    {
     "data": {
      "image/png": "[encoded data removed]",
      "text/plain": [
       "<Figure size 1152x576 with 1 Axes>"
      ]
     },
     "metadata": {
      "needs_background": "light"
     },
     "output_type": "display_data"
    }
   ],
   "source": [
    "%matplotlib inline\n",
    "import matplotlib.pyplot as plt\n",
    "fig = plt.figure(figsize=(16,8))\n",
    "ax = fig.add_subplot(111)\n",
    "ax.boxplot(revenues_por_produtora.values(), showfliers=False)\n",
    "ax.set_xticklabels(revenues_por_produtora.keys(), rotation='vertical');\n",
    "#plt.yscale('log')\n",
    "plt.show()"
   ]
  },
  {
   "cell_type": "markdown",
   "metadata": {},
   "source": [
    "## Limpeza do DataFrame \"Credits\""
   ]
  },
  {
   "cell_type": "code",
   "execution_count": 17,
   "metadata": {},
   "outputs": [
    {
     "data": {
      "text/plain": [
       "Tom Hanks        72\n",
       "Tim Allen        29\n",
       "Don Rickles      29\n",
       "Jim Varney       20\n",
       "Wallace Shawn    75\n",
       "dtype: int64"
      ]
     },
     "execution_count": 17,
     "metadata": {},
     "output_type": "execute_result"
    }
   ],
   "source": [
    "ser_atores = pd.Series(atores)\n",
    "ser_atores.head()"
   ]
  },
  {
   "cell_type": "markdown",
   "metadata": {},
   "source": [
    "Para visualizar de maneira mais ordenada e clara os dados do DataFrame, selecionamos a parcela de 0.1% de atores com mais produções no cinema. Dessa forma, atingimos todos com mais de 28 aparições:"
   ]
  },
  {
   "cell_type": "code",
   "execution_count": 18,
   "metadata": {},
   "outputs": [],
   "source": [
    "ser_atores = ser_atores[ser_atores > 28].sort_values(ascending=False)"
   ]
  },
  {
   "cell_type": "markdown",
   "metadata": {},
   "source": [
    "Para utilizar os dados do DataFrame acima no método do Random Forrest, foi necessário transformar as informações nele em um outro DataFrame com solução binária.\n",
    "\n",
    "Nesta nova tabela, cada linha representa cada um dos filmes contidos no database, e cada coluna representa os atores selecionados previamente:"
   ]
  },
  {
   "cell_type": "code",
   "execution_count": 19,
   "metadata": {},
   "outputs": [],
   "source": [
    "df_filmes_atores = pd.DataFrame(index=df2.index, columns=ser_atores.index, dtype=np.uint8)\n",
    "for e in df2.index:\n",
    "    data_dict = ast.literal_eval(df2[\"cast\"][e])\n",
    "    for palavras in data_dict:\n",
    "        nome = palavras['name']\n",
    "        if nome in df_filmes_atores.columns:\n",
    "            df_filmes_atores[nome][e] = 1"
   ]
  },
  {
   "cell_type": "code",
   "execution_count": 20,
   "metadata": {},
   "outputs": [
    {
     "data": {
      "text/html": [
       "<div>\n",
       "<style scoped>\n",
       "    .dataframe tbody tr th:only-of-type {\n",
       "        vertical-align: middle;\n",
       "    }\n",
       "\n",
       "    .dataframe tbody tr th {\n",
       "        vertical-align: top;\n",
       "    }\n",
       "\n",
       "    .dataframe thead th {\n",
       "        text-align: right;\n",
       "    }\n",
       "</style>\n",
       "<table border=\"1\" class=\"dataframe\">\n",
       "  <thead>\n",
       "    <tr style=\"text-align: right;\">\n",
       "      <th></th>\n",
       "      <th>Bess Flowers</th>\n",
       "      <th>Christopher Lee</th>\n",
       "      <th>John Wayne</th>\n",
       "      <th>Samuel L. Jackson</th>\n",
       "      <th>Gérard Depardieu</th>\n",
       "      <th>Michael Caine</th>\n",
       "      <th>John Carradine</th>\n",
       "      <th>Donald Sutherland</th>\n",
       "      <th>Jackie Chan</th>\n",
       "      <th>Frank Welker</th>\n",
       "      <th>...</th>\n",
       "      <th>Syd Saylor</th>\n",
       "      <th>George Raft</th>\n",
       "      <th>Quentin Tarantino</th>\n",
       "      <th>Paul Winfield</th>\n",
       "      <th>Emilio Estevez</th>\n",
       "      <th>Chow Yun-fat</th>\n",
       "      <th>Chazz Palminteri</th>\n",
       "      <th>Carmen Electra</th>\n",
       "      <th>Olaf Hytten</th>\n",
       "      <th>Walter Gotell</th>\n",
       "    </tr>\n",
       "  </thead>\n",
       "  <tbody>\n",
       "    <tr>\n",
       "      <th>0</th>\n",
       "      <td>0.0</td>\n",
       "      <td>0.0</td>\n",
       "      <td>0.0</td>\n",
       "      <td>0.0</td>\n",
       "      <td>0.0</td>\n",
       "      <td>0.0</td>\n",
       "      <td>0.0</td>\n",
       "      <td>0.0</td>\n",
       "      <td>0.0</td>\n",
       "      <td>0.0</td>\n",
       "      <td>...</td>\n",
       "      <td>0.0</td>\n",
       "      <td>0.0</td>\n",
       "      <td>0.0</td>\n",
       "      <td>0.0</td>\n",
       "      <td>0.0</td>\n",
       "      <td>0.0</td>\n",
       "      <td>0.0</td>\n",
       "      <td>0.0</td>\n",
       "      <td>0.0</td>\n",
       "      <td>0.0</td>\n",
       "    </tr>\n",
       "    <tr>\n",
       "      <th>1</th>\n",
       "      <td>0.0</td>\n",
       "      <td>0.0</td>\n",
       "      <td>0.0</td>\n",
       "      <td>0.0</td>\n",
       "      <td>0.0</td>\n",
       "      <td>0.0</td>\n",
       "      <td>0.0</td>\n",
       "      <td>0.0</td>\n",
       "      <td>0.0</td>\n",
       "      <td>0.0</td>\n",
       "      <td>...</td>\n",
       "      <td>0.0</td>\n",
       "      <td>0.0</td>\n",
       "      <td>0.0</td>\n",
       "      <td>0.0</td>\n",
       "      <td>0.0</td>\n",
       "      <td>0.0</td>\n",
       "      <td>0.0</td>\n",
       "      <td>0.0</td>\n",
       "      <td>0.0</td>\n",
       "      <td>0.0</td>\n",
       "    </tr>\n",
       "    <tr>\n",
       "      <th>2</th>\n",
       "      <td>0.0</td>\n",
       "      <td>0.0</td>\n",
       "      <td>0.0</td>\n",
       "      <td>0.0</td>\n",
       "      <td>0.0</td>\n",
       "      <td>0.0</td>\n",
       "      <td>0.0</td>\n",
       "      <td>0.0</td>\n",
       "      <td>0.0</td>\n",
       "      <td>0.0</td>\n",
       "      <td>...</td>\n",
       "      <td>0.0</td>\n",
       "      <td>0.0</td>\n",
       "      <td>0.0</td>\n",
       "      <td>0.0</td>\n",
       "      <td>0.0</td>\n",
       "      <td>0.0</td>\n",
       "      <td>0.0</td>\n",
       "      <td>0.0</td>\n",
       "      <td>0.0</td>\n",
       "      <td>0.0</td>\n",
       "    </tr>\n",
       "    <tr>\n",
       "      <th>3</th>\n",
       "      <td>0.0</td>\n",
       "      <td>0.0</td>\n",
       "      <td>0.0</td>\n",
       "      <td>0.0</td>\n",
       "      <td>0.0</td>\n",
       "      <td>0.0</td>\n",
       "      <td>0.0</td>\n",
       "      <td>0.0</td>\n",
       "      <td>0.0</td>\n",
       "      <td>0.0</td>\n",
       "      <td>...</td>\n",
       "      <td>0.0</td>\n",
       "      <td>0.0</td>\n",
       "      <td>0.0</td>\n",
       "      <td>0.0</td>\n",
       "      <td>0.0</td>\n",
       "      <td>0.0</td>\n",
       "      <td>0.0</td>\n",
       "      <td>0.0</td>\n",
       "      <td>0.0</td>\n",
       "      <td>0.0</td>\n",
       "    </tr>\n",
       "    <tr>\n",
       "      <th>4</th>\n",
       "      <td>0.0</td>\n",
       "      <td>0.0</td>\n",
       "      <td>0.0</td>\n",
       "      <td>0.0</td>\n",
       "      <td>0.0</td>\n",
       "      <td>0.0</td>\n",
       "      <td>0.0</td>\n",
       "      <td>0.0</td>\n",
       "      <td>0.0</td>\n",
       "      <td>0.0</td>\n",
       "      <td>...</td>\n",
       "      <td>0.0</td>\n",
       "      <td>0.0</td>\n",
       "      <td>0.0</td>\n",
       "      <td>0.0</td>\n",
       "      <td>0.0</td>\n",
       "      <td>0.0</td>\n",
       "      <td>0.0</td>\n",
       "      <td>0.0</td>\n",
       "      <td>0.0</td>\n",
       "      <td>0.0</td>\n",
       "    </tr>\n",
       "  </tbody>\n",
       "</table>\n",
       "<p>5 rows × 1891 columns</p>\n",
       "</div>"
      ],
      "text/plain": [
       "   Bess Flowers  Christopher Lee  John Wayne  Samuel L. Jackson  \\\n",
       "0           0.0              0.0         0.0                0.0   \n",
       "1           0.0              0.0         0.0                0.0   \n",
       "2           0.0              0.0         0.0                0.0   \n",
       "3           0.0              0.0         0.0                0.0   \n",
       "4           0.0              0.0         0.0                0.0   \n",
       "\n",
       "   Gérard Depardieu  Michael Caine  John Carradine  Donald Sutherland  \\\n",
       "0               0.0            0.0             0.0                0.0   \n",
       "1               0.0            0.0             0.0                0.0   \n",
       "2               0.0            0.0             0.0                0.0   \n",
       "3               0.0            0.0             0.0                0.0   \n",
       "4               0.0            0.0             0.0                0.0   \n",
       "\n",
       "   Jackie Chan  Frank Welker      ...        Syd Saylor  George Raft  \\\n",
       "0          0.0           0.0      ...               0.0          0.0   \n",
       "1          0.0           0.0      ...               0.0          0.0   \n",
       "2          0.0           0.0      ...               0.0          0.0   \n",
       "3          0.0           0.0      ...               0.0          0.0   \n",
       "4          0.0           0.0      ...               0.0          0.0   \n",
       "\n",
       "   Quentin Tarantino  Paul Winfield  Emilio Estevez  Chow Yun-fat  \\\n",
       "0                0.0            0.0             0.0           0.0   \n",
       "1                0.0            0.0             0.0           0.0   \n",
       "2                0.0            0.0             0.0           0.0   \n",
       "3                0.0            0.0             0.0           0.0   \n",
       "4                0.0            0.0             0.0           0.0   \n",
       "\n",
       "   Chazz Palminteri  Carmen Electra  Olaf Hytten  Walter Gotell  \n",
       "0               0.0             0.0          0.0            0.0  \n",
       "1               0.0             0.0          0.0            0.0  \n",
       "2               0.0             0.0          0.0            0.0  \n",
       "3               0.0             0.0          0.0            0.0  \n",
       "4               0.0             0.0          0.0            0.0  \n",
       "\n",
       "[5 rows x 1891 columns]"
      ]
     },
     "execution_count": 20,
     "metadata": {},
     "output_type": "execute_result"
    }
   ],
   "source": [
    "df_filmes_atores[df_filmes_atores != 1] = 0\n",
    "df_filmes_atores.head()"
   ]
  },
  {
   "cell_type": "markdown",
   "metadata": {},
   "source": [
    "Nota-se que neste DataFrame, a grande maioria dos dígitos é 0, o que representa o óbvio, os atores apareceram em poucos filmes em relação ao total estudado"
   ]
  },
  {
   "cell_type": "code",
   "execution_count": 21,
   "metadata": {},
   "outputs": [
    {
     "data": {
      "text/plain": [
       "1    43373\n",
       "Name: original_title, dtype: int64"
      ]
     },
     "execution_count": 21,
     "metadata": {},
     "output_type": "execute_result"
    }
   ],
   "source": [
    "df.drop_duplicates(subset =\"original_title\", \n",
    "                     keep = 'first', inplace = True) \n",
    "df[\"original_title\"].value_counts().value_counts()"
   ]
  },
  {
   "cell_type": "code",
   "execution_count": 22,
   "metadata": {},
   "outputs": [],
   "source": [
    "df['bilhao'] = df.revenue > 1e9"
   ]
  },
  {
   "cell_type": "markdown",
   "metadata": {},
   "source": [
    "## Limpeza das variáveis de entrada tais como: revenue, budget, produtora e gênero:"
   ]
  },
  {
   "cell_type": "code",
   "execution_count": 23,
   "metadata": {},
   "outputs": [],
   "source": [
    "df_0 = df[df['revenue'] > 0]\n",
    "df_budget = df_0[df_0['budget'] != '0']\n",
    "df_clean = df_budget[df_budget['production_companies'] != '[]']\n",
    "df_super_clean = df_clean[df_clean['genres'] != '[]']"
   ]
  },
  {
   "cell_type": "code",
   "execution_count": 24,
   "metadata": {
    "scrolled": false
   },
   "outputs": [
    {
     "name": "stderr",
     "output_type": "stream",
     "text": [
      "/Users/varella/anaconda3/lib/python3.7/site-packages/ipykernel_launcher.py:2: SettingWithCopyWarning: \n",
      "A value is trying to be set on a copy of a slice from a DataFrame.\n",
      "Try using .loc[row_indexer,col_indexer] = value instead\n",
      "\n",
      "See the caveats in the documentation: http://pandas.pydata.org/pandas-docs/stable/indexing.html#indexing-view-versus-copy\n",
      "  \n"
     ]
    }
   ],
   "source": [
    "df_mega_clean = df_super_clean[[\"id\",\"genres\",\"budget\",\"revenue\",\"production_companies\"]]\n",
    "df_mega_clean['budget'] = df_mega_clean['budget'].astype(float)"
   ]
  },
  {
   "cell_type": "code",
   "execution_count": 25,
   "metadata": {},
   "outputs": [
    {
     "data": {
      "text/plain": [
       "129924654.00000012"
      ]
     },
     "execution_count": 25,
     "metadata": {},
     "output_type": "execute_result"
    }
   ],
   "source": [
    "df_mega_clean.revenue.quantile(0.8)"
   ]
  },
  {
   "cell_type": "markdown",
   "metadata": {},
   "source": [
    "Na célula acima, verificou-se que o valor que corta os 20% das maiores bilheterias é 129 milhões de dólares, dessa forma, definimos que o valor que seria usado no modelo como meta de bilheteria para os filmes seria 150 milhões de dólares"
   ]
  },
  {
   "cell_type": "code",
   "execution_count": 26,
   "metadata": {},
   "outputs": [],
   "source": [
    "milhao = []\n",
    "for dinheiro in df_mega_clean.revenue:\n",
    "    if dinheiro > 1.5e8:\n",
    "        milhao.append(1)\n",
    "    else:\n",
    "        milhao.append(0)"
   ]
  },
  {
   "cell_type": "markdown",
   "metadata": {},
   "source": [
    "Após definir a meta do modelo, percorremos todos os filmes e adicionamos uma nova coluna ao nosso dataframe original que indica se cada filme atingiu ou não atingiu os 150 milhões de dólares"
   ]
  },
  {
   "cell_type": "code",
   "execution_count": 27,
   "metadata": {
    "scrolled": true
   },
   "outputs": [
    {
     "name": "stderr",
     "output_type": "stream",
     "text": [
      "/Users/varella/anaconda3/lib/python3.7/site-packages/ipykernel_launcher.py:1: SettingWithCopyWarning: \n",
      "A value is trying to be set on a copy of a slice from a DataFrame.\n",
      "Try using .loc[row_indexer,col_indexer] = value instead\n",
      "\n",
      "See the caveats in the documentation: http://pandas.pydata.org/pandas-docs/stable/indexing.html#indexing-view-versus-copy\n",
      "  \"\"\"Entry point for launching an IPython kernel.\n"
     ]
    },
    {
     "data": {
      "text/html": [
       "<div>\n",
       "<style scoped>\n",
       "    .dataframe tbody tr th:only-of-type {\n",
       "        vertical-align: middle;\n",
       "    }\n",
       "\n",
       "    .dataframe tbody tr th {\n",
       "        vertical-align: top;\n",
       "    }\n",
       "\n",
       "    .dataframe thead th {\n",
       "        text-align: right;\n",
       "    }\n",
       "</style>\n",
       "<table border=\"1\" class=\"dataframe\">\n",
       "  <thead>\n",
       "    <tr style=\"text-align: right;\">\n",
       "      <th></th>\n",
       "      <th>id</th>\n",
       "      <th>genres</th>\n",
       "      <th>budget</th>\n",
       "      <th>revenue</th>\n",
       "      <th>production_companies</th>\n",
       "      <th>Fez ou não 150 mi</th>\n",
       "    </tr>\n",
       "  </thead>\n",
       "  <tbody>\n",
       "    <tr>\n",
       "      <th>0</th>\n",
       "      <td>862</td>\n",
       "      <td>[{'id': 16, 'name': 'Animation'}, {'id': 35, '...</td>\n",
       "      <td>30000000.0</td>\n",
       "      <td>373554033.0</td>\n",
       "      <td>[{'name': 'Pixar Animation Studios', 'id': 3}]</td>\n",
       "      <td>1</td>\n",
       "    </tr>\n",
       "    <tr>\n",
       "      <th>1</th>\n",
       "      <td>8844</td>\n",
       "      <td>[{'id': 12, 'name': 'Adventure'}, {'id': 14, '...</td>\n",
       "      <td>65000000.0</td>\n",
       "      <td>262797249.0</td>\n",
       "      <td>[{'name': 'TriStar Pictures', 'id': 559}, {'na...</td>\n",
       "      <td>1</td>\n",
       "    </tr>\n",
       "    <tr>\n",
       "      <th>3</th>\n",
       "      <td>31357</td>\n",
       "      <td>[{'id': 35, 'name': 'Comedy'}, {'id': 18, 'nam...</td>\n",
       "      <td>16000000.0</td>\n",
       "      <td>81452156.0</td>\n",
       "      <td>[{'name': 'Twentieth Century Fox Film Corporat...</td>\n",
       "      <td>0</td>\n",
       "    </tr>\n",
       "    <tr>\n",
       "      <th>5</th>\n",
       "      <td>949</td>\n",
       "      <td>[{'id': 28, 'name': 'Action'}, {'id': 80, 'nam...</td>\n",
       "      <td>60000000.0</td>\n",
       "      <td>187436818.0</td>\n",
       "      <td>[{'name': 'Regency Enterprises', 'id': 508}, {...</td>\n",
       "      <td>1</td>\n",
       "    </tr>\n",
       "    <tr>\n",
       "      <th>8</th>\n",
       "      <td>9091</td>\n",
       "      <td>[{'id': 28, 'name': 'Action'}, {'id': 12, 'nam...</td>\n",
       "      <td>35000000.0</td>\n",
       "      <td>64350171.0</td>\n",
       "      <td>[{'name': 'Universal Pictures', 'id': 33}, {'n...</td>\n",
       "      <td>0</td>\n",
       "    </tr>\n",
       "  </tbody>\n",
       "</table>\n",
       "</div>"
      ],
      "text/plain": [
       "      id                                             genres      budget  \\\n",
       "0    862  [{'id': 16, 'name': 'Animation'}, {'id': 35, '...  30000000.0   \n",
       "1   8844  [{'id': 12, 'name': 'Adventure'}, {'id': 14, '...  65000000.0   \n",
       "3  31357  [{'id': 35, 'name': 'Comedy'}, {'id': 18, 'nam...  16000000.0   \n",
       "5    949  [{'id': 28, 'name': 'Action'}, {'id': 80, 'nam...  60000000.0   \n",
       "8   9091  [{'id': 28, 'name': 'Action'}, {'id': 12, 'nam...  35000000.0   \n",
       "\n",
       "       revenue                               production_companies  \\\n",
       "0  373554033.0     [{'name': 'Pixar Animation Studios', 'id': 3}]   \n",
       "1  262797249.0  [{'name': 'TriStar Pictures', 'id': 559}, {'na...   \n",
       "3   81452156.0  [{'name': 'Twentieth Century Fox Film Corporat...   \n",
       "5  187436818.0  [{'name': 'Regency Enterprises', 'id': 508}, {...   \n",
       "8   64350171.0  [{'name': 'Universal Pictures', 'id': 33}, {'n...   \n",
       "\n",
       "   Fez ou não 150 mi  \n",
       "0                  1  \n",
       "1                  1  \n",
       "3                  0  \n",
       "5                  1  \n",
       "8                  0  "
      ]
     },
     "execution_count": 27,
     "metadata": {},
     "output_type": "execute_result"
    }
   ],
   "source": [
    "df_mega_clean['Fez ou não 150 mi'] = milhao\n",
    "df_mega_clean.head()"
   ]
  },
  {
   "cell_type": "markdown",
   "metadata": {},
   "source": [
    "### Filtrando os atores por meio da limpeza estabelecida no DataFrame \"MetaData\""
   ]
  },
  {
   "cell_type": "code",
   "execution_count": 28,
   "metadata": {
    "scrolled": true
   },
   "outputs": [],
   "source": [
    "lista_teste = []\n",
    "for numero in df_filmes_atores.index:\n",
    "    if numero not in df_mega_clean.id:\n",
    "        lista_teste.append(numero)\n",
    "        \n",
    "atores_certos = df_filmes_atores.drop(lista_teste, axis=0)"
   ]
  },
  {
   "cell_type": "markdown",
   "metadata": {},
   "source": [
    "No dataframe acima, foi selecionado os atores que participam dos filmes filtrados no Dataframe \"mega_clean\" fazendo com que agora podemos observar quais atores participaram dos filmes relevantes "
   ]
  },
  {
   "cell_type": "code",
   "execution_count": 29,
   "metadata": {},
   "outputs": [
    {
     "data": {
      "text/html": [
       "<div>\n",
       "<style scoped>\n",
       "    .dataframe tbody tr th:only-of-type {\n",
       "        vertical-align: middle;\n",
       "    }\n",
       "\n",
       "    .dataframe tbody tr th {\n",
       "        vertical-align: top;\n",
       "    }\n",
       "\n",
       "    .dataframe thead th {\n",
       "        text-align: right;\n",
       "    }\n",
       "</style>\n",
       "<table border=\"1\" class=\"dataframe\">\n",
       "  <thead>\n",
       "    <tr style=\"text-align: right;\">\n",
       "      <th></th>\n",
       "      <th>Bess Flowers</th>\n",
       "      <th>Christopher Lee</th>\n",
       "      <th>John Wayne</th>\n",
       "      <th>Samuel L. Jackson</th>\n",
       "      <th>Gérard Depardieu</th>\n",
       "      <th>Michael Caine</th>\n",
       "      <th>John Carradine</th>\n",
       "      <th>Donald Sutherland</th>\n",
       "      <th>Jackie Chan</th>\n",
       "      <th>Frank Welker</th>\n",
       "      <th>...</th>\n",
       "      <th>George Raft</th>\n",
       "      <th>Quentin Tarantino</th>\n",
       "      <th>Paul Winfield</th>\n",
       "      <th>Emilio Estevez</th>\n",
       "      <th>Chow Yun-fat</th>\n",
       "      <th>Chazz Palminteri</th>\n",
       "      <th>Carmen Electra</th>\n",
       "      <th>Olaf Hytten</th>\n",
       "      <th>Walter Gotell</th>\n",
       "      <th>Fez ou não 150 mi</th>\n",
       "    </tr>\n",
       "  </thead>\n",
       "  <tbody>\n",
       "    <tr>\n",
       "      <th>0</th>\n",
       "      <td>0.0</td>\n",
       "      <td>0.0</td>\n",
       "      <td>0.0</td>\n",
       "      <td>0.0</td>\n",
       "      <td>0.0</td>\n",
       "      <td>0.0</td>\n",
       "      <td>0.0</td>\n",
       "      <td>0.0</td>\n",
       "      <td>0.0</td>\n",
       "      <td>0.0</td>\n",
       "      <td>...</td>\n",
       "      <td>0.0</td>\n",
       "      <td>0.0</td>\n",
       "      <td>0.0</td>\n",
       "      <td>0.0</td>\n",
       "      <td>0.0</td>\n",
       "      <td>0.0</td>\n",
       "      <td>0.0</td>\n",
       "      <td>0.0</td>\n",
       "      <td>0.0</td>\n",
       "      <td>1</td>\n",
       "    </tr>\n",
       "    <tr>\n",
       "      <th>1</th>\n",
       "      <td>0.0</td>\n",
       "      <td>0.0</td>\n",
       "      <td>0.0</td>\n",
       "      <td>0.0</td>\n",
       "      <td>0.0</td>\n",
       "      <td>0.0</td>\n",
       "      <td>0.0</td>\n",
       "      <td>0.0</td>\n",
       "      <td>0.0</td>\n",
       "      <td>0.0</td>\n",
       "      <td>...</td>\n",
       "      <td>0.0</td>\n",
       "      <td>0.0</td>\n",
       "      <td>0.0</td>\n",
       "      <td>0.0</td>\n",
       "      <td>0.0</td>\n",
       "      <td>0.0</td>\n",
       "      <td>0.0</td>\n",
       "      <td>0.0</td>\n",
       "      <td>0.0</td>\n",
       "      <td>1</td>\n",
       "    </tr>\n",
       "    <tr>\n",
       "      <th>3</th>\n",
       "      <td>0.0</td>\n",
       "      <td>0.0</td>\n",
       "      <td>0.0</td>\n",
       "      <td>0.0</td>\n",
       "      <td>0.0</td>\n",
       "      <td>0.0</td>\n",
       "      <td>0.0</td>\n",
       "      <td>0.0</td>\n",
       "      <td>0.0</td>\n",
       "      <td>0.0</td>\n",
       "      <td>...</td>\n",
       "      <td>0.0</td>\n",
       "      <td>0.0</td>\n",
       "      <td>0.0</td>\n",
       "      <td>0.0</td>\n",
       "      <td>0.0</td>\n",
       "      <td>0.0</td>\n",
       "      <td>0.0</td>\n",
       "      <td>0.0</td>\n",
       "      <td>0.0</td>\n",
       "      <td>0</td>\n",
       "    </tr>\n",
       "    <tr>\n",
       "      <th>5</th>\n",
       "      <td>0.0</td>\n",
       "      <td>0.0</td>\n",
       "      <td>0.0</td>\n",
       "      <td>0.0</td>\n",
       "      <td>0.0</td>\n",
       "      <td>0.0</td>\n",
       "      <td>0.0</td>\n",
       "      <td>0.0</td>\n",
       "      <td>0.0</td>\n",
       "      <td>0.0</td>\n",
       "      <td>...</td>\n",
       "      <td>0.0</td>\n",
       "      <td>0.0</td>\n",
       "      <td>0.0</td>\n",
       "      <td>0.0</td>\n",
       "      <td>0.0</td>\n",
       "      <td>0.0</td>\n",
       "      <td>0.0</td>\n",
       "      <td>0.0</td>\n",
       "      <td>0.0</td>\n",
       "      <td>1</td>\n",
       "    </tr>\n",
       "    <tr>\n",
       "      <th>8</th>\n",
       "      <td>0.0</td>\n",
       "      <td>0.0</td>\n",
       "      <td>0.0</td>\n",
       "      <td>0.0</td>\n",
       "      <td>0.0</td>\n",
       "      <td>0.0</td>\n",
       "      <td>0.0</td>\n",
       "      <td>0.0</td>\n",
       "      <td>0.0</td>\n",
       "      <td>0.0</td>\n",
       "      <td>...</td>\n",
       "      <td>0.0</td>\n",
       "      <td>0.0</td>\n",
       "      <td>0.0</td>\n",
       "      <td>0.0</td>\n",
       "      <td>0.0</td>\n",
       "      <td>0.0</td>\n",
       "      <td>0.0</td>\n",
       "      <td>0.0</td>\n",
       "      <td>0.0</td>\n",
       "      <td>0</td>\n",
       "    </tr>\n",
       "  </tbody>\n",
       "</table>\n",
       "<p>5 rows × 1892 columns</p>\n",
       "</div>"
      ],
      "text/plain": [
       "   Bess Flowers  Christopher Lee  John Wayne  Samuel L. Jackson  \\\n",
       "0           0.0              0.0         0.0                0.0   \n",
       "1           0.0              0.0         0.0                0.0   \n",
       "3           0.0              0.0         0.0                0.0   \n",
       "5           0.0              0.0         0.0                0.0   \n",
       "8           0.0              0.0         0.0                0.0   \n",
       "\n",
       "   Gérard Depardieu  Michael Caine  John Carradine  Donald Sutherland  \\\n",
       "0               0.0            0.0             0.0                0.0   \n",
       "1               0.0            0.0             0.0                0.0   \n",
       "3               0.0            0.0             0.0                0.0   \n",
       "5               0.0            0.0             0.0                0.0   \n",
       "8               0.0            0.0             0.0                0.0   \n",
       "\n",
       "   Jackie Chan  Frank Welker        ...          George Raft  \\\n",
       "0          0.0           0.0        ...                  0.0   \n",
       "1          0.0           0.0        ...                  0.0   \n",
       "3          0.0           0.0        ...                  0.0   \n",
       "5          0.0           0.0        ...                  0.0   \n",
       "8          0.0           0.0        ...                  0.0   \n",
       "\n",
       "   Quentin Tarantino  Paul Winfield  Emilio Estevez  Chow Yun-fat  \\\n",
       "0                0.0            0.0             0.0           0.0   \n",
       "1                0.0            0.0             0.0           0.0   \n",
       "3                0.0            0.0             0.0           0.0   \n",
       "5                0.0            0.0             0.0           0.0   \n",
       "8                0.0            0.0             0.0           0.0   \n",
       "\n",
       "   Chazz Palminteri  Carmen Electra  Olaf Hytten  Walter Gotell  \\\n",
       "0               0.0             0.0          0.0            0.0   \n",
       "1               0.0             0.0          0.0            0.0   \n",
       "3               0.0             0.0          0.0            0.0   \n",
       "5               0.0             0.0          0.0            0.0   \n",
       "8               0.0             0.0          0.0            0.0   \n",
       "\n",
       "   Fez ou não 150 mi  \n",
       "0                  1  \n",
       "1                  1  \n",
       "3                  0  \n",
       "5                  1  \n",
       "8                  0  \n",
       "\n",
       "[5 rows x 1892 columns]"
      ]
     },
     "execution_count": 29,
     "metadata": {},
     "output_type": "execute_result"
    }
   ],
   "source": [
    "atores_certos['Fez ou não 150 mi'] = milhao\n",
    "atores_certos.head()"
   ]
  },
  {
   "cell_type": "code",
   "execution_count": 30,
   "metadata": {},
   "outputs": [],
   "source": [
    "sim_ou_nao = atores_certos['Fez ou não 150 mi']\n",
    "y = df_mega_clean['Fez ou não 150 mi']"
   ]
  },
  {
   "cell_type": "code",
   "execution_count": null,
   "metadata": {},
   "outputs": [],
   "source": []
  },
  {
   "cell_type": "markdown",
   "metadata": {},
   "source": [
    "---\n",
    "\n",
    "# Randon Forest "
   ]
  },
  {
   "cell_type": "markdown",
   "metadata": {},
   "source": [
    "O próximo passo será nós rodarmos o Randon Forest com o nossos Datframes \"binários\" para que agora possamos verificar nosso objetivo que é verificar se de fato as feature que nós escolhemos impactam na bilheteria"
   ]
  },
  {
   "cell_type": "markdown",
   "metadata": {},
   "source": [
    "### Relevância dos Atores"
   ]
  },
  {
   "cell_type": "code",
   "execution_count": 31,
   "metadata": {},
   "outputs": [],
   "source": [
    "from sklearn.model_selection import train_test_split\n",
    "X_train, X_test, Y_train, Y_test = train_test_split(atores_certos.drop(['Fez ou não 150 mi'],axis='columns'),sim_ou_nao,test_size = 0.3)"
   ]
  },
  {
   "cell_type": "code",
   "execution_count": 32,
   "metadata": {},
   "outputs": [
    {
     "data": {
      "text/plain": [
       "RandomForestClassifier(bootstrap=True, class_weight=None, criterion='gini',\n",
       "            max_depth=None, max_features='auto', max_leaf_nodes=None,\n",
       "            min_impurity_decrease=0.0, min_impurity_split=None,\n",
       "            min_samples_leaf=1, min_samples_split=2,\n",
       "            min_weight_fraction_leaf=0.0, n_estimators=40, n_jobs=None,\n",
       "            oob_score=False, random_state=None, verbose=0,\n",
       "            warm_start=False)"
      ]
     },
     "execution_count": 32,
     "metadata": {},
     "output_type": "execute_result"
    }
   ],
   "source": [
    "from sklearn.ensemble import RandomForestClassifier\n",
    "model = RandomForestClassifier(n_estimators = 40)\n",
    "model.fit(X_train,Y_train)"
   ]
  },
  {
   "cell_type": "code",
   "execution_count": 33,
   "metadata": {},
   "outputs": [
    {
     "data": {
      "text/plain": [
       "0.7941576086956522"
      ]
     },
     "execution_count": 33,
     "metadata": {},
     "output_type": "execute_result"
    }
   ],
   "source": [
    "model.score(X_test,Y_test)"
   ]
  },
  {
   "cell_type": "markdown",
   "metadata": {},
   "source": [
    "A partir desse resultado é possível perceber que os atores não influenciam para que um filme passe ou não da marca de 150 milhoes de bilheteria, já que a nossa acurácia deu menos que 80%, ou seja, menor ainda que nosso corte das maiores bilheterias, portanto nosso classificador pode está estimando que todos os filmes nunca atinjam a marca estabelecida por nós e quase sempre o classificador acerta, só 20% das vezes não, porque 20% dos filmes realmente conseguem atingir essa marca"
   ]
  },
  {
   "cell_type": "markdown",
   "metadata": {},
   "source": [
    "### Relevância das Categorias "
   ]
  },
  {
   "cell_type": "code",
   "execution_count": 34,
   "metadata": {},
   "outputs": [],
   "source": [
    "categorias2 = defaultdict(int)\n",
    "for e in df_mega_clean.index:\n",
    "    data_dict = ast.literal_eval(df_mega_clean[\"genres\"][e])\n",
    "    for palavras in data_dict:\n",
    "        tipo = palavras['name']\n",
    "        categorias2[tipo] += 1"
   ]
  },
  {
   "cell_type": "code",
   "execution_count": 35,
   "metadata": {},
   "outputs": [],
   "source": [
    "ser_categorias = pd.Series(categorias2)"
   ]
  },
  {
   "cell_type": "code",
   "execution_count": 36,
   "metadata": {},
   "outputs": [],
   "source": [
    "df_filmes_categorias = pd.DataFrame(index=df_mega_clean.index, columns=ser_categorias.index, dtype=np.uint8)\n",
    "for e in df_mega_clean.index:\n",
    "    data_dict = ast.literal_eval(df_mega_clean[\"genres\"][e])\n",
    "    #print(data_dict)\n",
    "    for palavras in data_dict:\n",
    "        tipo = palavras['name']\n",
    "        #print(tipo)\n",
    "        if tipo in df_filmes_categorias.columns:\n",
    "             df_filmes_categorias[tipo][e] = 1\n"
   ]
  },
  {
   "cell_type": "code",
   "execution_count": 37,
   "metadata": {
    "scrolled": true
   },
   "outputs": [
    {
     "data": {
      "text/html": [
       "<div>\n",
       "<style scoped>\n",
       "    .dataframe tbody tr th:only-of-type {\n",
       "        vertical-align: middle;\n",
       "    }\n",
       "\n",
       "    .dataframe tbody tr th {\n",
       "        vertical-align: top;\n",
       "    }\n",
       "\n",
       "    .dataframe thead th {\n",
       "        text-align: right;\n",
       "    }\n",
       "</style>\n",
       "<table border=\"1\" class=\"dataframe\">\n",
       "  <thead>\n",
       "    <tr style=\"text-align: right;\">\n",
       "      <th></th>\n",
       "      <th>Animation</th>\n",
       "      <th>Comedy</th>\n",
       "      <th>Family</th>\n",
       "      <th>Adventure</th>\n",
       "      <th>Fantasy</th>\n",
       "      <th>Drama</th>\n",
       "      <th>Romance</th>\n",
       "      <th>Action</th>\n",
       "      <th>Crime</th>\n",
       "      <th>Thriller</th>\n",
       "      <th>History</th>\n",
       "      <th>Science Fiction</th>\n",
       "      <th>Mystery</th>\n",
       "      <th>Horror</th>\n",
       "      <th>War</th>\n",
       "      <th>Foreign</th>\n",
       "      <th>Documentary</th>\n",
       "      <th>Western</th>\n",
       "      <th>Music</th>\n",
       "      <th>TV Movie</th>\n",
       "    </tr>\n",
       "  </thead>\n",
       "  <tbody>\n",
       "    <tr>\n",
       "      <th>0</th>\n",
       "      <td>1.0</td>\n",
       "      <td>1.0</td>\n",
       "      <td>1.0</td>\n",
       "      <td>0.0</td>\n",
       "      <td>0.0</td>\n",
       "      <td>0.0</td>\n",
       "      <td>0.0</td>\n",
       "      <td>0.0</td>\n",
       "      <td>0.0</td>\n",
       "      <td>0.0</td>\n",
       "      <td>0.0</td>\n",
       "      <td>0.0</td>\n",
       "      <td>0.0</td>\n",
       "      <td>0.0</td>\n",
       "      <td>0.0</td>\n",
       "      <td>0.0</td>\n",
       "      <td>0.0</td>\n",
       "      <td>0.0</td>\n",
       "      <td>0.0</td>\n",
       "      <td>0.0</td>\n",
       "    </tr>\n",
       "    <tr>\n",
       "      <th>1</th>\n",
       "      <td>0.0</td>\n",
       "      <td>0.0</td>\n",
       "      <td>1.0</td>\n",
       "      <td>1.0</td>\n",
       "      <td>1.0</td>\n",
       "      <td>0.0</td>\n",
       "      <td>0.0</td>\n",
       "      <td>0.0</td>\n",
       "      <td>0.0</td>\n",
       "      <td>0.0</td>\n",
       "      <td>0.0</td>\n",
       "      <td>0.0</td>\n",
       "      <td>0.0</td>\n",
       "      <td>0.0</td>\n",
       "      <td>0.0</td>\n",
       "      <td>0.0</td>\n",
       "      <td>0.0</td>\n",
       "      <td>0.0</td>\n",
       "      <td>0.0</td>\n",
       "      <td>0.0</td>\n",
       "    </tr>\n",
       "    <tr>\n",
       "      <th>3</th>\n",
       "      <td>0.0</td>\n",
       "      <td>1.0</td>\n",
       "      <td>0.0</td>\n",
       "      <td>0.0</td>\n",
       "      <td>0.0</td>\n",
       "      <td>1.0</td>\n",
       "      <td>1.0</td>\n",
       "      <td>0.0</td>\n",
       "      <td>0.0</td>\n",
       "      <td>0.0</td>\n",
       "      <td>0.0</td>\n",
       "      <td>0.0</td>\n",
       "      <td>0.0</td>\n",
       "      <td>0.0</td>\n",
       "      <td>0.0</td>\n",
       "      <td>0.0</td>\n",
       "      <td>0.0</td>\n",
       "      <td>0.0</td>\n",
       "      <td>0.0</td>\n",
       "      <td>0.0</td>\n",
       "    </tr>\n",
       "    <tr>\n",
       "      <th>5</th>\n",
       "      <td>0.0</td>\n",
       "      <td>0.0</td>\n",
       "      <td>0.0</td>\n",
       "      <td>0.0</td>\n",
       "      <td>0.0</td>\n",
       "      <td>1.0</td>\n",
       "      <td>0.0</td>\n",
       "      <td>1.0</td>\n",
       "      <td>1.0</td>\n",
       "      <td>1.0</td>\n",
       "      <td>0.0</td>\n",
       "      <td>0.0</td>\n",
       "      <td>0.0</td>\n",
       "      <td>0.0</td>\n",
       "      <td>0.0</td>\n",
       "      <td>0.0</td>\n",
       "      <td>0.0</td>\n",
       "      <td>0.0</td>\n",
       "      <td>0.0</td>\n",
       "      <td>0.0</td>\n",
       "    </tr>\n",
       "    <tr>\n",
       "      <th>8</th>\n",
       "      <td>0.0</td>\n",
       "      <td>0.0</td>\n",
       "      <td>0.0</td>\n",
       "      <td>1.0</td>\n",
       "      <td>0.0</td>\n",
       "      <td>0.0</td>\n",
       "      <td>0.0</td>\n",
       "      <td>1.0</td>\n",
       "      <td>0.0</td>\n",
       "      <td>1.0</td>\n",
       "      <td>0.0</td>\n",
       "      <td>0.0</td>\n",
       "      <td>0.0</td>\n",
       "      <td>0.0</td>\n",
       "      <td>0.0</td>\n",
       "      <td>0.0</td>\n",
       "      <td>0.0</td>\n",
       "      <td>0.0</td>\n",
       "      <td>0.0</td>\n",
       "      <td>0.0</td>\n",
       "    </tr>\n",
       "  </tbody>\n",
       "</table>\n",
       "</div>"
      ],
      "text/plain": [
       "   Animation  Comedy  Family  Adventure  Fantasy  Drama  Romance  Action  \\\n",
       "0        1.0     1.0     1.0        0.0      0.0    0.0      0.0     0.0   \n",
       "1        0.0     0.0     1.0        1.0      1.0    0.0      0.0     0.0   \n",
       "3        0.0     1.0     0.0        0.0      0.0    1.0      1.0     0.0   \n",
       "5        0.0     0.0     0.0        0.0      0.0    1.0      0.0     1.0   \n",
       "8        0.0     0.0     0.0        1.0      0.0    0.0      0.0     1.0   \n",
       "\n",
       "   Crime  Thriller  History  Science Fiction  Mystery  Horror  War  Foreign  \\\n",
       "0    0.0       0.0      0.0              0.0      0.0     0.0  0.0      0.0   \n",
       "1    0.0       0.0      0.0              0.0      0.0     0.0  0.0      0.0   \n",
       "3    0.0       0.0      0.0              0.0      0.0     0.0  0.0      0.0   \n",
       "5    1.0       1.0      0.0              0.0      0.0     0.0  0.0      0.0   \n",
       "8    0.0       1.0      0.0              0.0      0.0     0.0  0.0      0.0   \n",
       "\n",
       "   Documentary  Western  Music  TV Movie  \n",
       "0          0.0      0.0    0.0       0.0  \n",
       "1          0.0      0.0    0.0       0.0  \n",
       "3          0.0      0.0    0.0       0.0  \n",
       "5          0.0      0.0    0.0       0.0  \n",
       "8          0.0      0.0    0.0       0.0  "
      ]
     },
     "execution_count": 37,
     "metadata": {},
     "output_type": "execute_result"
    }
   ],
   "source": [
    "df_filmes_categorias[df_filmes_categorias != 1] = 0\n",
    "df_filmes_categorias.head()"
   ]
  },
  {
   "cell_type": "code",
   "execution_count": 38,
   "metadata": {},
   "outputs": [
    {
     "data": {
      "text/plain": [
       "RandomForestClassifier(bootstrap=True, class_weight=None, criterion='gini',\n",
       "            max_depth=None, max_features='auto', max_leaf_nodes=None,\n",
       "            min_impurity_decrease=0.0, min_impurity_split=None,\n",
       "            min_samples_leaf=1, min_samples_split=2,\n",
       "            min_weight_fraction_leaf=0.0, n_estimators=40, n_jobs=None,\n",
       "            oob_score=False, random_state=None, verbose=0,\n",
       "            warm_start=False)"
      ]
     },
     "execution_count": 38,
     "metadata": {},
     "output_type": "execute_result"
    }
   ],
   "source": [
    "X2_train, X2_test, Y2_train, Y2_test = train_test_split(df_filmes_categorias,sim_ou_nao,test_size = 0.3)\n",
    "\n",
    "model = RandomForestClassifier(n_estimators = 40)\n",
    "model.fit(X2_train,Y2_train)"
   ]
  },
  {
   "cell_type": "code",
   "execution_count": 39,
   "metadata": {},
   "outputs": [
    {
     "data": {
      "text/plain": [
       "0.8233695652173914"
      ]
     },
     "execution_count": 39,
     "metadata": {},
     "output_type": "execute_result"
    }
   ],
   "source": [
    "model.score(X2_test,Y2_test)"
   ]
  },
  {
   "cell_type": "markdown",
   "metadata": {},
   "source": [
    "Pela mesma justificativa da relevância dos atores, podemos concluir que as categorias de filme não interferem de fato muito se um filme fará ou não "
   ]
  },
  {
   "cell_type": "markdown",
   "metadata": {},
   "source": [
    "## Influência das produtoras na bilheteria"
   ]
  },
  {
   "cell_type": "code",
   "execution_count": 40,
   "metadata": {},
   "outputs": [],
   "source": [
    "prod2 = defaultdict(int)\n",
    "for e in df_mega_clean.index:\n",
    "    data_dict = ast.literal_eval(df_mega_clean['production_companies'][e])\n",
    "    for palavras in data_dict:\n",
    "        produ = palavras['name']\n",
    "        prod2[produ] += 1"
   ]
  },
  {
   "cell_type": "code",
   "execution_count": 41,
   "metadata": {},
   "outputs": [],
   "source": [
    "ser_produtora = pd.Series(prod2)"
   ]
  },
  {
   "cell_type": "code",
   "execution_count": 42,
   "metadata": {},
   "outputs": [],
   "source": [
    "df_filmes_produtoras = pd.DataFrame(index=df_mega_clean.index, columns=ser_produtora.index, dtype=np.uint8)\n",
    "for e in df_mega_clean.index:\n",
    "    data_dict = ast.literal_eval(df_mega_clean[\"production_companies\"][e])\n",
    "    #print(data_dict)\n",
    "    for palavras in data_dict:\n",
    "        produ = palavras['name']\n",
    "        #print(tipo)\n",
    "        if produ in df_filmes_produtoras.columns:\n",
    "             df_filmes_produtoras[produ][e] = 1\n"
   ]
  },
  {
   "cell_type": "code",
   "execution_count": 43,
   "metadata": {
    "scrolled": true
   },
   "outputs": [
    {
     "data": {
      "text/html": [
       "<div>\n",
       "<style scoped>\n",
       "    .dataframe tbody tr th:only-of-type {\n",
       "        vertical-align: middle;\n",
       "    }\n",
       "\n",
       "    .dataframe tbody tr th {\n",
       "        vertical-align: top;\n",
       "    }\n",
       "\n",
       "    .dataframe thead th {\n",
       "        text-align: right;\n",
       "    }\n",
       "</style>\n",
       "<table border=\"1\" class=\"dataframe\">\n",
       "  <thead>\n",
       "    <tr style=\"text-align: right;\">\n",
       "      <th></th>\n",
       "      <th>Pixar Animation Studios</th>\n",
       "      <th>TriStar Pictures</th>\n",
       "      <th>Teitler Film</th>\n",
       "      <th>Interscope Communications</th>\n",
       "      <th>Twentieth Century Fox Film Corporation</th>\n",
       "      <th>Regency Enterprises</th>\n",
       "      <th>Forward Pass</th>\n",
       "      <th>Warner Bros.</th>\n",
       "      <th>Universal Pictures</th>\n",
       "      <th>Imperial Entertainment</th>\n",
       "      <th>...</th>\n",
       "      <th>Rumble Entertainment</th>\n",
       "      <th>Hollywood Storm</th>\n",
       "      <th>Czar Pictures</th>\n",
       "      <th>S Pictures</th>\n",
       "      <th>Corner Work</th>\n",
       "      <th>Closed on Mondays Entertainment</th>\n",
       "      <th>Star Thrower Entertainment</th>\n",
       "      <th>Acacia Filmed Entertainment</th>\n",
       "      <th>Кинокомпания «Lunapark»</th>\n",
       "      <th>Инвада фильм</th>\n",
       "    </tr>\n",
       "  </thead>\n",
       "  <tbody>\n",
       "    <tr>\n",
       "      <th>0</th>\n",
       "      <td>1.0</td>\n",
       "      <td>0.0</td>\n",
       "      <td>0.0</td>\n",
       "      <td>0.0</td>\n",
       "      <td>0.0</td>\n",
       "      <td>0.0</td>\n",
       "      <td>0.0</td>\n",
       "      <td>0.0</td>\n",
       "      <td>0.0</td>\n",
       "      <td>0.0</td>\n",
       "      <td>...</td>\n",
       "      <td>0.0</td>\n",
       "      <td>0.0</td>\n",
       "      <td>0.0</td>\n",
       "      <td>0.0</td>\n",
       "      <td>0.0</td>\n",
       "      <td>0.0</td>\n",
       "      <td>0.0</td>\n",
       "      <td>0.0</td>\n",
       "      <td>0.0</td>\n",
       "      <td>0.0</td>\n",
       "    </tr>\n",
       "    <tr>\n",
       "      <th>1</th>\n",
       "      <td>0.0</td>\n",
       "      <td>1.0</td>\n",
       "      <td>1.0</td>\n",
       "      <td>1.0</td>\n",
       "      <td>0.0</td>\n",
       "      <td>0.0</td>\n",
       "      <td>0.0</td>\n",
       "      <td>0.0</td>\n",
       "      <td>0.0</td>\n",
       "      <td>0.0</td>\n",
       "      <td>...</td>\n",
       "      <td>0.0</td>\n",
       "      <td>0.0</td>\n",
       "      <td>0.0</td>\n",
       "      <td>0.0</td>\n",
       "      <td>0.0</td>\n",
       "      <td>0.0</td>\n",
       "      <td>0.0</td>\n",
       "      <td>0.0</td>\n",
       "      <td>0.0</td>\n",
       "      <td>0.0</td>\n",
       "    </tr>\n",
       "    <tr>\n",
       "      <th>3</th>\n",
       "      <td>0.0</td>\n",
       "      <td>0.0</td>\n",
       "      <td>0.0</td>\n",
       "      <td>0.0</td>\n",
       "      <td>1.0</td>\n",
       "      <td>0.0</td>\n",
       "      <td>0.0</td>\n",
       "      <td>0.0</td>\n",
       "      <td>0.0</td>\n",
       "      <td>0.0</td>\n",
       "      <td>...</td>\n",
       "      <td>0.0</td>\n",
       "      <td>0.0</td>\n",
       "      <td>0.0</td>\n",
       "      <td>0.0</td>\n",
       "      <td>0.0</td>\n",
       "      <td>0.0</td>\n",
       "      <td>0.0</td>\n",
       "      <td>0.0</td>\n",
       "      <td>0.0</td>\n",
       "      <td>0.0</td>\n",
       "    </tr>\n",
       "    <tr>\n",
       "      <th>5</th>\n",
       "      <td>0.0</td>\n",
       "      <td>0.0</td>\n",
       "      <td>0.0</td>\n",
       "      <td>0.0</td>\n",
       "      <td>0.0</td>\n",
       "      <td>1.0</td>\n",
       "      <td>1.0</td>\n",
       "      <td>1.0</td>\n",
       "      <td>0.0</td>\n",
       "      <td>0.0</td>\n",
       "      <td>...</td>\n",
       "      <td>0.0</td>\n",
       "      <td>0.0</td>\n",
       "      <td>0.0</td>\n",
       "      <td>0.0</td>\n",
       "      <td>0.0</td>\n",
       "      <td>0.0</td>\n",
       "      <td>0.0</td>\n",
       "      <td>0.0</td>\n",
       "      <td>0.0</td>\n",
       "      <td>0.0</td>\n",
       "    </tr>\n",
       "    <tr>\n",
       "      <th>8</th>\n",
       "      <td>0.0</td>\n",
       "      <td>0.0</td>\n",
       "      <td>0.0</td>\n",
       "      <td>0.0</td>\n",
       "      <td>0.0</td>\n",
       "      <td>0.0</td>\n",
       "      <td>0.0</td>\n",
       "      <td>0.0</td>\n",
       "      <td>1.0</td>\n",
       "      <td>1.0</td>\n",
       "      <td>...</td>\n",
       "      <td>0.0</td>\n",
       "      <td>0.0</td>\n",
       "      <td>0.0</td>\n",
       "      <td>0.0</td>\n",
       "      <td>0.0</td>\n",
       "      <td>0.0</td>\n",
       "      <td>0.0</td>\n",
       "      <td>0.0</td>\n",
       "      <td>0.0</td>\n",
       "      <td>0.0</td>\n",
       "    </tr>\n",
       "  </tbody>\n",
       "</table>\n",
       "<p>5 rows × 5223 columns</p>\n",
       "</div>"
      ],
      "text/plain": [
       "   Pixar Animation Studios  TriStar Pictures  Teitler Film  \\\n",
       "0                      1.0               0.0           0.0   \n",
       "1                      0.0               1.0           1.0   \n",
       "3                      0.0               0.0           0.0   \n",
       "5                      0.0               0.0           0.0   \n",
       "8                      0.0               0.0           0.0   \n",
       "\n",
       "   Interscope Communications  Twentieth Century Fox Film Corporation  \\\n",
       "0                        0.0                                     0.0   \n",
       "1                        1.0                                     0.0   \n",
       "3                        0.0                                     1.0   \n",
       "5                        0.0                                     0.0   \n",
       "8                        0.0                                     0.0   \n",
       "\n",
       "   Regency Enterprises  Forward Pass  Warner Bros.  Universal Pictures  \\\n",
       "0                  0.0           0.0           0.0                 0.0   \n",
       "1                  0.0           0.0           0.0                 0.0   \n",
       "3                  0.0           0.0           0.0                 0.0   \n",
       "5                  1.0           1.0           1.0                 0.0   \n",
       "8                  0.0           0.0           0.0                 1.0   \n",
       "\n",
       "   Imperial Entertainment      ...       Rumble Entertainment  \\\n",
       "0                     0.0      ...                        0.0   \n",
       "1                     0.0      ...                        0.0   \n",
       "3                     0.0      ...                        0.0   \n",
       "5                     0.0      ...                        0.0   \n",
       "8                     1.0      ...                        0.0   \n",
       "\n",
       "   Hollywood Storm  Czar Pictures  S Pictures  Corner Work  \\\n",
       "0              0.0            0.0         0.0          0.0   \n",
       "1              0.0            0.0         0.0          0.0   \n",
       "3              0.0            0.0         0.0          0.0   \n",
       "5              0.0            0.0         0.0          0.0   \n",
       "8              0.0            0.0         0.0          0.0   \n",
       "\n",
       "   Closed on Mondays Entertainment  Star Thrower Entertainment  \\\n",
       "0                              0.0                         0.0   \n",
       "1                              0.0                         0.0   \n",
       "3                              0.0                         0.0   \n",
       "5                              0.0                         0.0   \n",
       "8                              0.0                         0.0   \n",
       "\n",
       "   Acacia Filmed Entertainment  Кинокомпания «Lunapark»  Инвада фильм  \n",
       "0                          0.0                      0.0           0.0  \n",
       "1                          0.0                      0.0           0.0  \n",
       "3                          0.0                      0.0           0.0  \n",
       "5                          0.0                      0.0           0.0  \n",
       "8                          0.0                      0.0           0.0  \n",
       "\n",
       "[5 rows x 5223 columns]"
      ]
     },
     "execution_count": 43,
     "metadata": {},
     "output_type": "execute_result"
    }
   ],
   "source": [
    "df_filmes_produtoras[df_filmes_produtoras != 1] = 0\n",
    "df_filmes_produtoras.head()"
   ]
  },
  {
   "cell_type": "code",
   "execution_count": 44,
   "metadata": {
    "scrolled": true
   },
   "outputs": [
    {
     "data": {
      "text/plain": [
       "RandomForestClassifier(bootstrap=True, class_weight=None, criterion='gini',\n",
       "            max_depth=None, max_features='auto', max_leaf_nodes=None,\n",
       "            min_impurity_decrease=0.0, min_impurity_split=None,\n",
       "            min_samples_leaf=1, min_samples_split=2,\n",
       "            min_weight_fraction_leaf=0.0, n_estimators=40, n_jobs=None,\n",
       "            oob_score=False, random_state=None, verbose=0,\n",
       "            warm_start=False)"
      ]
     },
     "execution_count": 44,
     "metadata": {},
     "output_type": "execute_result"
    }
   ],
   "source": [
    "X3_train, X3_test, Y3_train, Y3_test = train_test_split(df_filmes_produtoras,sim_ou_nao,test_size = 0.3)\n",
    "\n",
    "model = RandomForestClassifier(n_estimators = 40)\n",
    "model.fit(X3_train,Y3_train)"
   ]
  },
  {
   "cell_type": "code",
   "execution_count": 45,
   "metadata": {},
   "outputs": [
    {
     "data": {
      "text/plain": [
       "0.845108695652174"
      ]
     },
     "execution_count": 45,
     "metadata": {},
     "output_type": "execute_result"
    }
   ],
   "source": [
    "model.score(X3_test,Y3_test)"
   ]
  },
  {
   "cell_type": "markdown",
   "metadata": {},
   "source": [
    "# Random Forrest De Budget"
   ]
  },
  {
   "cell_type": "code",
   "execution_count": 73,
   "metadata": {},
   "outputs": [
    {
     "data": {
      "text/html": [
       "<div>\n",
       "<style scoped>\n",
       "    .dataframe tbody tr th:only-of-type {\n",
       "        vertical-align: middle;\n",
       "    }\n",
       "\n",
       "    .dataframe tbody tr th {\n",
       "        vertical-align: top;\n",
       "    }\n",
       "\n",
       "    .dataframe thead th {\n",
       "        text-align: right;\n",
       "    }\n",
       "</style>\n",
       "<table border=\"1\" class=\"dataframe\">\n",
       "  <thead>\n",
       "    <tr style=\"text-align: right;\">\n",
       "      <th></th>\n",
       "      <th>budget</th>\n",
       "    </tr>\n",
       "  </thead>\n",
       "  <tbody>\n",
       "    <tr>\n",
       "      <th>0</th>\n",
       "      <td>30000000.0</td>\n",
       "    </tr>\n",
       "    <tr>\n",
       "      <th>1</th>\n",
       "      <td>65000000.0</td>\n",
       "    </tr>\n",
       "    <tr>\n",
       "      <th>3</th>\n",
       "      <td>16000000.0</td>\n",
       "    </tr>\n",
       "    <tr>\n",
       "      <th>5</th>\n",
       "      <td>60000000.0</td>\n",
       "    </tr>\n",
       "    <tr>\n",
       "      <th>8</th>\n",
       "      <td>35000000.0</td>\n",
       "    </tr>\n",
       "  </tbody>\n",
       "</table>\n",
       "</div>"
      ],
      "text/plain": [
       "       budget\n",
       "0  30000000.0\n",
       "1  65000000.0\n",
       "3  16000000.0\n",
       "5  60000000.0\n",
       "8  35000000.0"
      ]
     },
     "execution_count": 73,
     "metadata": {},
     "output_type": "execute_result"
    }
   ],
   "source": [
    "df_Bud = pd.DataFrame(df_mega_clean.budget)\n",
    "df_Bud.head()"
   ]
  },
  {
   "cell_type": "code",
   "execution_count": 68,
   "metadata": {},
   "outputs": [
    {
     "data": {
      "text/plain": [
       "RandomForestClassifier(bootstrap=True, class_weight=None, criterion='gini',\n",
       "            max_depth=None, max_features='auto', max_leaf_nodes=None,\n",
       "            min_impurity_decrease=0.0, min_impurity_split=None,\n",
       "            min_samples_leaf=1, min_samples_split=2,\n",
       "            min_weight_fraction_leaf=0.0, n_estimators=60, n_jobs=None,\n",
       "            oob_score=False, random_state=None, verbose=0,\n",
       "            warm_start=False)"
      ]
     },
     "execution_count": 68,
     "metadata": {},
     "output_type": "execute_result"
    }
   ],
   "source": [
    "X5_train, X5_test, Y5_train, Y5_test = train_test_split(df_Bud,sim_ou_nao,test_size = 0.3)\n",
    "\n",
    "model = RandomForestClassifier(n_estimators = 60)\n",
    "model.fit(X5_train,Y5_train)"
   ]
  },
  {
   "cell_type": "code",
   "execution_count": 70,
   "metadata": {},
   "outputs": [
    {
     "data": {
      "text/plain": [
       "0.8804347826086957"
      ]
     },
     "execution_count": 70,
     "metadata": {},
     "output_type": "execute_result"
    }
   ],
   "source": [
    "model.score(X5_test,Y5_test)"
   ]
  },
  {
   "cell_type": "code",
   "execution_count": 71,
   "metadata": {},
   "outputs": [
    {
     "data": {
      "text/plain": [
       "[(1.0, 'budget')]"
      ]
     },
     "execution_count": 71,
     "metadata": {},
     "output_type": "execute_result"
    }
   ],
   "source": [
    "sorted(list(zip(model.feature_importances_, X5_test.columns)), reverse=True)"
   ]
  },
  {
   "cell_type": "markdown",
   "metadata": {},
   "source": [
    "## Random Forest com todas as features"
   ]
  },
  {
   "cell_type": "code",
   "execution_count": 46,
   "metadata": {
    "scrolled": true
   },
   "outputs": [],
   "source": [
    "df_forest = pd.concat([\n",
    "    df_filmes_categorias,\n",
    "    atores_certos.drop(['Fez ou não 150 mi'],axis='columns'),\n",
    "    df_filmes_produtoras,\n",
    "    df_mega_clean.budget,\n",
    "\n",
    "], axis=1)"
   ]
  },
  {
   "cell_type": "code",
   "execution_count": 65,
   "metadata": {},
   "outputs": [
    {
     "data": {
      "text/plain": [
       "RandomForestClassifier(bootstrap=True, class_weight=None, criterion='gini',\n",
       "            max_depth=None, max_features='auto', max_leaf_nodes=None,\n",
       "            min_impurity_decrease=0.0, min_impurity_split=None,\n",
       "            min_samples_leaf=1, min_samples_split=2,\n",
       "            min_weight_fraction_leaf=0.0, n_estimators=60, n_jobs=None,\n",
       "            oob_score=False, random_state=None, verbose=0,\n",
       "            warm_start=False)"
      ]
     },
     "execution_count": 65,
     "metadata": {},
     "output_type": "execute_result"
    }
   ],
   "source": [
    "X4_train, X4_test, Y4_train, Y4_test = train_test_split(df_forest,sim_ou_nao,test_size = 0.3)\n",
    "\n",
    "model = RandomForestClassifier(n_estimators = 60)\n",
    "model.fit(X4_train,Y4_train)"
   ]
  },
  {
   "cell_type": "code",
   "execution_count": 66,
   "metadata": {},
   "outputs": [
    {
     "data": {
      "text/plain": [
       "0.8797554347826086"
      ]
     },
     "execution_count": 66,
     "metadata": {},
     "output_type": "execute_result"
    }
   ],
   "source": [
    "model.score(X4_test,Y4_test)"
   ]
  },
  {
   "cell_type": "code",
   "execution_count": 67,
   "metadata": {},
   "outputs": [
    {
     "data": {
      "text/plain": [
       "[(0.12957603904516396, 'budget'),\n",
       " (0.015051308829147424, 'Adventure'),\n",
       " (0.009607951560152195, 'Drama'),\n",
       " (0.009102050646794356, 'Action'),\n",
       " (0.00742794027504935, 'Family'),\n",
       " (0.006795731447933541, 'Animation'),\n",
       " (0.006579464220225614, 'Walt Disney Pictures'),\n",
       " (0.006357101465204132, 'DreamWorks Animation'),\n",
       " (0.006018168475325548, 'Fantasy'),\n",
       " (0.005827713394673026, 'Legendary Pictures'),\n",
       " (0.0058182909699874994, 'Comedy'),\n",
       " (0.005489130957969874, 'Romance'),\n",
       " (0.0052311485898035555, 'Thriller'),\n",
       " (0.0042087449655914275, 'Columbia Pictures'),\n",
       " (0.003958354438128012, 'Dune Entertainment'),\n",
       " (0.003931168771505884, 'Crime'),\n",
       " (0.0038232561038111968, 'Science Fiction'),\n",
       " (0.0037988184520990325, 'Universal Pictures'),\n",
       " (0.0036642402895128196, 'Twentieth Century Fox Film Corporation'),\n",
       " (0.0035841569182297113, 'Amblin Entertainment'),\n",
       " (0.0034709779219746473, 'Pixar Animation Studios'),\n",
       " (0.003345623355831999, 'Paramount Pictures'),\n",
       " (0.00320732019418547, 'Horror'),\n",
       " (0.0031031715178982617, 'Warner Bros.'),\n",
       " (0.003002079146376546, 'Twentieth Century Fox Animation'),\n",
       " (0.002993249388780587, 'Illumination Entertainment'),\n",
       " (0.00287496921197991, 'Temple Hill Entertainment'),\n",
       " (0.0025365762639895516, 'Tom Cruise'),\n",
       " (0.0024924253089003744, 'DreamWorks SKG'),\n",
       " (0.0024910841906702944, 'Sunswept Entertainment'),\n",
       " (0.002456388454549129, 'Marvel Studios'),\n",
       " (0.002452050747901714, 'Mel Gibson'),\n",
       " (0.002431156716924991, 'Mystery'),\n",
       " (0.0024130452620258003, 'Blue Sky Studios'),\n",
       " (0.002400123395289801, 'Tom Hanks'),\n",
       " (0.0023192066823684294, 'Walt Disney Animation Studios'),\n",
       " (0.0022950682199586025, 'RatPac-Dune Entertainment'),\n",
       " (0.0022392388792123337, 'Relativity Media'),\n",
       " (0.002212517127201016, 'Touchstone Pictures'),\n",
       " (0.002194021497285909, 'Cameron Diaz'),\n",
       " (0.0021762306821688257, 'Kennedy/Marshall Company, The'),\n",
       " (0.002149255072223608, 'John Ratzenberger'),\n",
       " (0.00212475524979832, 'Sylvester Stallone'),\n",
       " (0.0021199063475109995, 'Jerry Bruckheimer Films'),\n",
       " (0.002065547784232582, 'Harrison Ford'),\n",
       " (0.001980035122735329, 'Solana Films'),\n",
       " (0.0019507357626544035, 'Philip Ettington'),\n",
       " (0.0019399766534128138, 'Happy Madison Productions'),\n",
       " (0.0019389817710954694, 'James Earl Jones'),\n",
       " (0.0019123096970099875, 'TSG Entertainment'),\n",
       " (0.001898764140320914, 'Ray Winstone'),\n",
       " (0.0017962610386121289, 'Will Smith'),\n",
       " (0.0017409343445274406, 'Sandra Bullock'),\n",
       " (0.001727868714475823, 'Evergreen Media Group'),\n",
       " (0.0016995920712316347, 'Atlas Entertainment'),\n",
       " (0.0016898985634769602, 'Jim Carrey'),\n",
       " (0.0016850627418629578, 'Timothy Spall'),\n",
       " (0.001675212947497801, 'Original Film'),\n",
       " (0.0016626104098094422, 'Jim Cummings'),\n",
       " (0.0016288652300951452, 'Danny Glover'),\n",
       " (0.0016083119127965316, 'Liev Schreiber'),\n",
       " (0.001599198470357097, 'Blinding Edge Pictures'),\n",
       " (0.0015831166689443726, 'Brandywine Productions'),\n",
       " (0.0015698948747257108, 'Robin Williams'),\n",
       " (0.0015648152684460586, 'Bob Gunton'),\n",
       " (0.0015569955826593607, 'New Line Cinema'),\n",
       " (0.0015495571530222377, 'Anna Faris'),\n",
       " (0.0015444025646799617, 'Jeffrey Tambor'),\n",
       " (0.0015309235229193502, 'Carolco Pictures'),\n",
       " (0.0015102769390075656, 'WingNut Films'),\n",
       " (0.001496021158430006, 'Summit Entertainment'),\n",
       " (0.0014871386781117265, 'Frank Whaley'),\n",
       " (0.0014862013234646365, 'Red Granite Pictures'),\n",
       " (0.0014704854748489363, 'Walt Disney Feature Animation'),\n",
       " (0.0014635630102425394, 'Robert Stigwood Organization (RSO)'),\n",
       " (0.0014562236638840304, 'Music'),\n",
       " (0.001447237529713246, 'Silver Screen Partners IV'),\n",
       " (0.001442163774694558, 'Stan Lee'),\n",
       " (0.0014284818257420853, 'Melampo Cinematografica'),\n",
       " (0.0014230284991146472, 'Channing Tatum'),\n",
       " (0.001403772218990643, 'History'),\n",
       " (0.0013979890821520147, 'Rob Schneider'),\n",
       " (0.0013806700061072235, 'Davis Entertainment'),\n",
       " (0.00137921351045625, 'Helena Bonham Carter'),\n",
       " (0.001379164782997989, 'Metro-Goldwyn-Mayer (MGM)'),\n",
       " (0.0013602201263961879, 'Columbia Pictures Corporation'),\n",
       " (0.0013520589649016201, 'Colin Firth'),\n",
       " (0.0013251001854848697, 'War'),\n",
       " (0.0013224383897835078, 'Anthony Hopkins'),\n",
       " (0.0013190126452619724, 'Eddie Murphy'),\n",
       " (0.0012974526234306165, 'Green Hat Films'),\n",
       " (0.001296670517690715, 'Enlight Pictures'),\n",
       " (0.0012581869143253517, 'Kathy Najimy'),\n",
       " (0.0012373004505055452, 'Gary Sanchez Productions'),\n",
       " (0.0012329223532558846, 'Danny McBride'),\n",
       " (0.0012327261786372024, 'Bruce Willis'),\n",
       " (0.0012222047588408048, 'Sterling Holloway'),\n",
       " (0.0012081932753533254, 'Ralph Fiennes'),\n",
       " (0.0012005607834253867, 'Mace Neufeld Productions'),\n",
       " (0.0011897289411706, 'Village Roadshow Pictures'),\n",
       " (0.0011815194876701122, 'Haxan Films'),\n",
       " (0.0011726846494902704, 'Arnold Schwarzenegger'),\n",
       " (0.0011707130975833432, 'Studio Ghibli'),\n",
       " (0.0011618580620938095, 'Don Simpson/Jerry Bruckheimer Films'),\n",
       " (0.0011599152033510008, 'Bad Hat Harry Productions'),\n",
       " (0.0011463412983499879, 'Liam Neeson'),\n",
       " (0.0011386557427169282, 'Imagine Entertainment'),\n",
       " (0.0011373426707427649, \"Donners' Company\"),\n",
       " (0.0011327874309135454, 'Parkes+MacDonald Image Nation'),\n",
       " (0.0011264100123361325, 'Red Wagon Entertainment'),\n",
       " (0.0011254550732763444, 'Samuel L. Jackson'),\n",
       " (0.0011220638832519325, 'Jason Bateman'),\n",
       " (0.0011123942757322437, 'Rimfire Films'),\n",
       " (0.0011072652628742903, 'Bagdasarian Productions'),\n",
       " (0.0011040389890126104, 'Lucasfilm'),\n",
       " (0.0011025053478627425, 'Brendan Gleeson'),\n",
       " (0.001101575925364574, 'Dentsu'),\n",
       " (0.0010982450807293417, 'Hugo Weaving'),\n",
       " (0.0010963054446124652, 'Cary Elwes'),\n",
       " (0.0010852252016015822, 'Big Screen Productions'),\n",
       " (0.0010726720242335498, 'Jamie Kennedy'),\n",
       " (0.0010717756405443013, 'Reliance Entertainment'),\n",
       " (0.0010664365057625736, 'Jon Favreau'),\n",
       " (0.0010659855797724646, 'Julia Roberts'),\n",
       " (0.0010658106264118687, 'Adam Sandler'),\n",
       " (0.001049477636350383, 'Gary Grubbs'),\n",
       " (0.001044926127415381, 'Mid Atlantic Films'),\n",
       " (0.001043020377876718, 'Eon Productions'),\n",
       " (0.0010377212879446414, 'Demi Moore'),\n",
       " (0.001030319375706785, 'Mark Hamill'),\n",
       " (0.0010266717188662437, 'China Film Co-Production Corporation'),\n",
       " (0.001023439940543321, 'Mila Kunis'),\n",
       " (0.0010205604393171846, 'Hank Azaria'),\n",
       " (0.0010178265584728059, 'Philip Baker Hall'),\n",
       " (0.0010173728585769976, 'Lucy Liu'),\n",
       " (0.0010137709825305994, 'Christopher Plummer'),\n",
       " (0.0010128276962623709, 'Michael Madsen'),\n",
       " (0.001011414728794108, 'Regency Enterprises'),\n",
       " (0.0010098095353671043, 'Jamie Foxx'),\n",
       " (0.0010034828140425122, 'TriStar Pictures'),\n",
       " (0.0009989042691260332, 'Sterling Hayden'),\n",
       " (0.000995396535484482, 'Bonnie Hunt'),\n",
       " (0.0009817700942842957, 'Scott Free Productions'),\n",
       " (0.0009783488345937476, 'Ben Stiller'),\n",
       " (0.0009749637037532432, 'Brendan Fraser'),\n",
       " (0.0009741656336716804, 'Fox 2000 Pictures'),\n",
       " (0.00096921822009458, 'Bedford Falls Productions'),\n",
       " (0.0009655710757406851, 'Will Arnett'),\n",
       " (0.000963386529792302, 'Roth Films'),\n",
       " (0.0009621728473211782, 'Davis Films'),\n",
       " (0.0009600807682202163, 'Patrick Stewart'),\n",
       " (0.0009598756345263428, 'Sean Bean'),\n",
       " (0.0009471633145545616, 'Kevin McNally'),\n",
       " (0.0009453474490452191, 'Patrick Swayze'),\n",
       " (0.0009452199656834373, 'Alan Rickman'),\n",
       " (0.0009422675304605675, 'Home Box Office (HBO)'),\n",
       " (0.0009407346699322086, 'Julie Walters'),\n",
       " (0.0009386867234350652, 'Steve White Entertainment'),\n",
       " (0.0009386072303692295, 'Kerner Entertainment Company'),\n",
       " (0.0009276748263628656, 'GK Films'),\n",
       " (0.0009262354170318663, 'Marvel Entertainment'),\n",
       " (0.0009231590766629244, 'Peter Gallagher'),\n",
       " (0.0009228032601031679, 'Overbrook Entertainment'),\n",
       " (0.0009224050038134592, 'James Russo'),\n",
       " (0.0009178940487587429, 'Winona Ryder'),\n",
       " (0.0009161945437161545, 'Robert Shaw'),\n",
       " (0.0009154394733397422, 'Waverly Films'),\n",
       " (0.0009138300031954228, 'Chiwetel Ejiofor'),\n",
       " (0.0009125383427269739, 'Michael Ironside'),\n",
       " (0.0009125140147111143, 'Judi Dench'),\n",
       " (0.0009121354466657066, 'Meg Ryan'),\n",
       " (0.0009066896243182132, 'Eddie Murphy Productions'),\n",
       " (0.000906593899976923, 'Chartoff Winkler Productions'),\n",
       " (0.0009046183829730018, 'The Safran Company'),\n",
       " (0.0008954232766410986, 'Richard Griffiths'),\n",
       " (0.0008896904609189028, 'Jess Harnell'),\n",
       " (0.000887843454805362, 'Zach Galifianakis'),\n",
       " (0.0008866918134162714, 'James Cromwell'),\n",
       " (0.0008863615297396627, 'Tiger Aspect Productions'),\n",
       " (0.0008837872755254016, 'Thunder Road Pictures'),\n",
       " (0.000882487451118442, 'Paul Giamatti'),\n",
       " (0.000882092637923489, 'Rick Overton'),\n",
       " (0.0008760856513347766, 'Nicole Kidman'),\n",
       " (0.0008735785493492638, 'Double Negative'),\n",
       " (0.0008728486450557097, 'Murray Hamilton'),\n",
       " (0.0008694627918380078, 'Monica Bellucci'),\n",
       " (0.0008681460881230246, 'Pierce Brosnan'),\n",
       " (0.0008671461026972191, 'Benjamin Bratt'),\n",
       " (0.0008626180380687931, 'Parkes/MacDonald Productions'),\n",
       " (0.0008621898411288839, 'Roy Scheider'),\n",
       " (0.0008608573869817619, 'The Kennedy/Marshall Company'),\n",
       " (0.0008558896118461835, 'Gerard Butler'),\n",
       " (0.0008557298480809507, 'Silver Pictures'),\n",
       " (0.0008537217218793503, 'Jason Flemyng'),\n",
       " (0.0008495222882777055, 'Acacia Filmed Entertainment'),\n",
       " (0.0008494019241908286, 'RKO Radio Pictures'),\n",
       " (0.0008482918232740694, 'Harris Yulin'),\n",
       " (0.0008482312615935455, 'Gary Cole'),\n",
       " (0.0008468205275786006, 'Malpaso Productions'),\n",
       " (0.0008458498433116431, 'Fuji Television Network'),\n",
       " (0.0008454880484542918, 'Dominic West'),\n",
       " (0.000842773067896326, 'Arka Media Works'),\n",
       " (0.0008398168450601002, 'Maya Rudolph'),\n",
       " (0.0008397122441924922, 'Angelina Jolie'),\n",
       " (0.0008363106070638187, 'Gary Oldman'),\n",
       " (0.0008333907118445041, 'Western'),\n",
       " (0.0008268115403681052, 'Ian McKellen'),\n",
       " (0.0008257208689579122, 'Delphi Films'),\n",
       " (0.0008242868772851864, 'River Road Entertainment'),\n",
       " (0.0008239398705321173, 'Michael Douglas'),\n",
       " (0.0008222470583635781, 'Strike Entertainment'),\n",
       " (0.0008203876574594327, 'Jack Nicholson'),\n",
       " (0.0008155562401906609, 'Chernin Entertainment'),\n",
       " (0.0008150017130214391, 'Centropolis Entertainment'),\n",
       " (0.0008141103809093413, 'Cary-Hiroyuki Tagawa'),\n",
       " (0.0008022592197310556, 'Marvel Enterprises'),\n",
       " (0.0007949672341281383, 'Bruce Campbell'),\n",
       " (0.0007946507442854831, 'Mikona Productions GmbH & Co. KG'),\n",
       " (0.000791632537781436, 'Common'),\n",
       " (0.0007876262144228909, 'Morgan Freeman'),\n",
       " (0.0007868422621866979,\n",
       "  'Global Entertainment Productions GmbH & Company Medien KG'),\n",
       " (0.0007751040313669161, 'Christopher Lee'),\n",
       " (0.000771654543094004, 'Celia Weston'),\n",
       " (0.000768185921398213, 'Xander Berkeley'),\n",
       " (0.0007661135670509697, 'Edko Films'),\n",
       " (0.0007643998166152485, 'Colm Feore'),\n",
       " (0.000764314216681869, 'David Brown Productions'),\n",
       " (0.0007615369636513877, 'Grosvenor Park Productions'),\n",
       " (0.0007594161206260947, 'John Travolta'),\n",
       " (0.0007567689713719932, 'Rachel Weisz'),\n",
       " (0.0007556260199474552, 'Geoffrey Keen'),\n",
       " (0.000749344617960396, 'Ted Levine'),\n",
       " (0.0007467352158500545, 'Marjorie Bennett'),\n",
       " (0.000745774947657493, 'Sony Pictures Releasing'),\n",
       " (0.0007443051868671508, 'Willem Dafoe'),\n",
       " (0.0007431350002150589, 'Orlando Bloom'),\n",
       " (0.0007429595698432548, 'Judy Greer'),\n",
       " (0.0007427473447659869, 'Will Wright'),\n",
       " (0.0007412190662484554, 'Viggo Mortensen'),\n",
       " (0.0007375091547366831, 'Jodie Foster'),\n",
       " (0.0007353301288180251, 'Scott Rudin Productions'),\n",
       " (0.0007351617564255564, 'Richard Crenna'),\n",
       " (0.0007317660369716186, 'Jessica Lange'),\n",
       " (0.0007317018527140141, 'Bruce Greenwood'),\n",
       " (0.0007302005901748796, 'Brion James'),\n",
       " (0.0007294706270800764, 'Dean Norris'),\n",
       " (0.0007288007801182925, 'Tom Kenny'),\n",
       " (0.0007250819390273479, 'Revolution Sun Studios'),\n",
       " (0.0007240456726402237, 'Beth Grant'),\n",
       " (0.0007237663119960148, 'Working Title Films'),\n",
       " (0.000723339389761725, 'Dwayne Johnson'),\n",
       " (0.000723130320399033, 'Star Thrower Entertainment'),\n",
       " (0.0007219339207323632, 'Aperture Entertainment'),\n",
       " (0.0007209976187649671, 'Tom Hardy'),\n",
       " (0.0007209958118441491, 'Michael Shannon'),\n",
       " (0.0007198836768167078, 'Kristen Wiig'),\n",
       " (0.000718262099019403, 'Bryan Brown'),\n",
       " (0.0007172393823087132, 'Two Ton Films'),\n",
       " (0.0007156411282129247, 'Heyday Films'),\n",
       " (0.0007092706064422145, 'Michael Peña'),\n",
       " (0.0007043016620854419, 'Miramax Films'),\n",
       " (0.0007022838180375338, 'Walter Gotell'),\n",
       " (0.0007021286354154598, 'Sharon Stone'),\n",
       " (0.0007007556759451343, 'Jackie Chan'),\n",
       " (0.00070069699486895, 'Sigourney Weaver'),\n",
       " (0.0007000076294796993, 'Cube Vision'),\n",
       " (0.0006990257016908968, 'Kathy Bates'),\n",
       " (0.000698275582794007, 'Joe Don Baker'),\n",
       " (0.0006982563628066647, 'Laura Linney'),\n",
       " (0.0006968997309906952, 'Max von Sydow'),\n",
       " (0.0006954898927668575, 'Jack Black'),\n",
       " (0.0006954292027964822, 'Bill Paxton'),\n",
       " (0.0006944794068041981, 'Walden Media'),\n",
       " (0.0006941489333470852, 'Joan Blondell'),\n",
       " (0.0006897630795618685, 'Super Cool ManChu'),\n",
       " (0.000687490550629705, 'Rose Byrne'),\n",
       " (0.0006847607806591642, 'Alphaville Films'),\n",
       " (0.0006792275432355696, 'Nicolas Cage'),\n",
       " (0.0006779429212396102, 'Kathryn Hahn'),\n",
       " (0.0006764563965878719, 'Stephen Tobolowsky'),\n",
       " (0.0006758170444843835, 'Charles Napier'),\n",
       " (0.000673970746743327, 'Frank Welker'),\n",
       " (0.000672898363095334, 'Kevin Nealon'),\n",
       " (0.0006717211162210611, 'Apatow Productions'),\n",
       " (0.0006707292125807321, 'Christopher Walken'),\n",
       " (0.0006695397994869665, 'James Remar'),\n",
       " (0.0006655473807704602, 'Robert Redford'),\n",
       " (0.0006653282611985588, 'Spyglass Entertainment'),\n",
       " (0.0006651445865416039, 'John Michael Higgins'),\n",
       " (0.0006629533981315288, 'Johnny Depp'),\n",
       " (0.0006617592358299731, 'Motion Picture Corporation of America (MPCA)'),\n",
       " (0.0006611282877190451, 'Michael Clarke Duncan'),\n",
       " (0.0006605592171868292, 'Héctor Elizondo'),\n",
       " (0.0006560458875915793, 'Stephen Root'),\n",
       " (0.0006554108730778282, 'PolyGram Filmed Entertainment'),\n",
       " (0.0006551466714538207, 'Jerry Weintraub Productions'),\n",
       " (0.000651147442516927, 'Chaocorp'),\n",
       " (0.0006509075820004172, 'Robert Simonds Productions'),\n",
       " (0.0006498282844976572, 'Moving Picture Company (MPC)'),\n",
       " (0.0006497219817485155, 'Michael J. Fox'),\n",
       " (0.0006488649046850511, 'Simon Callow'),\n",
       " (0.0006469249240534079, 'Wintergreen Productions'),\n",
       " (0.0006468679871962188, 'Roger Moore'),\n",
       " (0.0006467895191801106, 'Eva Mendes'),\n",
       " (0.0006430773743214247, 'Martin Short'),\n",
       " (0.0006422770205667714, 'Great American Films Limited Partnership'),\n",
       " (0.0006401530882167876, 'Jane Seymour'),\n",
       " (0.0006381775785829283, 'DumbDumb'),\n",
       " (0.0006359885922639035, 'Jason Isaacs'),\n",
       " (0.0006357608817066536, 'Tribeca Productions'),\n",
       " (0.0006353957601218473, 'Dimension Films'),\n",
       " (0.0006310523757307997, 'Harry Shearer'),\n",
       " (0.000630352490067283, 'Vince Vaughn'),\n",
       " (0.0006270017324444077, 'Rupert Everett'),\n",
       " (0.0006249709653981973, 'Iron Horse Entertainment (II)'),\n",
       " (0.0006238630133179125, 'Dan Hedaya'),\n",
       " (0.000622212991014947, 'Bradley Cooper'),\n",
       " (0.0006211374505059757, 'Whoopi Goldberg'),\n",
       " (0.0006209040685343798, 'Gordon Liu Chia-Hui'),\n",
       " (0.0006173460417732634, 'Danny DeVito'),\n",
       " (0.0006150715427162831, 'Tobin Bell'),\n",
       " (0.0006145043491666344, 'Owen Wilson'),\n",
       " (0.0006123021426530913, 'Millennium Films'),\n",
       " (0.000612098715483217, 'Steve Zahn'),\n",
       " (0.0006120844723661993, 'Richard Jenkins'),\n",
       " (0.000611024755907796, 'Zooey Deschanel'),\n",
       " (0.0006107846880475004, 'Aggregate Films'),\n",
       " (0.0006100922601075211, 'Ingenious Film Partners'),\n",
       " (0.0006091966968645761, 'John C. Reilly'),\n",
       " (0.0006064301926155873, 'Icon Productions'),\n",
       " (0.0006061657367170498, 'Carmen Electra'),\n",
       " (0.0006054336438130103, '21 Laps Entertainment'),\n",
       " (0.0006049174751377611, 'Ardustry Entertainment'),\n",
       " (0.0006035379816284429, 'Patrick Bauchau'),\n",
       " (0.0006022482748725393, 'J.K. Simmons'),\n",
       " (0.0006021841346605235, 'Revolution Studios'),\n",
       " (0.0006019619130735741, 'Mandeville Films'),\n",
       " (0.0006013752130654896, 'Mark Wahlberg'),\n",
       " (0.0006009370817985136, 'Terry Crews'),\n",
       " (0.0006000963812806127, 'Northern Lights Entertainment'),\n",
       " (0.00059896266945288, 'Pacific Data Images (PDI)'),\n",
       " (0.0005982483962503526, 'Chris Mulkey'),\n",
       " (0.000596054542956664, 'Impostor Pictures'),\n",
       " (0.0005953123755673951, 'Billy Connolly'),\n",
       " (0.0005929592026614717, 'Don Cheadle'),\n",
       " (0.0005928047454022839, 'Robbie Coltrane'),\n",
       " (0.0005926765934054421, 'Gina Gershon'),\n",
       " (0.0005913799508993742, 'DC Entertainment'),\n",
       " (0.0005909606829109278, 'Claire Du Brey'),\n",
       " (0.0005891335609345318, 'Nathan Lane'),\n",
       " (0.0005886103123151366, 'Parker Posey'),\n",
       " (0.0005870852839087084, 'Siobhan Fallon'),\n",
       " (0.0005869409578951889, 'Disruption Entertainment'),\n",
       " (0.0005866367627696818, 'Matt Walsh'),\n",
       " (0.0005865423957869414, 'Robert Carlyle'),\n",
       " (0.0005864548801023668, 'Molly Shannon'),\n",
       " (0.0005863610001303035, 'New Regency Pictures'),\n",
       " (0.0005861041592811513, 'Natalie Portman'),\n",
       " (0.0005858373188272074, 'LHF Film'),\n",
       " (0.0005857038010991081, 'Joan Cusack'),\n",
       " (0.0005853650319153673, 'Emma Thompson'),\n",
       " (0.0005853205876045576, 'Woody Harrelson'),\n",
       " (0.000585054464119249, 'Gene Hackman'),\n",
       " (0.0005849976610498454, 'Katherine Heigl'),\n",
       " (0.0005813292205676477, 'Management Company Entertainment Group (MCEG)'),\n",
       " (0.0005801339353043096, 'Constantin Film'),\n",
       " (0.0005779463462604792, 'Double Feature Films'),\n",
       " (0.0005777048440234396, 'Huayi Brothers Pictures'),\n",
       " (0.0005769349089156818, 'Goldcrest Pictures'),\n",
       " (0.0005765409769854113, 'Blythe Danner'),\n",
       " (0.0005755648527619371, 'Studio Babelsberg'),\n",
       " (0.0005748656065280992, 'Matthew Lillard'),\n",
       " (0.0005746981215366219, 'Tommy Lee Jones'),\n",
       " (0.0005725773807750815, 'Ben Kingsley'),\n",
       " (0.0005724720801031994, 'Catherine Deneuve'),\n",
       " (0.0005718634672069176, 'Left Tackle Pictures'),\n",
       " (0.0005716111291685866, 'Dark Horse Entertainment'),\n",
       " (0.0005692916052636934, 'Bluegrass Films'),\n",
       " (0.0005687348787922085, 'Oasis Films'),\n",
       " (0.0005687278579815542, 'Graham Greene'),\n",
       " (0.0005684266712060097, 'Mutual Film Company'),\n",
       " (0.0005675934243843699, 'Jane Lynch'),\n",
       " (0.0005672975518028109, 'Clint Eastwood'),\n",
       " (0.0005670987123862289, 'Jean Rochefort'),\n",
       " (0.0005664362993025515, 'Donald Sutherland'),\n",
       " (0.0005646196611202733, 'John Heard'),\n",
       " (0.0005614164448741895, 'Principato-Young Entertainment'),\n",
       " (0.0005585169702366824, 'Paul Guilfoyle'),\n",
       " (0.0005569966601235986, 'Rob Riggle'),\n",
       " (0.0005549191565691603, 'Roger Corman'),\n",
       " (0.0005547900120710437, 'Black Rhino Productions'),\n",
       " (0.0005528701696804623, 'Warner Bros. Animation'),\n",
       " (0.0005516114757826684, 'Zero Gravity Management'),\n",
       " (0.0005506166782205177, 'Ralph Bellamy'),\n",
       " (0.0005500770547728209, 'Billy Dee Williams'),\n",
       " (0.0005499767829095441, 'Dakota Fanning'),\n",
       " (0.0005496201402604048, 'Vestron Pictures'),\n",
       " (0.0005484162094525672, 'Wendy Crewson'),\n",
       " (0.0005481285239456048, 'Chris Rock'),\n",
       " (0.0005477877802634364, 'Stuber Productions'),\n",
       " (0.0005460035775657506, 'Sally Field'),\n",
       " (0.0005441030313622934, 'John Cho'),\n",
       " (0.0005434963727715483, 'One Race Films'),\n",
       " (0.0005424693635788843, 'Celador Films'),\n",
       " (0.0005415671809429978, 'Aardman Animations'),\n",
       " (0.0005400597719257799, 'Vin Diesel'),\n",
       " (0.0005398293039170249, 'Lili Taylor'),\n",
       " (0.0005389543596497787, 'Walt Disney Productions'),\n",
       " (0.0005387359057942773, 'Josh Brolin'),\n",
       " (0.0005347099703578539, 'Luis Guzmán'),\n",
       " (0.0005345493308833765, 'James Woods'),\n",
       " (0.0005343174038200232, 'Burgess Meredith'),\n",
       " (0.0005335210568359577, 'FilmColony'),\n",
       " (0.0005320175948312926, 'Hollywood Gang Productions'),\n",
       " (0.0005301246349006902, 'Syncopy'),\n",
       " (0.0005268337749053301, 'Kevin Costner'),\n",
       " (0.0005265752120178167, 'Alan Tudyk'),\n",
       " (0.0005263054730532773, 'Screen Gems'),\n",
       " (0.0005259337248165955, 'Patrick Dempsey'),\n",
       " (0.0005246896729265798, 'Hoya Productions'),\n",
       " (0.0005245910948990372, 'Mykelti Williamson'),\n",
       " (0.0005224453603525595, 'Dune Entertainment III'),\n",
       " (0.0005222551340730379, 'United Artists'),\n",
       " (0.0005219847065290123, 'Mike Zoss Productions'),\n",
       " (0.0005216855930309526, 'Bruce McGill'),\n",
       " (0.0005209207565127825, 'John Malkovich'),\n",
       " (0.0005191522750674449, 'Art In Motion'),\n",
       " (0.0005185483431833149, 'Barry Mendel Productions'),\n",
       " (0.000518291342516771, 'Sean Connery'),\n",
       " (0.0005175955709798456, 'Nibariki'),\n",
       " (0.0005168571200938476, 'John Leguizamo'),\n",
       " (0.0005165966409268663, 'd-rights'),\n",
       " (0.0005164245611246602, 'Elisabeth Shue'),\n",
       " (0.0005161331461756463, 'Evolution Entertainment'),\n",
       " (0.0005142696195703987, 'BillBlock Media'),\n",
       " (0.000513509998500895, 'Bill Nunn'),\n",
       " (0.0005129608735699222, 'Rogue Marble'),\n",
       " (0.0005123822912625032, 'Tim Robbins'),\n",
       " (0.0005114358800245841, 'Radiant Productions'),\n",
       " (0.0005100525261870795, 'Kath Soucie'),\n",
       " (0.0005089245470879546, 'Rovio Entertainment'),\n",
       " (0.0005082056052488631, 'TC Productions'),\n",
       " (0.0005081604017006567, 'Geoffrey Rush'),\n",
       " (0.0005059505614973072, 'Blumhouse Productions'),\n",
       " (0.0005047912399535167, 'Richard Gere'),\n",
       " (0.0005040834336081177, 'Maggie Smith'),\n",
       " (0.000503459075324235, 'Allison Janney'),\n",
       " (0.000502856526737447, 'Steve Buscemi'),\n",
       " (0.0004981553267879205, 'Richard Schiff'),\n",
       " (0.0004979440686318766, 'Sean Astin'),\n",
       " (0.0004968647366481137, 'China Film Group'),\n",
       " (0.0004968306619074382, 'Chris Penn'),\n",
       " (0.0004965425295457811, 'Brad Grey Pictures'),\n",
       " (0.0004952790301162202, 'Malin Åkerman'),\n",
       " (0.0004934999295632921, 'Jennifer Tilly'),\n",
       " (0.0004930921699173686, 'Cliff Curtis'),\n",
       " (0.0004928070911566852, 'Octavia Spencer'),\n",
       " (0.0004908860106978259, 'Edward Furlong'),\n",
       " (0.0004890700461396867, 'Alan Cumming'),\n",
       " (0.00048665193134769135, 'Ron Perlman'),\n",
       " (0.00048639527242024834, 'Alec Baldwin'),\n",
       " (0.0004858416963829881, 'Christian Slater'),\n",
       " (0.00048462648173843554, 'Conundrum Entertainment'),\n",
       " (0.00048429040124917355, 'Fox Searchlight Pictures'),\n",
       " (0.0004839676894844887, 'Teri Garr'),\n",
       " (0.0004818658842922846, 'Donal Logue'),\n",
       " (0.00048150943192709953, 'Brian Dennehy'),\n",
       " (0.00048085773216258236, 'Junction Entertainment'),\n",
       " (0.0004802645663939526, 'Forward Pass'),\n",
       " (0.0004801494921961776, 'Michael Fassbender'),\n",
       " (0.0004800651678485944, 'Glenn Close'),\n",
       " (0.00047963290908114236, 'Toho-Towa'),\n",
       " (0.00047707489770638174, 'Burt Young'),\n",
       " (0.0004755649238679376, \"Mel's Cite du Cinema\"),\n",
       " (0.00047502696870839874, 'Philip Bosco'),\n",
       " (0.00047176432181758273, 'Joseph Gordon-Levitt'),\n",
       " (0.00047080918304074466, 'Mediastream Film GmbH & Co. Productions KG'),\n",
       " (0.000470510634488845, 'Imprint Entertainment'),\n",
       " (0.0004687288320981471, 'Edgar Kennedy'),\n",
       " (0.00046839685654109, 'Bill Nighy'),\n",
       " (0.0004681403090043693, 'Sony Pictures Entertainment (SPE)'),\n",
       " (0.0004674335876863994, 'Robert Prosky'),\n",
       " (0.0004671319160701336, 'Darren Star Productions'),\n",
       " (0.0004653022084643495, 'Kinberg Genre'),\n",
       " (0.0004651598154601823, 'Sony Pictures Animation'),\n",
       " (0.0004648587889823112, 'Donner/Shuler-Donner Productions'),\n",
       " (0.00046484055418720036, 'Jennifer Garner'),\n",
       " (0.00046317624610200914, 'Good Universe'),\n",
       " (0.00046264414719876317, 'Phil LaMarr'),\n",
       " (0.00046258101356228676, 'Escape Artists'),\n",
       " (0.00046221953406028714, 'Sarah Silverman'),\n",
       " (0.00046191217947231703, 'Terrence Howard'),\n",
       " (0.0004617482263998129, 'Joe Morton'),\n",
       " (0.0004614734210634224, 'Loumolo & Co.'),\n",
       " (0.0004613198449778708, 'Miriam Margolyes'),\n",
       " (0.000461054507067745, 'Terence Stamp'),\n",
       " (0.0004601834418116907, 'Baltimore Pictures'),\n",
       " (0.0004599194067177557, 'Martin Landau'),\n",
       " (0.0004585619727519923, 'Jeff Goldblum'),\n",
       " (0.0004583479437290163, 'Keith David'),\n",
       " (0.00045745614924294577, 'Michelle Monaghan'),\n",
       " (0.0004574073561267686, 'Wild West Picture Show Productions'),\n",
       " (0.0004570300638128229, 'Brittany Murphy'),\n",
       " (0.00045696292412249293, 'Harvey Keitel'),\n",
       " (0.0004567391245495822, 'Anne Archer'),\n",
       " (0.0004566036238261678, 'Tom Wilkinson'),\n",
       " (0.00045582520621699653, 'Steve Martin'),\n",
       " (0.0004542923789377896, 'Brooke Shields'),\n",
       " (0.00045383822855771824, 'Hofflund/Polone'),\n",
       " (0.00045337017061051197, 'Jeffrey Jones'),\n",
       " (0.0004529826448498502, 'Peter Stormare'),\n",
       " (0.0004516871975882115, 'Nick Nolte'),\n",
       " (0.0004513866795150488, 'Jeffrey Wright'),\n",
       " (0.00045128331835699904, 'Kim Basinger'),\n",
       " (0.00045128139968524084, 'Wes Bentley'),\n",
       " (0.0004512312511720102, 'Kate Winslet'),\n",
       " (0.0004480228320323867, 'David Spade'),\n",
       " (0.00044784661614729953, 'Glenn Morshower'),\n",
       " (0.00044734432199423294, 'Queen Latifah'),\n",
       " (0.0004466453989992544, 'Edie McClurg'),\n",
       " (0.00044652323749423754, 'Gracie Films'),\n",
       " (0.000446490132881262, 'Franco Nero'),\n",
       " (0.00044547537927086317, 'Paul Bettany'),\n",
       " (0.0004445730038311078, 'James Franco'),\n",
       " (0.0004427956876363539, 'Jeremy Piven'),\n",
       " (0.0004427513003241904, 'Cedric the Entertainer'),\n",
       " (0.0004421453430405351, 'David Koechner'),\n",
       " (0.0004415329968681126, 'Bradley Whitford'),\n",
       " (0.0004411730851916726, 'Rene Auberjonois'),\n",
       " (0.00044034423611918314, 'Joss Ackland'),\n",
       " (0.0004403331642414411, 'Joan Collins'),\n",
       " (0.00043995318685298706, 'Offspring Entertainment'),\n",
       " (0.00043982008445185295, 'Initial Entertainment Group (IEG)'),\n",
       " (0.0004391672788137054, 'Nancy Tenenbaum Films'),\n",
       " (0.0004385637636582335, 'Carrie-Anne Moss'),\n",
       " (0.0004368172646594373, 'Dustin Hoffman'),\n",
       " (0.00043608825256760925, 'Dennis Quaid'),\n",
       " (0.0004348588409041813, 'Victor Garber'),\n",
       " (0.00043423064794654946, 'Tony Shalhoub'),\n",
       " (0.00043370990389636754, 'Jennifer Lopez'),\n",
       " (0.0004333305306049067, 'Ghost House Pictures'),\n",
       " (0.00043332526846903767, 'Alun Armstrong'),\n",
       " (0.0004321158447491555, 'Jon Voight'),\n",
       " (0.0004307664947645503, 'Marion Cotillard'),\n",
       " (0.0004304517718783275, 'Morgan Creek Productions'),\n",
       " (0.00043014898226243566, 'Taken 3'),\n",
       " (0.00042990046939784485, 'Keira Knightley'),\n",
       " (0.0004298888923854719, 'Pangaea'),\n",
       " (0.00042865828093201723, 'James Hong'),\n",
       " (0.00042813174875933383, 'Lauren Holly'),\n",
       " (0.0004276768985924921, 'Mark Strong'),\n",
       " (0.00042764488328623357, 'Anton Yelchin'),\n",
       " (0.0004273236839738185, 'Virgin Produced'),\n",
       " (0.0004269306997988375, 'Hollywood Pictures'),\n",
       " (0.00042601163654130216, 'NPV Entertainment'),\n",
       " (0.00042527348443591244, 'Blue Wolf'),\n",
       " (0.00042520213393136785, 'Marton Csokas'),\n",
       " (0.00042511037861923484, 'Anil Kapoor'),\n",
       " (0.0004239409484425685, 'Chris Cooper'),\n",
       " (0.0004239283174815739, 'Santiago Segura'),\n",
       " (0.0004238712261328063, 'Mark Gordon Productions'),\n",
       " (0.000422869414596013, 'William Fichtner'),\n",
       " (0.0004224523894115676, 'Dolph Lundgren'),\n",
       " (0.00042163222493337804, 'Brad Pitt'),\n",
       " (0.00042157454246973685, 'Cloris Leachman'),\n",
       " (0.00042005336151759785, 'Stephen J. Cannell Productions'),\n",
       " (0.0004190330497034707, 'Matt Craven'),\n",
       " (0.0004188327356961284, 'Warwick Davis'),\n",
       " (0.00041799227934379024, 'Meryl Streep'),\n",
       " (0.0004179554146490663, 'DreamWorks'),\n",
       " (0.0004179221068256468, 'Keanu Reeves'),\n",
       " (0.0004158002580371934, 'Bad Robot'),\n",
       " (0.00041561481693085464, 'Carrie Fisher'),\n",
       " (0.00041545931946354044, 'Kontsept Film Company'),\n",
       " (0.0004147535052236795, 'Larry Miller'),\n",
       " (0.0004135880622981263, 'Matt Damon'),\n",
       " (0.0004127434144278245, \"Catherine O'Hara\"),\n",
       " (0.0004124838082398937, 'Jason Lee'),\n",
       " (0.00041218350275848187, 'Frankie Faison'),\n",
       " (0.0004112270437142373, 'David Bradley'),\n",
       " (0.0004110408595722382, 'Cruel and Unusual Films'),\n",
       " (0.0004109605983831851, 'Thomas Kretschmann'),\n",
       " (0.0004109175379383081, 'Will Ferrell'),\n",
       " (0.000410528476570613, 'David Jensen'),\n",
       " (0.00041037840851416405, 'Famke Janssen'),\n",
       " (0.0004099131167491136, 'Leonardo DiCaprio'),\n",
       " (0.00040915146046861204, 'Ian McNeice'),\n",
       " (0.0004079342681562227, 'Mark Canton Productions'),\n",
       " (0.00040775096020585853, 'Sam Neill'),\n",
       " (0.00040708563168954866, 'George Segal'),\n",
       " (0.000406822042762086, 'Laurence Fishburne'),\n",
       " (0.00040625494438667795, 'Benicio del Toro'),\n",
       " (0.00040549762428503545, 'Christopher McDonald'),\n",
       " (0.00040465292716252923, 'Jay O. Sanders'),\n",
       " (0.0004042895679839271, 'Anne Hathaway'),\n",
       " (0.000404097622761021, 'Michael Byrne'),\n",
       " (0.00040335661655289577, 'Focus Features'),\n",
       " (0.0004033118534461689, 'Stephen Dorff'),\n",
       " (0.00040237207702709116, 'De Line Pictures'),\n",
       " (0.00040172904921178024, 'Ben Mendelsohn'),\n",
       " (0.000401428529410416, 'Patrick Warburton'),\n",
       " (0.00040134578419394296, 'Armin Mueller-Stahl'),\n",
       " (0.00040102349049226033, 'Michael Rooker'),\n",
       " (0.00040081132908935374, 'Charlotte Rampling'),\n",
       " (0.0004007468770232666, 'Castle Rock Entertainment'),\n",
       " (0.00040033735331013203, 'Lance Henriksen'),\n",
       " (0.0004002095541439481, 'Punch Productions'),\n",
       " (0.0004001632342175094, 'Peter Sarsgaard'),\n",
       " (0.00039955716838268213, 'Kevin Pollak'),\n",
       " (0.0003989300894565571, 'Antonio Banderas'),\n",
       " (0.000398618922638963, 'Plan B Entertainment'),\n",
       " (0.00039787996993335506, 'Joe Chrest'),\n",
       " (0.0003977841476832703, 'Seth Rogen'),\n",
       " (0.00039704904056414423, 'Pedro Armendáriz Jr.'),\n",
       " (0.00039673599234944904, 'Obelisk Productions'),\n",
       " (0.00039673253765811335, 'BrownHouse Productions'),\n",
       " (0.000396729523683839, 'Toby Jones'),\n",
       " (0.0003966601457184588, 'Lin Shaye'),\n",
       " (0.0003959677990417787, 'Christine Baranski'),\n",
       " (0.0003955838804870164, 'Mirage Enterprises'),\n",
       " (0.0003950749200037101, 'John DiMaggio'),\n",
       " (0.00039446290008935417, 'Oliver Platt'),\n",
       " (0.0003929743676484591, 'Stanley Tucci'),\n",
       " (0.0003928286826193779, 'Randy Quaid'),\n",
       " (0.00039279220143592967, 'Gordon Company'),\n",
       " (0.000392088569539955, 'Pip Torrens'),\n",
       " (0.00039204489183806014, 'Misher Films'),\n",
       " (0.00039172553778545207, 'Tilda Swinton'),\n",
       " (0.0003908956760673083, 'Bottom of the Ninth Productions'),\n",
       " (0.00039050709781096566, 'Hugh Grant'),\n",
       " (0.0003904675636195664, 'Matthew McConaughey'),\n",
       " (0.0003901783326226945, 'Kristen Stewart'),\n",
       " (0.00039003638186124067, 'Charlie Sheen'),\n",
       " (0.00038993057530627064, 'Alfran Productions'),\n",
       " (0.00038830144691094463, 'Nino Manfredi'),\n",
       " (0.000385712524981524, 'John Lithgow'),\n",
       " (0.00038561435051151445, 'PSO International'),\n",
       " (0.0003855736790562675, 'Edge City'),\n",
       " (0.00038481023498077927, 'James Marsden'),\n",
       " (0.0003838231852849774, 'Patton Oswalt'),\n",
       " (0.0003833436853868902, 'Kurtzman/Orci'),\n",
       " (0.0003825766275591866, 'Robert Forster'),\n",
       " (0.0003821062084343382, 'Ewan McGregor'),\n",
       " (0.0003820250374499198, 'Motion Picture JOTA Produktions'),\n",
       " (0.0003819643441023088, 'Warner Animation Group'),\n",
       " (0.0003819360440725145, 'Vivica A. Fox'),\n",
       " (0.00038176682844774174, 'Fellah Pictures'),\n",
       " (0.00038071554493825625, 'Treat Williams'),\n",
       " (0.0003792559185680302, 'Paul Winfield'),\n",
       " (0.00037847217957966476, 'Colin Farrell'),\n",
       " (0.0003784435530410152, 'Flynn Picture Company'),\n",
       " (0.00037833467055619437, 'Stellan Skarsgård'),\n",
       " (0.00037786012307494384, 'Rod Steiger'),\n",
       " (0.00037706439317731084, 'Gary Busey'),\n",
       " (0.000376055142710801, 'Hypnotic'),\n",
       " (0.0003759297301220361, 'David Cross'),\n",
       " (0.0003759069410344799, 'Omar Sharif'),\n",
       " (0.0003745119923217602, 'Jet Li'),\n",
       " (0.0003744994228192211, 'Vertigo Entertainment'),\n",
       " (0.0003739182892005756, 'Atmosphere Entertainment MM'),\n",
       " (0.0003732655781557421, 'James Caan'),\n",
       " (0.00037264580386587844, 'Frances Fisher'),\n",
       " (0.00037173306923464006, 'Candice Bergen'),\n",
       " (0.0003710092433498905, 'Jesse Eisenberg'),\n",
       " (0.0003705715978692203, 'Ontario Film Development Corporation'),\n",
       " (0.000370506439032925, 'Jonah Hill'),\n",
       " (0.0003700718310721942, 'Helen Hunt'),\n",
       " (0.00036998941889363537, 'Mad Hatter Entertainment'),\n",
       " (0.0003694017559526753, 'Simon Pegg'),\n",
       " (0.00036928033510263383, 'Film4'),\n",
       " (0.00036918376060505564, 'The Zanuck Company'),\n",
       " (0.00036892254902394874, 'Ethan Hawke'),\n",
       " (0.0003676954903351275, 'Red Om Films'),\n",
       " (0.00036708566195228353, 'Leslie Phillips'),\n",
       " (0.0003664880499316725, 'Davis-Films'),\n",
       " (0.00036593144181178253, 'Marcia Gay Harden'),\n",
       " (0.00036572855082136596, 'Elijah Wood'),\n",
       " (0.00036555139973377016, 'Anthony Anderson'),\n",
       " (0.0003649934992541431, 'Kennedy Miller Productions'),\n",
       " (0.0003640405479078985, 'Black Hangar Studios'),\n",
       " (0.00036371106947817486, 'Vera Farmiga'),\n",
       " (0.0003636508901046984, 'Luciana Paluzzi'),\n",
       " (0.0003608452877859361, 'Anthony Mackie'),\n",
       " (0.00035992294384869076, 'Pariah'),\n",
       " (0.0003597429970586126, 'Sally Kirkland'),\n",
       " (0.0003596817292692937, 'Grace Zabriskie'),\n",
       " (0.0003593009139353427, 'Hughes Entertainment'),\n",
       " (0.0003590607289120975, 'Joe Spinell'),\n",
       " (0.000358049183739468, 'ImageMovers'),\n",
       " (0.00035803608681220207, 'Ingenious Media'),\n",
       " (0.0003578852503538188, 'Milla Jovovich'),\n",
       " (0.0003561516228564662, 'Richard Harris'),\n",
       " (0.00035583444473756825, 'Miranda Richardson'),\n",
       " (0.0003551352528926624, 'James Rebhorn'),\n",
       " (0.00035467593836873145, 'Deutsche Filmförderfonds (DFFF)'),\n",
       " (0.0003544672502151193, 'Billy Bob Thornton'),\n",
       " (0.0003538652699483774, 'Woodcote'),\n",
       " (0.00035351741414110224, 'Wigram Productions'),\n",
       " (0.00035339188299174774, 'George Clooney'),\n",
       " (0.00035332046774567364,\n",
       "  'IMF Internationale Medien und Film GmbH & Co. 3. Produktions KG'),\n",
       " (0.00035275081457429146, 'Michael Caine'),\n",
       " (0.00035262547129888395, 'Anna Levine'),\n",
       " (0.0003519649819146511, 'Lochlyn Munro'),\n",
       " (0.0003516941316623762, 'John Hurt'),\n",
       " (0.0003512247739671078, 'Jay Brazeau'),\n",
       " (0.00035115485865512205, 'Danielle Harris'),\n",
       " (0.0003501350591688061, 'Original Pictures'),\n",
       " (0.000348464006920697, 'Julianne Moore'),\n",
       " (0.00034837020739348566, 'Zucker/Netter Productions'),\n",
       " (0.0003481003881918509, 'Gotham Group'),\n",
       " (0.0003472778373266546, 'Mitsubishi'),\n",
       " (0.0003471365224667051, 'James McAvoy'),\n",
       " (0.0003463601026328991, 'Joe Pantoliano'),\n",
       " (0.00034603179002091144, 'Soho VFX'),\n",
       " (0.00034599806479895974, 'Kevin Kline'),\n",
       " (0.0003458997786419143, 'Zanuck Company, The'),\n",
       " (0.00034580582425564873, 'Penn Station Entertainment'),\n",
       " (0.00034580104012016833, 'Nu Image Films'),\n",
       " (0.00034578941771987425, 'Maria Bello'),\n",
       " (0.00034552362616221787, 'Indelible Productions'),\n",
       " (0.0003453936105037751, 'Ed Harris'),\n",
       " (0.00034457723103087183, 'Woods Entertainment'),\n",
       " (0.000343907930383435, 'Jude Law'),\n",
       " (0.00034362673257968174, 'Greg Kinnear'),\n",
       " (0.00034345218332237443, 'Elizabeth Banks'),\n",
       " (0.0003433690796098968, 'Interscope Communications'),\n",
       " (0.0003432604975507974, 'Mary Steenburgen'),\n",
       " (0.00034311816185514534, 'Kelly Macdonald'),\n",
       " (0.00034279093048994105, 'Nimar Studios'),\n",
       " (0.0003421398865417627, 'Kelly Preston'),\n",
       " (0.000341945019802483, 'Cesar Romero'),\n",
       " (0.0003415653724343049, 'Dee Wallace'),\n",
       " (0.0003404513669054031, '5150 Action'),\n",
       " (0.00033978529486416526, 'Cuba Gooding Jr.'),\n",
       " (0.00033813114472846156, 'Ian McShane'),\n",
       " (0.000337869185222822, 'Margo Martindale'),\n",
       " (0.000337691878511634, 'Strong Heart/Demme Production'),\n",
       " (0.0003376808508714936, 'Blind Man Productions'),\n",
       " (0.0003376439667600622, 'Lightstorm Entertainment'),\n",
       " (0.000336252959596576, 'Rob Corddry'),\n",
       " (0.0003362412427952256, 'Melanie Lynskey'),\n",
       " (0.000335865701323054, 'Film Export A.G.'),\n",
       " (0.00033579993381767945, 'Jessica Biel'),\n",
       " (0.00033578389791229484, 'Flashlight Films'),\n",
       " (0.00033537470091550423, 'Denis Leary'),\n",
       " (0.0003335596538627323, 'John Goodman'),\n",
       " (0.0003329570226630309, 'Canal+'),\n",
       " (0.00033291102873356915, 'Cillian Murphy'),\n",
       " (0.0003327162729354223, 'Tim Curry'),\n",
       " (0.00033259464394582745, 'Josh Lucas'),\n",
       " (0.000332404210500009, 'World Wrestling Entertainment (WWE)'),\n",
       " (0.0003323907212114422, \"Denis O'Hare\"),\n",
       " (0.00033224108458753326, 'Alcon Entertainment'),\n",
       " (0.00033199404022460073, 'Robert Loggia'),\n",
       " (0.00033184548486565825, 'James Coburn'),\n",
       " (0.00033182903805612136, 'Kevin Bacon'),\n",
       " (0.00033169987360543265, 'Ethan Embry'),\n",
       " (0.0003299930232590034, 'Arnold Kopelson Productions'),\n",
       " (0.00032993256874263167, 'Timothy Dalton'),\n",
       " (0.0003297678093246765, 'Prana Studios'),\n",
       " (0.00032881093992644724, 'Laurence Mark Productions'),\n",
       " (0.00032787432771814307, 'Rainforest Films'),\n",
       " (0.0003277860780218426, 'John Turturro'),\n",
       " (0.00032642644900577857, 'A Band Apart'),\n",
       " (0.000325614122840984, 'Peter Jason'),\n",
       " (0.0003248936340479668, 'David Thewlis'),\n",
       " (0.0003240638854618499, 'Lions Gate Films'),\n",
       " (0.0003240536696337313, 'Maury Chaykin'),\n",
       " (0.0003237560292582848, 'Mosaic Media Group'),\n",
       " (0.0003229295222020241, 'StudioCanal'),\n",
       " (0.00032256898289939167, 'Spring Creek Productions'),\n",
       " (0.000322364242446445, 'Producers Circle'),\n",
       " (0.0003216444074115281, 'David Wenham'),\n",
       " (0.0003212122876315089, 'Imelda Staunton'),\n",
       " (0.00032077590148150146, 'Marc Platt Productions'),\n",
       " (0.00032063442319729116, 'William Shatner'),\n",
       " (0.0003205936073979833, 'Kevin Smith'),\n",
       " (0.0003196149267194713, 'Heyday films'),\n",
       " (0.00031918939218687976, 'Ian Holm'),\n",
       " (0.00031903459982066, 'DC Comics'),\n",
       " (0.0003185418364186984, 'Wendy Finerman Productions'),\n",
       " (0.00031815816512771426, 'Tim Guinee'),\n",
       " (0.00031731939383906514, 'Abigail Breslin'),\n",
       " (0.00031639805874205643, 'Ad Hominem Enterprises'),\n",
       " (0.00031487111669257665, 'Tim Burton Productions'),\n",
       " (0.0003148135752688229, 'Mystery Clock Cinema'),\n",
       " (0.00031481034991970855, 'Michael Gambon'),\n",
       " (0.0003147069693009072, 'Eric Roberts'),\n",
       " (0.0003144173173096878, 'Doris Lloyd'),\n",
       " (0.0003142114697271098, 'Julie Andrews'),\n",
       " (0.0003139733829883988, 'Taurus Film'),\n",
       " (0.00031366621243970855, 'Nick Stahl'),\n",
       " (0.00031325969936433075, 'Guy Walks into a Bar Productions'),\n",
       " (0.00031320203975926614, 'Olivia Wilde'),\n",
       " (0.00031272648834657833, 'Colleen Camp'),\n",
       " (0.00031234841716589113, 'Dan Aykroyd'),\n",
       " (0.0003123095102171795, 'One Race Productions'),\n",
       " (0.0003117136892775166, 'Russell Crowe'),\n",
       " (0.00031170709707528476, 'Generalitat Valenciana'),\n",
       " (0.00031166680809804957, 'Dean Jones'),\n",
       " (0.00031157864770068466, 'Robin Wright'),\n",
       " (0.00031108023262856207, 'Holland Taylor'),\n",
       " (0.0003105386235426309, 'Charles Durning'),\n",
       " (0.0003100993200366883, 'Saul Rubinek'),\n",
       " (0.0003100317120814147, 'Virtual Studios'),\n",
       " (0.0003093943124963628, 'Will Forte'),\n",
       " (0.0003092571981780654, 'Daniel Wu'),\n",
       " (0.00030906988153649623, 'Ciarán Hinds'),\n",
       " (0.0003090477425010282, 'Joseph M. Singer Entertainment'),\n",
       " (0.0003085620737207144, 'Kelly Lynch'),\n",
       " (0.00030745253880276233, 'Millar Gough Ink'),\n",
       " (0.0003072713964440994, 'WCG Entertainment Productions'),\n",
       " (0.0003071372830872362, 'Tadanobu Asano'),\n",
       " (0.000307094050165842, 'Loretta Devine'),\n",
       " (0.00030687627759953736, 'Dabney Coleman'),\n",
       " (0.0003066256900906813, 'Oscar Isaac'),\n",
       " (0.00030626236920728884, 'James Karen'),\n",
       " (0.00030619050137848085, 'Denzel Washington'),\n",
       " (0.00030607861169864046, 'Ashley Judd'),\n",
       " (0.00030527338382311457, 'Second Mate Productions'),\n",
       " (0.00030469624775364927, 'Frank Oz'),\n",
       " (0.0003046110777830362, 'Kristin Scott Thomas'),\n",
       " (0.0003046055004591011, 'Jason Statham'),\n",
       " (0.00030445396306452244, 'Loofah Productions'),\n",
       " (0.0003041368860914075, 'Reiner / Greisman Productions'),\n",
       " (0.0003039960993217866, 'Quad Productions'),\n",
       " (0.00030396095054078723, 'Rhys Ifans'),\n",
       " (0.0003038379909106928, 'Asahi Soft Drinks Company'),\n",
       " (0.00030284560953540754, 'Jeff Bridges'),\n",
       " (0.00030221969671526003, 'Infinitum Nihil'),\n",
       " (0.0003016561186947944, 'Skydance Media'),\n",
       " (0.00030084777494824254, 'Di Bonaventura Pictures'),\n",
       " (0.00030083255615157494, 'Judge Reinhold'),\n",
       " (0.0003005980503218275, 'John Cleese'),\n",
       " (0.00030029007981840735, 'Mad Chance Productions'),\n",
       " (0.00030011845278091057, 'Ten Thirteen Productions'),\n",
       " (0.0002998985046702247, 'Colombia Pictures'),\n",
       " (0.0002998180442574461, 'Big Talk Productions'),\n",
       " (0.000299789460668792, 'Esperanto Filmoj'),\n",
       " (0.0002996606527006306, 'Nickelodeon Movies'),\n",
       " (0.0002996013954978384, 'Irrfan Khan'),\n",
       " (0.00029915476743760586, \"The Donners' Company\"),\n",
       " (0.00029912709265219635, 'Reese Witherspoon'),\n",
       " (0.00029895292068783777, 'Hemisphere Media Capital'),\n",
       " (0.0002981522747661578, 'Joanne Woodward'),\n",
       " (0.0002970766925358838, 'Minnie Driver'),\n",
       " (0.0002968963180423313, 'Luke Wilson'),\n",
       " (0.0002968660086096955, 'M6'),\n",
       " (0.00029673914561878734, 'Pacific Western'),\n",
       " (0.0002962829455942152, 'Danjaq'),\n",
       " (0.0002958541956641787, 'Shintarô Katsu'),\n",
       " (0.00029566963940898694, 'Eddie Izzard'),\n",
       " (0.0002956308324687533, 'Bill Murray'),\n",
       " (0.00029458969888073204, 'Room 101'),\n",
       " (0.00029421401964396484, 'Alberta Film Entertainment'),\n",
       " (0.00029409217256906795, 'LStar Capital'),\n",
       " (0.00029381166614077546, 'Saturn Films'),\n",
       " (0.0002936421209615416, 'O Entertainment'),\n",
       " (0.00029358504241380875, 'Justin Long'),\n",
       " (0.0002932482009512298, 'Jake Gyllenhaal'),\n",
       " (0.0002928032985423507, 'Laraine Newman'),\n",
       " (0.00029279128551536914, 'Emily Watson'),\n",
       " (0.0002926874098763035, 'Bill Pullman'),\n",
       " (0.00029229706250771614, 'Thomas Haden Church'),\n",
       " (0.0002921762568256959, 'Bill Hader'),\n",
       " (0.0002918929677664046, \"It's a Laugh Productions\"),\n",
       " (0.0002916286627191647, 'K/O Paper Products'),\n",
       " (0.000291547414974818, 'William Benedict'),\n",
       " (0.0002915090515791755, 'Forest Whitaker'),\n",
       " (0.00029070113239222775, 'Kopelson Entertainment'),\n",
       " (0.0002903418850397467, 'Michel Galabru'),\n",
       " (0.0002903150000921623, 'Aamir Khan Productions'),\n",
       " (0.0002895450995657135, 'Charlize Theron'),\n",
       " (0.0002891686532431199, 'Media Factory'),\n",
       " (0.0002888230409542277, 'Ryan Reynolds'),\n",
       " (0.0002884838994583897, 'Burt Reynolds'),\n",
       " (0.00028845621021899865, 'Cate Blanchett'),\n",
       " (0.00028666571822812115, 'Jean Reno'),\n",
       " (0.0002861977946605659, 'Paramount Animation'),\n",
       " (0.0002859680631204702, 'Weed Road Pictures'),\n",
       " (0.0002859635837778567, 'Ed Lauter'),\n",
       " (0.0002858635665485876,\n",
       "  'The Department of Trade and Industry of South Africa'),\n",
       " (0.00028551293362601507, 'New Zealand Post Digital and Visual Effects Grant'),\n",
       " (0.0002852743984470033, 'M. Emmet Walsh'),\n",
       " (0.00028519698241355896, 'Ground Control'),\n",
       " (0.00028509659040232597, 'Beijing New Picture Film Co. Ltd.'),\n",
       " (0.00028453394394569153, 'Robert De Niro'),\n",
       " (0.00028426418836544905, 'Glynis Johns'),\n",
       " (0.0002842351726715493, 'Gerard Butler Alan Siegel Entertainment'),\n",
       " (0.0002840247231906461, 'Jürgen Prochnow'),\n",
       " (0.00028401002726813774, 'Latina Pictures'),\n",
       " (0.00028396929658169466, 'EDKO Film'),\n",
       " (0.0002838828562751684, 'Extension 765'),\n",
       " (0.0002833650907238849, 'TF1 Films Production'),\n",
       " (0.00028297778530381277, 'M.C. Gainey'),\n",
       " (0.00028272324667240144, 'Amy Poehler'),\n",
       " (0.0002825804760013333, 'F. Murray Abraham'),\n",
       " (0.0002824362722893614, 'Eddie Marsan'),\n",
       " (0.0002819957959401091, 'Block / Hanson'),\n",
       " (0.0002818988050577977, 'Lakeshore Entertainment'),\n",
       " (0.0002816811557171704, 'Gold/Miller Productions'),\n",
       " (0.00028163728463789496, 'Jason Alexander'),\n",
       " (0.0002815606900884507, 'Matt Frewer'),\n",
       " (0.00028128661877454295, 'Warner Bros. Pictures'),\n",
       " (0.00028124394974627515, 'Kevin Hart'),\n",
       " (0.00028098091028340525, 'Austin Pendleton'),\n",
       " (0.0002806235731397596, 'Fred Ward'),\n",
       " (0.0002801364275138535, 'Good Machine'),\n",
       " (0.0002795326282851964, 'Michael Gough'),\n",
       " (0.0002794026787559965, 'MTV Films'),\n",
       " (0.0002793536447852026, 'Guy Pearce'),\n",
       " (0.0002784343957704386, 'Andie MacDowell'),\n",
       " (0.0002783562422073491, 'Adam Goldberg'),\n",
       " (0.000278289876512585, 'Atomic Monster'),\n",
       " (0.00027819382350824585, 'Kenneth Mars'),\n",
       " (0.0002781689992643164, 'Clifton James'),\n",
       " (0.0002781593033785201, 'Caroline Aaron'),\n",
       " (0.0002780519016612132, 'Media Rights Capital'),\n",
       " (0.00027747917144148955, 'John Rhys-Davies'),\n",
       " (0.0002773317198529756, 'Steve Coogan'),\n",
       " (0.0002770193253213346, 'James Cosmo'),\n",
       " (0.00027701556506653797, 'Star Partners II Ltd.'),\n",
       " (0.0002767374118060926, 'Safehouse Pictures'),\n",
       " (0.0002765762678649723, 'Clark Gregg'),\n",
       " (0.0002758562260529235, 'Lainie Kazan'),\n",
       " (0.0002758031396044768, 'Hugh Jackman'),\n",
       " (0.0002755324392898733, 'Miramax'),\n",
       " (0.0002753497281489147, 'Tomás Milián'),\n",
       " (0.0002751646731563895, 'Viz Media'),\n",
       " (0.00027474185777961503, 'James Gleason'),\n",
       " (0.0002744677841265638, 'Nickelodeon Animation Studios'),\n",
       " (0.00027444923935362895, 'Giancarlo Esposito'),\n",
       " (0.0002741934265404706, 'Alessandro Nivola'),\n",
       " (0.0002731497897269856, 'Tchéky Karyo'),\n",
       " (0.00027232684886234113, 'Nu Boyana Film Studios'),\n",
       " (0.000272269192396979, 'MPH Entertainment Productions'),\n",
       " (0.0002722600579203557, 'Robert Davi'),\n",
       " (0.0002717218467385497, 'DW Studios'),\n",
       " (0.0002715084113365516, 'Robert Patrick'),\n",
       " (0.00027129775559372907, 'William Devane'),\n",
       " (0.00027120862011589277, 'Kelsey Grammer'),\n",
       " (0.0002705634900123909, 'Epsilon Motion Pictures'),\n",
       " (0.0002704666567509359, 'Peter Mullan'),\n",
       " (0.0002701782196955931, 'Derek Jacobi'),\n",
       " (0.00026969219004448084, 'Richard Riehle'),\n",
       " (0.00026967971738831297, 'Vincent Schiavelli'),\n",
       " (0.0002694415066944978, 'Michael McKean'),\n",
       " (0.0002689799699686328, 'Electric City Entertainment'),\n",
       " (0.00026837908991276697, 'David Alan Grier'),\n",
       " (0.0002683669022205582, 'William Hootkins'),\n",
       " (0.0002681145622876827, 'Tony Curran'),\n",
       " (0.0002676019425385298, 'The Weinstein Company'),\n",
       " (0.00026723220863614634, 'Martin Balsam'),\n",
       " (0.0002671007863966419, 'Kirsten Dunst'),\n",
       " (0.0002670622476238329, 'Zanuck/Brown Productions'),\n",
       " (0.0002661085976086473, 'Centropolis Film Productions'),\n",
       " (0.00026590635711360176, 'Drew Barrymore'),\n",
       " (0.0002652379779087551, 'Lloyd Bridges'),\n",
       " (0.0002651503850216822, 'Metropolitan Filmexport'),\n",
       " (0.0002650403818626782, 'Monarchy Enterprises B.V.'),\n",
       " (0.00026489157125291526, 'Danny Trejo'),\n",
       " (0.00026426482530227195, 'Seven Bucks Productions'),\n",
       " (0.00026404068028387106, 'Lava Bear Films'),\n",
       " (0.00026380774638721556, 'Ice Cube'),\n",
       " (0.00026358276069897034, 'Eugene Levy'),\n",
       " (0.0002632897793263602, 'Robert Duvall'),\n",
       " (0.0002611935304957936, 'MVL Incredible Productions'),\n",
       " (0.0002608095071094972, 'Jessica Alba'),\n",
       " (0.0002604549465321664, 'Jennifer Coolidge'),\n",
       " (0.00025990870528571925, 'Genre Films'),\n",
       " (0.0002598475751887705, 'Angela Bassett'),\n",
       " (0.0002596816226221952, 'Bedlam Productions'),\n",
       " (0.0002594869406976006, 'Sam Elliott'),\n",
       " (0.0002590205188894916, 'Animal Logic'),\n",
       " (0.00025901119323279355, 'Jennifer Connelly'),\n",
       " (0.000258927932422892, 'Jon Gries'),\n",
       " (0.0002587221898349319, '22 & Indiana Pictures'),\n",
       " (0.0002581809023115995, 'David Ogden Stiers'),\n",
       " (0.0002579911743170827, 'Corey Burton'),\n",
       " (0.00025766665937825684, 'Jack Palance'),\n",
       " (0.00025750675333764136, 'Playtone'),\n",
       " (0.0002572608470160217, 'Heather Graham'),\n",
       " (0.00025724796462777056, 'Johnny Knoxville'),\n",
       " (0.00025694819571044916, 'Michael Sheen'),\n",
       " (0.0002563476289394472, 'Delroy Lindo'),\n",
       " (0.0002560126064927739, 'George Lopez'),\n",
       " (0.00025590858205445856, 'Ray Liotta'),\n",
       " (0.00025566450590013993, 'Kevin Dunn'),\n",
       " (0.00025512619128931284, 'Elle Fanning'),\n",
       " (0.0002550894701981325, 'David Arquette'),\n",
       " (0.0002540336177643534, 'Constant c Productions'),\n",
       " (0.00025397416530160543, 'Limited Edition Productions Inc.'),\n",
       " (0.0002539486302167483, 'Tracey Walter'),\n",
       " (0.00025353826611058434, 'Bette Midler'),\n",
       " (0.00025343748889905136, 'RatPac Entertainment'),\n",
       " (0.0002533027795369929, 'Artemple - Hollywood'),\n",
       " (0.00025328933181647135, 'Vinyl Films'),\n",
       " (0.00025325765532856046, 'Brian Grazer/Scott Rudin Productions'),\n",
       " (0.0002530460746000033, 'Digital Domain'),\n",
       " (0.0002527525104390856, 'Lionsgate'),\n",
       " ...]"
      ]
     },
     "execution_count": 67,
     "metadata": {},
     "output_type": "execute_result"
    }
   ],
   "source": [
    "sorted(list(zip(model.feature_importances_, X4_test.columns)), reverse=True)"
   ]
  },
  {
   "cell_type": "code",
   "execution_count": null,
   "metadata": {},
   "outputs": [],
   "source": []
  }
 ],
 "metadata": {
  "kernelspec": {
   "display_name": "Python 3",
   "language": "python",
   "name": "python3"
  },
  "language_info": {
   "codemirror_mode": {
    "name": "ipython",
    "version": 3
   },
   "file_extension": ".py",
   "mimetype": "text/x-python",
   "name": "python",
   "nbconvert_exporter": "python",
   "pygments_lexer": "ipython3",
   "version": "3.7.1"
  }
 },
 "nbformat": 4,
 "nbformat_minor": 2
}
