{
 "cells": [
  {
   "cell_type": "markdown",
   "metadata": {},
   "source": [
    "# Projeto 3 de Ciência dos Dados\n",
    "\n",
    "Integrantes:\n",
    "\n",
    "Ana Clara\n",
    "João Pedro Varella\n",
    "João Guilherme"
   ]
  },
  {
   "cell_type": "markdown",
   "metadata": {},
   "source": [
    "## Imports"
   ]
  },
  {
   "cell_type": "code",
   "execution_count": 73,
   "metadata": {},
   "outputs": [],
   "source": [
    "import pandas as pd\n",
    "import ast\n",
    "from pprint import pprint\n",
    "import matplotlib.pyplot as plt\n",
    "from sklearn.ensemble import RandomForestClassifier\n",
    "from sklearn.linear_model import LogisticRegression \n",
    "from sklearn.svm import SVC\n",
    "from sklearn.metrics import accuracy_score\n",
    "from sklearn.model_selection import train_test_split \n",
    "import numpy as np\n",
    "from sklearn.datasets import load_digits\n",
    "digits = load_digits()"
   ]
  },
  {
   "cell_type": "markdown",
   "metadata": {},
   "source": [
    "___\n",
    "\n",
    "## Contextualização"
   ]
  },
  {
   "cell_type": "markdown",
   "metadata": {},
   "source": [
    "### Pergunta:"
   ]
  },
  {
   "cell_type": "markdown",
   "metadata": {},
   "source": [
    "A pergunta principal que será respondida no projeto é como diversos fatores influenciam na bilheteria de um filme. Como forma de estudo, estipularemos uma meta de bilheteria no decorrer das análises."
   ]
  },
  {
   "cell_type": "markdown",
   "metadata": {},
   "source": [
    "Sabe-se que anualmente, centenas de filmes entram em cartaz pelos diversos países do mundo. Dentre eles, a grande maioria não atinge altos valores de bilheteria. Por meio desse estudo, será possível compreender o que majoritariamente influencia se um filme será um sucesso ou se será um fracasso de bilheteria com as análises das diversas variáveis do Dataset. Essas questões serão abordadas no andamento do projeto, para que, no fim, possamos responder à pergunta inicial."
   ]
  },
  {
   "cell_type": "markdown",
   "metadata": {},
   "source": [
    "### Sobre o Dataset:"
   ]
  },
  {
   "cell_type": "markdown",
   "metadata": {},
   "source": [
    "O Dataset utilizado, entitulado \"The Movies Dataset\", extraído do Kaggle, reúne diversas informações sobre mais de 45 mil filmes. Dentre essas, pode-se citar: atores, diretores, produtores, orçamento, bilheteria, gênero, popularidade, faixa etária, etc. \n",
    "\n",
    "No entanto, filtrou-se algumas variáveis julgadas como mais relevantes para o intuito do estudo. Dessa forma, certas categorias foram dispensadas para o andamento das análises."
   ]
  },
  {
   "cell_type": "markdown",
   "metadata": {},
   "source": [
    "O Dataset escolhido está disponível no link abaixo:"
   ]
  },
  {
   "cell_type": "markdown",
   "metadata": {},
   "source": [
    "https://www.kaggle.com/rounakbanik/the-movies-dataset"
   ]
  },
  {
   "cell_type": "markdown",
   "metadata": {},
   "source": [
    "### Método utilizado:"
   ]
  },
  {
   "cell_type": "markdown",
   "metadata": {},
   "source": [
    "Para a realização do projeto utilizaremos do método de classificação do Random Forest. Afinal, o modelo se utilizará das variáveis de entrada do nosso Dataset, devolvendo, ao fim, uma variável de saída binária (no caso do nosso projeto, se o filme atinge ou não a meta estipulada). A forma pela qual esse método realiza essa análise é: Inicialmente, recebe um filme qualquer e verifica se o dado filme possui uma primeira variável de entrada (Tomemos a presença do ator Tom Hanks como exemplo) e em seguida, checa alguma outra variável de entrada (filme ser ou não de ação) e assim por diante, de forma que cada \"árvore\" devolverá uma variável binária para o filme atingir a meta, baseado nas respostas das variáveis de entrada. Ao fim da análise de todas as árvores, o Random Forest devolve uma variável de saída também na forma binária, se o filme conseguirá ou não bater a marca estabelecida, baseado nas respostas finais de cada árvore."
   ]
  },
  {
   "cell_type": "markdown",
   "metadata": {},
   "source": [
    "##"
   ]
  },
  {
   "cell_type": "markdown",
   "metadata": {},
   "source": [
    "## Lendo arquivos"
   ]
  },
  {
   "cell_type": "code",
   "execution_count": 2,
   "metadata": {
    "scrolled": true
   },
   "outputs": [
    {
     "name": "stderr",
     "output_type": "stream",
     "text": [
      "C:\\Users\\ana clara\\Anaconda3\\lib\\site-packages\\IPython\\core\\interactiveshell.py:3020: DtypeWarning: Columns (10) have mixed types. Specify dtype option on import or set low_memory=False.\n",
      "  interactivity=interactivity, compiler=compiler, result=result)\n"
     ]
    }
   ],
   "source": [
    "df = pd.read_csv(\"movies_metadata.csv\")\n",
    "df2 = pd.read_csv(\"credits.csv\")"
   ]
  },
  {
   "cell_type": "markdown",
   "metadata": {},
   "source": [
    "## Limpeza do DataFrame \"Meta Data\""
   ]
  },
  {
   "cell_type": "markdown",
   "metadata": {},
   "source": [
    "### Retirada dos JSONs"
   ]
  },
  {
   "cell_type": "markdown",
   "metadata": {},
   "source": [
    "No dataset utilizado, algumas variáveis estavam codificadas na forma de JSON. Para acessá-las, foi necessário extrair as informações e transformá-las em um dicionário. Nesta etapa da análise, extraímos os nomes dos atores de cada um dos filmes. Dessa forma, foi possível criar um dicionário relacionando duas variáveis, em que a chave corresponde ao nome do ator, e o valor dessa chave é o número de filmes em que cada ator atuou."
   ]
  },
  {
   "cell_type": "code",
   "execution_count": 3,
   "metadata": {},
   "outputs": [],
   "source": [
    "from collections import defaultdict\n",
    "atores = defaultdict(int)\n",
    "for e in df2.index:\n",
    "    data_dict = ast.literal_eval(df2[\"cast\"][e])\n",
    "    for palavras in data_dict:\n",
    "        nome = palavras['name']\n",
    "        \n",
    "        atores[nome] += 1"
   ]
  },
  {
   "cell_type": "markdown",
   "metadata": {},
   "source": [
    "### Código para limpeza de certas variáveis tais como: revenue, budget, produtora e gênero:"
   ]
  },
  {
   "cell_type": "code",
   "execution_count": 4,
   "metadata": {},
   "outputs": [],
   "source": [
    "df_0 = df[df['revenue'] > 0]\n",
    "df_budget = df_0[df_0['budget'] != '0']\n",
    "df_clean = df_budget[df_budget['production_companies'] != '[]']\n",
    "df_super_clean = df_clean[df_clean['genres'] != '[]']"
   ]
  },
  {
   "cell_type": "code",
   "execution_count": 5,
   "metadata": {},
   "outputs": [
    {
     "name": "stderr",
     "output_type": "stream",
     "text": [
      "C:\\Users\\ana clara\\Anaconda3\\lib\\site-packages\\ipykernel_launcher.py:2: SettingWithCopyWarning: \n",
      "A value is trying to be set on a copy of a slice from a DataFrame.\n",
      "Try using .loc[row_indexer,col_indexer] = value instead\n",
      "\n",
      "See the caveats in the documentation: http://pandas.pydata.org/pandas-docs/stable/indexing.html#indexing-view-versus-copy\n",
      "  \n"
     ]
    },
    {
     "data": {
      "text/html": [
       "<div>\n",
       "<style scoped>\n",
       "    .dataframe tbody tr th:only-of-type {\n",
       "        vertical-align: middle;\n",
       "    }\n",
       "\n",
       "    .dataframe tbody tr th {\n",
       "        vertical-align: top;\n",
       "    }\n",
       "\n",
       "    .dataframe thead th {\n",
       "        text-align: right;\n",
       "    }\n",
       "</style>\n",
       "<table border=\"1\" class=\"dataframe\">\n",
       "  <thead>\n",
       "    <tr style=\"text-align: right;\">\n",
       "      <th></th>\n",
       "      <th>id</th>\n",
       "      <th>genres</th>\n",
       "      <th>budget</th>\n",
       "      <th>revenue</th>\n",
       "      <th>production_companies</th>\n",
       "    </tr>\n",
       "  </thead>\n",
       "  <tbody>\n",
       "    <tr>\n",
       "      <th>0</th>\n",
       "      <td>862</td>\n",
       "      <td>[{'id': 16, 'name': 'Animation'}, {'id': 35, '...</td>\n",
       "      <td>30000000.0</td>\n",
       "      <td>373554033.0</td>\n",
       "      <td>[{'name': 'Pixar Animation Studios', 'id': 3}]</td>\n",
       "    </tr>\n",
       "    <tr>\n",
       "      <th>1</th>\n",
       "      <td>8844</td>\n",
       "      <td>[{'id': 12, 'name': 'Adventure'}, {'id': 14, '...</td>\n",
       "      <td>65000000.0</td>\n",
       "      <td>262797249.0</td>\n",
       "      <td>[{'name': 'TriStar Pictures', 'id': 559}, {'na...</td>\n",
       "    </tr>\n",
       "    <tr>\n",
       "      <th>3</th>\n",
       "      <td>31357</td>\n",
       "      <td>[{'id': 35, 'name': 'Comedy'}, {'id': 18, 'nam...</td>\n",
       "      <td>16000000.0</td>\n",
       "      <td>81452156.0</td>\n",
       "      <td>[{'name': 'Twentieth Century Fox Film Corporat...</td>\n",
       "    </tr>\n",
       "    <tr>\n",
       "      <th>5</th>\n",
       "      <td>949</td>\n",
       "      <td>[{'id': 28, 'name': 'Action'}, {'id': 80, 'nam...</td>\n",
       "      <td>60000000.0</td>\n",
       "      <td>187436818.0</td>\n",
       "      <td>[{'name': 'Regency Enterprises', 'id': 508}, {...</td>\n",
       "    </tr>\n",
       "    <tr>\n",
       "      <th>8</th>\n",
       "      <td>9091</td>\n",
       "      <td>[{'id': 28, 'name': 'Action'}, {'id': 12, 'nam...</td>\n",
       "      <td>35000000.0</td>\n",
       "      <td>64350171.0</td>\n",
       "      <td>[{'name': 'Universal Pictures', 'id': 33}, {'n...</td>\n",
       "    </tr>\n",
       "  </tbody>\n",
       "</table>\n",
       "</div>"
      ],
      "text/plain": [
       "      id                                             genres      budget  \\\n",
       "0    862  [{'id': 16, 'name': 'Animation'}, {'id': 35, '...  30000000.0   \n",
       "1   8844  [{'id': 12, 'name': 'Adventure'}, {'id': 14, '...  65000000.0   \n",
       "3  31357  [{'id': 35, 'name': 'Comedy'}, {'id': 18, 'nam...  16000000.0   \n",
       "5    949  [{'id': 28, 'name': 'Action'}, {'id': 80, 'nam...  60000000.0   \n",
       "8   9091  [{'id': 28, 'name': 'Action'}, {'id': 12, 'nam...  35000000.0   \n",
       "\n",
       "       revenue                               production_companies  \n",
       "0  373554033.0     [{'name': 'Pixar Animation Studios', 'id': 3}]  \n",
       "1  262797249.0  [{'name': 'TriStar Pictures', 'id': 559}, {'na...  \n",
       "3   81452156.0  [{'name': 'Twentieth Century Fox Film Corporat...  \n",
       "5  187436818.0  [{'name': 'Regency Enterprises', 'id': 508}, {...  \n",
       "8   64350171.0  [{'name': 'Universal Pictures', 'id': 33}, {'n...  "
      ]
     },
     "execution_count": 5,
     "metadata": {},
     "output_type": "execute_result"
    }
   ],
   "source": [
    "df_mega_clean = df_super_clean[[\"id\",\"genres\",\"budget\",\"revenue\",\"production_companies\"]]\n",
    "df_mega_clean['budget'] = df_mega_clean['budget'].astype(float)\n",
    "df_mega_clean.head()"
   ]
  },
  {
   "cell_type": "markdown",
   "metadata": {},
   "source": [
    "## Análise Exploratória"
   ]
  },
  {
   "cell_type": "markdown",
   "metadata": {},
   "source": [
    "Primeiramente foram analisadas as variáveis mais simplórias do DataFrame. Dessa forma, foram plotados histogramas que relacionam a frequência absoluta das variáveis Budget e Revenue."
   ]
  },
  {
   "cell_type": "markdown",
   "metadata": {},
   "source": [
    "### Histograma da variável budget"
   ]
  },
  {
   "cell_type": "code",
   "execution_count": 74,
   "metadata": {},
   "outputs": [
    {
     "data": {
      "image/png": "[encoded data removed]",
      "text/plain": [
       "<Figure size 432x288 with 1 Axes>"
      ]
     },
     "metadata": {
      "needs_background": "light"
     },
     "output_type": "display_data"
    }
   ],
   "source": [
    "df_mega_clean.budget.plot.hist(density = False)\n",
    "plt.title('Budget')\n",
    "plt.show()"
   ]
  },
  {
   "cell_type": "markdown",
   "metadata": {},
   "source": [
    "### Histograma da variável revenue"
   ]
  },
  {
   "cell_type": "code",
   "execution_count": 75,
   "metadata": {},
   "outputs": [
    {
     "data": {
      "image/png": "[encoded data removed]",
      "text/plain": [
       "<Figure size 432x288 with 1 Axes>"
      ]
     },
     "metadata": {
      "needs_background": "light"
     },
     "output_type": "display_data"
    }
   ],
   "source": [
    "df_mega_clean.revenue.plot.hist(density = False)\n",
    "plt.title('Revenue')\n",
    "plt.show()"
   ]
  },
  {
   "cell_type": "markdown",
   "metadata": {},
   "source": [
    "Neste gráfico de dispersão, foram relacionadas as duas variáveis acima, de modo que fosse possível constatar a relação entre filmes com alto orçamento e filmes com alta bilheteria."
   ]
  },
  {
   "cell_type": "markdown",
   "metadata": {},
   "source": [
    "### Gráfico de dispersão das variáveis budget e revenue"
   ]
  },
  {
   "cell_type": "code",
   "execution_count": 76,
   "metadata": {},
   "outputs": [
    {
     "data": {
      "image/png": "[encoded data removed]",
      "text/plain": [
       "<Figure size 432x288 with 1 Axes>"
      ]
     },
     "metadata": {
      "needs_background": "light"
     },
     "output_type": "display_data"
    }
   ],
   "source": [
    "df_mega_clean.plot.scatter(x=\"budget\", y = \"revenue\")\n",
    "plt.title('Budget x Revenue')\n",
    "plt.show()"
   ]
  },
  {
   "cell_type": "code",
   "execution_count": 77,
   "metadata": {},
   "outputs": [
    {
     "data": {
      "text/plain": [
       "<matplotlib.axes._subplots.AxesSubplot at 0x20b2e41e748>"
      ]
     },
     "execution_count": 77,
     "metadata": {},
     "output_type": "execute_result"
    },
    {
     "data": {
      "image/png": "[encoded data removed]",
      "text/plain": [
       "<Figure size 432x288 with 1 Axes>"
      ]
     },
     "metadata": {
      "needs_background": "light"
     },
     "output_type": "display_data"
    }
   ],
   "source": [
    "generos = []\n",
    "for e in df_mega_clean.index:\n",
    "    data_dict = ast.literal_eval(df_mega_clean[\"genres\"][e])\n",
    "    for palavras in data_dict:\n",
    "        generos.append(palavras['name'])\n",
    "\n",
    "df_generos = pd.DataFrame(generos)\n",
    "df_generos\n",
    "geneross = df_generos[0].value_counts()\n",
    "geneross\n",
    "geneross.plot(kind='bar')"
   ]
  },
  {
   "cell_type": "code",
   "execution_count": 13,
   "metadata": {},
   "outputs": [],
   "source": [
    "revenues_por_categoria = {}\n",
    "categorias = [\n",
    "    'Drama', 'Comedy', 'Thriller',\n",
    "    'Action','Romance','Adventure','Crime','Science Fiction',\n",
    "    'Horror','Family','Fantasy','Mystery','Animation','History',\n",
    "    \"War\",'Music','Western','Documentary','Foreign','TV Movie'\n",
    "]\n",
    "\n",
    "for c in categorias:\n",
    "    revenues_por_categoria[c] = []\n",
    "\n",
    "for e in df_mega_clean.index:\n",
    "    data_dict = ast.literal_eval(df_mega_clean[\"genres\"][e])\n",
    "    for palavras in data_dict:\n",
    "        cat = palavras[\"name\"]\n",
    "        #print(cat)\n",
    "        if cat in revenues_por_categoria:\n",
    "            revenues_por_categoria[cat].append(df_mega_clean['revenue'][e])\n",
    "            \n",
    "for k in revenues_por_categoria:\n",
    "    revenues_por_categoria[k] = (np.array(revenues_por_categoria[k]))"
   ]
  },
  {
   "cell_type": "code",
   "execution_count": 14,
   "metadata": {
    "scrolled": false
   },
   "outputs": [
    {
     "data": {
      "image/png": "[encoded data removed]",
      "text/plain": [
       "<Figure size 1152x576 with 1 Axes>"
      ]
     },
     "metadata": {
      "needs_background": "light"
     },
     "output_type": "display_data"
    }
   ],
   "source": [
    "%matplotlib inline\n",
    "import matplotlib.pyplot as plt\n",
    "fig = plt.figure(figsize=(16,8))\n",
    "ax = fig.add_subplot(111)\n",
    "ax.boxplot(revenues_por_categoria.values(), showfliers=False)\n",
    "ax.set_xticklabels(revenues_por_categoria.keys(), rotation='vertical');\n",
    "#plt.yscale('log')\n",
    "plt.show()"
   ]
  },
  {
   "cell_type": "code",
   "execution_count": 15,
   "metadata": {},
   "outputs": [
    {
     "data": {
      "text/plain": [
       "<matplotlib.axes._subplots.AxesSubplot at 0x20b3cb571d0>"
      ]
     },
     "execution_count": 15,
     "metadata": {},
     "output_type": "execute_result"
    },
    {
     "data": {
      "image/png": "[encoded data removed]",
      "text/plain": [
       "<Figure size 432x288 with 1 Axes>"
      ]
     },
     "metadata": {
      "needs_background": "light"
     },
     "output_type": "display_data"
    }
   ],
   "source": [
    "produtoras = []\n",
    "for e in df_mega_clean.index:\n",
    "    data_dict = ast.literal_eval(df_mega_clean[\"production_companies\"][e])\n",
    "   # print(data_dict)\n",
    "    for palavras in data_dict:\n",
    "        produtoras.append(palavras['name'])\n",
    "\n",
    "df_produtoras = pd.DataFrame(produtoras)\n",
    "df_produtoras\n",
    "produtorass = df_produtoras[0].value_counts().head(30)\n",
    "produtorass\n",
    "produtorass.plot(kind='bar')"
   ]
  },
  {
   "cell_type": "code",
   "execution_count": 16,
   "metadata": {},
   "outputs": [],
   "source": [
    "revenues_por_produtora = {}\n",
    "produtoras = [\n",
    "    'Warner Bros.','Universal Pictures','Paramount Pictures','Twentieth Century Fox Film Corporation','Columbia Pictures',\n",
    "    'New Line Cinema','Metro-Goldwyn-Mayer (MGM)','Touchstone Pictures','Walt Disney Pictures','Columbia Pictures Corporation',\n",
    "    'Relativity Media','United Artists','Miramax Films','TriStar Pictures','Canal+','Village Roadshow Pictures','DreamWorks SKG',\n",
    "    'Regency Enterprises','Lionsgate','Amblin Entertainment','Summit Entertainment','Dune Entertainment','Fox Searchlight Pictures',\n",
    "    'Dimension Films','Working Title Films','Fox 2000 Pictures','StudioCanal','Silver Pictures','Hollywood Pictures',\n",
    "    'The Weinstein Company'\n",
    "]\n",
    "\n",
    "for p in produtoras:\n",
    "    revenues_por_produtora[p] = []\n",
    "\n",
    "for f in df_mega_clean.index:\n",
    "    data_dict = ast.literal_eval(df_mega_clean[\"production_companies\"][f])\n",
    "    #print(data_dict)\n",
    "    for palavras in data_dict:\n",
    "        #print(palavras)\n",
    "        prod = palavras[\"name\"]\n",
    "        if prod in revenues_por_produtora:\n",
    "            revenues_por_produtora[prod].append(df_mega_clean['revenue'][f])\n",
    "        \n",
    "            \n",
    "#revenues_por_produtora\n",
    "            \n",
    "for k in revenues_por_produtora:\n",
    "    revenues_por_produtora[k] = (np.array(revenues_por_produtora[k]))"
   ]
  },
  {
   "cell_type": "code",
   "execution_count": 17,
   "metadata": {},
   "outputs": [
    {
     "data": {
      "image/png": "[encoded data removed]",
      "text/plain": [
       "<Figure size 1152x576 with 1 Axes>"
      ]
     },
     "metadata": {
      "needs_background": "light"
     },
     "output_type": "display_data"
    }
   ],
   "source": [
    "%matplotlib inline\n",
    "import matplotlib.pyplot as plt\n",
    "fig = plt.figure(figsize=(16,8))\n",
    "ax = fig.add_subplot(111)\n",
    "ax.boxplot(revenues_por_produtora.values(), showfliers=False)\n",
    "ax.set_xticklabels(revenues_por_produtora.keys(), rotation='vertical');\n",
    "#plt.yscale('log')\n",
    "plt.show()"
   ]
  },
  {
   "cell_type": "markdown",
   "metadata": {},
   "source": [
    "## Limpeza do DataFrame \"Credits\""
   ]
  },
  {
   "cell_type": "code",
   "execution_count": 18,
   "metadata": {},
   "outputs": [
    {
     "data": {
      "text/plain": [
       "Tom Hanks        72\n",
       "Tim Allen        29\n",
       "Don Rickles      29\n",
       "Jim Varney       20\n",
       "Wallace Shawn    75\n",
       "dtype: int64"
      ]
     },
     "execution_count": 18,
     "metadata": {},
     "output_type": "execute_result"
    }
   ],
   "source": [
    "ser_atores = pd.Series(atores)\n",
    "ser_atores.head()"
   ]
  },
  {
   "cell_type": "markdown",
   "metadata": {},
   "source": [
    "Para visualizar de maneira mais ordenada e clara os dados do DataFrame, selecionamos a parcela de 0.1% de atores com mais produções no cinema. Dessa forma, atingimos todos com mais de 28 aparições:"
   ]
  },
  {
   "cell_type": "code",
   "execution_count": 19,
   "metadata": {},
   "outputs": [],
   "source": [
    "ser_atores = ser_atores[ser_atores > 28].sort_values(ascending=False)"
   ]
  },
  {
   "cell_type": "markdown",
   "metadata": {},
   "source": [
    "Para utilizar os dados do DataFrame acima no método do Random Forrest, foi necessário transformar as informações nele em um outro DataFrame com solução binária.\n",
    "\n",
    "Nesta nova tabela, cada linha representa cada um dos filmes contidos no database, e cada coluna representa os atores selecionados previamente:"
   ]
  },
  {
   "cell_type": "code",
   "execution_count": 20,
   "metadata": {},
   "outputs": [],
   "source": [
    "df_filmes_atores = pd.DataFrame(index=df2.index, columns=ser_atores.index, dtype=np.uint8)\n",
    "for e in df2.index:\n",
    "    data_dict = ast.literal_eval(df2[\"cast\"][e])\n",
    "    for palavras in data_dict:\n",
    "        nome = palavras['name']\n",
    "        if nome in df_filmes_atores.columns:\n",
    "            df_filmes_atores[nome][e] = 1"
   ]
  },
  {
   "cell_type": "code",
   "execution_count": 21,
   "metadata": {},
   "outputs": [
    {
     "data": {
      "text/html": [
       "<div>\n",
       "<style scoped>\n",
       "    .dataframe tbody tr th:only-of-type {\n",
       "        vertical-align: middle;\n",
       "    }\n",
       "\n",
       "    .dataframe tbody tr th {\n",
       "        vertical-align: top;\n",
       "    }\n",
       "\n",
       "    .dataframe thead th {\n",
       "        text-align: right;\n",
       "    }\n",
       "</style>\n",
       "<table border=\"1\" class=\"dataframe\">\n",
       "  <thead>\n",
       "    <tr style=\"text-align: right;\">\n",
       "      <th></th>\n",
       "      <th>Bess Flowers</th>\n",
       "      <th>Christopher Lee</th>\n",
       "      <th>John Wayne</th>\n",
       "      <th>Samuel L. Jackson</th>\n",
       "      <th>Gérard Depardieu</th>\n",
       "      <th>Michael Caine</th>\n",
       "      <th>John Carradine</th>\n",
       "      <th>Donald Sutherland</th>\n",
       "      <th>Jackie Chan</th>\n",
       "      <th>Frank Welker</th>\n",
       "      <th>...</th>\n",
       "      <th>Syd Saylor</th>\n",
       "      <th>George Raft</th>\n",
       "      <th>Quentin Tarantino</th>\n",
       "      <th>Paul Winfield</th>\n",
       "      <th>Emilio Estevez</th>\n",
       "      <th>Chow Yun-fat</th>\n",
       "      <th>Chazz Palminteri</th>\n",
       "      <th>Carmen Electra</th>\n",
       "      <th>Olaf Hytten</th>\n",
       "      <th>Walter Gotell</th>\n",
       "    </tr>\n",
       "  </thead>\n",
       "  <tbody>\n",
       "    <tr>\n",
       "      <th>0</th>\n",
       "      <td>0.0</td>\n",
       "      <td>0.0</td>\n",
       "      <td>0.0</td>\n",
       "      <td>0.0</td>\n",
       "      <td>0.0</td>\n",
       "      <td>0.0</td>\n",
       "      <td>0.0</td>\n",
       "      <td>0.0</td>\n",
       "      <td>0.0</td>\n",
       "      <td>0.0</td>\n",
       "      <td>...</td>\n",
       "      <td>0.0</td>\n",
       "      <td>0.0</td>\n",
       "      <td>0.0</td>\n",
       "      <td>0.0</td>\n",
       "      <td>0.0</td>\n",
       "      <td>0.0</td>\n",
       "      <td>0.0</td>\n",
       "      <td>0.0</td>\n",
       "      <td>0.0</td>\n",
       "      <td>0.0</td>\n",
       "    </tr>\n",
       "    <tr>\n",
       "      <th>1</th>\n",
       "      <td>0.0</td>\n",
       "      <td>0.0</td>\n",
       "      <td>0.0</td>\n",
       "      <td>0.0</td>\n",
       "      <td>0.0</td>\n",
       "      <td>0.0</td>\n",
       "      <td>0.0</td>\n",
       "      <td>0.0</td>\n",
       "      <td>0.0</td>\n",
       "      <td>0.0</td>\n",
       "      <td>...</td>\n",
       "      <td>0.0</td>\n",
       "      <td>0.0</td>\n",
       "      <td>0.0</td>\n",
       "      <td>0.0</td>\n",
       "      <td>0.0</td>\n",
       "      <td>0.0</td>\n",
       "      <td>0.0</td>\n",
       "      <td>0.0</td>\n",
       "      <td>0.0</td>\n",
       "      <td>0.0</td>\n",
       "    </tr>\n",
       "    <tr>\n",
       "      <th>2</th>\n",
       "      <td>0.0</td>\n",
       "      <td>0.0</td>\n",
       "      <td>0.0</td>\n",
       "      <td>0.0</td>\n",
       "      <td>0.0</td>\n",
       "      <td>0.0</td>\n",
       "      <td>0.0</td>\n",
       "      <td>0.0</td>\n",
       "      <td>0.0</td>\n",
       "      <td>0.0</td>\n",
       "      <td>...</td>\n",
       "      <td>0.0</td>\n",
       "      <td>0.0</td>\n",
       "      <td>0.0</td>\n",
       "      <td>0.0</td>\n",
       "      <td>0.0</td>\n",
       "      <td>0.0</td>\n",
       "      <td>0.0</td>\n",
       "      <td>0.0</td>\n",
       "      <td>0.0</td>\n",
       "      <td>0.0</td>\n",
       "    </tr>\n",
       "    <tr>\n",
       "      <th>3</th>\n",
       "      <td>0.0</td>\n",
       "      <td>0.0</td>\n",
       "      <td>0.0</td>\n",
       "      <td>0.0</td>\n",
       "      <td>0.0</td>\n",
       "      <td>0.0</td>\n",
       "      <td>0.0</td>\n",
       "      <td>0.0</td>\n",
       "      <td>0.0</td>\n",
       "      <td>0.0</td>\n",
       "      <td>...</td>\n",
       "      <td>0.0</td>\n",
       "      <td>0.0</td>\n",
       "      <td>0.0</td>\n",
       "      <td>0.0</td>\n",
       "      <td>0.0</td>\n",
       "      <td>0.0</td>\n",
       "      <td>0.0</td>\n",
       "      <td>0.0</td>\n",
       "      <td>0.0</td>\n",
       "      <td>0.0</td>\n",
       "    </tr>\n",
       "    <tr>\n",
       "      <th>4</th>\n",
       "      <td>0.0</td>\n",
       "      <td>0.0</td>\n",
       "      <td>0.0</td>\n",
       "      <td>0.0</td>\n",
       "      <td>0.0</td>\n",
       "      <td>0.0</td>\n",
       "      <td>0.0</td>\n",
       "      <td>0.0</td>\n",
       "      <td>0.0</td>\n",
       "      <td>0.0</td>\n",
       "      <td>...</td>\n",
       "      <td>0.0</td>\n",
       "      <td>0.0</td>\n",
       "      <td>0.0</td>\n",
       "      <td>0.0</td>\n",
       "      <td>0.0</td>\n",
       "      <td>0.0</td>\n",
       "      <td>0.0</td>\n",
       "      <td>0.0</td>\n",
       "      <td>0.0</td>\n",
       "      <td>0.0</td>\n",
       "    </tr>\n",
       "  </tbody>\n",
       "</table>\n",
       "<p>5 rows × 1891 columns</p>\n",
       "</div>"
      ],
      "text/plain": [
       "   Bess Flowers  Christopher Lee  John Wayne  Samuel L. Jackson  \\\n",
       "0           0.0              0.0         0.0                0.0   \n",
       "1           0.0              0.0         0.0                0.0   \n",
       "2           0.0              0.0         0.0                0.0   \n",
       "3           0.0              0.0         0.0                0.0   \n",
       "4           0.0              0.0         0.0                0.0   \n",
       "\n",
       "   Gérard Depardieu  Michael Caine  John Carradine  Donald Sutherland  \\\n",
       "0               0.0            0.0             0.0                0.0   \n",
       "1               0.0            0.0             0.0                0.0   \n",
       "2               0.0            0.0             0.0                0.0   \n",
       "3               0.0            0.0             0.0                0.0   \n",
       "4               0.0            0.0             0.0                0.0   \n",
       "\n",
       "   Jackie Chan  Frank Welker      ...        Syd Saylor  George Raft  \\\n",
       "0          0.0           0.0      ...               0.0          0.0   \n",
       "1          0.0           0.0      ...               0.0          0.0   \n",
       "2          0.0           0.0      ...               0.0          0.0   \n",
       "3          0.0           0.0      ...               0.0          0.0   \n",
       "4          0.0           0.0      ...               0.0          0.0   \n",
       "\n",
       "   Quentin Tarantino  Paul Winfield  Emilio Estevez  Chow Yun-fat  \\\n",
       "0                0.0            0.0             0.0           0.0   \n",
       "1                0.0            0.0             0.0           0.0   \n",
       "2                0.0            0.0             0.0           0.0   \n",
       "3                0.0            0.0             0.0           0.0   \n",
       "4                0.0            0.0             0.0           0.0   \n",
       "\n",
       "   Chazz Palminteri  Carmen Electra  Olaf Hytten  Walter Gotell  \n",
       "0               0.0             0.0          0.0            0.0  \n",
       "1               0.0             0.0          0.0            0.0  \n",
       "2               0.0             0.0          0.0            0.0  \n",
       "3               0.0             0.0          0.0            0.0  \n",
       "4               0.0             0.0          0.0            0.0  \n",
       "\n",
       "[5 rows x 1891 columns]"
      ]
     },
     "execution_count": 21,
     "metadata": {},
     "output_type": "execute_result"
    }
   ],
   "source": [
    "df_filmes_atores[df_filmes_atores != 1] = 0\n",
    "df_filmes_atores.head()"
   ]
  },
  {
   "cell_type": "markdown",
   "metadata": {},
   "source": [
    "Nota-se que neste DataFrame, a grande maioria dos dígitos é 0, o que representa o óbvio, os atores apareceram em poucos filmes em relação ao total estudado"
   ]
  },
  {
   "cell_type": "code",
   "execution_count": 22,
   "metadata": {},
   "outputs": [
    {
     "data": {
      "text/plain": [
       "1    43373\n",
       "Name: original_title, dtype: int64"
      ]
     },
     "execution_count": 22,
     "metadata": {},
     "output_type": "execute_result"
    }
   ],
   "source": [
    "df.drop_duplicates(subset =\"original_title\", \n",
    "                     keep = 'first', inplace = True) \n",
    "df[\"original_title\"].value_counts().value_counts()"
   ]
  },
  {
   "cell_type": "code",
   "execution_count": 23,
   "metadata": {},
   "outputs": [],
   "source": [
    "df['bilhao'] = df.revenue > 1e9"
   ]
  },
  {
   "cell_type": "markdown",
   "metadata": {},
   "source": [
    "## Limpeza das variáveis de entrada tais como: revenue, budget, produtora e gênero:"
   ]
  },
  {
   "cell_type": "code",
   "execution_count": 24,
   "metadata": {},
   "outputs": [],
   "source": [
    "df_0 = df[df['revenue'] > 0]\n",
    "df_budget = df_0[df_0['budget'] != '0']\n",
    "df_clean = df_budget[df_budget['production_companies'] != '[]']\n",
    "df_super_clean = df_clean[df_clean['genres'] != '[]']"
   ]
  },
  {
   "cell_type": "code",
   "execution_count": 25,
   "metadata": {
    "scrolled": false
   },
   "outputs": [
    {
     "name": "stderr",
     "output_type": "stream",
     "text": [
      "C:\\Users\\ana clara\\Anaconda3\\lib\\site-packages\\ipykernel_launcher.py:2: SettingWithCopyWarning: \n",
      "A value is trying to be set on a copy of a slice from a DataFrame.\n",
      "Try using .loc[row_indexer,col_indexer] = value instead\n",
      "\n",
      "See the caveats in the documentation: http://pandas.pydata.org/pandas-docs/stable/indexing.html#indexing-view-versus-copy\n",
      "  \n"
     ]
    }
   ],
   "source": [
    "df_mega_clean = df_super_clean[[\"id\",\"genres\",\"budget\",\"revenue\",\"production_companies\"]]\n",
    "df_mega_clean['budget'] = df_mega_clean['budget'].astype(float)"
   ]
  },
  {
   "cell_type": "code",
   "execution_count": 26,
   "metadata": {},
   "outputs": [
    {
     "data": {
      "text/plain": [
       "129924654.00000012"
      ]
     },
     "execution_count": 26,
     "metadata": {},
     "output_type": "execute_result"
    }
   ],
   "source": [
    "df_mega_clean.revenue.quantile(0.8)"
   ]
  },
  {
   "cell_type": "markdown",
   "metadata": {},
   "source": [
    "Na célula acima, verificou-se que o valor que corta os 20% das maiores bilheterias é 129 milhões de dólares, dessa forma, definimos que o valor que seria usado no modelo como meta de bilheteria para os filmes seria 150 milhões de dólares"
   ]
  },
  {
   "cell_type": "code",
   "execution_count": 27,
   "metadata": {},
   "outputs": [],
   "source": [
    "milhao = []\n",
    "for dinheiro in df_mega_clean.revenue:\n",
    "    if dinheiro > 1.5e8:\n",
    "        milhao.append(1)\n",
    "    else:\n",
    "        milhao.append(0)"
   ]
  },
  {
   "cell_type": "markdown",
   "metadata": {},
   "source": [
    "Após definir a meta do modelo, percorremos todos os filmes e adicionamos uma nova coluna ao nosso dataframe original que indica se cada filme atingiu ou não atingiu os 150 milhões de dólares"
   ]
  },
  {
   "cell_type": "code",
   "execution_count": 28,
   "metadata": {
    "scrolled": true
   },
   "outputs": [
    {
     "name": "stderr",
     "output_type": "stream",
     "text": [
      "C:\\Users\\ana clara\\Anaconda3\\lib\\site-packages\\ipykernel_launcher.py:1: SettingWithCopyWarning: \n",
      "A value is trying to be set on a copy of a slice from a DataFrame.\n",
      "Try using .loc[row_indexer,col_indexer] = value instead\n",
      "\n",
      "See the caveats in the documentation: http://pandas.pydata.org/pandas-docs/stable/indexing.html#indexing-view-versus-copy\n",
      "  \"\"\"Entry point for launching an IPython kernel.\n"
     ]
    },
    {
     "data": {
      "text/html": [
       "<div>\n",
       "<style scoped>\n",
       "    .dataframe tbody tr th:only-of-type {\n",
       "        vertical-align: middle;\n",
       "    }\n",
       "\n",
       "    .dataframe tbody tr th {\n",
       "        vertical-align: top;\n",
       "    }\n",
       "\n",
       "    .dataframe thead th {\n",
       "        text-align: right;\n",
       "    }\n",
       "</style>\n",
       "<table border=\"1\" class=\"dataframe\">\n",
       "  <thead>\n",
       "    <tr style=\"text-align: right;\">\n",
       "      <th></th>\n",
       "      <th>id</th>\n",
       "      <th>genres</th>\n",
       "      <th>budget</th>\n",
       "      <th>revenue</th>\n",
       "      <th>production_companies</th>\n",
       "      <th>Fez ou não 150 mi</th>\n",
       "    </tr>\n",
       "  </thead>\n",
       "  <tbody>\n",
       "    <tr>\n",
       "      <th>0</th>\n",
       "      <td>862</td>\n",
       "      <td>[{'id': 16, 'name': 'Animation'}, {'id': 35, '...</td>\n",
       "      <td>30000000.0</td>\n",
       "      <td>373554033.0</td>\n",
       "      <td>[{'name': 'Pixar Animation Studios', 'id': 3}]</td>\n",
       "      <td>1</td>\n",
       "    </tr>\n",
       "    <tr>\n",
       "      <th>1</th>\n",
       "      <td>8844</td>\n",
       "      <td>[{'id': 12, 'name': 'Adventure'}, {'id': 14, '...</td>\n",
       "      <td>65000000.0</td>\n",
       "      <td>262797249.0</td>\n",
       "      <td>[{'name': 'TriStar Pictures', 'id': 559}, {'na...</td>\n",
       "      <td>1</td>\n",
       "    </tr>\n",
       "    <tr>\n",
       "      <th>3</th>\n",
       "      <td>31357</td>\n",
       "      <td>[{'id': 35, 'name': 'Comedy'}, {'id': 18, 'nam...</td>\n",
       "      <td>16000000.0</td>\n",
       "      <td>81452156.0</td>\n",
       "      <td>[{'name': 'Twentieth Century Fox Film Corporat...</td>\n",
       "      <td>0</td>\n",
       "    </tr>\n",
       "    <tr>\n",
       "      <th>5</th>\n",
       "      <td>949</td>\n",
       "      <td>[{'id': 28, 'name': 'Action'}, {'id': 80, 'nam...</td>\n",
       "      <td>60000000.0</td>\n",
       "      <td>187436818.0</td>\n",
       "      <td>[{'name': 'Regency Enterprises', 'id': 508}, {...</td>\n",
       "      <td>1</td>\n",
       "    </tr>\n",
       "    <tr>\n",
       "      <th>8</th>\n",
       "      <td>9091</td>\n",
       "      <td>[{'id': 28, 'name': 'Action'}, {'id': 12, 'nam...</td>\n",
       "      <td>35000000.0</td>\n",
       "      <td>64350171.0</td>\n",
       "      <td>[{'name': 'Universal Pictures', 'id': 33}, {'n...</td>\n",
       "      <td>0</td>\n",
       "    </tr>\n",
       "  </tbody>\n",
       "</table>\n",
       "</div>"
      ],
      "text/plain": [
       "      id                                             genres      budget  \\\n",
       "0    862  [{'id': 16, 'name': 'Animation'}, {'id': 35, '...  30000000.0   \n",
       "1   8844  [{'id': 12, 'name': 'Adventure'}, {'id': 14, '...  65000000.0   \n",
       "3  31357  [{'id': 35, 'name': 'Comedy'}, {'id': 18, 'nam...  16000000.0   \n",
       "5    949  [{'id': 28, 'name': 'Action'}, {'id': 80, 'nam...  60000000.0   \n",
       "8   9091  [{'id': 28, 'name': 'Action'}, {'id': 12, 'nam...  35000000.0   \n",
       "\n",
       "       revenue                               production_companies  \\\n",
       "0  373554033.0     [{'name': 'Pixar Animation Studios', 'id': 3}]   \n",
       "1  262797249.0  [{'name': 'TriStar Pictures', 'id': 559}, {'na...   \n",
       "3   81452156.0  [{'name': 'Twentieth Century Fox Film Corporat...   \n",
       "5  187436818.0  [{'name': 'Regency Enterprises', 'id': 508}, {...   \n",
       "8   64350171.0  [{'name': 'Universal Pictures', 'id': 33}, {'n...   \n",
       "\n",
       "   Fez ou não 150 mi  \n",
       "0                  1  \n",
       "1                  1  \n",
       "3                  0  \n",
       "5                  1  \n",
       "8                  0  "
      ]
     },
     "execution_count": 28,
     "metadata": {},
     "output_type": "execute_result"
    }
   ],
   "source": [
    "df_mega_clean['Fez ou não 150 mi'] = milhao\n",
    "df_mega_clean.head()"
   ]
  },
  {
   "cell_type": "markdown",
   "metadata": {},
   "source": [
    "### Filtrando os atores por meio da limpeza estabelecida no DataFrame \"MetaData\""
   ]
  },
  {
   "cell_type": "code",
   "execution_count": 29,
   "metadata": {
    "scrolled": true
   },
   "outputs": [],
   "source": [
    "lista_teste = []\n",
    "for numero in df_filmes_atores.index:\n",
    "    if numero not in df_mega_clean.id:\n",
    "        lista_teste.append(numero)\n",
    "        \n",
    "atores_certos = df_filmes_atores.drop(lista_teste, axis=0)"
   ]
  },
  {
   "cell_type": "markdown",
   "metadata": {},
   "source": [
    "No dataframe acima, foi selecionado os atores que participam dos filmes filtrados no Dataframe \"mega_clean\" fazendo com que agora podemos observar quais atores participaram dos filmes relevantes "
   ]
  },
  {
   "cell_type": "code",
   "execution_count": 30,
   "metadata": {},
   "outputs": [
    {
     "data": {
      "text/html": [
       "<div>\n",
       "<style scoped>\n",
       "    .dataframe tbody tr th:only-of-type {\n",
       "        vertical-align: middle;\n",
       "    }\n",
       "\n",
       "    .dataframe tbody tr th {\n",
       "        vertical-align: top;\n",
       "    }\n",
       "\n",
       "    .dataframe thead th {\n",
       "        text-align: right;\n",
       "    }\n",
       "</style>\n",
       "<table border=\"1\" class=\"dataframe\">\n",
       "  <thead>\n",
       "    <tr style=\"text-align: right;\">\n",
       "      <th></th>\n",
       "      <th>Bess Flowers</th>\n",
       "      <th>Christopher Lee</th>\n",
       "      <th>John Wayne</th>\n",
       "      <th>Samuel L. Jackson</th>\n",
       "      <th>Gérard Depardieu</th>\n",
       "      <th>Michael Caine</th>\n",
       "      <th>John Carradine</th>\n",
       "      <th>Donald Sutherland</th>\n",
       "      <th>Jackie Chan</th>\n",
       "      <th>Frank Welker</th>\n",
       "      <th>...</th>\n",
       "      <th>George Raft</th>\n",
       "      <th>Quentin Tarantino</th>\n",
       "      <th>Paul Winfield</th>\n",
       "      <th>Emilio Estevez</th>\n",
       "      <th>Chow Yun-fat</th>\n",
       "      <th>Chazz Palminteri</th>\n",
       "      <th>Carmen Electra</th>\n",
       "      <th>Olaf Hytten</th>\n",
       "      <th>Walter Gotell</th>\n",
       "      <th>Fez ou não 150 mi</th>\n",
       "    </tr>\n",
       "  </thead>\n",
       "  <tbody>\n",
       "    <tr>\n",
       "      <th>0</th>\n",
       "      <td>0.0</td>\n",
       "      <td>0.0</td>\n",
       "      <td>0.0</td>\n",
       "      <td>0.0</td>\n",
       "      <td>0.0</td>\n",
       "      <td>0.0</td>\n",
       "      <td>0.0</td>\n",
       "      <td>0.0</td>\n",
       "      <td>0.0</td>\n",
       "      <td>0.0</td>\n",
       "      <td>...</td>\n",
       "      <td>0.0</td>\n",
       "      <td>0.0</td>\n",
       "      <td>0.0</td>\n",
       "      <td>0.0</td>\n",
       "      <td>0.0</td>\n",
       "      <td>0.0</td>\n",
       "      <td>0.0</td>\n",
       "      <td>0.0</td>\n",
       "      <td>0.0</td>\n",
       "      <td>1</td>\n",
       "    </tr>\n",
       "    <tr>\n",
       "      <th>1</th>\n",
       "      <td>0.0</td>\n",
       "      <td>0.0</td>\n",
       "      <td>0.0</td>\n",
       "      <td>0.0</td>\n",
       "      <td>0.0</td>\n",
       "      <td>0.0</td>\n",
       "      <td>0.0</td>\n",
       "      <td>0.0</td>\n",
       "      <td>0.0</td>\n",
       "      <td>0.0</td>\n",
       "      <td>...</td>\n",
       "      <td>0.0</td>\n",
       "      <td>0.0</td>\n",
       "      <td>0.0</td>\n",
       "      <td>0.0</td>\n",
       "      <td>0.0</td>\n",
       "      <td>0.0</td>\n",
       "      <td>0.0</td>\n",
       "      <td>0.0</td>\n",
       "      <td>0.0</td>\n",
       "      <td>1</td>\n",
       "    </tr>\n",
       "    <tr>\n",
       "      <th>3</th>\n",
       "      <td>0.0</td>\n",
       "      <td>0.0</td>\n",
       "      <td>0.0</td>\n",
       "      <td>0.0</td>\n",
       "      <td>0.0</td>\n",
       "      <td>0.0</td>\n",
       "      <td>0.0</td>\n",
       "      <td>0.0</td>\n",
       "      <td>0.0</td>\n",
       "      <td>0.0</td>\n",
       "      <td>...</td>\n",
       "      <td>0.0</td>\n",
       "      <td>0.0</td>\n",
       "      <td>0.0</td>\n",
       "      <td>0.0</td>\n",
       "      <td>0.0</td>\n",
       "      <td>0.0</td>\n",
       "      <td>0.0</td>\n",
       "      <td>0.0</td>\n",
       "      <td>0.0</td>\n",
       "      <td>0</td>\n",
       "    </tr>\n",
       "    <tr>\n",
       "      <th>5</th>\n",
       "      <td>0.0</td>\n",
       "      <td>0.0</td>\n",
       "      <td>0.0</td>\n",
       "      <td>0.0</td>\n",
       "      <td>0.0</td>\n",
       "      <td>0.0</td>\n",
       "      <td>0.0</td>\n",
       "      <td>0.0</td>\n",
       "      <td>0.0</td>\n",
       "      <td>0.0</td>\n",
       "      <td>...</td>\n",
       "      <td>0.0</td>\n",
       "      <td>0.0</td>\n",
       "      <td>0.0</td>\n",
       "      <td>0.0</td>\n",
       "      <td>0.0</td>\n",
       "      <td>0.0</td>\n",
       "      <td>0.0</td>\n",
       "      <td>0.0</td>\n",
       "      <td>0.0</td>\n",
       "      <td>1</td>\n",
       "    </tr>\n",
       "    <tr>\n",
       "      <th>8</th>\n",
       "      <td>0.0</td>\n",
       "      <td>0.0</td>\n",
       "      <td>0.0</td>\n",
       "      <td>0.0</td>\n",
       "      <td>0.0</td>\n",
       "      <td>0.0</td>\n",
       "      <td>0.0</td>\n",
       "      <td>0.0</td>\n",
       "      <td>0.0</td>\n",
       "      <td>0.0</td>\n",
       "      <td>...</td>\n",
       "      <td>0.0</td>\n",
       "      <td>0.0</td>\n",
       "      <td>0.0</td>\n",
       "      <td>0.0</td>\n",
       "      <td>0.0</td>\n",
       "      <td>0.0</td>\n",
       "      <td>0.0</td>\n",
       "      <td>0.0</td>\n",
       "      <td>0.0</td>\n",
       "      <td>0</td>\n",
       "    </tr>\n",
       "  </tbody>\n",
       "</table>\n",
       "<p>5 rows × 1892 columns</p>\n",
       "</div>"
      ],
      "text/plain": [
       "   Bess Flowers  Christopher Lee  John Wayne  Samuel L. Jackson  \\\n",
       "0           0.0              0.0         0.0                0.0   \n",
       "1           0.0              0.0         0.0                0.0   \n",
       "3           0.0              0.0         0.0                0.0   \n",
       "5           0.0              0.0         0.0                0.0   \n",
       "8           0.0              0.0         0.0                0.0   \n",
       "\n",
       "   Gérard Depardieu  Michael Caine  John Carradine  Donald Sutherland  \\\n",
       "0               0.0            0.0             0.0                0.0   \n",
       "1               0.0            0.0             0.0                0.0   \n",
       "3               0.0            0.0             0.0                0.0   \n",
       "5               0.0            0.0             0.0                0.0   \n",
       "8               0.0            0.0             0.0                0.0   \n",
       "\n",
       "   Jackie Chan  Frank Welker        ...          George Raft  \\\n",
       "0          0.0           0.0        ...                  0.0   \n",
       "1          0.0           0.0        ...                  0.0   \n",
       "3          0.0           0.0        ...                  0.0   \n",
       "5          0.0           0.0        ...                  0.0   \n",
       "8          0.0           0.0        ...                  0.0   \n",
       "\n",
       "   Quentin Tarantino  Paul Winfield  Emilio Estevez  Chow Yun-fat  \\\n",
       "0                0.0            0.0             0.0           0.0   \n",
       "1                0.0            0.0             0.0           0.0   \n",
       "3                0.0            0.0             0.0           0.0   \n",
       "5                0.0            0.0             0.0           0.0   \n",
       "8                0.0            0.0             0.0           0.0   \n",
       "\n",
       "   Chazz Palminteri  Carmen Electra  Olaf Hytten  Walter Gotell  \\\n",
       "0               0.0             0.0          0.0            0.0   \n",
       "1               0.0             0.0          0.0            0.0   \n",
       "3               0.0             0.0          0.0            0.0   \n",
       "5               0.0             0.0          0.0            0.0   \n",
       "8               0.0             0.0          0.0            0.0   \n",
       "\n",
       "   Fez ou não 150 mi  \n",
       "0                  1  \n",
       "1                  1  \n",
       "3                  0  \n",
       "5                  1  \n",
       "8                  0  \n",
       "\n",
       "[5 rows x 1892 columns]"
      ]
     },
     "execution_count": 30,
     "metadata": {},
     "output_type": "execute_result"
    }
   ],
   "source": [
    "atores_certos['Fez ou não 150 mi'] = milhao\n",
    "atores_certos.head()"
   ]
  },
  {
   "cell_type": "code",
   "execution_count": 31,
   "metadata": {},
   "outputs": [],
   "source": [
    "sim_ou_nao = atores_certos['Fez ou não 150 mi']\n",
    "y = df_mega_clean['Fez ou não 150 mi']"
   ]
  },
  {
   "cell_type": "markdown",
   "metadata": {},
   "source": [
    "# Randon Forest "
   ]
  },
  {
   "cell_type": "markdown",
   "metadata": {},
   "source": [
    "O próximo passo será nós rodarmos o Randon Forest com o nossos Datframes \"binários\" para que agora possamos verificar nosso objetivo que é verificar se de fato os feature que nós escolhemos impactam na bilheteria"
   ]
  },
  {
   "cell_type": "markdown",
   "metadata": {},
   "source": [
    "## Influência dos atores na bilheteria"
   ]
  },
  {
   "cell_type": "code",
   "execution_count": 32,
   "metadata": {},
   "outputs": [],
   "source": [
    "from sklearn.model_selection import train_test_split\n",
    "X_train, X_test, Y_train, Y_test = train_test_split(atores_certos.drop(['Fez ou não 150 mi'],axis='columns'),sim_ou_nao,test_size = 0.3)"
   ]
  },
  {
   "cell_type": "code",
   "execution_count": 33,
   "metadata": {},
   "outputs": [
    {
     "data": {
      "text/plain": [
       "RandomForestClassifier(bootstrap=True, class_weight=None, criterion='gini',\n",
       "            max_depth=None, max_features='auto', max_leaf_nodes=None,\n",
       "            min_impurity_decrease=0.0, min_impurity_split=None,\n",
       "            min_samples_leaf=1, min_samples_split=2,\n",
       "            min_weight_fraction_leaf=0.0, n_estimators=40, n_jobs=None,\n",
       "            oob_score=False, random_state=None, verbose=0,\n",
       "            warm_start=False)"
      ]
     },
     "execution_count": 33,
     "metadata": {},
     "output_type": "execute_result"
    }
   ],
   "source": [
    "from sklearn.ensemble import RandomForestClassifier\n",
    "model = RandomForestClassifier(n_estimators = 40)\n",
    "model.fit(X_train,Y_train)"
   ]
  },
  {
   "cell_type": "code",
   "execution_count": 34,
   "metadata": {},
   "outputs": [
    {
     "data": {
      "text/plain": [
       "0.8097826086956522"
      ]
     },
     "execution_count": 34,
     "metadata": {},
     "output_type": "execute_result"
    }
   ],
   "source": [
    "model.score(X_test,Y_test)"
   ]
  },
  {
   "cell_type": "markdown",
   "metadata": {},
   "source": [
    "A partir desse resultado é possível perceber que os atores não influenciam para que um filme passe ou não da marca de 150 milhoes de bilheteria, já que a nossa acurácia deu menos que 80%, ou seja, menor ainda que nosso corte das maiores bilheterias, portanto nosso classificador pode está estimando que todos os filmes nunca atinjam a marca estabelecida por nós e quase sempre o classificador acerta, só 20% das vezes não, porque 20% dos filmes realmente conseguem atingir essa marca"
   ]
  },
  {
   "cell_type": "markdown",
   "metadata": {},
   "source": [
    "## Influência das categorias na bilheteria"
   ]
  },
  {
   "cell_type": "code",
   "execution_count": 35,
   "metadata": {},
   "outputs": [],
   "source": [
    "categorias2 = defaultdict(int)\n",
    "for e in df_mega_clean.index:\n",
    "    data_dict = ast.literal_eval(df_mega_clean[\"genres\"][e])\n",
    "    for palavras in data_dict:\n",
    "        tipo = palavras['name']\n",
    "        categorias2[tipo] += 1"
   ]
  },
  {
   "cell_type": "code",
   "execution_count": 36,
   "metadata": {},
   "outputs": [],
   "source": [
    "ser_categorias = pd.Series(categorias2)"
   ]
  },
  {
   "cell_type": "code",
   "execution_count": 37,
   "metadata": {},
   "outputs": [],
   "source": [
    "df_filmes_categorias = pd.DataFrame(index=df_mega_clean.index, columns=ser_categorias.index, dtype=np.uint8)\n",
    "for e in df_mega_clean.index:\n",
    "    data_dict = ast.literal_eval(df_mega_clean[\"genres\"][e])\n",
    "    #print(data_dict)\n",
    "    for palavras in data_dict:\n",
    "        tipo = palavras['name']\n",
    "        #print(tipo)\n",
    "        if tipo in df_filmes_categorias.columns:\n",
    "             df_filmes_categorias[tipo][e] = 1\n"
   ]
  },
  {
   "cell_type": "code",
   "execution_count": 38,
   "metadata": {
    "scrolled": true
   },
   "outputs": [
    {
     "data": {
      "text/html": [
       "<div>\n",
       "<style scoped>\n",
       "    .dataframe tbody tr th:only-of-type {\n",
       "        vertical-align: middle;\n",
       "    }\n",
       "\n",
       "    .dataframe tbody tr th {\n",
       "        vertical-align: top;\n",
       "    }\n",
       "\n",
       "    .dataframe thead th {\n",
       "        text-align: right;\n",
       "    }\n",
       "</style>\n",
       "<table border=\"1\" class=\"dataframe\">\n",
       "  <thead>\n",
       "    <tr style=\"text-align: right;\">\n",
       "      <th></th>\n",
       "      <th>Animation</th>\n",
       "      <th>Comedy</th>\n",
       "      <th>Family</th>\n",
       "      <th>Adventure</th>\n",
       "      <th>Fantasy</th>\n",
       "      <th>Drama</th>\n",
       "      <th>Romance</th>\n",
       "      <th>Action</th>\n",
       "      <th>Crime</th>\n",
       "      <th>Thriller</th>\n",
       "      <th>History</th>\n",
       "      <th>Science Fiction</th>\n",
       "      <th>Mystery</th>\n",
       "      <th>Horror</th>\n",
       "      <th>War</th>\n",
       "      <th>Foreign</th>\n",
       "      <th>Documentary</th>\n",
       "      <th>Western</th>\n",
       "      <th>Music</th>\n",
       "      <th>TV Movie</th>\n",
       "    </tr>\n",
       "  </thead>\n",
       "  <tbody>\n",
       "    <tr>\n",
       "      <th>0</th>\n",
       "      <td>1.0</td>\n",
       "      <td>1.0</td>\n",
       "      <td>1.0</td>\n",
       "      <td>0.0</td>\n",
       "      <td>0.0</td>\n",
       "      <td>0.0</td>\n",
       "      <td>0.0</td>\n",
       "      <td>0.0</td>\n",
       "      <td>0.0</td>\n",
       "      <td>0.0</td>\n",
       "      <td>0.0</td>\n",
       "      <td>0.0</td>\n",
       "      <td>0.0</td>\n",
       "      <td>0.0</td>\n",
       "      <td>0.0</td>\n",
       "      <td>0.0</td>\n",
       "      <td>0.0</td>\n",
       "      <td>0.0</td>\n",
       "      <td>0.0</td>\n",
       "      <td>0.0</td>\n",
       "    </tr>\n",
       "    <tr>\n",
       "      <th>1</th>\n",
       "      <td>0.0</td>\n",
       "      <td>0.0</td>\n",
       "      <td>1.0</td>\n",
       "      <td>1.0</td>\n",
       "      <td>1.0</td>\n",
       "      <td>0.0</td>\n",
       "      <td>0.0</td>\n",
       "      <td>0.0</td>\n",
       "      <td>0.0</td>\n",
       "      <td>0.0</td>\n",
       "      <td>0.0</td>\n",
       "      <td>0.0</td>\n",
       "      <td>0.0</td>\n",
       "      <td>0.0</td>\n",
       "      <td>0.0</td>\n",
       "      <td>0.0</td>\n",
       "      <td>0.0</td>\n",
       "      <td>0.0</td>\n",
       "      <td>0.0</td>\n",
       "      <td>0.0</td>\n",
       "    </tr>\n",
       "    <tr>\n",
       "      <th>3</th>\n",
       "      <td>0.0</td>\n",
       "      <td>1.0</td>\n",
       "      <td>0.0</td>\n",
       "      <td>0.0</td>\n",
       "      <td>0.0</td>\n",
       "      <td>1.0</td>\n",
       "      <td>1.0</td>\n",
       "      <td>0.0</td>\n",
       "      <td>0.0</td>\n",
       "      <td>0.0</td>\n",
       "      <td>0.0</td>\n",
       "      <td>0.0</td>\n",
       "      <td>0.0</td>\n",
       "      <td>0.0</td>\n",
       "      <td>0.0</td>\n",
       "      <td>0.0</td>\n",
       "      <td>0.0</td>\n",
       "      <td>0.0</td>\n",
       "      <td>0.0</td>\n",
       "      <td>0.0</td>\n",
       "    </tr>\n",
       "    <tr>\n",
       "      <th>5</th>\n",
       "      <td>0.0</td>\n",
       "      <td>0.0</td>\n",
       "      <td>0.0</td>\n",
       "      <td>0.0</td>\n",
       "      <td>0.0</td>\n",
       "      <td>1.0</td>\n",
       "      <td>0.0</td>\n",
       "      <td>1.0</td>\n",
       "      <td>1.0</td>\n",
       "      <td>1.0</td>\n",
       "      <td>0.0</td>\n",
       "      <td>0.0</td>\n",
       "      <td>0.0</td>\n",
       "      <td>0.0</td>\n",
       "      <td>0.0</td>\n",
       "      <td>0.0</td>\n",
       "      <td>0.0</td>\n",
       "      <td>0.0</td>\n",
       "      <td>0.0</td>\n",
       "      <td>0.0</td>\n",
       "    </tr>\n",
       "    <tr>\n",
       "      <th>8</th>\n",
       "      <td>0.0</td>\n",
       "      <td>0.0</td>\n",
       "      <td>0.0</td>\n",
       "      <td>1.0</td>\n",
       "      <td>0.0</td>\n",
       "      <td>0.0</td>\n",
       "      <td>0.0</td>\n",
       "      <td>1.0</td>\n",
       "      <td>0.0</td>\n",
       "      <td>1.0</td>\n",
       "      <td>0.0</td>\n",
       "      <td>0.0</td>\n",
       "      <td>0.0</td>\n",
       "      <td>0.0</td>\n",
       "      <td>0.0</td>\n",
       "      <td>0.0</td>\n",
       "      <td>0.0</td>\n",
       "      <td>0.0</td>\n",
       "      <td>0.0</td>\n",
       "      <td>0.0</td>\n",
       "    </tr>\n",
       "  </tbody>\n",
       "</table>\n",
       "</div>"
      ],
      "text/plain": [
       "   Animation  Comedy  Family  Adventure  Fantasy  Drama  Romance  Action  \\\n",
       "0        1.0     1.0     1.0        0.0      0.0    0.0      0.0     0.0   \n",
       "1        0.0     0.0     1.0        1.0      1.0    0.0      0.0     0.0   \n",
       "3        0.0     1.0     0.0        0.0      0.0    1.0      1.0     0.0   \n",
       "5        0.0     0.0     0.0        0.0      0.0    1.0      0.0     1.0   \n",
       "8        0.0     0.0     0.0        1.0      0.0    0.0      0.0     1.0   \n",
       "\n",
       "   Crime  Thriller  History  Science Fiction  Mystery  Horror  War  Foreign  \\\n",
       "0    0.0       0.0      0.0              0.0      0.0     0.0  0.0      0.0   \n",
       "1    0.0       0.0      0.0              0.0      0.0     0.0  0.0      0.0   \n",
       "3    0.0       0.0      0.0              0.0      0.0     0.0  0.0      0.0   \n",
       "5    1.0       1.0      0.0              0.0      0.0     0.0  0.0      0.0   \n",
       "8    0.0       1.0      0.0              0.0      0.0     0.0  0.0      0.0   \n",
       "\n",
       "   Documentary  Western  Music  TV Movie  \n",
       "0          0.0      0.0    0.0       0.0  \n",
       "1          0.0      0.0    0.0       0.0  \n",
       "3          0.0      0.0    0.0       0.0  \n",
       "5          0.0      0.0    0.0       0.0  \n",
       "8          0.0      0.0    0.0       0.0  "
      ]
     },
     "execution_count": 38,
     "metadata": {},
     "output_type": "execute_result"
    }
   ],
   "source": [
    "df_filmes_categorias[df_filmes_categorias != 1] = 0\n",
    "df_filmes_categorias.head()"
   ]
  },
  {
   "cell_type": "code",
   "execution_count": 39,
   "metadata": {},
   "outputs": [
    {
     "data": {
      "text/plain": [
       "RandomForestClassifier(bootstrap=True, class_weight=None, criterion='gini',\n",
       "            max_depth=None, max_features='auto', max_leaf_nodes=None,\n",
       "            min_impurity_decrease=0.0, min_impurity_split=None,\n",
       "            min_samples_leaf=1, min_samples_split=2,\n",
       "            min_weight_fraction_leaf=0.0, n_estimators=40, n_jobs=None,\n",
       "            oob_score=False, random_state=None, verbose=0,\n",
       "            warm_start=False)"
      ]
     },
     "execution_count": 39,
     "metadata": {},
     "output_type": "execute_result"
    }
   ],
   "source": [
    "X2_train, X2_test, Y2_train, Y2_test = train_test_split(df_filmes_categorias,sim_ou_nao,test_size = 0.3)\n",
    "\n",
    "model = RandomForestClassifier(n_estimators = 40)\n",
    "model.fit(X2_train,Y2_train)"
   ]
  },
  {
   "cell_type": "code",
   "execution_count": 40,
   "metadata": {},
   "outputs": [
    {
     "data": {
      "text/plain": [
       "0.8410326086956522"
      ]
     },
     "execution_count": 40,
     "metadata": {},
     "output_type": "execute_result"
    }
   ],
   "source": [
    "model.score(X2_test,Y2_test)"
   ]
  },
  {
   "cell_type": "markdown",
   "metadata": {},
   "source": [
    "## Influência das produtoras na bilheteria"
   ]
  },
  {
   "cell_type": "code",
   "execution_count": 41,
   "metadata": {},
   "outputs": [],
   "source": [
    "prod2 = defaultdict(int)\n",
    "for e in df_mega_clean.index:\n",
    "    data_dict = ast.literal_eval(df_mega_clean['production_companies'][e])\n",
    "    for palavras in data_dict:\n",
    "        produ = palavras['name']\n",
    "        prod2[produ] += 1"
   ]
  },
  {
   "cell_type": "code",
   "execution_count": 42,
   "metadata": {},
   "outputs": [],
   "source": [
    "ser_produtora = pd.Series(prod2)"
   ]
  },
  {
   "cell_type": "code",
   "execution_count": 43,
   "metadata": {},
   "outputs": [],
   "source": [
    "df_filmes_produtoras = pd.DataFrame(index=df_mega_clean.index, columns=ser_produtora.index, dtype=np.uint8)\n",
    "for e in df_mega_clean.index:\n",
    "    data_dict = ast.literal_eval(df_mega_clean[\"production_companies\"][e])\n",
    "    #print(data_dict)\n",
    "    for palavras in data_dict:\n",
    "        produ = palavras['name']\n",
    "        #print(tipo)\n",
    "        if produ in df_filmes_produtoras.columns:\n",
    "             df_filmes_produtoras[produ][e] = 1\n"
   ]
  },
  {
   "cell_type": "code",
   "execution_count": 44,
   "metadata": {
    "scrolled": true
   },
   "outputs": [
    {
     "data": {
      "text/html": [
       "<div>\n",
       "<style scoped>\n",
       "    .dataframe tbody tr th:only-of-type {\n",
       "        vertical-align: middle;\n",
       "    }\n",
       "\n",
       "    .dataframe tbody tr th {\n",
       "        vertical-align: top;\n",
       "    }\n",
       "\n",
       "    .dataframe thead th {\n",
       "        text-align: right;\n",
       "    }\n",
       "</style>\n",
       "<table border=\"1\" class=\"dataframe\">\n",
       "  <thead>\n",
       "    <tr style=\"text-align: right;\">\n",
       "      <th></th>\n",
       "      <th>Pixar Animation Studios</th>\n",
       "      <th>TriStar Pictures</th>\n",
       "      <th>Teitler Film</th>\n",
       "      <th>Interscope Communications</th>\n",
       "      <th>Twentieth Century Fox Film Corporation</th>\n",
       "      <th>Regency Enterprises</th>\n",
       "      <th>Forward Pass</th>\n",
       "      <th>Warner Bros.</th>\n",
       "      <th>Universal Pictures</th>\n",
       "      <th>Imperial Entertainment</th>\n",
       "      <th>...</th>\n",
       "      <th>Rumble Entertainment</th>\n",
       "      <th>Hollywood Storm</th>\n",
       "      <th>Czar Pictures</th>\n",
       "      <th>S Pictures</th>\n",
       "      <th>Corner Work</th>\n",
       "      <th>Closed on Mondays Entertainment</th>\n",
       "      <th>Star Thrower Entertainment</th>\n",
       "      <th>Acacia Filmed Entertainment</th>\n",
       "      <th>Кинокомпания «Lunapark»</th>\n",
       "      <th>Инвада фильм</th>\n",
       "    </tr>\n",
       "  </thead>\n",
       "  <tbody>\n",
       "    <tr>\n",
       "      <th>0</th>\n",
       "      <td>1.0</td>\n",
       "      <td>0.0</td>\n",
       "      <td>0.0</td>\n",
       "      <td>0.0</td>\n",
       "      <td>0.0</td>\n",
       "      <td>0.0</td>\n",
       "      <td>0.0</td>\n",
       "      <td>0.0</td>\n",
       "      <td>0.0</td>\n",
       "      <td>0.0</td>\n",
       "      <td>...</td>\n",
       "      <td>0.0</td>\n",
       "      <td>0.0</td>\n",
       "      <td>0.0</td>\n",
       "      <td>0.0</td>\n",
       "      <td>0.0</td>\n",
       "      <td>0.0</td>\n",
       "      <td>0.0</td>\n",
       "      <td>0.0</td>\n",
       "      <td>0.0</td>\n",
       "      <td>0.0</td>\n",
       "    </tr>\n",
       "    <tr>\n",
       "      <th>1</th>\n",
       "      <td>0.0</td>\n",
       "      <td>1.0</td>\n",
       "      <td>1.0</td>\n",
       "      <td>1.0</td>\n",
       "      <td>0.0</td>\n",
       "      <td>0.0</td>\n",
       "      <td>0.0</td>\n",
       "      <td>0.0</td>\n",
       "      <td>0.0</td>\n",
       "      <td>0.0</td>\n",
       "      <td>...</td>\n",
       "      <td>0.0</td>\n",
       "      <td>0.0</td>\n",
       "      <td>0.0</td>\n",
       "      <td>0.0</td>\n",
       "      <td>0.0</td>\n",
       "      <td>0.0</td>\n",
       "      <td>0.0</td>\n",
       "      <td>0.0</td>\n",
       "      <td>0.0</td>\n",
       "      <td>0.0</td>\n",
       "    </tr>\n",
       "    <tr>\n",
       "      <th>3</th>\n",
       "      <td>0.0</td>\n",
       "      <td>0.0</td>\n",
       "      <td>0.0</td>\n",
       "      <td>0.0</td>\n",
       "      <td>1.0</td>\n",
       "      <td>0.0</td>\n",
       "      <td>0.0</td>\n",
       "      <td>0.0</td>\n",
       "      <td>0.0</td>\n",
       "      <td>0.0</td>\n",
       "      <td>...</td>\n",
       "      <td>0.0</td>\n",
       "      <td>0.0</td>\n",
       "      <td>0.0</td>\n",
       "      <td>0.0</td>\n",
       "      <td>0.0</td>\n",
       "      <td>0.0</td>\n",
       "      <td>0.0</td>\n",
       "      <td>0.0</td>\n",
       "      <td>0.0</td>\n",
       "      <td>0.0</td>\n",
       "    </tr>\n",
       "    <tr>\n",
       "      <th>5</th>\n",
       "      <td>0.0</td>\n",
       "      <td>0.0</td>\n",
       "      <td>0.0</td>\n",
       "      <td>0.0</td>\n",
       "      <td>0.0</td>\n",
       "      <td>1.0</td>\n",
       "      <td>1.0</td>\n",
       "      <td>1.0</td>\n",
       "      <td>0.0</td>\n",
       "      <td>0.0</td>\n",
       "      <td>...</td>\n",
       "      <td>0.0</td>\n",
       "      <td>0.0</td>\n",
       "      <td>0.0</td>\n",
       "      <td>0.0</td>\n",
       "      <td>0.0</td>\n",
       "      <td>0.0</td>\n",
       "      <td>0.0</td>\n",
       "      <td>0.0</td>\n",
       "      <td>0.0</td>\n",
       "      <td>0.0</td>\n",
       "    </tr>\n",
       "    <tr>\n",
       "      <th>8</th>\n",
       "      <td>0.0</td>\n",
       "      <td>0.0</td>\n",
       "      <td>0.0</td>\n",
       "      <td>0.0</td>\n",
       "      <td>0.0</td>\n",
       "      <td>0.0</td>\n",
       "      <td>0.0</td>\n",
       "      <td>0.0</td>\n",
       "      <td>1.0</td>\n",
       "      <td>1.0</td>\n",
       "      <td>...</td>\n",
       "      <td>0.0</td>\n",
       "      <td>0.0</td>\n",
       "      <td>0.0</td>\n",
       "      <td>0.0</td>\n",
       "      <td>0.0</td>\n",
       "      <td>0.0</td>\n",
       "      <td>0.0</td>\n",
       "      <td>0.0</td>\n",
       "      <td>0.0</td>\n",
       "      <td>0.0</td>\n",
       "    </tr>\n",
       "  </tbody>\n",
       "</table>\n",
       "<p>5 rows × 5223 columns</p>\n",
       "</div>"
      ],
      "text/plain": [
       "   Pixar Animation Studios  TriStar Pictures  Teitler Film  \\\n",
       "0                      1.0               0.0           0.0   \n",
       "1                      0.0               1.0           1.0   \n",
       "3                      0.0               0.0           0.0   \n",
       "5                      0.0               0.0           0.0   \n",
       "8                      0.0               0.0           0.0   \n",
       "\n",
       "   Interscope Communications  Twentieth Century Fox Film Corporation  \\\n",
       "0                        0.0                                     0.0   \n",
       "1                        1.0                                     0.0   \n",
       "3                        0.0                                     1.0   \n",
       "5                        0.0                                     0.0   \n",
       "8                        0.0                                     0.0   \n",
       "\n",
       "   Regency Enterprises  Forward Pass  Warner Bros.  Universal Pictures  \\\n",
       "0                  0.0           0.0           0.0                 0.0   \n",
       "1                  0.0           0.0           0.0                 0.0   \n",
       "3                  0.0           0.0           0.0                 0.0   \n",
       "5                  1.0           1.0           1.0                 0.0   \n",
       "8                  0.0           0.0           0.0                 1.0   \n",
       "\n",
       "   Imperial Entertainment      ...       Rumble Entertainment  \\\n",
       "0                     0.0      ...                        0.0   \n",
       "1                     0.0      ...                        0.0   \n",
       "3                     0.0      ...                        0.0   \n",
       "5                     0.0      ...                        0.0   \n",
       "8                     1.0      ...                        0.0   \n",
       "\n",
       "   Hollywood Storm  Czar Pictures  S Pictures  Corner Work  \\\n",
       "0              0.0            0.0         0.0          0.0   \n",
       "1              0.0            0.0         0.0          0.0   \n",
       "3              0.0            0.0         0.0          0.0   \n",
       "5              0.0            0.0         0.0          0.0   \n",
       "8              0.0            0.0         0.0          0.0   \n",
       "\n",
       "   Closed on Mondays Entertainment  Star Thrower Entertainment  \\\n",
       "0                              0.0                         0.0   \n",
       "1                              0.0                         0.0   \n",
       "3                              0.0                         0.0   \n",
       "5                              0.0                         0.0   \n",
       "8                              0.0                         0.0   \n",
       "\n",
       "   Acacia Filmed Entertainment  Кинокомпания «Lunapark»  Инвада фильм  \n",
       "0                          0.0                      0.0           0.0  \n",
       "1                          0.0                      0.0           0.0  \n",
       "3                          0.0                      0.0           0.0  \n",
       "5                          0.0                      0.0           0.0  \n",
       "8                          0.0                      0.0           0.0  \n",
       "\n",
       "[5 rows x 5223 columns]"
      ]
     },
     "execution_count": 44,
     "metadata": {},
     "output_type": "execute_result"
    }
   ],
   "source": [
    "df_filmes_produtoras[df_filmes_produtoras != 1] = 0\n",
    "df_filmes_produtoras.head()"
   ]
  },
  {
   "cell_type": "code",
   "execution_count": 45,
   "metadata": {},
   "outputs": [
    {
     "data": {
      "text/plain": [
       "RandomForestClassifier(bootstrap=True, class_weight=None, criterion='gini',\n",
       "            max_depth=None, max_features='auto', max_leaf_nodes=None,\n",
       "            min_impurity_decrease=0.0, min_impurity_split=None,\n",
       "            min_samples_leaf=1, min_samples_split=2,\n",
       "            min_weight_fraction_leaf=0.0, n_estimators=40, n_jobs=None,\n",
       "            oob_score=False, random_state=None, verbose=0,\n",
       "            warm_start=False)"
      ]
     },
     "execution_count": 45,
     "metadata": {},
     "output_type": "execute_result"
    }
   ],
   "source": [
    "X3_train, X3_test, Y3_train, Y3_test = train_test_split(df_filmes_produtoras,sim_ou_nao,test_size = 0.3)\n",
    "\n",
    "model = RandomForestClassifier(n_estimators = 40)\n",
    "model.fit(X3_train,Y3_train)"
   ]
  },
  {
   "cell_type": "code",
   "execution_count": 46,
   "metadata": {},
   "outputs": [
    {
     "data": {
      "text/plain": [
       "0.8559782608695652"
      ]
     },
     "execution_count": 46,
     "metadata": {},
     "output_type": "execute_result"
    }
   ],
   "source": [
    "model.score(X3_test,Y3_test)"
   ]
  },
  {
   "cell_type": "markdown",
   "metadata": {},
   "source": [
    "## Random Forest com todas as features"
   ]
  },
  {
   "cell_type": "code",
   "execution_count": 63,
   "metadata": {
    "scrolled": true
   },
   "outputs": [],
   "source": [
    "df_forest = pd.concat([\n",
    "    df_filmes_categorias,\n",
    "    atores_certos.drop(['Fez ou não 150 mi'],axis='columns'),\n",
    "    df_filmes_produtoras,\n",
    "    df_mega_clean.budget,\n",
    "\n",
    "], axis=1)"
   ]
  },
  {
   "cell_type": "code",
   "execution_count": 64,
   "metadata": {},
   "outputs": [
    {
     "data": {
      "text/plain": [
       "RandomForestClassifier(bootstrap=True, class_weight=None, criterion='gini',\n",
       "            max_depth=None, max_features='auto', max_leaf_nodes=None,\n",
       "            min_impurity_decrease=0.0, min_impurity_split=None,\n",
       "            min_samples_leaf=1, min_samples_split=2,\n",
       "            min_weight_fraction_leaf=0.0, n_estimators=60, n_jobs=None,\n",
       "            oob_score=False, random_state=None, verbose=0,\n",
       "            warm_start=False)"
      ]
     },
     "execution_count": 64,
     "metadata": {},
     "output_type": "execute_result"
    }
   ],
   "source": [
    "X4_train, X4_test, Y4_train, Y4_test = train_test_split(df_forest,sim_ou_nao,test_size = 0.3)\n",
    "\n",
    "model = RandomForestClassifier(n_estimators = 60)\n",
    "model.fit(X4_train,Y4_train)"
   ]
  },
  {
   "cell_type": "code",
   "execution_count": 65,
   "metadata": {},
   "outputs": [
    {
     "data": {
      "text/plain": [
       "0.8743206521739131"
      ]
     },
     "execution_count": 65,
     "metadata": {},
     "output_type": "execute_result"
    }
   ],
   "source": [
    "model.score(X4_test,Y4_test)"
   ]
  },
  {
   "cell_type": "code",
   "execution_count": 66,
   "metadata": {
    "scrolled": true
   },
   "outputs": [
    {
     "data": {
      "text/plain": [
       "[(0.12573123755944637, 'budget'),\n",
       " (0.015130078266124981, 'Adventure'),\n",
       " (0.009420883019891683, 'Animation'),\n",
       " (0.009396114277484918, 'Drama'),\n",
       " (0.007364309928414228, 'Action'),\n",
       " (0.006808801199394255, 'Comedy'),\n",
       " (0.006627907485789485, 'Family'),\n",
       " (0.005743257777899937, 'Fantasy'),\n",
       " (0.005570760454070025, 'Walt Disney Pictures'),\n",
       " (0.0053464974662359764, 'DreamWorks Animation'),\n",
       " (0.004550559016239674, 'Thriller'),\n",
       " (0.004399898744122421, 'Marvel Studios'),\n",
       " (0.004272099280299022, 'TSG Entertainment'),\n",
       " (0.004200265423955239, 'Science Fiction'),\n",
       " (0.00415857097597067, 'Romance'),\n",
       " (0.004028174140799714, 'John Ratzenberger'),\n",
       " (0.003954433324067333, 'Universal Pictures'),\n",
       " (0.003920592806723576, 'Tom Cruise'),\n",
       " (0.003854320400446638, 'Amblin Entertainment'),\n",
       " (0.0036060403359878205, 'Warner Bros.'),\n",
       " (0.0035379564378462455, 'Sunswept Entertainment'),\n",
       " (0.0035212750027112443, 'Jerry Bruckheimer Films'),\n",
       " (0.0034322054123229434, 'Twentieth Century Fox Film Corporation'),\n",
       " (0.0033329258254675676, 'Crime'),\n",
       " (0.0032781965026674434, 'Paramount Pictures'),\n",
       " (0.003242498224058283, 'Stan Lee'),\n",
       " (0.0032411489959557637, 'Legendary Pictures'),\n",
       " (0.0032090106376372125, 'Horror'),\n",
       " (0.0028178534684464647, 'Mystery'),\n",
       " (0.0028040008854725755, 'Blue Sky Studios'),\n",
       " (0.0027784563392838227, 'Columbia Pictures'),\n",
       " (0.0026948930252312982, 'Bad Robot'),\n",
       " (0.002687537166848177, 'Revolution Sun Studios'),\n",
       " (0.0026574050706669435, 'Kevin McNally'),\n",
       " (0.0026112675015091706, 'Will Smith'),\n",
       " (0.0025462264940161418, 'Centropolis Entertainment'),\n",
       " (0.002495642069947303, 'Twentieth Century Fox Animation'),\n",
       " (0.0024320457724011685, 'Cameron Diaz'),\n",
       " (0.002426374024498924, 'Mel Gibson'),\n",
       " (0.0023835781650032813, 'Julia Roberts'),\n",
       " (0.0023032618502148994, 'Illumination Entertainment'),\n",
       " (0.002266544613245563, 'Chernin Entertainment'),\n",
       " (0.0022239702541583697, 'Pixar Animation Studios'),\n",
       " (0.0022147125743500556, 'Brendan Gleeson'),\n",
       " (0.002204409586013284, 'Adam Sandler'),\n",
       " (0.002175571372917613, 'Anna Faris'),\n",
       " (0.002173089803393047, 'DreamWorks SKG'),\n",
       " (0.0021417107444900163, 'New Line Cinema'),\n",
       " (0.0021115435498261868, 'Evergreen Media Group'),\n",
       " (0.002091290990342654, 'Ralph Fiennes'),\n",
       " (0.0019987927626193883, 'Timothy Spall'),\n",
       " (0.0019144088568062395, 'Tom Hanks'),\n",
       " (0.0019114080440610923, 'Lucasfilm'),\n",
       " (0.0018389865344082402, 'Harrison Ford'),\n",
       " (0.0018318716972750275, 'TF1'),\n",
       " (0.0017825472021576402, 'Sylvester Stallone'),\n",
       " (0.0017709914595203844, 'Eon Productions'),\n",
       " (0.0017159127462367204, 'Happy Madison Productions'),\n",
       " (0.0016964034695163151, 'Blinding Edge Pictures'),\n",
       " (0.0016774093690400996, 'Robin Williams'),\n",
       " (0.001673265023505514, 'Walt Disney Animation Studios'),\n",
       " (0.0016725294056239108, 'War'),\n",
       " (0.0016635753878321813, 'Bad Hat Harry Productions'),\n",
       " (0.0016460732851465128, 'Temple Hill Entertainment'),\n",
       " (0.001621013543639267, 'Columbia Pictures Corporation'),\n",
       " (0.001591495913768144, 'Touchstone Pictures'),\n",
       " (0.0015686647582868472, 'Radiant Productions'),\n",
       " (0.0015575182735725025, 'Mandarin Films Distribution Co.'),\n",
       " (0.0015521596627275022, 'Hugo Weaving'),\n",
       " (0.0015357268664380342, 'Music'),\n",
       " (0.001497727878571746, 'Liam Neeson'),\n",
       " (0.0014925410622947121, 'Enlight Pictures'),\n",
       " (0.0014899355898762103, 'Zach Galifianakis'),\n",
       " (0.001475312574481209, 'Working Title Films'),\n",
       " (0.0014719851202479328, 'Pacific Data Images (PDI)'),\n",
       " (0.0014596179416313713, 'Red Granite Pictures'),\n",
       " (0.0014590542354625123, 'Jessica Lange'),\n",
       " (0.0014509354387009922, 'Heyday Films'),\n",
       " (0.001432342035252167, 'Roger Moore'),\n",
       " (0.0014160048878017813, 'Kennedy/Marshall Company, The'),\n",
       " (0.0013965104211098628, 'Jamie Kennedy'),\n",
       " (0.001393127051553014, 'Geoffrey Keen'),\n",
       " (0.0013867997092794585, 'Kathy Bates'),\n",
       " (0.0013581526375413217, 'Glenn Close'),\n",
       " (0.0013525896749000377, 'Jon Favreau'),\n",
       " (0.001341305320341428, 'Overbrook Entertainment'),\n",
       " (0.0013341313708937748, 'Philip Ettington'),\n",
       " (0.001325761293226345, 'Colin Firth'),\n",
       " (0.0013256282343835316, 'RatPac-Dune Entertainment'),\n",
       " (0.0013238288378444412, 'Moving Picture Company (MPC)'),\n",
       " (0.0013202663653431276, 'Molly Shannon'),\n",
       " (0.0012943300983595152, 'Village Roadshow Pictures'),\n",
       " (0.0012909868723342756, 'Rimfire Films'),\n",
       " (0.0012894745815479097, 'Haxan Films'),\n",
       " (0.0012827139395886456, 'TriStar Pictures'),\n",
       " (0.0012825342442540349, 'Jim Cummings'),\n",
       " (0.0012802107264748956, 'Victor Garber'),\n",
       " (0.0012780559665217432, 'Hank Azaria'),\n",
       " (0.0012767402533773362, 'A Band Apart'),\n",
       " (0.0012697635730405659, 'Fuzzy Door Productions'),\n",
       " (0.001263663977554301, 'Bradley Cooper'),\n",
       " (0.0012441546404897237, 'StudioCanal'),\n",
       " (0.0012260949878712857, 'Ted Levine'),\n",
       " (0.0012142005997933776, 'Jim Carrey'),\n",
       " (0.0012130639554920096, 'Green Hat Films'),\n",
       " (0.001204536367988442, 'The Kennedy/Marshall Company'),\n",
       " (0.0011939790601051092, 'Eddie Murphy'),\n",
       " (0.0011907536192927053, 'Melampo Cinematografica'),\n",
       " (0.0011881302887721467, 'Regency Enterprises'),\n",
       " (0.0011651852582177352, 'David Cross'),\n",
       " (0.0011599854690630045, 'Liev Schreiber'),\n",
       " (0.0011568232715362724, 'Carolco Pictures'),\n",
       " (0.0011509249017432977, 'Stellan Skarsgård'),\n",
       " (0.0011507643962507237, 'Relativity Media'),\n",
       " (0.0011434490393303874, 'History'),\n",
       " (0.001142433824767347, 'Denzel Washington'),\n",
       " (0.0011381274020417268, 'Sony Pictures Animation'),\n",
       " (0.0011350452950816428, 'Di Bonaventura Pictures'),\n",
       " (0.0011207982174070868, 'Summit Entertainment'),\n",
       " (0.0011203146053754406, 'Philip Baker Hall'),\n",
       " (0.0011146129385410958, 'Steve Buscemi'),\n",
       " (0.0011137072818981912, 'Parkes/MacDonald Productions'),\n",
       " (0.0011068690602211472, 'Marvel Enterprises'),\n",
       " (0.0011037182558630493, 'Buena Vista'),\n",
       " (0.0011007276756861857, 'Metro-Goldwyn-Mayer (MGM)'),\n",
       " (0.0010978860010185832, 'Gary Grubbs'),\n",
       " (0.0010945707533115963, 'John Heard'),\n",
       " (0.001082570431963001, 'Bonnie Hunt'),\n",
       " (0.001081009691865241, 'Atlas Entertainment'),\n",
       " (0.0010786610122017564, 'Bluegrass Films'),\n",
       " (0.0010719698536104931, 'Dune Entertainment'),\n",
       " (0.0010685071256234027, 'Luis Guzmán'),\n",
       " (0.001058751974083789, 'Pierce Brosnan'),\n",
       " (0.0010570739876597708, 'Rob Schneider'),\n",
       " (0.0010538789139260846, 'Morgan Freeman'),\n",
       " (0.0010536515930056546, 'Perfect World Pictures (Beijing)'),\n",
       " (0.0010514629024579837, 'Mark Wahlberg'),\n",
       " (0.001046742741320731, 'Jennifer Coolidge'),\n",
       " (0.0010448011626938967, 'Donald Sutherland'),\n",
       " (0.001025423599158583, 'Hugh Grant'),\n",
       " (0.0010192316515573784, 'Ian McKellen'),\n",
       " (0.0010165343647269163, 'Samuel L. Jackson'),\n",
       " (0.0010027030145613291, 'Michael Madsen'),\n",
       " (0.0009967646212517966, 'Alan Tudyk'),\n",
       " (0.0009930935771794423, 'Brendan Fraser'),\n",
       " (0.0009869879093612915, 'Dominic West'),\n",
       " (0.0009813121173390755, 'Gary Sanchez Productions'),\n",
       " (0.0009771165062337516, 'Bruce Greenwood'),\n",
       " (0.0009681237710832577, 'Malpaso Productions'),\n",
       " (0.0009666086150046793, 'Evolution Entertainment'),\n",
       " (0.0009661607377248383, 'Max von Sydow'),\n",
       " (0.0009640804125915241, 'ImageMovers'),\n",
       " (0.0009611276790380405, 'Burt Young'),\n",
       " (0.0009603687007950415, 'Graham Greene'),\n",
       " (0.0009533926176768891, '21 Laps Entertainment'),\n",
       " (0.000953382280358105, 'Spyglass Entertainment'),\n",
       " (0.0009495731819299769, 'Octavia Spencer'),\n",
       " (0.0009483814441952918, 'Color Force'),\n",
       " (0.0009378464675056934, 'Colm Feore'),\n",
       " (0.0009377525174299249, 'Monarchy Enterprises B.V.'),\n",
       " (0.0009317552192851215, 'Flynn Picture Company'),\n",
       " (0.0009248063789967224, 'Miramax Films'),\n",
       " (0.0009234339698357497, 'Kristen Wiig'),\n",
       " (0.0009214241670521203, 'Kerner Entertainment Company'),\n",
       " (0.0009104228058260748, 'Ralph Bellamy'),\n",
       " (0.0009098047838859963, 'Arnold Schwarzenegger'),\n",
       " (0.0009058520417745186, 'WingNut Films'),\n",
       " (0.0009022224318540757, 'Kathryn Hahn'),\n",
       " (0.0008984276683215588, 'Brad Pitt'),\n",
       " (0.000895256660850639, 'Mosaic Media Group'),\n",
       " (0.0008937481556198577, 'Common'),\n",
       " (0.0008936366332700049, 'Tommy Lee Jones'),\n",
       " (0.0008898459287846798, 'James Earl Jones'),\n",
       " (0.0008863448170010096, 'Sigourney Weaver'),\n",
       " (0.0008822014863300005, 'Home Box Office (HBO)'),\n",
       " (0.0008688431397243961, 'Jess Harnell'),\n",
       " (0.0008685672638810277, 'Ian McShane'),\n",
       " (0.0008607937137093177, 'Meg Ryan'),\n",
       " (0.0008580163375821588, 'Davis Entertainment'),\n",
       " (0.0008579492061328812, 'Helena Bonham Carter'),\n",
       " (0.000857220565077792, 'Mirage Enterprises'),\n",
       " (0.0008502162024206783, 'Tribeca Productions'),\n",
       " (0.0008486505600985178, 'Skydance Productions'),\n",
       " (0.0008470632367506578, 'Ernie Hudson'),\n",
       " (0.0008468635869003984, 'George Lopez'),\n",
       " (0.0008460877679288702, 'Richard Schiff'),\n",
       " (0.0008455848365615589, 'Junction Entertainment'),\n",
       " (0.0008432185909366482, 'Sam Rockwell'),\n",
       " (0.000837885764829394,\n",
       "  'Global Entertainment Productions GmbH & Company Medien KG'),\n",
       " (0.0008374950948147539, 'Matt Damon'),\n",
       " (0.0008229329287539287, 'Ving Rhames'),\n",
       " (0.0008211543176411459, 'Parkes+MacDonald Image Nation'),\n",
       " (0.0008199604896517005, 'Woody Harrelson'),\n",
       " (0.0008193674238622428, 'Double Negative'),\n",
       " (0.0008152886455087935, 'Hemisphere Media Capital'),\n",
       " (0.0008109075165745316, 'Don Cheadle'),\n",
       " (0.0008089573195900121, 'Heyday films'),\n",
       " (0.0008080050804003879, 'Sandra Bullock'),\n",
       " (0.0008078531976920081, 'Will Ferrell'),\n",
       " (0.0008016949023424663, 'Red Om Films'),\n",
       " (0.0007969477127953515, 'Demi Moore'),\n",
       " (0.0007962995825053607, 'Ben Stiller'),\n",
       " (0.0007948265798955081, 'Matt Frewer'),\n",
       " (0.0007946399979567031, 'Terence Stamp'),\n",
       " (0.0007945365171288108, 'Julie Walters'),\n",
       " (0.0007934555700089191, 'Jodie Foster'),\n",
       " (0.0007929794938784959, 'Scott Free Productions'),\n",
       " (0.000792972474267908, 'Harris Yulin'),\n",
       " (0.000790910103474988, 'Nicole Kidman'),\n",
       " (0.000789973084023911, 'Original Film'),\n",
       " (0.0007850519602669172, 'Justin Long'),\n",
       " (0.0007834949325546038, 'Gary Oldman'),\n",
       " (0.0007805518593654036, 'Robert De Niro'),\n",
       " (0.0007775860986113279, 'Bobby Cannavale'),\n",
       " (0.0007769340005421828, 'QC Entertainment'),\n",
       " (0.000773548153285796, 'The Safran Company'),\n",
       " (0.0007731207418171151, 'Wallace Shawn'),\n",
       " (0.0007720190431543521, 'Danny Glover'),\n",
       " (0.0007718690167554076, 'Parallel Zide'),\n",
       " (0.0007717447807510656, 'Frank Oz'),\n",
       " (0.0007705241473036044, 'Jesse Eisenberg'),\n",
       " (0.0007680834483821086, 'Peter Stormare'),\n",
       " (0.0007647092873466606, 'Imagine Entertainment'),\n",
       " (0.0007632038199404268, 'Scott Rudin Productions'),\n",
       " (0.0007577576897200846, 'Dolph Lundgren'),\n",
       " (0.0007575387454952486, 'Gary Cole'),\n",
       " (0.0007563361419984359, 'Wendy Finerman Productions'),\n",
       " (0.0007545855205750209, 'Mila Kunis'),\n",
       " (0.0007533826690866614, 'Dentsu'),\n",
       " (0.0007528531596730936, 'Ewan McGregor'),\n",
       " (0.0007523160884693645, 'Bob Gunton'),\n",
       " (0.0007513439008248433, 'Channing Tatum'),\n",
       " (0.0007512727862045902, 'Kristen Stewart'),\n",
       " (0.0007490771986669891, 'Michael Byrne'),\n",
       " (0.0007427022335564689, 'Kristin Scott Thomas'),\n",
       " (0.000741729586290947, 'Frances Conroy'),\n",
       " (0.0007407348571041004, 'Silver Pictures'),\n",
       " (0.0007377437332006401, 'Hey Eddie'),\n",
       " (0.000736953246434402, 'Lions Gate Films'),\n",
       " (0.0007359557117329878, 'Jeffrey Tambor'),\n",
       " (0.0007358930372664209, 'Paul Giamatti'),\n",
       " (0.0007352181893988122, 'Playtone'),\n",
       " (0.0007351382385546491, 'Big Screen Productions'),\n",
       " (0.0007331859119159562, 'Simon Pegg'),\n",
       " (0.0007324969397793501, 'Monica Bellucci'),\n",
       " (0.0007310911500494876, 'Dickhouse Productions'),\n",
       " (0.000728528529415744, 'Icon Productions'),\n",
       " (0.0007271997713441444, 'Monkeypaw Productions'),\n",
       " (0.0007259609467193233, 'John Cho'),\n",
       " (0.0007237143316252651, 'Seth Green'),\n",
       " (0.0007226489387620554, 'New Regency Pictures'),\n",
       " (0.0007212602112259679, 'Ben Affleck'),\n",
       " (0.0007210344534103777, 'Daniel Stern'),\n",
       " (0.0007205820140571464, 'John Malkovich'),\n",
       " (0.0007201982610792411, 'Blythe Danner'),\n",
       " (0.0007183963772652087, 'Orlando Bloom'),\n",
       " (0.0007146980482851203, 'Drew Barrymore'),\n",
       " (0.0007145761882409419, 'Vince Vaughn'),\n",
       " (0.0007117953084026783, 'Nathan Lane'),\n",
       " (0.0007108273685071284, 'Alcon Entertainment'),\n",
       " (0.0007015751805736427, 'Dimension Films'),\n",
       " (0.0006997493373343748, 'Miramax'),\n",
       " (0.0006976971954694668, 'Dan Aykroyd'),\n",
       " (0.0006964535820213219, 'David Brown Productions'),\n",
       " (0.0006962513889019366, 'Vertigo Entertainment'),\n",
       " (0.0006961670421036602, 'Rick Overton'),\n",
       " (0.0006939148732140007, 'David Wenham'),\n",
       " (0.000692992813615386, 'Cruise/Wagner Productions'),\n",
       " (0.0006927607775581588, 'Kirsten Dunst'),\n",
       " (0.0006919970614029258, 'Kevin Nealon'),\n",
       " (0.0006909858734434308, 'Kevin Bacon'),\n",
       " (0.0006898335238637193, 'David Koechner'),\n",
       " (0.0006886294964748367, 'Michael Clarke Duncan'),\n",
       " (0.0006872121958154857, 'J.K. Simmons'),\n",
       " (0.000686415257543076, 'Miriam Margolyes'),\n",
       " (0.0006849889190800291, 'John Cleese'),\n",
       " (0.0006830645077585682, 'Rupert Everett'),\n",
       " (0.0006827014084227866, 'Kim Coates'),\n",
       " (0.0006825470502458968, 'Alphaville Films'),\n",
       " (0.0006791391402867769, 'River Road Entertainment'),\n",
       " (0.0006739979590513499, 'China Film Group'),\n",
       " (0.0006719334592880878, 'Benjamin Bratt'),\n",
       " (0.0006716033276453789, 'Hasbro Studios'),\n",
       " (0.0006701021842471101, 'Cillian Murphy'),\n",
       " (0.0006660980352170149, 'William Fichtner'),\n",
       " (0.0006645500160114927, 'FilmColony'),\n",
       " (0.0006618389764601916, 'Ray Winstone'),\n",
       " (0.0006617499429821198, 'Levantine Films'),\n",
       " (0.0006590826094582308, 'Marjorie Bennett'),\n",
       " (0.0006573911349281017, 'John Michael Higgins'),\n",
       " (0.000657294547998285, 'Bryan Brown'),\n",
       " (0.0006569440070606961, 'Richard Griffiths'),\n",
       " (0.0006567731736460967, 'Billy Connolly'),\n",
       " (0.0006542475879615141, 'Héctor Elizondo'),\n",
       " (0.0006534283320117316, 'Fox 2000 Pictures'),\n",
       " (0.0006527018849615401, 'Walter Gotell'),\n",
       " (0.0006522438564417615, 'Casey Affleck'),\n",
       " (0.0006520588431497201, 'Steve Coogan'),\n",
       " (0.0006517613419040375, 'Nickelodeon Movies'),\n",
       " (0.000650875615619672, 'James Remar'),\n",
       " (0.0006498984897811514, 'Seann William Scott'),\n",
       " (0.00064394443172734, 'Geoffrey Rush'),\n",
       " (0.0006439012008890945, 'Bedford Falls Productions'),\n",
       " (0.0006405625483228391, 'Xander Berkeley'),\n",
       " (0.0006393498232846362, 'Tiger Aspect Productions'),\n",
       " (0.0006379178465620982, 'Sean Bean'),\n",
       " (0.0006373407028030479, 'Beijing Enlight Pictures'),\n",
       " (0.0006362385888726345, 'Gene Hackman'),\n",
       " (0.0006354734753241695, 'Joan Cusack'),\n",
       " (0.0006354079660272372, 'Keanu Reeves'),\n",
       " (0.0006331287810480799, 'Aggregate Films'),\n",
       " (0.000632854868277062, 'Kanzaman'),\n",
       " (0.0006325536518143419, 'Amy Poehler'),\n",
       " (0.0006308623692893211, 'Michael J. Fox'),\n",
       " (0.000629874131363804, 'Brandywine Productions'),\n",
       " (0.0006292929481438574, 'Leslie Caron'),\n",
       " (0.0006292561524766179, 'Thunder Road Pictures'),\n",
       " (0.000628408833086037, 'Corey Burton'),\n",
       " (0.0006265926598542567, 'Kevin Costner'),\n",
       " (0.0006245172842636574, 'Charlize Theron'),\n",
       " (0.0006241001141637226, 'Christian Slater'),\n",
       " (0.00061713250978228, 'Barry Mendel Productions'),\n",
       " (0.0006167836663642234, 'Anjelica Huston'),\n",
       " (0.0006161164949729012, 'Natasha Lyonne'),\n",
       " (0.0006158108446908194, 'Beijing New Picture Film Co. Ltd.'),\n",
       " (0.0006145612954626777, 'Dwayne Johnson'),\n",
       " (0.0006139943217537025, 'Ben Kingsley'),\n",
       " (0.0006115990052782198, 'Thomas Lennon'),\n",
       " (0.0006115736431908269, 'Arka Media Works'),\n",
       " (0.0006074320753917327, 'Sterling Hayden'),\n",
       " (0.0006072101612453832, 'David Rasche'),\n",
       " (0.0006068719399660218, 'Studio Ghibli'),\n",
       " (0.0006056723552284207, 'Michael Douglas'),\n",
       " (0.0006039172502824299, 'Frank Whaley'),\n",
       " (0.0006038629744512278, 'Charlie Sheen'),\n",
       " (0.0006037757165937715, 'Walt Disney Productions'),\n",
       " (0.000603617074832733, 'United Artists'),\n",
       " (0.0005982860558992205, 'Beth Grant'),\n",
       " (0.0005973344240650294, 'Cary Elwes'),\n",
       " (0.0005969564970049973, 'John Travolta'),\n",
       " (0.0005966387585926259, 'Irrfan Khan'),\n",
       " (0.0005948754963270847, 'Brad Grey Pictures'),\n",
       " (0.0005940111898615513, 'Anil Kapoor'),\n",
       " (0.0005919790443701634, 'Chris Cooper'),\n",
       " (0.0005904004266049457, 'Scott Glenn'),\n",
       " (0.0005897584003285249, 'Holland Taylor'),\n",
       " (0.0005893607354171239, 'Carmen Electra'),\n",
       " (0.0005886452587839632, 'Rebecca De Mornay'),\n",
       " (0.0005886038665015114, 'Lucy Liu'),\n",
       " (0.0005873102563415631, 'Be Gentlemen Limited Partnership'),\n",
       " (0.000586283575030902, 'Isabelle Huppert'),\n",
       " (0.0005861405446306044, 'DumbDumb'),\n",
       " (0.0005856061115977519, 'Christopher Walken'),\n",
       " (0.0005852362516843891, 'Peter Gallagher'),\n",
       " (0.0005850934570230075, 'James Franco'),\n",
       " (0.0005845937912127853, 'Jennifer Garner'),\n",
       " (0.0005841141139050571, 'Roy Scheider'),\n",
       " (0.0005833963806058015, 'Jane Seymour'),\n",
       " (0.0005827494592374093, 'Charles Napier'),\n",
       " (0.0005819499327458209, 'Eugene Levy'),\n",
       " (0.0005775508667730747, 'Mace Neufeld Productions'),\n",
       " (0.0005775124833719437, 'Tom Wilkinson'),\n",
       " (0.0005754294476729747, 'Angelina Jolie'),\n",
       " (0.0005753333910630775, 'Lionsgate'),\n",
       " (0.0005746738713751442, 'Western'),\n",
       " (0.0005741516640476857, 'Clive Owen'),\n",
       " (0.0005741353220195456, 'Joseph M. Singer Entertainment'),\n",
       " (0.0005735136122009543, 'Steve White Entertainment'),\n",
       " (0.0005724914560225399, 'Jun Kunimura'),\n",
       " (0.0005721461337752757, 'Kath Soucie'),\n",
       " (0.0005721022129408352, 'Twisted Pictures'),\n",
       " (0.0005718933415125457, 'Anne Archer'),\n",
       " (0.0005715031961565825, 'Christopher Lee'),\n",
       " (0.0005711645251669322, 'Moroni Olsen'),\n",
       " (0.0005695611103076268, 'Patrick Stewart'),\n",
       " (0.0005690377190560311, 'Waverly Films'),\n",
       " (0.0005670901146493632, 'Wild West Picture Show Productions'),\n",
       " (0.0005667883268570686, 'Tobin Bell'),\n",
       " (0.00056606681330796, 'Michelle Pfeiffer'),\n",
       " (0.0005645225533828897, 'Leonardo DiCaprio'),\n",
       " (0.0005641506359458851, 'Maya Rudolph'),\n",
       " (0.0005622567071978272, 'Owen Wilson'),\n",
       " (0.000558810201334015, 'Winona Ryder'),\n",
       " (0.0005583741093347972, 'David Arquette'),\n",
       " (0.0005581705717286194, 'Margo Martindale'),\n",
       " (0.0005568716574896234, \"Donners' Company\"),\n",
       " (0.000555557628126354, 'Natalie Portman'),\n",
       " (0.000555017378508596, 'LionsGate'),\n",
       " (0.0005535729148522001, 'Jeremy Irons'),\n",
       " (0.0005530002196671647, 'Meryl Streep'),\n",
       " (0.0005527768869426401, 'Olivier Gourmet'),\n",
       " (0.0005496639540614499, 'Tony Curran'),\n",
       " (0.0005492161952101531, 'Clint Howard'),\n",
       " (0.0005467164161114357, 'Michael Caine'),\n",
       " (0.000546009095878148, 'Davis Films'),\n",
       " (0.000545274993851974, \"Catherine O'Hara\"),\n",
       " (0.0005450074134105301, 'Stephen Root'),\n",
       " (0.0005443478541766946, 'Marvel Entertainment'),\n",
       " (0.0005443173506341672, 'Danny DeVito'),\n",
       " (0.00054189259788514, 'Castle Rock Entertainment'),\n",
       " (0.0005415333180636496, 'Stephen Tobolowsky'),\n",
       " (0.0005414555584953392, 'Elizabeth Peña'),\n",
       " (0.0005412062996394517, 'Barry Pepper'),\n",
       " (0.0005411232468530038, 'Peter Coyote'),\n",
       " (0.0005406833360469581, 'Alan Rickman'),\n",
       " (0.0005402249384029622, 'Richard Crenna'),\n",
       " (0.0005399769175806962, 'Joss Ackland'),\n",
       " (0.0005397797036028786, 'The Weinstein Company'),\n",
       " (0.0005394141328105059, 'Frances Fisher'),\n",
       " (0.0005384279595494443, 'Rob Riggle'),\n",
       " (0.0005377458995323517, 'Jason Lee'),\n",
       " (0.0005376419817952108, 'Tree Line Films'),\n",
       " (0.00053640431911231, 'Harry Shearer'),\n",
       " (0.0005364017273065638, 'Heather Graham'),\n",
       " (0.0005359531431596377, 'Roger Corman'),\n",
       " (0.0005342046389642004, 'Warner Animation Group'),\n",
       " (0.0005334114421144419, 'Bill Cobbs'),\n",
       " (0.000533283575281929, 'Jack Nicholson'),\n",
       " (0.0005330696951946419, 'Joe Pantoliano'),\n",
       " (0.0005317304115474445, 'Adam Goldberg'),\n",
       " (0.0005286043336452201, 'Kathy Najimy'),\n",
       " (0.000528086849058917, 'Sean Connery'),\n",
       " (0.0005275193925543683, 'Bill Paxton'),\n",
       " (0.0005271722115646346, 'DreamWorks'),\n",
       " (0.0005257704056971422, 'Jason Bateman'),\n",
       " (0.0005242533827559545, 'Jack Black'),\n",
       " (0.0005225702521858903, 'George Clooney'),\n",
       " (0.0005224081036530531, 'Larry Miller'),\n",
       " (0.0005211940050185084, 'Constantin Film'),\n",
       " (0.0005202711588080876, 'Wendy Crewson'),\n",
       " (0.0005197491604158261, 'Hoya Productions'),\n",
       " (0.0005181122652853807, 'Sharon Stone'),\n",
       " (0.0005177488647676463, 'Clint Eastwood'),\n",
       " (0.0005174692052627151, 'James Rebhorn'),\n",
       " (0.0005173290948677212, 'Impact Pictures'),\n",
       " (0.0005160397503461571, 'Motion Picture Corporation of America (MPCA)'),\n",
       " (0.0005157677140052988, 'Nick Nolte'),\n",
       " (0.0005153539119557131, 'Kinberg Genre'),\n",
       " (0.0005138000828733828, 'Johnny Lever'),\n",
       " (0.0005137315914935758, 'Perfect World Pictures'),\n",
       " (0.0005131080532647118, 'Alfred Molina'),\n",
       " (0.0005128831591241419, 'Virgin Produced'),\n",
       " (0.0005114010657274135, 'Scarlett Johansson'),\n",
       " (0.0005113684547634792, 'Dan Hedaya'),\n",
       " (0.0005110011831987347, 'Cynthia Nixon'),\n",
       " (0.0005109471672835351, 'Carla Gugino'),\n",
       " (0.0005099006654545382, 'Blue Wolf'),\n",
       " (0.0005095769168063543, 'Laraine Newman'),\n",
       " (0.0005090609636359502, 'Gilbert Films'),\n",
       " (0.0005086648368587275, 'Rose Byrne'),\n",
       " (0.0005070464476078181, 'Ciarán Hinds'),\n",
       " (0.0005052404730670259, 'Vincent Schiavelli'),\n",
       " (0.0005049836686050257, 'Konrad Pictures'),\n",
       " (0.0005044129125126618, 'John Turturro'),\n",
       " (0.0005026956944710882, 'Cate Blanchett'),\n",
       " (0.0005025879130425878, 'Black Rhino Productions'),\n",
       " (0.0005003141028192355, 'Christopher Plummer'),\n",
       " (0.0005003005737185205, 'Management Company Entertainment Group (MCEG)'),\n",
       " (0.0004991993874217665, 'Anna Levine'),\n",
       " (0.0004990400016163571, 'Dylan Baker'),\n",
       " (0.0004982199657650385, 'Chaocorp'),\n",
       " (0.0004976555009056045, 'Good Machine'),\n",
       " (0.00049754622548517, 'Elijah Wood'),\n",
       " (0.0004972280445316652, 'Kevin Pollak'),\n",
       " (0.0004970681638712251, 'Murray Hamilton'),\n",
       " (0.000496940059727215, 'Pandemonium'),\n",
       " (0.000494882107748422, 'Jake Busey'),\n",
       " (0.0004937953439814561, 'Impostor Pictures'),\n",
       " (0.0004926913331939884, 'Alec Baldwin'),\n",
       " (0.0004924526358841576, 'Robert Taylor'),\n",
       " (0.0004921778883728865, 'Burgess Meredith'),\n",
       " (0.0004921602159164658, 'Josh Brolin'),\n",
       " (0.0004913403837064538, 'Skydance Media'),\n",
       " (0.0004908211629696417, 'Anthony Mackie'),\n",
       " (0.0004906463883434142, 'Institut Valenciã de Cinematografia (IVAC)'),\n",
       " (0.0004885950194211665, 'Lainie Kazan'),\n",
       " (0.0004871837151536418, 'China Film Co-Production Corporation'),\n",
       " (0.0004852599843882936, 'Cappa Productions'),\n",
       " (0.0004851499089957544, 'WV Films IV'),\n",
       " (0.00048404731974370827, 'Jonathan Pryce'),\n",
       " (0.00048395978410572935, 'Billy Gilbert'),\n",
       " (0.0004825579441194782, 'Frank Welker'),\n",
       " (0.00048227363071909004, 'Bill Murray'),\n",
       " (0.0004817780794193901, 'Bungalow 78 Productions'),\n",
       " (0.0004811395041005685, 'Timothy Dalton'),\n",
       " (0.00047868616065982266, 'MPH Entertainment Productions'),\n",
       " (0.00047791401967643455, 'Marion Cotillard'),\n",
       " (0.00047764794301268984, 'DC Entertainment'),\n",
       " (0.0004772257100076969, 'Sommers Company, The'),\n",
       " (0.0004747468275360413, 'Hugh Jackman'),\n",
       " (0.0004740986092866202, 'Sam Neill'),\n",
       " (0.00047400303743040304, 'Walden Media'),\n",
       " (0.00047333687488350547, 'Canal+'),\n",
       " (0.00047223590040208687, 'Principato-Young Entertainment'),\n",
       " (0.00047063626378637043, 'Willem Dafoe'),\n",
       " (0.0004703679655006606, 'Vincent Newman Entertainment'),\n",
       " (0.00047003891844019606, 'Matthew Lillard'),\n",
       " (0.00047001202615973634, 'John Goodman'),\n",
       " (0.00046944528401860754, 'Simon Callow'),\n",
       " (0.000469366426723051, 'Treat Williams'),\n",
       " (0.0004690369928465516, '87Eleven'),\n",
       " (0.0004688891262212725, 'Denise Richards'),\n",
       " (0.00046756658834419887, 'Ingenious Film Partners'),\n",
       " (0.00046728723994897344, 'Clark Gregg'),\n",
       " (0.0004669741702837391, 'Plan B Entertainment'),\n",
       " (0.0004663568340611759, 'Jonah Hill'),\n",
       " (0.0004650889923697687, 'Albert Finney'),\n",
       " (0.00046507503131050596, 'Terrence Howard'),\n",
       " (0.00046384971473075576, 'Johnny Depp'),\n",
       " (0.0004626141136043219, 'John Rhys-Davies'),\n",
       " (0.0004620595227818088, 'Jim Broadbent'),\n",
       " (0.0004597024434039964, 'Anthony Hopkins'),\n",
       " (0.0004593032765969118, 'Ron Perlman'),\n",
       " (0.00045848875788444986, 'Jeremy Piven'),\n",
       " (0.0004581940862798524, 'Zooey Deschanel'),\n",
       " (0.0004572772498193464, 'U-Drive Productions'),\n",
       " (0.0004568072483748539, 'Joe Don Baker'),\n",
       " (0.00045624489665543037, 'William Atherton'),\n",
       " (0.00045377276248484633, 'Left Tackle Pictures'),\n",
       " (0.00045333874095194267, 'Jason Flemyng'),\n",
       " (0.00045297946434139037, 'Brownstone Productions'),\n",
       " (0.00045220706915569445, 'Paul Winfield'),\n",
       " (0.00045212440786310433, 'Bernard Lee'),\n",
       " (0.00045139088538550127, 'Chiwetel Ejiofor'),\n",
       " (0.0004511024993235729, 'Claire Bloom'),\n",
       " (0.0004498240948596969, 'Silver Screen Partners IV'),\n",
       " (0.0004498046999519769, 'Woods Entertainment'),\n",
       " (0.0004497395952171934, 'Terry Crews'),\n",
       " (0.0004496873192034859, 'Rogue Marble'),\n",
       " (0.0004493199734551594, 'Jane Lynch'),\n",
       " (0.0004491643849123441, 'One Race Films'),\n",
       " (0.00044785141906342245, 'Revolution Studios'),\n",
       " (0.000447362402108891, 'Michael Sheen'),\n",
       " (0.0004473531082419684, 'Patrick Dempsey'),\n",
       " (0.0004459812961743652, 'Martin Landau'),\n",
       " (0.0004458646026358812, 'Everyman Pictures'),\n",
       " (0.0004456253235722046, 'Tracey Walter'),\n",
       " (0.0004452121932918144, 'Zide-Perry Productions'),\n",
       " (0.00044445485685282426, '1492 Pictures'),\n",
       " (0.00044407830553984943, 'Kevin Dunn'),\n",
       " (0.0004440245814990498, 'Christine Baranski'),\n",
       " (0.0004427685532388925, 'Seth Rogen'),\n",
       " (0.000441809324512105, 'Sterling Holloway'),\n",
       " (0.0004408702489295091, 'Matt Walsh'),\n",
       " (0.0004404282662392282, 'Sean Penn'),\n",
       " (0.0004390012265478295, 'Studio Babelsberg'),\n",
       " (0.00043857459061902586, 'John C. Reilly'),\n",
       " (0.0004385388743160461, 'Vin Diesel'),\n",
       " (0.00043825710544047065, 'Penélope Cruz'),\n",
       " (0.0004379508847782827, 'Michael Fassbender'),\n",
       " (0.0004372060327317154, 'Indochina Productions'),\n",
       " (0.00043683197383030903, 'Bruce Willis'),\n",
       " (0.0004354596916307062, 'Armin Mueller-Stahl'),\n",
       " (0.00043456650892224793, 'Media Rights Capital'),\n",
       " (0.0004344491190038517, 'James Woods'),\n",
       " (0.00043439729283116393, 'Matten Productions'),\n",
       " (0.0004320673892013122, 'Anton Yelchin'),\n",
       " (0.0004319751584025668, 'Allison Janney'),\n",
       " (0.00043116362910468667, 'Red Wagon Productions'),\n",
       " (0.0004311562517841185, 'Antonio Banderas'),\n",
       " (0.0004310764922826122, 'Disruption Entertainment'),\n",
       " (0.0004310637905182591, 'Mars Media Beteiligungs'),\n",
       " (0.00043024090859198526, 'Hypnotic'),\n",
       " (0.0004287217374048005, 'Bryan Cranston'),\n",
       " (0.000427902025523827, 'Double Feature Films'),\n",
       " (0.00042631504272276985, 'Two Ton Films'),\n",
       " (0.00042623877959154654, 'Baltimore Pictures'),\n",
       " (0.0004259729538139045, 'Kontsept Film Company'),\n",
       " (0.0004258610648719831, 'Rachel Weisz'),\n",
       " (0.00042573125899857025, 'Elisabeth Shue'),\n",
       " (0.0004245303246196871, 'Dark Horse Entertainment'),\n",
       " (0.0004231663321509518, 'Jon Gries'),\n",
       " (0.0004226786773064365, 'Compulsion Inc.'),\n",
       " (0.0004225760085371382, 'Cary-Hiroyuki Tagawa'),\n",
       " (0.00042231960452465087, 'Tom Kenny'),\n",
       " (0.0004219935992113306, 'South Side Amusement Company'),\n",
       " (0.0004209764585863287, 'Leslie Mann'),\n",
       " (0.0004204996686221555, 'Robert Simonds Productions'),\n",
       " (0.00041964992955547206, 'Art In Motion'),\n",
       " (0.0004195091596895349, 'Danny McBride'),\n",
       " (0.00041934762761596585, 'Nippon Television Network (NTV)'),\n",
       " (0.00041911565291162403, 'Christopher Lloyd'),\n",
       " (0.00041685916468767095, 'Albert S. Ruddy Productions'),\n",
       " (0.00041589815255949666, 'Beacon Communications'),\n",
       " (0.0004152079147132801, 'Kevin Hart'),\n",
       " (0.0004151914386236857, 'Frances McDormand'),\n",
       " (0.0004144469625192556, 'Bill Pullman'),\n",
       " (0.00041443519617213263, 'Mark Gordon Productions'),\n",
       " (0.00041388692532746973, 'Keira Knightley'),\n",
       " (0.0004136670145659151, 'Robert Duvall'),\n",
       " (0.000413172901643756, 'Sony Pictures Releasing'),\n",
       " (0.00041208901098873263, 'Paul Bettany'),\n",
       " (0.0004111116963572405, 'Offspring Entertainment'),\n",
       " (0.000410331167886047, 'Dianne Wiest'),\n",
       " (0.0004099183029450506, 'Strike Entertainment'),\n",
       " (0.00040971003840123535, 'Joan Plowright'),\n",
       " (0.0004091932634762999, 'Nick Stahl'),\n",
       " (0.0004078642812843621, \"It's a Laugh Productions\"),\n",
       " (0.0004067382083251749, 'Walt Disney Studios Motion Pictures'),\n",
       " (0.0004059508551514907, 'James McAvoy'),\n",
       " (0.0004056510592054858, 'Robert Patrick'),\n",
       " (0.0004055133524943675, 'Screen Gems'),\n",
       " (0.0004049934482194922, 'Famke Janssen'),\n",
       " (0.0004045853565973919, 'Bill Nighy'),\n",
       " (0.00040402249334780535, 'Jon Voight'),\n",
       " (0.0004035928140507291, 'Queen Latifah'),\n",
       " (0.0004035696385797277, 'Centropolis Film Productions'),\n",
       " (0.000402454426830578, 'Jennifer Aniston'),\n",
       " (0.00040125825693594787, 'Danny Huston'),\n",
       " (0.00039832134314556034, 'Edward Furlong'),\n",
       " (0.0003981926747930379, 'Pat Hingle'),\n",
       " (0.0003979586251447637, 'Michelle Monaghan'),\n",
       " (0.00039778088421471087, 'Richard Jenkins'),\n",
       " (0.00039763251253847865, 'Paul Reubens'),\n",
       " (0.00039658693715057436, 'Fox Searchlight Pictures'),\n",
       " (0.0003962689054772477, 'Minnie Driver'),\n",
       " (0.00039421464402972624, 'Dean Jones'),\n",
       " (0.0003940979974960622, 'Warner Bros. Pictures'),\n",
       " (0.0003940849247977926, 'Conundrum Entertainment'),\n",
       " (0.00039400307140755985, 'Djimon Hounsou'),\n",
       " (0.000393182691949161, 'Aardman Animations'),\n",
       " (0.00039306702143030765, 'Christina Ricci'),\n",
       " (0.0003914798050468677, 'Orion Pictures'),\n",
       " (0.00039127628749593827, 'Will Arnett'),\n",
       " (0.00039079799447757545, 'Cube Vision'),\n",
       " (0.00039078484883461396, 'Anne Heche'),\n",
       " (0.00039013207747236214, 'BrownHouse Productions'),\n",
       " (0.00038989101382755624, 'Delroy Lindo'),\n",
       " (0.0003896494523013343, 'Thomas Kretschmann'),\n",
       " (0.0003889174383495531, 'Rade Serbedzija'),\n",
       " (0.00038812597185898604, 'Cedric the Entertainer'),\n",
       " (0.00038810543167687824, 'Mandeville Films'),\n",
       " (0.0003880874249560059, 'Laurence Fishburne'),\n",
       " (0.00038795286218273395, 'Nino Manfredi'),\n",
       " (0.0003875142547790068, 'Kim Cattrall'),\n",
       " (0.0003874229219833022, 'Artisan Entertainment'),\n",
       " (0.0003860233709762144, 'Broken Road Productions'),\n",
       " (0.0003858994407316718, 'GK Films'),\n",
       " (0.00038587436436404097, 'Sean Astin'),\n",
       " (0.0003856674854139102, 'Dune Entertainment III'),\n",
       " (0.0003854210143831447, 'Icon Entertainment International'),\n",
       " (0.0003853275638857816, 'Renée Zellweger'),\n",
       " (0.0003853144183535735, 'Cheech Marin'),\n",
       " (0.00038530659726901064, 'Liberty Pictures'),\n",
       " (0.00038453037387497596, 'Jerry Weintraub Productions'),\n",
       " (0.00038440026438991157, 'R. Lee Ermey'),\n",
       " (0.00038374632447911417, 'Craig Sheffer'),\n",
       " (0.00038222047935163825, 'Ten Films'),\n",
       " (0.0003806096172741052, 'Gwyneth Paltrow'),\n",
       " (0.00037944417524841555,\n",
       "  'The Department of Trade and Industry of South Africa'),\n",
       " (0.0003791376484898402, 'Lakeshore Entertainment'),\n",
       " (0.0003789800010827818, 'Kennedy Miller Productions'),\n",
       " (0.00037842368088617385, 'Rachel Griffiths'),\n",
       " (0.00037809587418221084, 'Jeff Bridges'),\n",
       " (0.0003772740245582337, 'Ontario Film Development Corporation'),\n",
       " (0.0003750554501876423, 'Gina Gershon'),\n",
       " (0.00037409873022832996, 'Milla Jovovich'),\n",
       " (0.0003737159268118795, 'Ed Harris'),\n",
       " (0.0003722759544499915, 'Gordon Liu Chia-Hui'),\n",
       " (0.00037226604409579375, 'Versátil Cinema'),\n",
       " (0.0003718480763937403, 'Halle Berry'),\n",
       " (0.0003717047040739443, 'Montecito Picture Company, The'),\n",
       " (0.0003716488598684401, 'Lava Bear Films'),\n",
       " (0.0003712904268923877, 'Will Wright'),\n",
       " (0.00037114835359612045, 'Super Cool ManChu'),\n",
       " (0.00037098220593401356, 'Columbia Pictures Film Production Asia'),\n",
       " (0.000370824365028426, 'Demarest Media'),\n",
       " (0.0003701547551076369, 'Judy Greer'),\n",
       " (0.0003696815373651264, 'Robert Wagner'),\n",
       " (0.0003689862029547925, 'Mena Suvari'),\n",
       " (0.000368904673744167, 'Jackie Chan'),\n",
       " (0.0003688752569115334, 'Davis-Films'),\n",
       " (0.00036809167624157307, 'Matthew McConaughey'),\n",
       " (0.0003678417023085859, 'Jamie Foxx'),\n",
       " (0.00036752405617625217, 'Fred Willard'),\n",
       " (0.0003671109254191514, 'Cecchi Gori Pictures'),\n",
       " (0.00036685852423166997, 'Focus Features'),\n",
       " (0.0003660647976722525, 'Joe Spinell'),\n",
       " (0.0003653887603143957, 'Chris Penn'),\n",
       " (0.00036537496524383106, 'Alan Cumming'),\n",
       " (0.0003652986039863484, 'Jennifer Connelly'),\n",
       " (0.00036519224330629847, 'Brion James'),\n",
       " (0.0003650598126017802, 'Scott Adkins'),\n",
       " (0.0003640695625286035, 'Philip Seymour Hoffman'),\n",
       " (0.000362557018211221, 'Jason Alexander'),\n",
       " (0.00036249988289221806, 'Initial Entertainment Group (IEG)'),\n",
       " (0.0003623351894071552, 'Mike Zoss Productions'),\n",
       " (0.00036219990567390627, 'Christina Applegate'),\n",
       " (0.00036201079230785123, 'Dustin Hoffman'),\n",
       " (0.00036198077574763104, 'Michael Parks'),\n",
       " (0.0003618783348170028, 'Robert Prosky'),\n",
       " (0.0003618710974193406, 'Rene Auberjonois'),\n",
       " (0.00036186882996203676, 'FilmNation Entertainment'),\n",
       " (0.00036165222091894076, 'Martin Freeman'),\n",
       " (0.0003606077364829554, 'Millar Gough Ink'),\n",
       " (0.0003603887216695193, 'Eddie Marsan'),\n",
       " (0.00036022260575329317, 'Saw 2 Productions'),\n",
       " (0.0003599992622662953, 'Media Rights Capital (MRC)'),\n",
       " (0.0003598957015273372, 'Daniel Brühl'),\n",
       " (0.00035889828433775724, 'Strong Heart/Demme Production'),\n",
       " (0.00035745948522671663, 'Double Nickel Entertainment'),\n",
       " (0.0003569676228724462, 'Billy Crystal'),\n",
       " (0.00035688755941176085, 'Darren Star Productions'),\n",
       " (0.0003566628228709787, 'Cruella Productions'),\n",
       " (0.00035659160863588747, 'Emma Thompson'),\n",
       " (0.0003565032573495788, 'Rogue Pictures'),\n",
       " (0.00035559708314678924, 'Taurus Film'),\n",
       " (0.00035543061490208856, 'Michael Ironside'),\n",
       " (0.0003548680684172965, 'Paramount Animation'),\n",
       " (0.00035483863739446496, 'Chris Messina'),\n",
       " (0.00035458689031262137, 'Shinework Media'),\n",
       " (0.00035447696036351115, 'Stanley Tucci'),\n",
       " (0.00035437077651910066, 'Jean Rochefort'),\n",
       " (0.0003543472670202495, 'David Ogden Stiers'),\n",
       " (0.0003532253713638104, 'American Empirical Pictures'),\n",
       " (0.00035320247127003905, 'Jack Palance'),\n",
       " (0.00035220365542300573, 'Taihe Entertainment'),\n",
       " (0.0003514069029080218, 'Crucial Films'),\n",
       " (0.00035088544323146287, 'Matt Craven'),\n",
       " (0.00035088453415521326, 'Cliff Robertson'),\n",
       " (0.00034990454721167116, 'Viz Media'),\n",
       " (0.00034969357363752354, 'Phil LaMarr'),\n",
       " (0.00034968308626643485, 'Richard Riehle'),\n",
       " (0.00034944532254029323, 'Dean Norris'),\n",
       " (0.00034941041290690537, 'Dakota Fanning'),\n",
       " (0.0003490589323656847, 'Reliance Entertainment'),\n",
       " (0.0003486553037531881, 'Michael Peña'),\n",
       " (0.000347638611195251, 'Jessica Alba'),\n",
       " (0.0003475413205374841, 'Olivia Williams'),\n",
       " (0.0003469460782280162, 'Russell Crowe'),\n",
       " (0.00034643090695861325, 'Tim Burton Productions'),\n",
       " (0.0003455972018623713, 'Whoopi Goldberg'),\n",
       " (0.0003453396308623132, 'Hollywood Pictures'),\n",
       " (0.0003446498292226086, 'Salma Hayek'),\n",
       " (0.0003446286652129792, 'Rob Lowe'),\n",
       " (0.00034426325279189715, 'Mutual Film Company'),\n",
       " (0.000344254308083897, 'TF1 Films Production'),\n",
       " (0.0003433276376210162, 'Alan Arkin'),\n",
       " (0.0003423553674885363, 'Anne Hathaway'),\n",
       " (0.00034219365141107457, 'Cuba Gooding Jr.'),\n",
       " (0.00034213646525335916, 'Laura Linney'),\n",
       " (0.0003418784940966771, 'warner bross Turkey'),\n",
       " (0.0003413876145700854, 'Caravan Pictures'),\n",
       " (0.0003410209273090343, 'Viggo Mortensen'),\n",
       " (0.00034082946459084465, 'Jake Gyllenhaal'),\n",
       " (0.00034064667761676874, 'Film Export A.G.'),\n",
       " (0.0003406217091354516, 'Alberta Film Entertainment'),\n",
       " (0.0003401972996941143, 'James Cromwell'),\n",
       " (0.00033973938001193607, 'Grosvenor Park Productions'),\n",
       " (0.0003388214618518018, 'Maggie Smith'),\n",
       " (0.0003386826290539786, 'Alun Armstrong'),\n",
       " (0.0003385865761015425, 'Sony Pictures Entertainment'),\n",
       " (0.00033801602354109123, 'Epsilon Motion Pictures'),\n",
       " (0.0003376446002360388, 'DC Comics'),\n",
       " (0.00033757788764182233, 'EuropaCorp'),\n",
       " (0.0003373708405781923, 'David Morse'),\n",
       " (0.00033713721010393094, 'Richard Conte'),\n",
       " (0.0003368641309028373, 'District 9'),\n",
       " (0.00033681455627307844, 'Weed Road Pictures'),\n",
       " (0.00033610949708262947, 'Nickelodeon Animation Studios'),\n",
       " (0.00033500632617486804, 'Benicio del Toro'),\n",
       " (0.0003346775491203752, 'David Warner'),\n",
       " (0.00033409708719728547, 'Mary Steenburgen'),\n",
       " (0.00033372247100435287, 'John Hawkes'),\n",
       " (0.00033360391748515027, 'Tim Robbins'),\n",
       " (0.00033325997025218, 'Walt Disney Feature Animation'),\n",
       " (0.00033311225917045077, 'Timothy Olyphant'),\n",
       " (0.0003329367549061404, 'Mike Starr'),\n",
       " (0.000332698374900592, 'Edward Fox'),\n",
       " (0.0003322763183333384, 'Roth Films'),\n",
       " (0.00033188274293903845, 'Glynis Johns'),\n",
       " (0.00033151723642073675, 'Imprint Entertainment'),\n",
       " (0.0003314973174132068, 'Diedrich Bader'),\n",
       " (0.0003301200506088248, 'John Hoyt'),\n",
       " (0.0003301040975692034, 'Rod Steiger'),\n",
       " (0.0003294590579994573, 'Indelible Productions'),\n",
       " (0.0003294189591277224, 'Omar Sharif'),\n",
       " (0.0003287273865937384, 'John Candy'),\n",
       " (0.0003281649420113129, 'Animal Logic'),\n",
       " (0.00032793047712659717, 'Golden Mean'),\n",
       " (0.00032761341357676386, 'Fuji Television Network'),\n",
       " (0.0003275037197235819, 'John Leguizamo'),\n",
       " (0.0003272901410964166, 'Deutsche Filmförderfonds (DFFF)'),\n",
       " (0.00032677215257555383, 'Groucho II Film Partnership'),\n",
       " (0.0003265753696801951, 'T2 Productions'),\n",
       " (0.0003265336909292208, 'Clifton James'),\n",
       " (0.0003259122745846683, 'Judge Reinhold'),\n",
       " (0.00032536793953317957, 'David Paymer'),\n",
       " (0.00032534613185244466, 'Kate Winslet'),\n",
       " (0.000324952593495456, 'Jeff Daniels'),\n",
       " (0.0003241695993064315, 'Bottom of the Ninth Productions'),\n",
       " (0.0003239028079346274, 'Soho VFX'),\n",
       " (0.0003234720918743771, 'Michael Lonsdale'),\n",
       " (0.0003227835555272873, 'Amy Adams'),\n",
       " (0.00032230220638173137, 'Lance Henriksen'),\n",
       " (0.0003221421903300233, 'Al Pacino'),\n",
       " (0.00032173595811914237, 'Esperanto Filmoj'),\n",
       " (0.00032159618427124106, 'Keith David'),\n",
       " (0.00032094459895643207, 'Susan Sarandon'),\n",
       " (0.0003207457099576018, 'Cesar Romero'),\n",
       " (0.00032059094035829513, 'Luke Wilson'),\n",
       " (0.00032055173717731136, 'Tom Selleck'),\n",
       " (0.00032051717703151367, 'Alfran Productions'),\n",
       " (0.00031935397081319836, 'Lawrence Bender Productions'),\n",
       " (0.00031893319953590123, 'Diane Kruger'),\n",
       " (0.000318757343367913, 'Daniel Wu'),\n",
       " (0.0003186761967538231, 'Film4'),\n",
       " (0.0003184419247970744, 'KMP Film Invest'),\n",
       " (0.00031833380767712843, 'Syncopy'),\n",
       " (0.0003168724572549169, 'Kris Kristofferson'),\n",
       " (0.0003168219455657102, 'Ian Bannen'),\n",
       " (0.0003156464716388627, 'Angela Lansbury'),\n",
       " (0.0003154447769883254, 'Danielle Harris'),\n",
       " (0.0003154380577740952, 'Trilogy Entertainment Group'),\n",
       " (0.0003149959608719219, 'Donnie Yen'),\n",
       " (0.0003147746427828708, 'Ingenious Media'),\n",
       " (0.00031443436483859726, 'Hope Davis'),\n",
       " (0.0003144073637354245, 'Tara Reid'),\n",
       " (0.00031389467701755286, 'Chris Mulkey'),\n",
       " (0.00031387362575923566, 'Got Films'),\n",
       " (0.00031341773206828503, 'Martin Short'),\n",
       " (0.0003134084725282345, 'David Spade'),\n",
       " (0.00031319229555521225, 'Pacific Title and Art Studio'),\n",
       " (0.0003131355057079736, 'Mark Boone Junior'),\n",
       " (0.0003123791425260168, 'Tomy'),\n",
       " (0.0003122915441777241, 'Mickey Rooney'),\n",
       " (0.00031206009326007866, 'Patricia Clarkson'),\n",
       " (0.00031186274018610906, 'Ashley Judd'),\n",
       " (0.0003112828941453411, 'Jennifer Lopez'),\n",
       " (0.00031104745649906317, 'Elias Koteas'),\n",
       " (0.00031035109339958207, 'Stephen Dorff'),\n",
       " (0.00031030262805264807, 'Tig Productions'),\n",
       " (0.00031005803606754337, 'Zanuck Company, The'),\n",
       " (0.00030951503878041086, 'Bill Nunn'),\n",
       " (0.0003088523234267279, 'Polygram Filmed Entertainment'),\n",
       " (0.00030819513536243994, 'Tony Todd'),\n",
       " (0.00030790965037396474, 'Parker Posey'),\n",
       " (0.0003072954077817602, 'Motion Picture JOTA Produktions'),\n",
       " (0.0003072471828507303, 'Benedict Cumberbatch'),\n",
       " (0.0003068713112861278, 'Valeria Golino'),\n",
       " (0.0003068504999035962, 'Nibariki'),\n",
       " (0.0003063209259535539, 'Henry Gibson'),\n",
       " (0.000305846302945715, 'Dabney Coleman'),\n",
       " (0.00030543189802603716, 'Michael Shannon'),\n",
       " (0.0003046258862875915, 'Debbie Reynolds'),\n",
       " (0.0003041060045083267, 'Billy Zane'),\n",
       " (0.00030311055316715226, 'Vittorio Gassman'),\n",
       " (0.0003029783524793493, 'Frankie Faison'),\n",
       " (0.00030153399651082307, 'Atomic Monster'),\n",
       " (0.0003013225797856714, 'Brooke Shields'),\n",
       " (0.0003010008923086035, 'Gunn Films'),\n",
       " (0.00030089103307935427, 'Kelly Lynch'),\n",
       " (0.0003008596364175048, 'Cruel & Unusual Films'),\n",
       " (0.00030044172426896965, 'Zadan / Meron Productions'),\n",
       " (0.00030013121528433705, 'Olivia Wilde'),\n",
       " (0.00029977961418955573, 'Maria Bello'),\n",
       " (0.0002997140453494237, 'Michael Ensign'),\n",
       " (0.0002990019678437199, 'Teri Garr'),\n",
       " (0.00029844061691069464, 'Steve Martin'),\n",
       " (0.0002983359434303427, 'Hughes Entertainment'),\n",
       " (0.0002981562639239441, 'Boxing Cat Films'),\n",
       " (0.0002978148230839417, 'John DiMaggio'),\n",
       " (0.00029751365494382515, 'Jay Brazeau'),\n",
       " (0.00029660885783384987, 'Mediaset España'),\n",
       " (0.00029656681478538663, 'Tim Allen'),\n",
       " (0.0002965071453702061, 'Ad Hominem Enterprises'),\n",
       " (0.00029640715403208434, 'Grace Zabriskie'),\n",
       " (0.0002961214868519362, 'Asia Union Film & Entertainment Ltd.'),\n",
       " (0.0002957573046501395, 'Karen Allen'),\n",
       " (0.0002954406188139796, 'Permut Presentations'),\n",
       " (0.0002954218531210887, 'Ian Abercrombie'),\n",
       " (0.00029512956418889784, 'Nicolas Cage'),\n",
       " (0.00029481719561289, 'Jay O. Sanders'),\n",
       " (0.0002947249856345597, 'd-rights'),\n",
       " (0.0002944719041783576, 'K/O Camera Toys'),\n",
       " (0.00029441835272326066, 'Clancy Brown'),\n",
       " (0.0002940727717328299, 'Kristy Swanson'),\n",
       " (0.00029381061259188367, 'Storyline Entertainment'),\n",
       " (0.0002937531987439118, 'Stereo D'),\n",
       " (0.00029349959704039533, 'Jennifer Beals'),\n",
       " (0.00029329499628149777, 'Newman/Tooley Films'),\n",
       " (0.00029247682582225884, 'Media Asia Films'),\n",
       " (0.000291507654016078, 'Cliff Curtis'),\n",
       " (0.00029130302061602167, 'Eva Mendes'),\n",
       " (0.0002908853057961736, 'Pontchartrain Productions'),\n",
       " (0.0002906658817670709, 'Bagdasarian Productions'),\n",
       " (0.00029051784599872535, 'Broken Chair Flickz'),\n",
       " (0.00029036558873275477, 'George Meeker'),\n",
       " (0.0002902927674670678, 'Bedford Falls Company, The'),\n",
       " (0.00029028963696214893, 'Susan Hayward'),\n",
       " (0.00029006011805513606, 'Joe Morton'),\n",
       " (0.00028941094969307736, 'Morgan Creek Productions'),\n",
       " (0.00028909532351067746, 'Grive Productions'),\n",
       " (0.0002885784163901522, 'Billy Bob Thornton'),\n",
       " (0.0002884266308655518, 'Uma Thurman'),\n",
       " (0.00028827840619192937, 'Joely Richardson'),\n",
       " (0.0002881428941962342, 'John Diehl'),\n",
       " (0.0002881038502322616, 'Gerard Butler'),\n",
       " (0.0002871490674621663, 'Outlaw Productions'),\n",
       " (0.000287008370873909, 'Sally Field'),\n",
       " (0.0002866503097004728, 'David Strathairn'),\n",
       " (0.0002866267504275791, 'Keye Luke'),\n",
       " (0.00028645012383711585, 'Catfish Productions'),\n",
       " (0.00028641893300869546, 'Forward Pass'),\n",
       " (0.0002864162426677869, 'Tom Sizemore'),\n",
       " (0.0002858522160650286, 'Kurt Russell'),\n",
       " (0.0002853225799807009, 'Flower Films (II)'),\n",
       " (0.00028341838945934614, 'Claudia Cardinale'),\n",
       " (0.00028310628143029214, 'Stuber Productions'),\n",
       " (0.00028291649070834546, 'Anthony Edwards'),\n",
       " (0.00028234606643965564, 'LOVEFiLM International'),\n",
       " (0.0002820573874713833, 'Julianne Moore'),\n",
       " (0.00028140131028525444, 'Flashlight Films'),\n",
       " (0.0002806251568115167, 'Nora Dunn'),\n",
       " (0.00028012727408851417, 'Black Label Media'),\n",
       " (0.00028006159938075197, 'Osiris Films'),\n",
       " (0.0002797980349141235, 'Kalima Productions GmbH & Co. KG'),\n",
       " (0.00027950822442275965, 'Judi Dench'),\n",
       " (0.0002788521797194994, 'Charlton Heston'),\n",
       " (0.00027818493551263877, 'Universal'),\n",
       " (0.0002777274987271308, 'Angry Films'),\n",
       " (0.0002776919677948211, 'Joaquin Phoenix'),\n",
       " (0.0002776277884844941, 'Norman Reedus'),\n",
       " (0.00027690130930700684, 'Kasdan Pictures'),\n",
       " (0.0002768979002067403, 'Carrie-Anne Moss'),\n",
       " (0.000276442426434712, 'Saints LA'),\n",
       " (0.0002762597569697585, 'Northern Lights Entertainment'),\n",
       " (0.0002756904894890077, 'Fortis Films'),\n",
       " (0.00027530637487791, 'Tony Shalhoub'),\n",
       " (0.00027336978760270856, 'M6 Films'),\n",
       " (0.00027317668506725724, 'Mad Hatter Entertainment'),\n",
       " (0.00027227250396327253, 'Lochlyn Munro'),\n",
       " (0.0002717625035718525, 'Leslie Nielsen'),\n",
       " (0.0002717274434897461, 'Philip Bosco'),\n",
       " (0.00027055993533062504, 'Josh Lucas'),\n",
       " (0.0002701791326398155, 'Constantin Film Produktion'),\n",
       " (0.0002699945744433573, 'Buena Vista Home Entertainment'),\n",
       " (0.000269607951558657, 'Dee Bradley Baker'),\n",
       " (0.0002696054393164201, 'Patton Oswalt'),\n",
       " (0.00026950935353194685, 'Harvey Keitel'),\n",
       " (0.0002688047961346789, 'Nancy Tenenbaum Films'),\n",
       " (0.0002686792120291821, 'Boy of the Year'),\n",
       " (0.00026810467406294063, 'Danjaq'),\n",
       " (0.00026797473101280127, 'Maury Chaykin'),\n",
       " (0.00026774215501428387, 'Pip Torrens'),\n",
       " (0.0002675445097213774, 'Kevin Michael Richardson'),\n",
       " (0.0002675181010202875, 'Chris Rock'),\n",
       " (0.0002672842592092125, 'Tilda Swinton'),\n",
       " (0.0002671126530949237, 'Cruise-Wagner Productions'),\n",
       " (0.00026705070284852413, 'Loumolo & Co.'),\n",
       " (0.000266928431974498, 'Stillking Films'),\n",
       " (0.0002667472146834684, 'Bob Hoskins'),\n",
       " (0.0002667411997871633, 'Misher Films'),\n",
       " (0.000266090345025812, 'Tom Hollander'),\n",
       " (0.0002656988909245242, 'Bruce Davison'),\n",
       " (0.00026498908507697924, 'Jack Thompson'),\n",
       " (0.00026495733371218713, 'David Hemmings'),\n",
       " (0.00026455909095610917, 'Patrick Warburton'),\n",
       " (0.00026438464851866216, 'Edie McClurg'),\n",
       " (0.0002641534194957627, 'Internationale Filmproduktion Blackswan'),\n",
       " (0.00026318052042162036, 'Slap Happy Productions (II)'),\n",
       " (0.00026247617848921417, 'Brian Dennehy'),\n",
       " (0.0002621264002102913, 'C-2 Pictures'),\n",
       " (0.0002609611897992299, 'WCG Entertainment Productions'),\n",
       " (0.00026088236300161774, 'Patrick Wilson'),\n",
       " (0.0002608433543836025, 'Robert Carlyle'),\n",
       " (0.0002607448759392014, 'Dovemead Films'),\n",
       " (0.00026053950007613025, 'Eli Wallach'),\n",
       " (0.00026053441392719713, 'James Coburn'),\n",
       " (0.0002600844659986433, 'Mark Ruffalo'),\n",
       " (0.00025952043589600387, 'Corey Feldman'),\n",
       " (0.000259291208615602, 'H2F Entertainment'),\n",
       " (0.0002590191889130194, 'Zucker/Netter Productions'),\n",
       " (0.0002586489410094337, 'Stanley Kubrick Productions'),\n",
       " (0.00025863380585976523, 'TaliaFilm II Productions'),\n",
       " (0.00025809640296603226,\n",
       "  'Mediastream Dritte Film GmbH & Co. Beteiligungs KG'),\n",
       " (0.00025803538760916784, 'Tim Curry'),\n",
       " (0.00025776531088824394, 'Prana Animation Studios'),\n",
       " (0.00025755333589022486, 'Emily Mortimer'),\n",
       " (0.0002571743037736003, 'Stephen Fry'),\n",
       " (0.0002566964863464049, 'Greg Kinnear'),\n",
       " (0.0002560757418335452, 'Film Rites'),\n",
       " (0.0002556704746771307, 'Laura Ziskin Productions'),\n",
       " (0.00025544605309447055, 'Fat Free'),\n",
       " (0.00025492579239155767, 'Olin Howland'),\n",
       " (0.00025458916975536677, 'The Halcyon Company'),\n",
       " (0.00025433818694224874, 'Big Talk Productions'),\n",
       " (0.00025426326868088355, 'Lawson'),\n",
       " (0.00025392969039331556, 'Anthony Anderson'),\n",
       " (0.00025379921086396103, 'Kim Basinger'),\n",
       " (0.00025377520057114967, 'Celia Weston'),\n",
       " (0.0002535754166718315, 'Joseph Gordon-Levitt'),\n",
       " (0.0002534751062320711, 'Virtual Studios'),\n",
       " (0.0002528279936843556, 'Imhotep Productions'),\n",
       " (0.0002526797873413773, 'Wind Dancer Productions'),\n",
       " (0.00025252612206751087, 'Kenneth Mars'),\n",
       " (0.00025239893458043337, 'Kate Beckinsale'),\n",
       " (0.00025228349264796204, 'The Guber-Peters Company'),\n",
       " (0.00025144569459670095, 'Alcor Films'),\n",
       " (0.000251363161219449, 'Dino De Laurentiis Company'),\n",
       " ...]"
      ]
     },
     "execution_count": 66,
     "metadata": {},
     "output_type": "execute_result"
    }
   ],
   "source": [
    "sorted(list(zip(model.feature_importances_, X4_test.columns)), reverse=True)"
   ]
  },
  {
   "cell_type": "code",
   "execution_count": 67,
   "metadata": {
    "scrolled": true
   },
   "outputs": [
    {
     "data": {
      "text/plain": [
       "array([9.42088302e-03, 6.80880120e-03, 6.62790749e-03, ...,\n",
       "       4.21979563e-09, 0.00000000e+00, 1.25731238e-01])"
      ]
     },
     "execution_count": 67,
     "metadata": {},
     "output_type": "execute_result"
    }
   ],
   "source": [
    "model.feature_importances_"
   ]
  },
  {
   "cell_type": "markdown",
   "metadata": {},
   "source": [
    "# Modelos utilizados para comparação"
   ]
  },
  {
   "cell_type": "markdown",
   "metadata": {},
   "source": [
    "## Regressão Logística com todas as features"
   ]
  },
  {
   "cell_type": "code",
   "execution_count": 62,
   "metadata": {},
   "outputs": [
    {
     "name": "stderr",
     "output_type": "stream",
     "text": [
      "C:\\Users\\ana clara\\Anaconda3\\lib\\site-packages\\sklearn\\linear_model\\logistic.py:433: FutureWarning: Default solver will be changed to 'lbfgs' in 0.22. Specify a solver to silence this warning.\n",
      "  FutureWarning)\n"
     ]
    },
    {
     "name": "stdout",
     "output_type": "stream",
     "text": [
      "0.8362771739130435\n"
     ]
    }
   ],
   "source": [
    "model = LogisticRegression()\n",
    "model.fit(X4_train,Y4_train)\n",
    "Ypred = model.predict(X4_test)\n",
    "print(accuracy_score(Y4_test,Ypred))"
   ]
  },
  {
   "cell_type": "markdown",
   "metadata": {},
   "source": [
    "## Máquina de vetores de suporte com todas as features"
   ]
  },
  {
   "cell_type": "code",
   "execution_count": 72,
   "metadata": {},
   "outputs": [
    {
     "name": "stderr",
     "output_type": "stream",
     "text": [
      "C:\\Users\\ana clara\\Anaconda3\\lib\\site-packages\\sklearn\\svm\\base.py:196: FutureWarning: The default value of gamma will change from 'auto' to 'scale' in version 0.22 to account better for unscaled features. Set gamma explicitly to 'auto' or 'scale' to avoid this warning.\n",
      "  \"avoid this warning.\", FutureWarning)\n"
     ]
    },
    {
     "name": "stdout",
     "output_type": "stream",
     "text": [
      "0.8743206521739131\n"
     ]
    }
   ],
   "source": [
    "model = SVC()\n",
    "model.fit(X4_train,Y4_train)\n",
    "Ypred = model.predict(X4_test)\n",
    "print(accuracy_score(Y4_test,Ypred))"
   ]
  }
 ],
 "metadata": {
  "kernelspec": {
   "display_name": "Python 3",
   "language": "python",
   "name": "python3"
  },
  "language_info": {
   "codemirror_mode": {
    "name": "ipython",
    "version": 3
   },
   "file_extension": ".py",
   "mimetype": "text/x-python",
   "name": "python",
   "nbconvert_exporter": "python",
   "pygments_lexer": "ipython3",
   "version": "3.7.1"
  }
 },
 "nbformat": 4,
 "nbformat_minor": 2
}
